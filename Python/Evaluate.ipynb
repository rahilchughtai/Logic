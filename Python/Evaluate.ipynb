{
 "cells": [
  {
   "cell_type": "code",
   "execution_count": null,
   "metadata": {},
   "outputs": [],
   "source": [
    "from IPython.core.display import HTML\n",
    "with open('style.css') as file:\n",
    "    css = file.read()\n",
    "HTML(css)"
   ]
  },
  {
   "cell_type": "markdown",
   "metadata": {},
   "source": [
    "# How to Evaluate Propositional Formulas"
   ]
  },
  {
   "cell_type": "markdown",
   "metadata": {},
   "source": [
    "In this section, we want to show how to evaluate formulas from *propositional logic*.  First of all we need to discuss how to represent logical formulas.  It is easiest if logical formula are represented as nested tuples.  Furthermore, we will represent the propositional operators as unicode symbols according to the following table:\n",
    "<table border=\"1px\">\n",
    "    <tr>\n",
    "        <th>Name</th>\n",
    "        <th>Symbol</th>\n",
    "        <th>Unicode</th>\n",
    "        <th>Unicode Name</th>\n",
    "    </tr>\n",
    "    <tr>\n",
    "        <td><tt>and</tt></td>\n",
    "        <td>∧</td>\n",
    "        <td>U+2227</td>\n",
    "        <td>'\\N{logical and}'</td>\n",
    "    </tr>\n",
    "    <tr>\n",
    "        <td><tt>or</tt></td>\n",
    "        <td>∨</td>\n",
    "        <td>U+2228</td>\n",
    "        <td>'\\N{logical or}'</td>\n",
    "    </tr>\n",
    "    <tr>\n",
    "        <td><tt>not</tt></td>\n",
    "        <td>¬</td>\n",
    "        <td>U+00ac</td>\n",
    "        <td>'\\N{not sign}'</td>\n",
    "    </tr>\n",
    "    <tr>\n",
    "        <td><tt>implies</tt></td>\n",
    "        <td>→</td>\n",
    "        <td>U+2192</td>\n",
    "        <td>'\\N{rightwards arrow}'</td>\n",
    "    </tr>\n",
    "    <tr>\n",
    "        <td><tt>if and only if</tt></td>\n",
    "        <td>↔</td>\n",
    "        <td>U+2194</td>\n",
    "        <td>'\\N{left right arrow}'</td>\n",
    "    </tr>\n",
    "    <tr>\n",
    "        <td><tt>falsum</tt></td>\n",
    "        <td>⊥</td>\n",
    "        <td>U+22a5</td>\n",
    "        <td>'\\N{down tack}'</td>\n",
    "    </tr>\n",
    "    <tr>\n",
    "        <td><tt>verum</tt></td>\n",
    "        <td>⊤</td>\n",
    "        <td>U+22a4</td>\n",
    "        <td>'\\N{up tack}'</td>\n",
    "    </tr>\n",
    "</table>\n",
    "For example, the formula \n",
    "$$ (p \\rightarrow q) \\wedge (\\neg p \\rightarrow q) \\rightarrow q $$\n",
    "will be represented as the following tuple:\n",
    "\n",
    "```\n",
    "      ('→', ('∧', ('→', 'p', 'q'), ('→', ('¬', 'p'), 'q')), 'q')\n",
    "```"
   ]
  },
  {
   "cell_type": "markdown",
   "metadata": {},
   "source": [
    "As it is very tedious to type formulas this way, I have written a parser for propositional formulas, which we will import."
   ]
  },
  {
   "cell_type": "code",
   "execution_count": null,
   "metadata": {},
   "outputs": [],
   "source": [
    "import propLogParser as plp"
   ]
  },
  {
   "cell_type": "markdown",
   "metadata": {},
   "source": [
    "Let us test this parser:"
   ]
  },
  {
   "cell_type": "code",
   "execution_count": null,
   "metadata": {},
   "outputs": [],
   "source": [
    "plp.LogicParser('⊤').parse()"
   ]
  },
  {
   "cell_type": "code",
   "execution_count": null,
   "metadata": {},
   "outputs": [],
   "source": [
    "s = '(p → q) ∧ (¬p → q) → q'\n",
    "f = plp.LogicParser(s).parse()\n",
    "f"
   ]
  },
  {
   "cell_type": "markdown",
   "metadata": {},
   "source": [
    "Next, we need to decide how to represent a *propositional valuation*.  Mathematically, a *propositional valuation* $\\mathcal{I}$ is a function of the form\n",
    "$$ \\mathcal{I}:\\mathcal{P} \\rightarrow \\mathbb{B}  $$\n",
    "that maps propositional variables to the set of Boolean values \n",
    "$\\mathbb{B} = \\{\\texttt{True}, \\texttt{False}\\}$.  We can represent a propositional  valuation $\\mathcal{I}$ as the set of those variables that are evaluated as <tt>True</tt> by $\\mathcal{I}$:  \n",
    "$$ \\texttt{repr}(\\mathcal{I}) := \\bigl\\{ v \\in \\mathcal{P} \\mid \\mathcal{I}(v) = \\texttt{True} \\bigr\\}$$\n",
    "For example, the following set would be a propositional valuation for the formula $\\texttt{f}$:"
   ]
  },
  {
   "cell_type": "code",
   "execution_count": null,
   "metadata": {},
   "outputs": [],
   "source": [
    "I1 = { 'p' , 'q' }"
   ]
  },
  {
   "cell_type": "markdown",
   "metadata": {},
   "source": [
    "There are 4 possible propositional valuation for the formula $\\texttt{f}$.  The other three propositional valuations are as follows:"
   ]
  },
  {
   "cell_type": "code",
   "execution_count": null,
   "metadata": {},
   "outputs": [],
   "source": [
    "I2 = { 'p' }\n",
    "I3 = { 'q' }\n",
    "I4 = set()"
   ]
  },
  {
   "cell_type": "markdown",
   "metadata": {},
   "source": [
    "The function `evaluate` defined below takes two arguments:\n",
    "   - `F` is a nested tuple representing a propositional formula.\n",
    "   - `I` is a set of propositional variables representing a propositional valuation.\n",
    "   \n",
    "The function returns the value of the propositional formula `F` given the propositional valuation `I`.\n",
    "When evaluation a formula of the form $f \\rightarrow g$ this function uses the equivalence\n",
    "$$ (f \\rightarrow g) \\;\\Leftrightarrow\\; \\neg f \\vee g $$ "
   ]
  },
  {
   "cell_type": "code",
   "execution_count": null,
   "metadata": {},
   "outputs": [],
   "source": [
    "def evaluate(F, I):\n",
    "    'Evaluate the propositional formula F using the interpretation I'\n",
    "    if isinstance(F, str):       # F is a propositional variable\n",
    "        return F in I            # This variable is true iff it occurs in I\n",
    "    if F[0] == '⊤': return True\n",
    "    if F[0] == '⊥': return False\n",
    "    if F[0] == '¬': return not evaluate(F[1], I)\n",
    "    if F[0] == '∧': return evaluate(F[1], I) and evaluate(F[2], I)\n",
    "    if F[0] == '∨': return evaluate(F[1], I) or evaluate(F[2], I)\n",
    "    if F[0] == '→': return not evaluate(F[1], I) or evaluate(F[2], I)\n",
    "    if F[0] == '↔': return evaluate(F[1], I) == evaluate(F[2], I)"
   ]
  },
  {
   "cell_type": "markdown",
   "metadata": {},
   "source": [
    "Let's test this function for the formula <tt>f</tt> defined above:"
   ]
  },
  {
   "cell_type": "code",
   "execution_count": null,
   "metadata": {},
   "outputs": [],
   "source": [
    "for I in [I1, I2, I3, I4]:\n",
    "    print(f'evaluate({f}, {I}) = {evaluate(f, I)}')"
   ]
  },
  {
   "cell_type": "markdown",
   "metadata": {},
   "source": [
    "As the formula <tt>f</tt> is true for **every** possible propositional valuation `I`, it is a *tautology*."
   ]
  },
  {
   "cell_type": "code",
   "execution_count": null,
   "metadata": {},
   "outputs": [],
   "source": []
  }
 ],
 "metadata": {
  "hide_input": false,
  "kernelspec": {
   "display_name": "Python 3",
   "language": "python",
   "name": "python3"
  },
  "language_info": {
   "codemirror_mode": {
    "name": "ipython",
    "version": 3
   },
   "file_extension": ".py",
   "mimetype": "text/x-python",
   "name": "python",
   "nbconvert_exporter": "python",
   "pygments_lexer": "ipython3",
   "version": "3.8.5"
  },
  "toc": {
   "base_numbering": 1,
   "nav_menu": {},
   "number_sections": true,
   "sideBar": true,
   "skip_h1_title": false,
   "title_cell": "Table of Contents",
   "title_sidebar": "Contents",
   "toc_cell": false,
   "toc_position": {},
   "toc_section_display": true,
   "toc_window_display": false
  },
  "varInspector": {
   "cols": {
    "lenName": 16,
    "lenType": 16,
    "lenVar": 40
   },
   "kernels_config": {
    "python": {
     "delete_cmd_postfix": "",
     "delete_cmd_prefix": "del ",
     "library": "var_list.py",
     "varRefreshCmd": "print(var_dic_list())"
    },
    "r": {
     "delete_cmd_postfix": ") ",
     "delete_cmd_prefix": "rm(",
     "library": "var_list.r",
     "varRefreshCmd": "cat(var_dic_list()) "
    }
   },
   "types_to_exclude": [
    "module",
    "function",
    "builtin_function_or_method",
    "instance",
    "_Feature"
   ],
   "window_display": false
  }
 },
 "nbformat": 4,
 "nbformat_minor": 2
}
