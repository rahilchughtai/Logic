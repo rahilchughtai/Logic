{
 "cells": [
  {
   "cell_type": "code",
   "execution_count": 1,
   "metadata": {},
   "outputs": [
    {
     "data": {
      "text/html": [
       "<link href='http://fonts.googleapis.com/css?family=Alegreya+Sans:100,300,400,500,700,800,900,100italic,300italic,400italic,500italic,700italic,800italic,900italic' rel='stylesheet' type='text/css'>\n",
       "<link href='http://fonts.googleapis.com/css?family=Arvo:400,700,400italic' rel='stylesheet' type='text/css'>\n",
       "<link href='http://fonts.googleapis.com/css?family=PT+Mono' rel='stylesheet' type='text/css'>\n",
       "<link href='http://fonts.googleapis.com/css?family=Shadows+Into+Light' rel='stylesheet' type='text/css'>\n",
       "<link href='http://fonts.googleapis.com/css?family=Philosopher:400,700,400italic,700italic' rel='stylesheet' type='text/css'>\n",
       "\n",
       "<style>\n",
       "\n",
       "@font-face {\n",
       "    font-family: \"Computer Modern\";\n",
       "    src: url('http://mirrors.ctan.org/fonts/cm-unicode/fonts/otf/cmunss.otf');\n",
       "}\n",
       "\n",
       ".container { width: 100% }\n",
       "\n",
       "/* Formatting for header cells */\n",
       ".text_cell_render h1 {\n",
       "    font-family: 'Philosopher', sans-serif;\n",
       "    font-weight: 400;\n",
       "    font-size: 2.2em;\n",
       "    line-height: 100%;\n",
       "    color: rgb(0, 80, 120);\n",
       "    margin-bottom: 0.1em;\n",
       "    margin-top: 0.1em;\n",
       "    display: block;\n",
       "}\t\n",
       ".text_cell_render h2 {\n",
       "    font-family: 'Philosopher', serif;\n",
       "    font-weight: 400;\n",
       "    font-size: 1.9em;\n",
       "    line-height: 100%;\n",
       "    color: rgb(200,100,0);\n",
       "    margin-bottom: 0.1em;\n",
       "    margin-top: 0.1em;\n",
       "    display: block;\n",
       "}\t\n",
       "\n",
       ".text_cell_render h3 {\n",
       "    font-family: 'Philosopher', serif;\n",
       "    margin-top:12px;\n",
       "    margin-bottom: 3px;\n",
       "    font-style: italic;\n",
       "    color: rgb(94,127,192);\n",
       "}\n",
       "\n",
       ".text_cell_render h4 {\n",
       "    font-family: 'Philosopher', serif;\n",
       "}\n",
       "\n",
       ".text_cell_render h5 {\n",
       "    font-family: 'Alegreya Sans', sans-serif;\n",
       "    font-weight: 300;\n",
       "    font-size: 16pt;\n",
       "    color: grey;\n",
       "    font-style: italic;\n",
       "    margin-bottom: .1em;\n",
       "    margin-top: 0.1em;\n",
       "    display: block;\n",
       "}\n",
       "\n",
       ".text_cell_render h6 {\n",
       "    font-family: 'PT Mono', sans-serif;\n",
       "    font-weight: 300;\n",
       "    font-size: 10pt;\n",
       "    color: grey;\n",
       "    margin-bottom: 1px;\n",
       "    margin-top: 1px;\n",
       "}\n",
       "\n",
       ".text_cell_render em {\n",
       "    font-family: 'Philosopher', sans-serif;\n",
       "    color:        blue;\n",
       "    background-color: rgb(255,220,180);\n",
       "    font-size:    110%;\n",
       "    margin-left:   2px;\n",
       "    margin-right:  2px;\n",
       "    font-weight:   100;\n",
       "}\n",
       "\n",
       ".text_cell_render b {\n",
       "    color:            rgb(255,195,195);\n",
       "    background-color: rgb(0,0,0);\n",
       "    font-size:    110%;\n",
       "    margin-left:   2px;\n",
       "    margin-right:  2px;\n",
       "    font-weight:   650;\n",
       "}\n",
       "\n",
       ".text_cell_render tt {\n",
       "    font-size:    120%;\n",
       "    margin-left:   2px;\n",
       "    margin-right:  2px;\n",
       "    font-weight:   150;\n",
       "}\n",
       "\n",
       ".Codemirror {\n",
       "    font-family: \"PT Mono\";\n",
       "    font-size: 100%;\n",
       "}\n",
       "\n",
       "</style>\n",
       "\n"
      ],
      "text/plain": [
       "<IPython.core.display.HTML object>"
      ]
     },
     "execution_count": 1,
     "metadata": {},
     "output_type": "execute_result"
    }
   ],
   "source": [
    "from IPython.core.display import HTML\n",
    "with open('style.css') as file:\n",
    "    css = file.read()\n",
    "HTML(css)"
   ]
  },
  {
   "cell_type": "markdown",
   "metadata": {},
   "source": [
    "# How to Evaluate Propositional Formulas"
   ]
  },
  {
   "cell_type": "markdown",
   "metadata": {},
   "source": [
    "In this section, we want to show how to evaluate formulas from *propositional logic*.  First of all we need to discuss how to represent logical formulas.  It is easiest if logical formula are represented as nested tuples.  Furthermore, we will represent the propositional operators as unicode symbols according to the following table:\n",
    "<table border=\"1px\">\n",
    "    <tr>\n",
    "        <th>Name</th>\n",
    "        <th>Symbol</th>\n",
    "        <th>Unicode</th>\n",
    "        <th>Unicode Name</th>\n",
    "    </tr>\n",
    "    <tr>\n",
    "        <td><tt>and</tt></td>\n",
    "        <td>∧</td>\n",
    "        <td>U+2227</td>\n",
    "        <td>'\\N{logical and}'</td>\n",
    "    </tr>\n",
    "    <tr>\n",
    "        <td><tt>or</tt></td>\n",
    "        <td>∨</td>\n",
    "        <td>U+2228</td>\n",
    "        <td>'\\N{logical or}'</td>\n",
    "    </tr>\n",
    "    <tr>\n",
    "        <td><tt>not</tt></td>\n",
    "        <td>¬</td>\n",
    "        <td>U+00ac</td>\n",
    "        <td>'\\N{not sign}'</td>\n",
    "    </tr>\n",
    "    <tr>\n",
    "        <td><tt>implies</tt></td>\n",
    "        <td>→</td>\n",
    "        <td>U+2192</td>\n",
    "        <td>'\\N{rightwards arrow}'</td>\n",
    "    </tr>\n",
    "    <tr>\n",
    "        <td><tt>if and only if</tt></td>\n",
    "        <td>↔</td>\n",
    "        <td>U+2194</td>\n",
    "        <td>'\\N{left right arrow}'</td>\n",
    "    </tr>\n",
    "    <tr>\n",
    "        <td><tt>falsum</tt></td>\n",
    "        <td>⊥</td>\n",
    "        <td>U+22a5</td>\n",
    "        <td>'\\N{down tack}'</td>\n",
    "    </tr>\n",
    "    <tr>\n",
    "        <td><tt>verum</tt></td>\n",
    "        <td>⊤</td>\n",
    "        <td>U+22a4</td>\n",
    "        <td>'\\N{up tack}'</td>\n",
    "    </tr>\n",
    "</table>\n",
    "For example, the formula \n",
    "$$ (p \\rightarrow q) \\wedge (\\neg p \\rightarrow q) \\rightarrow q $$\n",
    "will be represented as the following tuple:\n",
    "\n",
    "```\n",
    "      ('→', ('∧', ('→', 'p', 'q'), ('→', ('¬', 'p'), 'q')), 'q')\n",
    "```"
   ]
  },
  {
   "cell_type": "markdown",
   "metadata": {},
   "source": [
    "As it is very tedious to type formulas this way, I have written a parser for propositional formulas, which we will import."
   ]
  },
  {
   "cell_type": "code",
   "execution_count": 2,
   "metadata": {},
   "outputs": [],
   "source": [
    "import propLogParser as plp"
   ]
  },
  {
   "cell_type": "markdown",
   "metadata": {},
   "source": [
    "Let us test this parser:"
   ]
  },
  {
   "cell_type": "code",
   "execution_count": 3,
   "metadata": {},
   "outputs": [
    {
     "data": {
      "text/plain": [
       "('⊤',)"
      ]
     },
     "execution_count": 3,
     "metadata": {},
     "output_type": "execute_result"
    }
   ],
   "source": [
    "plp.LogicParser('⊤').parse()"
   ]
  },
  {
   "cell_type": "code",
   "execution_count": 4,
   "metadata": {},
   "outputs": [
    {
     "data": {
      "text/plain": [
       "('→', ('∧', ('→', 'p', 'q'), ('→', ('¬', 'p'), 'q')), 'q')"
      ]
     },
     "execution_count": 4,
     "metadata": {},
     "output_type": "execute_result"
    }
   ],
   "source": [
    "s = '(p → q) ∧ (¬p → q) → q'\n",
    "f = plp.LogicParser(s).parse()\n",
    "f"
   ]
  },
  {
   "cell_type": "markdown",
   "metadata": {},
   "source": [
    "Next, we need to decide how to represent a *propositional valuation*.  Mathematically, a *propositional valuation* $\\mathcal{I}$ is a function of the form\n",
    "$$ \\mathcal{I}:\\mathcal{P} \\rightarrow \\mathbb{B}  $$\n",
    "that maps propositional variables to the set of Boolean values \n",
    "$\\mathbb{B} = \\{\\texttt{True}, \\texttt{False}\\}$.  We can represent a propositional  valuation $\\mathcal{I}$ as the set of those variables that are evaluated as <tt>True</tt> by $\\mathcal{I}$:  \n",
    "$$ \\texttt{repr}(\\mathcal{I}) := \\bigl\\{ v \\in \\mathcal{P} \\mid \\mathcal{I}(v) = \\texttt{True} \\bigr\\}$$\n",
    "For example, the following set would be a propositional valuation for the formula $\\texttt{f}$:"
   ]
  },
  {
   "cell_type": "code",
   "execution_count": 5,
   "metadata": {},
   "outputs": [],
   "source": [
    "I1 = { 'p' , 'q' }"
   ]
  },
  {
   "cell_type": "markdown",
   "metadata": {},
   "source": [
    "There are 4 possible propositional valuation for the formula $\\texttt{f}$.  The other three propositional valuations are as follows:"
   ]
  },
  {
   "cell_type": "code",
   "execution_count": 6,
   "metadata": {},
   "outputs": [],
   "source": [
    "I2 = { 'p' }\n",
    "I3 = { 'q' }\n",
    "I4 = set()"
   ]
  },
  {
   "cell_type": "markdown",
   "metadata": {},
   "source": [
    "The function `evaluate` defined below takes two arguments:\n",
    "   - `F` is a nested tuple representing a propositional formula.\n",
    "   - `I` is a set of propositional variables representing a propositional valuation.\n",
    "   \n",
    "The function returns the value of the propositional formula `F` given the propositional valuation `I`.\n",
    "When evaluation a formula of the form $f \\rightarrow g$ this function uses the equivalence\n",
    "$$ (f \\rightarrow g) \\;\\Leftrightarrow\\; \\neg f \\vee g $$ "
   ]
  },
  {
   "cell_type": "code",
   "execution_count": 7,
   "metadata": {},
   "outputs": [],
   "source": [
    "def evaluate(F, I):\n",
    "    'Evaluate the propositional formula F using the interpretation I'\n",
    "    if isinstance(F, str):       # F is a propositional variable\n",
    "        return F in I            # This variable is true iff it occurs in I\n",
    "    if F[0] == '⊤': return True\n",
    "    if F[0] == '⊥': return False\n",
    "    if F[0] == '¬': return not evaluate(F[1], I)\n",
    "    if F[0] == '∧': return evaluate(F[1], I) and evaluate(F[2], I)\n",
    "    if F[0] == '∨': return evaluate(F[1], I) or evaluate(F[2], I)\n",
    "    if F[0] == '→': return not evaluate(F[1], I) or evaluate(F[2], I)\n",
    "    if F[0] == '↔': return evaluate(F[1], I) == evaluate(F[2], I)"
   ]
  },
  {
   "cell_type": "markdown",
   "metadata": {},
   "source": [
    "Let's test this function for the formula <tt>f</tt> defined above:"
   ]
  },
  {
   "cell_type": "code",
   "execution_count": 8,
   "metadata": {},
   "outputs": [
    {
     "name": "stdout",
     "output_type": "stream",
     "text": [
      "evaluate(('→', ('∧', ('→', 'p', 'q'), ('→', ('¬', 'p'), 'q')), 'q'), {'q', 'p'}) = True\n",
      "evaluate(('→', ('∧', ('→', 'p', 'q'), ('→', ('¬', 'p'), 'q')), 'q'), {'p'}) = True\n",
      "evaluate(('→', ('∧', ('→', 'p', 'q'), ('→', ('¬', 'p'), 'q')), 'q'), {'q'}) = True\n",
      "evaluate(('→', ('∧', ('→', 'p', 'q'), ('→', ('¬', 'p'), 'q')), 'q'), set()) = True\n"
     ]
    }
   ],
   "source": [
    "for I in [I1, I2, I3, I4]:\n",
    "    print(f'evaluate({f}, {I}) = {evaluate(f, I)}')"
   ]
  },
  {
   "cell_type": "markdown",
   "metadata": {},
   "source": [
    "As the formula <tt>f</tt> is true for **every** possible propositional valuation `I`, it is a *tautology*."
   ]
  }
 ],
 "metadata": {
  "hide_input": false,
  "kernelspec": {
   "display_name": "Python 3",
   "language": "python",
   "name": "python3"
  },
  "language_info": {
   "codemirror_mode": {
    "name": "ipython",
    "version": 3
   },
   "file_extension": ".py",
   "mimetype": "text/x-python",
   "name": "python",
   "nbconvert_exporter": "python",
   "pygments_lexer": "ipython3",
   "version": "3.8.5"
  },
  "toc": {
   "base_numbering": 1,
   "nav_menu": {},
   "number_sections": true,
   "sideBar": true,
   "skip_h1_title": false,
   "title_cell": "Table of Contents",
   "title_sidebar": "Contents",
   "toc_cell": false,
   "toc_position": {},
   "toc_section_display": true,
   "toc_window_display": false
  },
  "varInspector": {
   "cols": {
    "lenName": 16,
    "lenType": 16,
    "lenVar": 40
   },
   "kernels_config": {
    "python": {
     "delete_cmd_postfix": "",
     "delete_cmd_prefix": "del ",
     "library": "var_list.py",
     "varRefreshCmd": "print(var_dic_list())"
    },
    "r": {
     "delete_cmd_postfix": ") ",
     "delete_cmd_prefix": "rm(",
     "library": "var_list.r",
     "varRefreshCmd": "cat(var_dic_list()) "
    }
   },
   "types_to_exclude": [
    "module",
    "function",
    "builtin_function_or_method",
    "instance",
    "_Feature"
   ],
   "window_display": false
  }
 },
 "nbformat": 4,
 "nbformat_minor": 2
}
