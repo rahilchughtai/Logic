{
 "cells": [
  {
   "cell_type": "code",
   "execution_count": null,
   "metadata": {},
   "outputs": [],
   "source": [
    "from IPython.core.display import HTML\n",
    "with open ('style.css', 'r') as file:\n",
    "    css = file.read()\n",
    "HTML(css)"
   ]
  },
  {
   "cell_type": "markdown",
   "metadata": {},
   "source": [
    "# Aufgaben-Blatt Nr. 1"
   ]
  },
  {
   "cell_type": "markdown",
   "metadata": {},
   "source": [
    "## Aufgabe 1:"
   ]
  },
  {
   "cell_type": "markdown",
   "metadata": {},
   "source": [
    "Eine Zahl $m\\in \\mathbb{N}$ ist ein *echter Teiler* einer Zahl\n",
    "$n \\in \\mathbb{N}$ genau dann, wenn $m$ ein Teiler von $n$ ist und wenn außerdem $m < n$ gilt.\n",
    "\n",
    "Eine Zahl $n \\in \\mathbb{N}$ heißt *perfekt*, wenn $n$ gleich der Summe aller echten Teiler von\n",
    "$n$ ist. Zum Beispiel ist die Zahl $6$ perfekt, denn  die Menge der echten Teiler\n",
    "von 6 ist $\\{1,2,3\\}$ und es gilt $1 + 2 + 3 = 6$.\n",
    "Ziel der Aufgabe ist die Berechnung der Menge aller perfekten Zahlen, die kleiner als $10,000$ sind."
   ]
  },
  {
   "cell_type": "markdown",
   "metadata": {},
   "source": [
    "Implementieren Sie eine Prozedur `echteTeiler`, so dass der Aufruf\n",
    "$\\texttt{echteTeiler}(n)$ für eine natürliche Zahl $n$ die Menge aller echten Teiler von $n$ berechnet.  Beispielsweise soll gelten:\n",
    "$$ \\texttt{echteTeiler}(6) = \\{1, 2, 3\\} $$"
   ]
  },
  {
   "cell_type": "markdown",
   "metadata": {},
   "source": [
    "<hr style=\"height:5px;border-width:0;color:gray;background-color:green\">\n",
    "<p style=\"background-color:yellow; border:3px; border-style:solid; border-color:#FF0000; padding: 1em;\"><b style=\"color:blue;background-color:orange;font-weight:900\">Hinweis</b>: Versuchen Sie, bei der Lösung dieser Aufgabe <u>ohne</u> <tt>for</tt>-Schleifen\n",
    "oder <tt>while</tt>-Schleifen auszukommen. Sie sollen statt dessen mit \n",
    "<b style=\"color:blue;background-color:yellow\">Mengen</b> \n",
    "arbeiten. Dieser Hinweis gilt auch für die folgenden Aufgaben.\n",
    "</p>\n",
    "<hr style=\"height:5px;border-width:0;color:gray;background-color:green\">"
   ]
  },
  {
   "cell_type": "code",
   "execution_count": 1,
   "metadata": {},
   "outputs": [],
   "source": [
    "def echteTeiler(n):\n",
    "    'Diese Funktion berechnet die Menge aller echten Teiler der Zahl n.'\n",
    "    \n",
    "    #Grundmenge\n",
    "    G=range(1,n)\n",
    "    \n",
    "    #Teiler \n",
    "    EchteTeiler={x for x in G if n%x==0}\n",
    "    return EchteTeiler\n",
    "   \n",
    "    \n",
    "    \n"
   ]
  },
  {
   "cell_type": "code",
   "execution_count": 7,
   "metadata": {},
   "outputs": [
    {
     "data": {
      "text/plain": [
       "{1, 2, 3}"
      ]
     },
     "execution_count": 7,
     "metadata": {},
     "output_type": "execute_result"
    }
   ],
   "source": [
    "echteTeiler(6)"
   ]
  },
  {
   "cell_type": "markdown",
   "metadata": {},
   "source": [
    "Implementieren Sie eine Funktion `isPerfect`, so dass der Aufruf\n",
    "$\\texttt{isPerfect}(n)$ für eine natürliche Zahl $n$ genau dann das Ergebnis \n",
    "`True` zurück gibt, wenn $n$ eine perfekte Zahl ist."
   ]
  },
  {
   "cell_type": "code",
   "execution_count": 8,
   "metadata": {},
   "outputs": [],
   "source": [
    "def isPerfect(n):\n",
    "    'Returns True if n is perfect, else False.'\n",
    "    'your code here'\n",
    "    T=echteTeiler(n)\n",
    "    return sum(T)==n\n",
    "  \n",
    "    \n",
    "    \n",
    "    "
   ]
  },
  {
   "cell_type": "code",
   "execution_count": 9,
   "metadata": {},
   "outputs": [
    {
     "data": {
      "text/plain": [
       "True"
      ]
     },
     "execution_count": 9,
     "metadata": {},
     "output_type": "execute_result"
    }
   ],
   "source": [
    "isPerfect(6)"
   ]
  },
  {
   "cell_type": "markdown",
   "metadata": {},
   "source": [
    "Berechnen Sie die Menge aller perfekten Zahlen, die kleiner als $10\\,000$ sind."
   ]
  },
  {
   "cell_type": "code",
   "execution_count": 4,
   "metadata": {},
   "outputs": [],
   "source": [
    "def perfectNumbers(n):\n",
    "    'This function computes the set of all perfect numbers less than n.'\n",
    "    'your code here'\n",
    "    \n",
    "    G=(range(1,n))\n",
    "    perfect_numbers= {x for x in G if isPerfect(x)}\n",
    "    return perfect_numbers\n",
    "    "
   ]
  },
  {
   "cell_type": "markdown",
   "metadata": {},
   "source": [
    "Beim Ausführen der nächsten Zeile sollte die Zahl `6`berechnet werden."
   ]
  },
  {
   "cell_type": "code",
   "execution_count": 10,
   "metadata": {},
   "outputs": [
    {
     "data": {
      "text/plain": [
       "{6}"
      ]
     },
     "execution_count": 10,
     "metadata": {},
     "output_type": "execute_result"
    }
   ],
   "source": [
    "perfectNumbers(10)"
   ]
  },
  {
   "cell_type": "code",
   "execution_count": 11,
   "metadata": {},
   "outputs": [
    {
     "data": {
      "text/plain": [
       "{6, 28, 496, 8128}"
      ]
     },
     "execution_count": 11,
     "metadata": {},
     "output_type": "execute_result"
    }
   ],
   "source": [
    "perfectNumbers(10000)"
   ]
  },
  {
   "cell_type": "markdown",
   "metadata": {},
   "source": [
    "## Aufgabe 2:"
   ]
  },
  {
   "cell_type": "markdown",
   "metadata": {},
   "source": [
    "Ziel dieser Aufgabe ist die Implementierung einer Funktion `ggt`, die für zwei\n",
    "natürliche Zahlen $m$ und $n$ den größten gemeinsamen Teiler dieser Zahlen berechnet.  Die Funktion `ggt` soll mit Hilfe mehrerer Hilffunktionen berechnet werden."
   ]
  },
  {
   "cell_type": "code",
   "execution_count": 43,
   "metadata": {},
   "outputs": [],
   "source": [
    "def teiler(n):\n",
    "    'This function computes the set of all natural number that divide n.'\n",
    "    'your code here'\n",
    "    \n",
    "    #Grundmenge\n",
    "    G=range(1,n+1)\n",
    "    \n",
    "    #Teilermenge\n",
    "    Teiler= {x for x in G if n%x==0 }\n",
    "    \n",
    "    return Teiler"
   ]
  },
  {
   "cell_type": "code",
   "execution_count": 64,
   "metadata": {},
   "outputs": [
    {
     "name": "stdout",
     "output_type": "stream",
     "text": [
      "m:  {1, 2, 3, 4, 6, 8, 12, 24}\n",
      "n:  {1, 2, 3, 4, 36, 6, 9, 12, 18}\n",
      "p:  {1, 2, 3, 4, 36, 6, 9, 12, 108, 18, 54, 27}\n",
      "\n",
      " Gemeinsame Teiler:\n",
      "{1, 2, 3, 4, 6, 12}\n",
      "{1, 2, 3, 4, 6, 12}\n"
     ]
    }
   ],
   "source": [
    "m=24\n",
    "n=36\n",
    "l=3\n",
    "p=36+3*24\n",
    "\n",
    "print(\"m: \",teiler(m))\n",
    "print(\"n: \",teiler(n))\n",
    "print(\"p: \",teiler(p))\n",
    "print(\"\\n Gemeinsame Teiler:\")\n",
    "\n",
    "\n",
    "print(teiler(m)&teiler(n))\n",
    "\n",
    "print(teiler(m)&teiler(p))"
   ]
  },
  {
   "cell_type": "markdown",
   "metadata": {},
   "source": [
    "Implementieren Sie eine Funktion `gt`, so dass der Aufruf $\\texttt{gt}(m,n)$ \n",
    "für zwei natürliche Zahlen $m$ und $n$ die Menge aller *gemeinsamen Teiler*\n",
    "von $m$ und $n$ berechnet. \n",
    "\n",
    "**Hinweis**: Berechnen Sie zunächst die Menge der Teiler von $m$ und \n",
    "die Menge der Teiler von $n$.  Überlegen Sie, wie die Mengenlehre Ihnen \n",
    "weiterhilft, wenn Sie diese beiden Mengen berechnet haben."
   ]
  },
  {
   "cell_type": "code",
   "execution_count": 41,
   "metadata": {},
   "outputs": [],
   "source": [
    "def gt(m, n):\n",
    "    '''\n",
    "     This function calculates the set of numbers that \n",
    "       are divisors of both m and n.\n",
    "    '''  \n",
    "    M=teiler(m)\n",
    "    N=teiler(n)\n",
    "    #Schnittmenge\n",
    "    return M & N\n",
    "    \n",
    "    \n"
   ]
  },
  {
   "cell_type": "markdown",
   "metadata": {},
   "source": [
    "Implementieren Sie nun eine Funktion `ggt`, so dass der Aufruf \n",
    "$\\texttt{ggt}(m,n)$ den größten gemeinsamen Teiler\n",
    "der beiden Zahlen $m$ und $n$ berechnet. "
   ]
  },
  {
   "cell_type": "code",
   "execution_count": 76,
   "metadata": {},
   "outputs": [
    {
     "data": {
      "text/plain": [
       "12"
      ]
     },
     "execution_count": 76,
     "metadata": {},
     "output_type": "execute_result"
    }
   ],
   "source": [
    "def ggt(m, n):\n",
    "    'This function return the greatest common divisor of m and n.'\n",
    "    'your code here'\n",
    "    common=gt(m,n)\n",
    "    \n",
    "    gcd=max(common)\n",
    "    return gcd\n",
    "    \n",
    "    \n",
    "ggt(m,n)"
   ]
  },
  {
   "cell_type": "markdown",
   "metadata": {},
   "source": [
    "## Aufgabe 3:"
   ]
  },
  {
   "cell_type": "markdown",
   "metadata": {},
   "source": [
    "Ziel dieser Aufgabe ist die Implementierung einer Funktion `kgv`, die für zwei\n",
    "natürliche Zahlen $m$ und $n$ das kleinste gemeinsame Vielfache dieser Zahlen berechnet.  Die Funktion `kgv` soll mit Hilfe geeigneter Hilffunktionen berechnet werden."
   ]
  },
  {
   "cell_type": "code",
   "execution_count": 13,
   "metadata": {},
   "outputs": [
    {
     "data": {
      "text/plain": [
       "{8, 16, 24, 32, 40, 48}"
      ]
     },
     "execution_count": 13,
     "metadata": {},
     "output_type": "execute_result"
    }
   ],
   "source": [
    "def gv(m,n):\n",
    "    upper_limit=m*n\n",
    "    VielfacheM = {m*x for x in range(1,upper_limit+1) if (m*x<=upper_limit) }\n",
    "    \n",
    "    return VielfacheM\n",
    "\n",
    "    \n",
    "\n",
    "\n",
    "gv(8,6)\n",
    "    \n",
    "\n",
    "    "
   ]
  },
  {
   "cell_type": "code",
   "execution_count": null,
   "metadata": {},
   "outputs": [],
   "source": [
    "  \n",
    "def kgv(m, n):\n",
    "    if m==n:\n",
    "        return m\n",
    "    vielfacheM= gv(m,n)\n",
    "    vielfacheN= gv(n,m)\n",
    "    \n",
    "    gcm=min( vielfacheM & vielfacheN  )\n",
    "    \n",
    "    return gcm\n",
    "     \n",
    "\n",
    "    \n",
    "kgv(320,14)\n"
   ]
  },
  {
   "cell_type": "markdown",
   "metadata": {},
   "source": [
    "## Aufgabe 4:"
   ]
  },
  {
   "cell_type": "markdown",
   "metadata": {},
   "source": [
    "Implementieren Sie eine Funktion `subsets`, so dass \n",
    "$\\texttt{subsets}(M, k)$ für eine Menge $M$ und eine natürliche Zahl $k$ \n",
    "die Menge aller der Teilmengen von $M$ berechnet, die genau $k$ Elemente haben.\n",
    "\n",
    "**Hinweis**:  Versuchen Sie, die Funktion  $\\texttt{subsets}(M, k)$ rekursiv \n",
    "durch Rekursion nach $k$ zu implementieren.  "
   ]
  },
  {
   "cell_type": "markdown",
   "metadata": {},
   "source": [
    "Geben Sie eine Implementierung der Funktion `power` an, bei der Sie die \n",
    "Funktion `subsets` verwenden.  Für eine Menge $M$ soll die Funktion \n",
    "$\\texttt{power}(M)$ die Potenz-Menge $2^M$ berechnen."
   ]
  },
  {
   "cell_type": "code",
   "execution_count": 17,
   "metadata": {},
   "outputs": [
    {
     "data": {
      "text/plain": [
       "{frozenset(),\n",
       " frozenset({2}),\n",
       " frozenset({2, 3}),\n",
       " frozenset({1}),\n",
       " frozenset({1, 2}),\n",
       " frozenset({3}),\n",
       " frozenset({1, 3}),\n",
       " frozenset({1, 2, 3})}"
      ]
     },
     "execution_count": 17,
     "metadata": {},
     "output_type": "execute_result"
    }
   ],
   "source": [
    "def subsets(M,k):\n",
    "    if k==0:\n",
    "        return {frozenset()}\n",
    "    else:\n",
    "        return { a | {x} for a in subsets(M,k-1) for x in M if x not in a }\n",
    "    \n",
    "\n",
    "M={1,2,3}\n",
    "A=subsets(M , 3)\n",
    "\n",
    "\n",
    "##power\n",
    "\n",
    "def power(M):\n",
    "    n=len(M)\n",
    "    return {A for k in range(n+1) \n",
    "            for A in subsets(M,k)\n",
    "           }\n",
    "    \n",
    "power({1,2,3})"
   ]
  },
  {
   "cell_type": "markdown",
   "metadata": {},
   "source": [
    "## Aufgabe 5:"
   ]
  },
  {
   "cell_type": "markdown",
   "metadata": {},
   "source": [
    "Ein Tupel der Form $\\langle a, b, c \\rangle$ wird als \n",
    "*geordnetes <a href=\"http://de.wikipedia.org/wiki/Pythagoreisches_Tripel\">pythagoreisches Tripel</a>*\n",
    "bezeichnet, wenn sowohl\n",
    "$$ a^2 + b^2 = c^2 \\quad \\mbox{als auch} \\quad a < b $$\n",
    "gilt.  Beispielsweise ist $\\langle 3,4,5 \\rangle$ ein geordnetes pythagoreisches Tripel, denn einerseits ist \n",
    "$3^2 + 4^2 = 5^2$ und andererseits gilt $3 < 4$.\n",
    "\n",
    "Implementieren Sie eine Prozedur $\\texttt{pythagoras}$, so dass der Aufruf\n",
    "$$\\texttt{pythagoras}(n)$$\n",
    "für eine natürliche Zahl $n$ die Menge aller geordneten  pythagoreischen Tripel $\\langle a,b,c \\rangle$\n",
    "berechnet, für die $c \\leq n$ ist."
   ]
  },
  {
   "cell_type": "code",
   "execution_count": 21,
   "metadata": {},
   "outputs": [],
   "source": [
    "def pythagoras(n):\n",
    "    G=range(1,n+1)\n",
    "    Tripel= {(a,b,c) for a in G for b in G for c in G if a**2+b**2==c**2 and a<b}\n",
    "    return Tripel\n",
    "\n"
   ]
  },
  {
   "cell_type": "markdown",
   "metadata": {},
   "source": [
    "Ein pythagoreisches Tripel $\\langle a,b,c \\rangle$ ist ein \n",
    "<em>reduziertes</em> Tripel, wenn\n",
    "die Zahlen $a$, $b$ und $c$ keinen <em>nicht-trivialen</em> gemeinsamen Teiler haben.  Ein <em>nicht-trivaler</em> gemeinsamer Teiler ist ein Teiler, der größer als $1$ ist.\n",
    "\n",
    "Implementieren Sie eine Funktion `isReduced`, die als Argumente drei natürliche Zahlen $a$, $b$ und $c$ erhält und die genau dann $\\texttt{True}$ als Ergebnis zurück liefert,\n",
    "wenn das Tripel $\\langle a, b, c\\rangle$ reduziert ist."
   ]
  },
  {
   "cell_type": "code",
   "execution_count": 20,
   "metadata": {},
   "outputs": [],
   "source": [
    "def isReduced(a, b, c):\n",
    "    return ggt(a,b)==1\n",
    "\n"
   ]
  },
  {
   "cell_type": "markdown",
   "metadata": {},
   "source": [
    "Implementieren Sie eine Prozedur `reducedPythagoras`, so dass der Aufruf\n",
    "      $$\\texttt{reducedPythagoras}(n)$$\n",
    "die Menge aller geordneten pythagoreischen Tripel $\\langle a,b,c \\rangle$ berechnet, die reduziert sind.  Berechnen Sie mit dieser Prozedur alle reduzierten geordneten pythagoreischen \n",
    "Tripel $\\langle a,b,c \\rangle$, für die $c \\leq 50$ ist. "
   ]
  },
  {
   "cell_type": "code",
   "execution_count": 19,
   "metadata": {},
   "outputs": [],
   "source": [
    "def reducedPythagoras(n):\n",
    "    \"your code here\"\n",
    "    Tripel=pythagoras(n)\n",
    "    \n",
    "    reduced = { x for x in Tripel if isReduced(x[0],x[1],x[2])}\n",
    "    \n",
    "    return reduced\n"
   ]
  },
  {
   "cell_type": "code",
   "execution_count": 27,
   "metadata": {},
   "outputs": [
    {
     "data": {
      "text/plain": [
       "{(3, 4, 5),\n",
       " (5, 12, 13),\n",
       " (7, 24, 25),\n",
       " (8, 15, 17),\n",
       " (9, 40, 41),\n",
       " (12, 35, 37),\n",
       " (20, 21, 29)}"
      ]
     },
     "execution_count": 27,
     "metadata": {},
     "output_type": "execute_result"
    }
   ],
   "source": [
    "reducedPythagoras(50) "
   ]
  },
  {
   "cell_type": "markdown",
   "metadata": {},
   "source": [
    "## Aufgabe 6:"
   ]
  },
  {
   "cell_type": "markdown",
   "metadata": {},
   "source": [
    "Nehmen Sie an, ein Spieler hat im Poker \n",
    "(<a href=\"https://de.wikipedia.org/wiki/Texas_Hold’em\">Texas Hold'em</a>) \n",
    "die beiden\n",
    "Karten $\\langle 8, \\texttt{'♠'}\\rangle$ und $\\langle 9, \\texttt{'♠'}\\rangle$ erhalten.  Schreiben Sie ein\n",
    "Programm, dass die folgenden Fragen beantworten.\n",
    "<ol>\n",
    "<li>  Wie groß ist die Wahrscheinlichkeit, dass im Flop wenigsten zwei weitere Karten\n",
    "      der Farbe $\\texttt{'♠'}$ liegen?\n",
    "      </li>\n",
    "<li>  Wie groß ist die Wahrscheinlichkeit, dass alle drei Karten im Flop\n",
    "      die Farbe $\\texttt{'♠'}$ haben?\n",
    "      </li>\n",
    "</ol>"
   ]
  },
  {
   "cell_type": "code",
   "execution_count": 45,
   "metadata": {
    "scrolled": true
   },
   "outputs": [
    {
     "name": "stdout",
     "output_type": "stream",
     "text": [
      "Wie groß ist die Wahrscheinlichkeit, dass im Flop wenigsten zwei weitere Karten der Farbe '♠' liegen? : \n",
      " 0.11785714285714285\n",
      "\n",
      "Wie groß ist die Wahrscheinlichkeit, dass alle drei Karten im Flop die Farbe '♠' haben? \n",
      " 0.008418367346938776\n"
     ]
    }
   ],
   "source": [
    "Values = { '2', '3', '4', '5', '6', '7', '8', '9', 'T', \n",
    "           'J', 'Q', 'K', 'A' \n",
    "         }\n",
    "Suits = { '♣', '♥', '♦', '♠' }\n",
    "\n",
    "Deck = { (v, s) for v in Values for s in Suits }\n",
    "Hole = { ('8', '♠'), ('9', '♠') }\n",
    "\n",
    "Rest = Deck - Hole\n",
    "Flops = { (c1, c2, c3) for c1 in Rest \n",
    "                       for c2 in Rest \n",
    "                       for c3 in Rest \n",
    "                       if len({c1, c2, c3}) == 3 \n",
    "        }\n",
    "\n",
    "\n",
    "\n",
    "#Dreier\n",
    "TripleSpades = { f for f in Flops if f[0][1]=='♠' and f[1][1]=='♠' and f[2][1]=='♠'  }\n",
    "\n",
    "\n",
    "\n",
    "#GenauZwei\n",
    "OnlyTwoSpades= {f for f in Flops if  f[0][1]=='♠' and f[1][1]=='♠' or\n",
    "                \n",
    "                                     f[1][1]=='♠' and f[2][1]=='♠' or\n",
    "                \n",
    "                                     f[0][1]=='♠' and f[2][1]=='♠'\n",
    "                }\n",
    "\n",
    "\n",
    "\n",
    "\n",
    "\n",
    "\n",
    "at_least_two_spades= OnlyTwoSpades | TripleSpades\n",
    "\n",
    "\n",
    "##Warscheinlichkeiten\n",
    "\n",
    "    ##Erste: Mindestens zwei Spades\n",
    "probability_1 = len(at_least_two_spades)/len(Flops)\n",
    "\n",
    "    ##Zweite: Genau drei Spades\n",
    "\n",
    "probability_2=len(TripleSpades)/len(Flops)\n",
    "\n",
    "print(\"Wie groß ist die Wahrscheinlichkeit, dass im Flop wenigsten zwei weitere Karten der Farbe '♠' liegen? : \\n\", probability_1 )\n",
    "print()\n",
    "print(\"Wie groß ist die Wahrscheinlichkeit, dass alle drei Karten im Flop die Farbe '♠' haben? \\n\", probability_2)\n",
    "\n",
    "\n",
    "\n"
   ]
  },
  {
   "cell_type": "code",
   "execution_count": null,
   "metadata": {},
   "outputs": [],
   "source": []
  },
  {
   "cell_type": "markdown",
   "metadata": {},
   "source": [
    "## Aufgabe 7:"
   ]
  },
  {
   "cell_type": "markdown",
   "metadata": {},
   "source": [
    "Ein <a href=\"https://de.wikipedia.org/wiki/Anagramm\">Anagramm</a> eines gegebenen Wortes $v$ ist ein Wort $w$, dass\n",
    "aus dem Wort $v$ durch Umstellung von Buchstaben entsteht.  Beispielsweise ist das Wort \n",
    "$\\texttt{\"atlas\"}$ ein\n",
    "Anagramm des Wortes \"$\\texttt{salat}$\".  Implementieren Sie eine Funktion $\\texttt{anagram}(s)$, die für ein\n",
    "gegebenes Wort $s$ alle Wörter berechnet, die sich aus dem Wort $s$ durch Umstellung von Buchstaben\n",
    "ergeben.  Die Menge dieser Wörter soll dann als Ergebnis zurück gegeben werden.  Es ist nicht gefordert, dass\n",
    "die Anagramme sinnvolle Wörter der deutschen Sprache sind.  Beispielsweise ist auch das Wort \"$\\texttt{talas}$\"\n",
    "ein Anagramm des Wortes \"$\\texttt{salat}$\".\n"
   ]
  },
  {
   "cell_type": "code",
   "execution_count": 30,
   "metadata": {},
   "outputs": [
    {
     "data": {
      "text/plain": [
       "['aba', 'baa', 'baa', 'aab', 'aab', 'aba']"
      ]
     },
     "execution_count": 30,
     "metadata": {},
     "output_type": "execute_result"
    }
   ],
   "source": [
    "def anagrams(s):\n",
    "    if len(s)==1:\n",
    "        return [s]\n",
    "    else :\n",
    "        ans = []\n",
    "        Perms=anagrams(s[1:])\n",
    "        for p in Perms:\n",
    "            for i in range(len(p)+1):\n",
    "                ans.append(p[: i] + s[0] + p[i: ])\n",
    "        return ans\n",
    "\n",
    "anagrams(\"aba\")\n"
   ]
  },
  {
   "cell_type": "markdown",
   "metadata": {},
   "source": [
    "## Aufgabe 8:"
   ]
  },
  {
   "cell_type": "markdown",
   "metadata": {},
   "source": [
    "Nehmen Sie an, dass Sie $n$ Würfel haben, deren Seiten mit den Zahlen 1 bis 6 bedruckt sind.  Weiter ist eine\n",
    "feste Zahl $s$ vorgegeben.  Implementieren Sie eine Funktion $\\texttt{numberDiceRolls}$, so dass der Aufruf\n",
    "$$ \\texttt{numberDiceRolls}(n, s) $$ \n",
    "die Anzahl der Möglichkeiten berechnet, mit $n$ Würfeln in der Summe die Zahl $s$ zu würfeln.  Beispielsweise\n",
    "soll $\\texttt{numberDiceRolls}(3, 5)$ den Wert 6 liefern, denn es gibt 6 Möglichkeiten, um mit drei Würfeln in\n",
    "der Summe eine 5 zu würfeln:\n",
    "$$\\langle1, 1, 3\\rangle, \\langle1, 2, 2\\rangle, \\langle1, 3, 1\\rangle, \\langle2, 1, 2\\rangle, \\langle2, 2,\n",
    "1\\rangle, \\langle3, 1, 1\\rangle$$\n",
    "\n",
    "**Hinweis**:  Implementieren Sie die Funktion $\\texttt{numberDiceRolls}(n, s)$ *rekursiv*."
   ]
  },
  {
   "cell_type": "code",
   "execution_count": null,
   "metadata": {},
   "outputs": [],
   "source": [
    "def numberDiceRolls(n, s):\n",
    "    if n==1:\n",
    "        if s in range(1,6):\n",
    "            return 1\n",
    "        else:\n",
    "            return 0\n",
    "    #return sum( numberDiceRolls(n-1,s)      )"
   ]
  },
  {
   "cell_type": "code",
   "execution_count": null,
   "metadata": {},
   "outputs": [],
   "source": []
  },
  {
   "cell_type": "markdown",
   "metadata": {},
   "source": [
    "## Aufgabe 9: Palindrome\n",
    "\n",
    "Ein Wort $s$ ist ein [Palindrom](https://de.wikipedia.org/wiki/Palindrom)\n",
    "genau dann, wenn es rückwärts gelesen das selbe Wort ergibt.  Es gilt dann also\n",
    "$$ \\texttt{reverse}(s) = s. $$\n",
    "Die Funktion $\\texttt{reverse}()$ dreht dabei die Reihenfolge der \n",
    "Buchstaben eines Wortes um.  Es gilt beispielsweise\n",
    "$$ \\texttt{reverse(\"abcd\") = \"dcba\"}. $$\n",
    "Beispiele für Palindrome sind folgende Wörter:\n",
    "- `\"reittier\"`\n",
    "- `\"abba\"`\n",
    "- `\"hannah\"`\n",
    "- `\"rentner\"`\n",
    "\n",
    "Entwickeln Sie eine <b>rekursive</b> Funktion `isPalindrome` die als Argument einen String `s` erhält und die genau dann `True` zurück gibt, wenn der String `s` ein Palindrom ist."
   ]
  },
  {
   "cell_type": "code",
   "execution_count": 10,
   "metadata": {},
   "outputs": [
    {
     "data": {
      "text/plain": [
       "True"
      ]
     },
     "execution_count": 10,
     "metadata": {},
     "output_type": "execute_result"
    }
   ],
   "source": [
    "def isPalindrome(s):\n",
    "    if len(s) == 0:\n",
    "        return True\n",
    "    if s[0] == s[-1]:\n",
    "            return isPalindrome (s[1:-1])\n",
    "    else:\n",
    "        return False\n",
    "    \n",
    "isPalindrome(\"reittier\")\n"
   ]
  },
  {
   "cell_type": "markdown",
   "metadata": {},
   "source": [
    "## Aufgabe 10: Permutationen\n",
    "\n",
    "Ist $n \\in \\mathbb{N}$, so ist eine `Permutation` der Länge $n$ ein Tupel, das jede \n",
    "Zahl der Menge $\\{1, \\cdots, n\\}$ genau einmal enthält.  Beispielsweise ist \n",
    "das Tupel `(3,2,1)` eine Permutation der Länge $3$.  Eine andere Permuation der Länge \n",
    "$3$ ist das Tupel `(2,1,3)`.\n",
    "\n",
    "Entwickeln Sie eine <b>rekursive</b> Funktion `allPermutations`, die als Argument eine\n",
    "natürliche Zahl $n$ erhält und als Ergebnis die Menge aller Permutationen der Länge \n",
    "$n$ berechnet."
   ]
  },
  {
   "cell_type": "code",
   "execution_count": 11,
   "metadata": {},
   "outputs": [],
   "source": [
    "def allPermutations(n):\n",
    "    'This function returns the set of all permutations of length n.'\n",
    "    \"your code here\"\n",
    "    \n",
    "    if n==1:\n",
    "        return {(1,)}\n",
    "    P=allPermutations(n-1)\n",
    "    return { ( x[:i] + (n, ) + x[i:] ) for x in P for i in range(len(P)+1)    }\n",
    "    "
   ]
  },
  {
   "cell_type": "code",
   "execution_count": 4,
   "metadata": {},
   "outputs": [
    {
     "data": {
      "text/plain": [
       "{(1, 2, 3), (1, 3, 2), (2, 1, 3), (2, 3, 1), (3, 1, 2), (3, 2, 1)}"
      ]
     },
     "execution_count": 4,
     "metadata": {},
     "output_type": "execute_result"
    }
   ],
   "source": [
    "allPermutations(3)"
   ]
  },
  {
   "cell_type": "markdown",
   "metadata": {},
   "source": [
    "## Aufgabe 11: Sortieren durch Einfügen\n",
    "\n",
    "Bei dem Algorithmus *Sortieren durch Einfügen* sortieren wir eine Liste,\n",
    "indem wir \n",
    "- das letzte Element der Liste entfernen,\n",
    "- die Liste der verbleibenden Elemente rekursiv sortieren und schließlich\n",
    "- das letzte Element so in die sortierte Liste einfügen, dass das Ergebnis\n",
    "  immer noch sortiert ist.\n",
    "  \n",
    "Implementieren Sie eine Funktion `sort`, die als Argument eine Liste `L` von\n",
    "Zahlen erhält und diese mittels des Algorithmus *Sortieren durch Einfügen* \n",
    "*rekursiv* sortiert.\n",
    "\n",
    "Verwenden Sie dabei eine Hilfsfunktion `insert` die zwei Argumente erhält:\n",
    "- `x` ist eine Zahl,\n",
    "- `L` ist eine Liste von Zahlen.\n",
    "\n",
    "Der Aufruf `insert(x, L)` gibt als Ergebnis eine sortierte Liste zurück, die dadurch entsteht, dass die Zahl `x` so in die `L` eingefügt wird, dass das Ergebnis sortiert ist.  Auch die Funktion `insert` sollen Sie <b>rekursiv</b> implementieren."
   ]
  },
  {
   "cell_type": "code",
   "execution_count": null,
   "metadata": {},
   "outputs": [],
   "source": [
    "def iterate(x,L):\n",
    "    i=0\n",
    "    for z in L:\n",
    "        if x<z:\n",
    "            return i\n",
    "        else:\n",
    "            i+=1\n",
    "    return i"
   ]
  },
  {
   "cell_type": "code",
   "execution_count": 259,
   "metadata": {},
   "outputs": [],
   "source": [
    "def insertInto(x, L):\n",
    "    index=getIndex(x,L,0)\n",
    "    L.insert(index,x)\n",
    "    return L\n",
    "\n",
    "#gibt index rekursiv zurück\n",
    "def getIndex(x,L,index):\n",
    "    if index==len(L):\n",
    "        return index\n",
    "    if x>L[index]:\n",
    "        return getIndex(x,L,index+1)\n",
    "    else:\n",
    "        return index\n",
    "    "
   ]
  },
  {
   "cell_type": "code",
   "execution_count": 260,
   "metadata": {},
   "outputs": [
    {
     "data": {
      "text/plain": [
       "[1, 2, 3, 123, 12312213]"
      ]
     },
     "execution_count": 260,
     "metadata": {},
     "output_type": "execute_result"
    }
   ],
   "source": [
    "def sort(L):\n",
    "    #Base-Case\n",
    "    if len(L)==1:\n",
    "        return L\n",
    "    #Entfernen des letzten Elementes\n",
    "    last=L[-1]\n",
    "    ##Restliche Liste\n",
    "    remaining=L[:-1]  \n",
    "    return insertInto(last, sort(remaining))\n",
    "\n",
    "\n",
    "L=[12312213,3,2,1,123]\n",
    "\n",
    "sort(L)\n"
   ]
  }
 ],
 "metadata": {
  "@webio": {
   "lastCommId": null,
   "lastKernelId": null
  },
  "hide_input": false,
  "kernelspec": {
   "display_name": "Python 3",
   "language": "python",
   "name": "python3"
  },
  "language_info": {
   "codemirror_mode": {
    "name": "ipython",
    "version": 3
   },
   "file_extension": ".py",
   "mimetype": "text/x-python",
   "name": "python",
   "nbconvert_exporter": "python",
   "pygments_lexer": "ipython3",
   "version": "3.8.3"
  },
  "toc": {
   "base_numbering": 1,
   "nav_menu": {},
   "number_sections": true,
   "sideBar": true,
   "skip_h1_title": false,
   "title_cell": "Table of Contents",
   "title_sidebar": "Contents",
   "toc_cell": false,
   "toc_position": {},
   "toc_section_display": true,
   "toc_window_display": false
  },
  "varInspector": {
   "cols": {
    "lenName": 16,
    "lenType": 16,
    "lenVar": 40
   },
   "kernels_config": {
    "python": {
     "delete_cmd_postfix": "",
     "delete_cmd_prefix": "del ",
     "library": "var_list.py",
     "varRefreshCmd": "print(var_dic_list())"
    },
    "r": {
     "delete_cmd_postfix": ") ",
     "delete_cmd_prefix": "rm(",
     "library": "var_list.r",
     "varRefreshCmd": "cat(var_dic_list()) "
    }
   },
   "types_to_exclude": [
    "module",
    "function",
    "builtin_function_or_method",
    "instance",
    "_Feature"
   ],
   "window_display": false
  }
 },
 "nbformat": 4,
 "nbformat_minor": 2
}
