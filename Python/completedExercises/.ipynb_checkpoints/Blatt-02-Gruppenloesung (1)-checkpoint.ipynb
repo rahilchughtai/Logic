{
 "cells": [
  {
   "cell_type": "code",
   "execution_count": null,
   "metadata": {},
   "outputs": [],
   "source": [
    "from IPython.core.display import HTML\n",
    "with open('../style.css', 'r') as file:\n",
    "    css = file.read()\n",
    "HTML(css)"
   ]
  },
  {
   "cell_type": "markdown",
   "metadata": {},
   "source": [
    "# Die Bekehrung der Ungläubigen"
   ]
  },
  {
   "cell_type": "markdown",
   "metadata": {},
   "source": [
    "Drei Missionare und drei Ungläubige wollen zusammen einen Fluss überqueren, denn die Ungläubigen sollen in der Kirche, die sich auf dem anderen Ufer befindet, getauft werden. Sie haben nur ein Boot, das Platz für **maximal zwei**  Passagiere bietet.  Sowohl die Ungläubigen als auch die Missionare können rudern.  Es ist zusätzlich bekannt, dass die Ungläubigen zum Kannibalismus neigen. Die Kannibalen sind hungrig, wenn die Missionare an einem der beiden Ufer in der Unterzahl sind, haben sie ein **Problem**.  Ihre Aufgabe besteht darin, einen Fahrplan zu erstellen, so dass einerseits alle Personen das andere Ufer erreichen und andererseits die Missionare zwischendurch kein Problem bekommen."
   ]
  },
  {
   "cell_type": "markdown",
   "metadata": {},
   "source": [
    "## Definition verschiedener Hilfsfunktionen"
   ]
  },
  {
   "cell_type": "markdown",
   "metadata": {},
   "source": [
    "Im Folgenden definieren wir einige Hilfsfunktionen, die wir auch schon bei der Lösung des *Wolf-Ziege-Kohl-Problems* verwendet haben."
   ]
  },
  {
   "cell_type": "code",
   "execution_count": 2,
   "metadata": {},
   "outputs": [],
   "source": [
    "def tripleToStr(t):\n",
    "    return '(' + str(t[0]) + ',' + str(t[1]) + ',' + str(t[2]) + ')'"
   ]
  },
  {
   "cell_type": "code",
   "execution_count": 3,
   "metadata": {},
   "outputs": [],
   "source": [
    "import graphviz as gv"
   ]
  },
  {
   "cell_type": "code",
   "execution_count": 4,
   "metadata": {},
   "outputs": [],
   "source": [
    "%run Breadth-First-Search.ipynb"
   ]
  },
  {
   "cell_type": "markdown",
   "metadata": {},
   "source": [
    "Die einzelnen Zustände werden als Tripel der Form\n",
    "$$ \\langle m, k, b \\rangle $$\n",
    "dargestellt.  Dabei ist $m$ die Anzahl der Missionare am linken Ufer, $k$ ist die Anzahl der Kannibalen am linken Ufer und $b$ ist die Anzahl der Boote am linken Ufer."
   ]
  },
  {
   "cell_type": "markdown",
   "metadata": {},
   "source": [
    "Implementieren Sie eine Funktion <tt>problem</tt>, so dass der Aufruf $\\texttt{problem}(m, k)$ genau dann <tt>True</tt> als Ergebnis zurück liefert, wenn an einem Ufer mit $m$ Missionaren und $k$ Kannibalen für die Missionare ein Problem entsteht."
   ]
  },
  {
   "cell_type": "code",
   "execution_count": 3,
   "metadata": {},
   "outputs": [],
   "source": [
    "def problem(m, k):\n",
    "    '''\n",
    "    This function returns True if there is a problem on a shore that has \n",
    "    m missionaries and k cannibals.\n",
    "    '''\n",
    "    \n",
    "    return m < k and m != 0 or m < 0 or k < 0"
   ]
  },
  {
   "cell_type": "code",
   "execution_count": 4,
   "metadata": {},
   "outputs": [
    {
     "data": {
      "text/plain": [
       "(False, False, True)"
      ]
     },
     "execution_count": 4,
     "metadata": {},
     "output_type": "execute_result"
    }
   ],
   "source": [
    "problem(3, 3), problem(2, 1), problem(1, 2)"
   ]
  },
  {
   "cell_type": "markdown",
   "metadata": {},
   "source": [
    "Berechnen Sie die Menge aller Zustände <tt>States</tt>, bei denen es keine Probleme gibt."
   ]
  },
  {
   "cell_type": "code",
   "execution_count": 5,
   "metadata": {},
   "outputs": [],
   "source": [
    "def calculateStates():\n",
    "     return { (m, k, b) for m in range(4)\n",
    "                        for k in range(4)\n",
    "                        for b in range(2)\n",
    "                            if not problem(m, k)\n",
    "                               and not problem(3-m, 3-k) }\n",
    "\n",
    "States = calculateStates()"
   ]
  },
  {
   "cell_type": "markdown",
   "metadata": {},
   "source": [
    "Zur Kontrolle sollten Sie sich die einzelnen Zustände anschauen."
   ]
  },
  {
   "cell_type": "code",
   "execution_count": 7,
   "metadata": {},
   "outputs": [
    {
     "data": {
      "text/plain": [
       "[(0, 0, 0),\n",
       " (0, 0, 1),\n",
       " (0, 1, 0),\n",
       " (0, 1, 1),\n",
       " (0, 2, 0),\n",
       " (0, 2, 1),\n",
       " (0, 3, 0),\n",
       " (0, 3, 1),\n",
       " (1, 1, 0),\n",
       " (1, 1, 1),\n",
       " (2, 2, 0),\n",
       " (2, 2, 1),\n",
       " (3, 0, 0),\n",
       " (3, 0, 1),\n",
       " (3, 1, 0),\n",
       " (3, 1, 1),\n",
       " (3, 2, 0),\n",
       " (3, 2, 1),\n",
       " (3, 3, 0),\n",
       " (3, 3, 1)]"
      ]
     },
     "execution_count": 7,
     "metadata": {},
     "output_type": "execute_result"
    }
   ],
   "source": [
    "sorted(States)"
   ]
  },
  {
   "cell_type": "markdown",
   "metadata": {},
   "source": [
    "Wenn Sie alles richtig gemacht haben, dann hat die Menge <tt>States</tt> 20 verschiedene Elemente."
   ]
  },
  {
   "cell_type": "code",
   "execution_count": 8,
   "metadata": {},
   "outputs": [
    {
     "data": {
      "text/plain": [
       "20"
      ]
     },
     "execution_count": 8,
     "metadata": {},
     "output_type": "execute_result"
    }
   ],
   "source": [
    "len(States)"
   ]
  },
  {
   "cell_type": "markdown",
   "metadata": {},
   "source": [
    "<tt>R1</tt> ist die Relation, welche die Überfahrten vom linken Ufer zum rechten Ufer beschreibt."
   ]
  },
  {
   "cell_type": "code",
   "execution_count": 9,
   "metadata": {},
   "outputs": [],
   "source": [
    "R1 = { (x, (x[0]-m, x[1]-k, 0))\n",
    "          for x in States\n",
    "               for m in range(3)\n",
    "                  for k in range(3)\n",
    "                     if m+k in { 1, 2 }\n",
    "                         and not problem(x[0]-m, x[1]-k)\n",
    "                         and not problem(3-x[0]+m, 3-x[1]+k)\n",
    "                         and x[2] == 1 }"
   ]
  },
  {
   "cell_type": "code",
   "execution_count": 10,
   "metadata": {},
   "outputs": [
    {
     "data": {
      "text/plain": [
       "{((0, 1, 1), (0, 0, 0)),\n",
       " ((0, 2, 1), (0, 0, 0)),\n",
       " ((0, 2, 1), (0, 1, 0)),\n",
       " ((0, 3, 1), (0, 1, 0)),\n",
       " ((0, 3, 1), (0, 2, 0)),\n",
       " ((1, 1, 1), (0, 0, 0)),\n",
       " ((1, 1, 1), (0, 1, 0)),\n",
       " ((2, 2, 1), (0, 2, 0)),\n",
       " ((2, 2, 1), (1, 1, 0)),\n",
       " ((3, 1, 1), (1, 1, 0)),\n",
       " ((3, 1, 1), (3, 0, 0)),\n",
       " ((3, 2, 1), (2, 2, 0)),\n",
       " ((3, 2, 1), (3, 0, 0)),\n",
       " ((3, 2, 1), (3, 1, 0)),\n",
       " ((3, 3, 1), (2, 2, 0)),\n",
       " ((3, 3, 1), (3, 1, 0)),\n",
       " ((3, 3, 1), (3, 2, 0))}"
      ]
     },
     "execution_count": 10,
     "metadata": {},
     "output_type": "execute_result"
    }
   ],
   "source": [
    "R1"
   ]
  },
  {
   "cell_type": "markdown",
   "metadata": {},
   "source": [
    "Die Relation <tt>R1</tt> enthält 17 Paare."
   ]
  },
  {
   "cell_type": "code",
   "execution_count": 11,
   "metadata": {},
   "outputs": [
    {
     "data": {
      "text/plain": [
       "17"
      ]
     },
     "execution_count": 11,
     "metadata": {},
     "output_type": "execute_result"
    }
   ],
   "source": [
    "len(R1)"
   ]
  },
  {
   "cell_type": "markdown",
   "metadata": {},
   "source": [
    "<tt>R2</tt> ist das Inverse der Relation <tt>R1</tt>."
   ]
  },
  {
   "cell_type": "code",
   "execution_count": 12,
   "metadata": {},
   "outputs": [
    {
     "data": {
      "text/plain": [
       "{((0, 0, 0), (0, 1, 1)),\n",
       " ((0, 0, 0), (0, 2, 1)),\n",
       " ((0, 0, 0), (1, 1, 1)),\n",
       " ((0, 1, 0), (0, 2, 1)),\n",
       " ((0, 1, 0), (0, 3, 1)),\n",
       " ((0, 1, 0), (1, 1, 1)),\n",
       " ((0, 2, 0), (0, 3, 1)),\n",
       " ((0, 2, 0), (2, 2, 1)),\n",
       " ((1, 1, 0), (2, 2, 1)),\n",
       " ((1, 1, 0), (3, 1, 1)),\n",
       " ((2, 2, 0), (3, 2, 1)),\n",
       " ((2, 2, 0), (3, 3, 1)),\n",
       " ((3, 0, 0), (3, 1, 1)),\n",
       " ((3, 0, 0), (3, 2, 1)),\n",
       " ((3, 1, 0), (3, 2, 1)),\n",
       " ((3, 1, 0), (3, 3, 1)),\n",
       " ((3, 2, 0), (3, 3, 1))}"
      ]
     },
     "execution_count": 12,
     "metadata": {},
     "output_type": "execute_result"
    }
   ],
   "source": [
    "R2 = { (x[1], x[0]) for x in R1 }\n",
    "R2"
   ]
  },
  {
   "cell_type": "code",
   "execution_count": 13,
   "metadata": {},
   "outputs": [],
   "source": [
    "R = R1 | R2"
   ]
  },
  {
   "cell_type": "markdown",
   "metadata": {},
   "source": [
    "Wenn Sie sich die Relation <tt>R</tt> als Graph anschauen, dann sollten Sie sehen, dass Sie einen Pfad von dem Knoten <tt>(3,3,1)</tt> zu dem Knoten <tt>(0,0,0)</tt> finden können:"
   ]
  },
  {
   "cell_type": "code",
   "execution_count": 14,
   "metadata": {},
   "outputs": [
    {
     "data": {
      "image/svg+xml": [
       "<?xml version=\"1.0\" encoding=\"UTF-8\" standalone=\"no\"?>\n",
       "<!DOCTYPE svg PUBLIC \"-//W3C//DTD SVG 1.1//EN\"\n",
       " \"http://www.w3.org/Graphics/SVG/1.1/DTD/svg11.dtd\">\n",
       "<!-- Generated by graphviz version 2.40.1 (20161225.0304)\n",
       " -->\n",
       "<!-- Title: %3 Pages: 1 -->\n",
       "<svg width=\"1471pt\" height=\"182pt\"\n",
       " viewBox=\"0.00 0.00 1470.81 182.00\" xmlns=\"http://www.w3.org/2000/svg\" xmlns:xlink=\"http://www.w3.org/1999/xlink\">\n",
       "<g id=\"graph0\" class=\"graph\" transform=\"scale(1 1) rotate(0) translate(4 178)\">\n",
       "<title>%3</title>\n",
       "<polygon fill=\"#ffffff\" stroke=\"transparent\" points=\"-4,4 -4,-178 1466.8085,-178 1466.8085,4 -4,4\"/>\n",
       "<!-- (3, 3, 1) -->\n",
       "<g id=\"node1\" class=\"node\">\n",
       "<title>(3, 3, 1)</title>\n",
       "<ellipse fill=\"none\" stroke=\"#000000\" cx=\"39.6465\" cy=\"-73\" rx=\"39.7935\" ry=\"18\"/>\n",
       "<text text-anchor=\"middle\" x=\"39.6465\" y=\"-69.3\" font-family=\"Times,serif\" font-size=\"14.00\" fill=\"#000000\">(3, 3, 1)</text>\n",
       "</g>\n",
       "<!-- (2, 2, 0) -->\n",
       "<g id=\"node6\" class=\"node\">\n",
       "<title>(2, 2, 0)</title>\n",
       "<ellipse fill=\"none\" stroke=\"#000000\" cx=\"154.9394\" cy=\"-128\" rx=\"39.7935\" ry=\"18\"/>\n",
       "<text text-anchor=\"middle\" x=\"154.9394\" y=\"-124.3\" font-family=\"Times,serif\" font-size=\"14.00\" fill=\"#000000\">(2, 2, 0)</text>\n",
       "</g>\n",
       "<!-- (3, 3, 1)&#45;&gt;(2, 2, 0) -->\n",
       "<g id=\"edge23\" class=\"edge\">\n",
       "<title>(3, 3, 1)&#45;&gt;(2, 2, 0)</title>\n",
       "<path fill=\"none\" stroke=\"#000000\" d=\"M73.3039,-82.855C89.6388,-89.8559 109.1016,-99.2052 124.9256,-107.6748\"/>\n",
       "<polygon fill=\"#000000\" stroke=\"#000000\" points=\"123.3214,-110.7869 133.7709,-112.5356 126.6926,-104.6522 123.3214,-110.7869\"/>\n",
       "</g>\n",
       "<!-- (3, 1, 0) -->\n",
       "<g id=\"node13\" class=\"node\">\n",
       "<title>(3, 1, 0)</title>\n",
       "<ellipse fill=\"none\" stroke=\"#000000\" cx=\"385.5254\" cy=\"-74\" rx=\"39.7935\" ry=\"18\"/>\n",
       "<text text-anchor=\"middle\" x=\"385.5254\" y=\"-70.3\" font-family=\"Times,serif\" font-size=\"14.00\" fill=\"#000000\">(3, 1, 0)</text>\n",
       "</g>\n",
       "<!-- (3, 3, 1)&#45;&gt;(3, 1, 0) -->\n",
       "<g id=\"edge11\" class=\"edge\">\n",
       "<title>(3, 3, 1)&#45;&gt;(3, 1, 0)</title>\n",
       "<path fill=\"none\" stroke=\"#000000\" d=\"M78.3164,-68.6638C141.697,-65.9239 267.5558,-66.1486 336.8895,-68.9936\"/>\n",
       "<polygon fill=\"#000000\" stroke=\"#000000\" points=\"336.9572,-72.5001 347.1042,-69.4524 337.2714,-65.5071 336.9572,-72.5001\"/>\n",
       "</g>\n",
       "<!-- (3, 2, 0) -->\n",
       "<g id=\"node16\" class=\"node\">\n",
       "<title>(3, 2, 0)</title>\n",
       "<ellipse fill=\"none\" stroke=\"#000000\" cx=\"154.9394\" cy=\"-18\" rx=\"39.7935\" ry=\"18\"/>\n",
       "<text text-anchor=\"middle\" x=\"154.9394\" y=\"-14.3\" font-family=\"Times,serif\" font-size=\"14.00\" fill=\"#000000\">(3, 2, 0)</text>\n",
       "</g>\n",
       "<!-- (3, 3, 1)&#45;&gt;(3, 2, 0) -->\n",
       "<g id=\"edge22\" class=\"edge\">\n",
       "<title>(3, 3, 1)&#45;&gt;(3, 2, 0)</title>\n",
       "<path fill=\"none\" stroke=\"#000000\" d=\"M60.793,-57.5481C75.0541,-49.4753 94.3782,-39.8595 111.8084,-32.0194\"/>\n",
       "<polygon fill=\"#000000\" stroke=\"#000000\" points=\"113.507,-35.096 121.2529,-27.8675 110.6899,-28.6879 113.507,-35.096\"/>\n",
       "</g>\n",
       "<!-- (0, 1, 0) -->\n",
       "<g id=\"node2\" class=\"node\">\n",
       "<title>(0, 1, 0)</title>\n",
       "<ellipse fill=\"none\" stroke=\"#000000\" cx=\"1077.2832\" cy=\"-128\" rx=\"39.7935\" ry=\"18\"/>\n",
       "<text text-anchor=\"middle\" x=\"1077.2832\" y=\"-124.3\" font-family=\"Times,serif\" font-size=\"14.00\" fill=\"#000000\">(0, 1, 0)</text>\n",
       "</g>\n",
       "<!-- (1, 1, 1) -->\n",
       "<g id=\"node7\" class=\"node\">\n",
       "<title>(1, 1, 1)</title>\n",
       "<ellipse fill=\"none\" stroke=\"#000000\" cx=\"1192.5761\" cy=\"-156\" rx=\"39.7935\" ry=\"18\"/>\n",
       "<text text-anchor=\"middle\" x=\"1192.5761\" y=\"-152.3\" font-family=\"Times,serif\" font-size=\"14.00\" fill=\"#000000\">(1, 1, 1)</text>\n",
       "</g>\n",
       "<!-- (0, 1, 0)&#45;&gt;(1, 1, 1) -->\n",
       "<g id=\"edge28\" class=\"edge\">\n",
       "<title>(0, 1, 0)&#45;&gt;(1, 1, 1)</title>\n",
       "<path fill=\"none\" stroke=\"#000000\" d=\"M1116.638,-131.1193C1128.8693,-133.6596 1142.3262,-136.943 1154.4707,-140.3529\"/>\n",
       "<polygon fill=\"#000000\" stroke=\"#000000\" points=\"1153.7271,-143.7821 1164.3077,-143.2336 1155.6944,-137.0642 1153.7271,-143.7821\"/>\n",
       "</g>\n",
       "<!-- (0, 2, 1) -->\n",
       "<g id=\"node9\" class=\"node\">\n",
       "<title>(0, 2, 1)</title>\n",
       "<ellipse fill=\"none\" stroke=\"#000000\" cx=\"1423.1621\" cy=\"-102\" rx=\"39.7935\" ry=\"18\"/>\n",
       "<text text-anchor=\"middle\" x=\"1423.1621\" y=\"-98.3\" font-family=\"Times,serif\" font-size=\"14.00\" fill=\"#000000\">(0, 2, 1)</text>\n",
       "</g>\n",
       "<!-- (0, 1, 0)&#45;&gt;(0, 2, 1) -->\n",
       "<g id=\"edge13\" class=\"edge\">\n",
       "<title>(0, 1, 0)&#45;&gt;(0, 2, 1)</title>\n",
       "<path fill=\"none\" stroke=\"#000000\" d=\"M1113.9708,-120.8875C1176.2327,-113.2153 1302.6609,-103.5225 1373.0336,-100.8462\"/>\n",
       "<polygon fill=\"#000000\" stroke=\"#000000\" points=\"1373.5376,-104.3311 1383.4119,-100.4908 1373.2979,-97.3352 1373.5376,-104.3311\"/>\n",
       "</g>\n",
       "<!-- (0, 3, 1) -->\n",
       "<g id=\"node10\" class=\"node\">\n",
       "<title>(0, 3, 1)</title>\n",
       "<ellipse fill=\"none\" stroke=\"#000000\" cx=\"961.9902\" cy=\"-128\" rx=\"39.7935\" ry=\"18\"/>\n",
       "<text text-anchor=\"middle\" x=\"961.9902\" y=\"-124.3\" font-family=\"Times,serif\" font-size=\"14.00\" fill=\"#000000\">(0, 3, 1)</text>\n",
       "</g>\n",
       "<!-- (0, 1, 0)&#45;&gt;(0, 3, 1) -->\n",
       "<g id=\"edge7\" class=\"edge\">\n",
       "<title>(0, 1, 0)&#45;&gt;(0, 3, 1)</title>\n",
       "<path fill=\"none\" stroke=\"#000000\" d=\"M1039.8434,-134.367C1030.048,-134.7532 1019.3615,-134.8473 1009.1318,-134.6494\"/>\n",
       "<polygon fill=\"#000000\" stroke=\"#000000\" points=\"1009.203,-131.1501 999.1042,-134.3541 1008.9968,-138.147 1009.203,-131.1501\"/>\n",
       "</g>\n",
       "<!-- (0, 2, 0) -->\n",
       "<g id=\"node3\" class=\"node\">\n",
       "<title>(0, 2, 0)</title>\n",
       "<ellipse fill=\"none\" stroke=\"#000000\" cx=\"846.6972\" cy=\"-128\" rx=\"39.7935\" ry=\"18\"/>\n",
       "<text text-anchor=\"middle\" x=\"846.6972\" y=\"-124.3\" font-family=\"Times,serif\" font-size=\"14.00\" fill=\"#000000\">(0, 2, 0)</text>\n",
       "</g>\n",
       "<!-- (0, 2, 0)&#45;&gt;(0, 3, 1) -->\n",
       "<g id=\"edge1\" class=\"edge\">\n",
       "<title>(0, 2, 0)&#45;&gt;(0, 3, 1)</title>\n",
       "<path fill=\"none\" stroke=\"#000000\" d=\"M883.8113,-121.6459C893.5867,-121.2533 904.2682,-121.1527 914.5079,-121.3441\"/>\n",
       "<polygon fill=\"#000000\" stroke=\"#000000\" points=\"914.4539,-124.8439 924.5504,-121.633 914.6552,-117.8468 914.4539,-124.8439\"/>\n",
       "</g>\n",
       "<!-- (2, 2, 1) -->\n",
       "<g id=\"node14\" class=\"node\">\n",
       "<title>(2, 2, 1)</title>\n",
       "<ellipse fill=\"none\" stroke=\"#000000\" cx=\"731.4043\" cy=\"-128\" rx=\"39.7935\" ry=\"18\"/>\n",
       "<text text-anchor=\"middle\" x=\"731.4043\" y=\"-124.3\" font-family=\"Times,serif\" font-size=\"14.00\" fill=\"#000000\">(2, 2, 1)</text>\n",
       "</g>\n",
       "<!-- (0, 2, 0)&#45;&gt;(2, 2, 1) -->\n",
       "<g id=\"edge31\" class=\"edge\">\n",
       "<title>(0, 2, 0)&#45;&gt;(2, 2, 1)</title>\n",
       "<path fill=\"none\" stroke=\"#000000\" d=\"M809.2574,-134.367C799.4621,-134.7532 788.7756,-134.8473 778.5458,-134.6494\"/>\n",
       "<polygon fill=\"#000000\" stroke=\"#000000\" points=\"778.617,-131.1501 768.5183,-134.3541 778.4109,-138.147 778.617,-131.1501\"/>\n",
       "</g>\n",
       "<!-- (0, 0, 0) -->\n",
       "<g id=\"node4\" class=\"node\">\n",
       "<title>(0, 0, 0)</title>\n",
       "<ellipse fill=\"none\" stroke=\"#000000\" cx=\"1307.8691\" cy=\"-156\" rx=\"39.7935\" ry=\"18\"/>\n",
       "<text text-anchor=\"middle\" x=\"1307.8691\" y=\"-152.3\" font-family=\"Times,serif\" font-size=\"14.00\" fill=\"#000000\">(0, 0, 0)</text>\n",
       "</g>\n",
       "<!-- (0, 0, 0)&#45;&gt;(1, 1, 1) -->\n",
       "<g id=\"edge29\" class=\"edge\">\n",
       "<title>(0, 0, 0)&#45;&gt;(1, 1, 1)</title>\n",
       "<path fill=\"none\" stroke=\"#000000\" d=\"M1270.4293,-162.367C1260.6339,-162.7532 1249.9474,-162.8473 1239.7177,-162.6494\"/>\n",
       "<polygon fill=\"#000000\" stroke=\"#000000\" points=\"1239.7889,-159.1501 1229.6902,-162.3541 1239.5828,-166.147 1239.7889,-159.1501\"/>\n",
       "</g>\n",
       "<!-- (0, 1, 1) -->\n",
       "<g id=\"node8\" class=\"node\">\n",
       "<title>(0, 1, 1)</title>\n",
       "<ellipse fill=\"none\" stroke=\"#000000\" cx=\"1423.1621\" cy=\"-156\" rx=\"39.7935\" ry=\"18\"/>\n",
       "<text text-anchor=\"middle\" x=\"1423.1621\" y=\"-152.3\" font-family=\"Times,serif\" font-size=\"14.00\" fill=\"#000000\">(0, 1, 1)</text>\n",
       "</g>\n",
       "<!-- (0, 0, 0)&#45;&gt;(0, 1, 1) -->\n",
       "<g id=\"edge18\" class=\"edge\">\n",
       "<title>(0, 0, 0)&#45;&gt;(0, 1, 1)</title>\n",
       "<path fill=\"none\" stroke=\"#000000\" d=\"M1344.9831,-149.6459C1354.7586,-149.2533 1365.4401,-149.1527 1375.6798,-149.3441\"/>\n",
       "<polygon fill=\"#000000\" stroke=\"#000000\" points=\"1375.6257,-152.8439 1385.7223,-149.633 1375.827,-145.8468 1375.6257,-152.8439\"/>\n",
       "</g>\n",
       "<!-- (0, 0, 0)&#45;&gt;(0, 2, 1) -->\n",
       "<g id=\"edge15\" class=\"edge\">\n",
       "<title>(0, 0, 0)&#45;&gt;(0, 2, 1)</title>\n",
       "<path fill=\"none\" stroke=\"#000000\" d=\"M1329.0156,-140.7315C1343.2767,-132.7824 1362.6008,-123.3342 1380.0311,-115.6453\"/>\n",
       "<polygon fill=\"#000000\" stroke=\"#000000\" points=\"1381.6771,-118.7471 1389.4755,-111.5753 1378.9068,-112.3186 1381.6771,-118.7471\"/>\n",
       "</g>\n",
       "<!-- (3, 2, 1) -->\n",
       "<g id=\"node5\" class=\"node\">\n",
       "<title>(3, 2, 1)</title>\n",
       "<ellipse fill=\"none\" stroke=\"#000000\" cx=\"270.2324\" cy=\"-128\" rx=\"39.7935\" ry=\"18\"/>\n",
       "<text text-anchor=\"middle\" x=\"270.2324\" y=\"-124.3\" font-family=\"Times,serif\" font-size=\"14.00\" fill=\"#000000\">(3, 2, 1)</text>\n",
       "</g>\n",
       "<!-- (3, 2, 1)&#45;&gt;(2, 2, 0) -->\n",
       "<g id=\"edge14\" class=\"edge\">\n",
       "<title>(3, 2, 1)&#45;&gt;(2, 2, 0)</title>\n",
       "<path fill=\"none\" stroke=\"#000000\" d=\"M232.7926,-134.367C222.9973,-134.7532 212.3107,-134.8473 202.081,-134.6494\"/>\n",
       "<polygon fill=\"#000000\" stroke=\"#000000\" points=\"202.1522,-131.1501 192.0535,-134.3541 201.9461,-138.147 202.1522,-131.1501\"/>\n",
       "</g>\n",
       "<!-- (3, 0, 0) -->\n",
       "<g id=\"node12\" class=\"node\">\n",
       "<title>(3, 0, 0)</title>\n",
       "<ellipse fill=\"none\" stroke=\"#000000\" cx=\"385.5254\" cy=\"-128\" rx=\"39.7935\" ry=\"18\"/>\n",
       "<text text-anchor=\"middle\" x=\"385.5254\" y=\"-124.3\" font-family=\"Times,serif\" font-size=\"14.00\" fill=\"#000000\">(3, 0, 0)</text>\n",
       "</g>\n",
       "<!-- (3, 2, 1)&#45;&gt;(3, 0, 0) -->\n",
       "<g id=\"edge12\" class=\"edge\">\n",
       "<title>(3, 2, 1)&#45;&gt;(3, 0, 0)</title>\n",
       "<path fill=\"none\" stroke=\"#000000\" d=\"M307.3465,-121.6459C317.1219,-121.2533 327.8034,-121.1527 338.0431,-121.3441\"/>\n",
       "<polygon fill=\"#000000\" stroke=\"#000000\" points=\"337.9891,-124.8439 348.0856,-121.633 338.1904,-117.8468 337.9891,-124.8439\"/>\n",
       "</g>\n",
       "<!-- (3, 2, 1)&#45;&gt;(3, 1, 0) -->\n",
       "<g id=\"edge6\" class=\"edge\">\n",
       "<title>(3, 2, 1)&#45;&gt;(3, 1, 0)</title>\n",
       "<path fill=\"none\" stroke=\"#000000\" d=\"M291.3789,-112.7315C305.64,-104.7824 324.9641,-95.3342 342.3944,-87.6453\"/>\n",
       "<polygon fill=\"#000000\" stroke=\"#000000\" points=\"344.0404,-90.7471 351.8388,-83.5753 341.2701,-84.3186 344.0404,-90.7471\"/>\n",
       "</g>\n",
       "<!-- (2, 2, 0)&#45;&gt;(3, 3, 1) -->\n",
       "<g id=\"edge4\" class=\"edge\">\n",
       "<title>(2, 2, 0)&#45;&gt;(3, 3, 1)</title>\n",
       "<path fill=\"none\" stroke=\"#000000\" d=\"M121.2529,-118.1325C104.9153,-111.1293 85.4543,-101.7799 69.6351,-93.3117\"/>\n",
       "<polygon fill=\"#000000\" stroke=\"#000000\" points=\"71.2424,-90.2013 60.793,-88.4519 67.8708,-96.3358 71.2424,-90.2013\"/>\n",
       "</g>\n",
       "<!-- (2, 2, 0)&#45;&gt;(3, 2, 1) -->\n",
       "<g id=\"edge17\" class=\"edge\">\n",
       "<title>(2, 2, 0)&#45;&gt;(3, 2, 1)</title>\n",
       "<path fill=\"none\" stroke=\"#000000\" d=\"M192.0535,-121.6459C201.8289,-121.2533 212.5104,-121.1527 222.7501,-121.3441\"/>\n",
       "<polygon fill=\"#000000\" stroke=\"#000000\" points=\"222.6961,-124.8439 232.7926,-121.633 222.8974,-117.8468 222.6961,-124.8439\"/>\n",
       "</g>\n",
       "<!-- (1, 1, 1)&#45;&gt;(0, 1, 0) -->\n",
       "<g id=\"edge3\" class=\"edge\">\n",
       "<title>(1, 1, 1)&#45;&gt;(0, 1, 0)</title>\n",
       "<path fill=\"none\" stroke=\"#000000\" d=\"M1153.3471,-152.9068C1141.0732,-150.361 1127.5546,-147.0638 1115.3613,-143.6394\"/>\n",
       "<polygon fill=\"#000000\" stroke=\"#000000\" points=\"1116.0677,-140.1993 1105.487,-140.7467 1114.0996,-146.917 1116.0677,-140.1993\"/>\n",
       "</g>\n",
       "<!-- (1, 1, 1)&#45;&gt;(0, 0, 0) -->\n",
       "<g id=\"edge26\" class=\"edge\">\n",
       "<title>(1, 1, 1)&#45;&gt;(0, 0, 0)</title>\n",
       "<path fill=\"none\" stroke=\"#000000\" d=\"M1229.6902,-149.6459C1239.4656,-149.2533 1250.1471,-149.1527 1260.3868,-149.3441\"/>\n",
       "<polygon fill=\"#000000\" stroke=\"#000000\" points=\"1260.3328,-152.8439 1270.4293,-149.633 1260.5341,-145.8468 1260.3328,-152.8439\"/>\n",
       "</g>\n",
       "<!-- (0, 1, 1)&#45;&gt;(0, 0, 0) -->\n",
       "<g id=\"edge2\" class=\"edge\">\n",
       "<title>(0, 1, 1)&#45;&gt;(0, 0, 0)</title>\n",
       "<path fill=\"none\" stroke=\"#000000\" d=\"M1385.7223,-162.367C1375.9269,-162.7532 1365.2404,-162.8473 1355.0107,-162.6494\"/>\n",
       "<polygon fill=\"#000000\" stroke=\"#000000\" points=\"1355.0819,-159.1501 1344.9831,-162.3541 1354.8757,-166.147 1355.0819,-159.1501\"/>\n",
       "</g>\n",
       "<!-- (0, 2, 1)&#45;&gt;(0, 1, 0) -->\n",
       "<g id=\"edge8\" class=\"edge\">\n",
       "<title>(0, 2, 1)&#45;&gt;(0, 1, 0)</title>\n",
       "<path fill=\"none\" stroke=\"#000000\" d=\"M1386.5612,-109.1018C1324.3089,-116.7783 1197.7311,-126.4829 1127.3399,-129.1565\"/>\n",
       "<polygon fill=\"#000000\" stroke=\"#000000\" points=\"1126.8344,-125.6716 1116.9599,-129.5114 1127.0737,-132.6675 1126.8344,-125.6716\"/>\n",
       "</g>\n",
       "<!-- (0, 2, 1)&#45;&gt;(0, 0, 0) -->\n",
       "<g id=\"edge34\" class=\"edge\">\n",
       "<title>(0, 2, 1)&#45;&gt;(0, 0, 0)</title>\n",
       "<path fill=\"none\" stroke=\"#000000\" d=\"M1401.9935,-117.2808C1387.7263,-125.2319 1368.3991,-134.6806 1350.9699,-142.368\"/>\n",
       "<polygon fill=\"#000000\" stroke=\"#000000\" points=\"1349.3253,-139.2655 1341.5265,-146.4369 1352.0953,-145.6942 1349.3253,-139.2655\"/>\n",
       "</g>\n",
       "<!-- (0, 3, 1)&#45;&gt;(0, 1, 0) -->\n",
       "<g id=\"edge9\" class=\"edge\">\n",
       "<title>(0, 3, 1)&#45;&gt;(0, 1, 0)</title>\n",
       "<path fill=\"none\" stroke=\"#000000\" d=\"M999.1042,-121.6459C1008.8797,-121.2533 1019.5612,-121.1527 1029.8009,-121.3441\"/>\n",
       "<polygon fill=\"#000000\" stroke=\"#000000\" points=\"1029.7469,-124.8439 1039.8434,-121.633 1029.9482,-117.8468 1029.7469,-124.8439\"/>\n",
       "</g>\n",
       "<!-- (0, 3, 1)&#45;&gt;(0, 2, 0) -->\n",
       "<g id=\"edge25\" class=\"edge\">\n",
       "<title>(0, 3, 1)&#45;&gt;(0, 2, 0)</title>\n",
       "<path fill=\"none\" stroke=\"#000000\" d=\"M924.5504,-134.367C914.755,-134.7532 904.0685,-134.8473 893.8388,-134.6494\"/>\n",
       "<polygon fill=\"#000000\" stroke=\"#000000\" points=\"893.91,-131.1501 883.8113,-134.3541 893.7039,-138.147 893.91,-131.1501\"/>\n",
       "</g>\n",
       "<!-- (1, 1, 0) -->\n",
       "<g id=\"node11\" class=\"node\">\n",
       "<title>(1, 1, 0)</title>\n",
       "<ellipse fill=\"none\" stroke=\"#000000\" cx=\"616.1113\" cy=\"-128\" rx=\"39.7935\" ry=\"18\"/>\n",
       "<text text-anchor=\"middle\" x=\"616.1113\" y=\"-124.3\" font-family=\"Times,serif\" font-size=\"14.00\" fill=\"#000000\">(1, 1, 0)</text>\n",
       "</g>\n",
       "<!-- (1, 1, 0)&#45;&gt;(2, 2, 1) -->\n",
       "<g id=\"edge32\" class=\"edge\">\n",
       "<title>(1, 1, 0)&#45;&gt;(2, 2, 1)</title>\n",
       "<path fill=\"none\" stroke=\"#000000\" d=\"M653.2253,-121.6459C663.0008,-121.2533 673.6823,-121.1527 683.922,-121.3441\"/>\n",
       "<polygon fill=\"#000000\" stroke=\"#000000\" points=\"683.868,-124.8439 693.9645,-121.633 684.0693,-117.8468 683.868,-124.8439\"/>\n",
       "</g>\n",
       "<!-- (3, 1, 1) -->\n",
       "<g id=\"node15\" class=\"node\">\n",
       "<title>(3, 1, 1)</title>\n",
       "<ellipse fill=\"none\" stroke=\"#000000\" cx=\"500.8183\" cy=\"-128\" rx=\"39.7935\" ry=\"18\"/>\n",
       "<text text-anchor=\"middle\" x=\"500.8183\" y=\"-124.3\" font-family=\"Times,serif\" font-size=\"14.00\" fill=\"#000000\">(3, 1, 1)</text>\n",
       "</g>\n",
       "<!-- (1, 1, 0)&#45;&gt;(3, 1, 1) -->\n",
       "<g id=\"edge19\" class=\"edge\">\n",
       "<title>(1, 1, 0)&#45;&gt;(3, 1, 1)</title>\n",
       "<path fill=\"none\" stroke=\"#000000\" d=\"M578.6715,-134.367C568.8762,-134.7532 558.1896,-134.8473 547.9599,-134.6494\"/>\n",
       "<polygon fill=\"#000000\" stroke=\"#000000\" points=\"548.0311,-131.1501 537.9324,-134.3541 547.825,-138.147 548.0311,-131.1501\"/>\n",
       "</g>\n",
       "<!-- (3, 0, 0)&#45;&gt;(3, 2, 1) -->\n",
       "<g id=\"edge24\" class=\"edge\">\n",
       "<title>(3, 0, 0)&#45;&gt;(3, 2, 1)</title>\n",
       "<path fill=\"none\" stroke=\"#000000\" d=\"M348.0856,-134.367C338.2902,-134.7532 327.6037,-134.8473 317.374,-134.6494\"/>\n",
       "<polygon fill=\"#000000\" stroke=\"#000000\" points=\"317.4452,-131.1501 307.3465,-134.3541 317.2391,-138.147 317.4452,-131.1501\"/>\n",
       "</g>\n",
       "<!-- (3, 0, 0)&#45;&gt;(3, 1, 1) -->\n",
       "<g id=\"edge30\" class=\"edge\">\n",
       "<title>(3, 0, 0)&#45;&gt;(3, 1, 1)</title>\n",
       "<path fill=\"none\" stroke=\"#000000\" d=\"M422.6394,-121.6459C432.4148,-121.2533 443.0964,-121.1527 453.3361,-121.3441\"/>\n",
       "<polygon fill=\"#000000\" stroke=\"#000000\" points=\"453.282,-124.8439 463.3786,-121.633 453.4833,-117.8468 453.282,-124.8439\"/>\n",
       "</g>\n",
       "<!-- (3, 1, 0)&#45;&gt;(3, 3, 1) -->\n",
       "<g id=\"edge5\" class=\"edge\">\n",
       "<title>(3, 1, 0)&#45;&gt;(3, 3, 1)</title>\n",
       "<path fill=\"none\" stroke=\"#000000\" d=\"M346.8401,-78.3369C283.5333,-81.0726 157.923,-80.8518 88.541,-78.017\"/>\n",
       "<polygon fill=\"#000000\" stroke=\"#000000\" points=\"88.4628,-74.5101 78.3164,-77.5598 88.15,-81.5031 88.4628,-74.5101\"/>\n",
       "</g>\n",
       "<!-- (3, 1, 0)&#45;&gt;(3, 2, 1) -->\n",
       "<g id=\"edge20\" class=\"edge\">\n",
       "<title>(3, 1, 0)&#45;&gt;(3, 2, 1)</title>\n",
       "<path fill=\"none\" stroke=\"#000000\" d=\"M364.3568,-89.2808C350.0896,-97.2319 330.7624,-106.6806 313.3333,-114.368\"/>\n",
       "<polygon fill=\"#000000\" stroke=\"#000000\" points=\"311.6887,-111.2655 303.8898,-118.4369 314.4586,-117.6942 311.6887,-111.2655\"/>\n",
       "</g>\n",
       "<!-- (2, 2, 1)&#45;&gt;(0, 2, 0) -->\n",
       "<g id=\"edge21\" class=\"edge\">\n",
       "<title>(2, 2, 1)&#45;&gt;(0, 2, 0)</title>\n",
       "<path fill=\"none\" stroke=\"#000000\" d=\"M768.5183,-121.6459C778.2937,-121.2533 788.9753,-121.1527 799.215,-121.3441\"/>\n",
       "<polygon fill=\"#000000\" stroke=\"#000000\" points=\"799.1609,-124.8439 809.2574,-121.633 799.3622,-117.8468 799.1609,-124.8439\"/>\n",
       "</g>\n",
       "<!-- (2, 2, 1)&#45;&gt;(1, 1, 0) -->\n",
       "<g id=\"edge16\" class=\"edge\">\n",
       "<title>(2, 2, 1)&#45;&gt;(1, 1, 0)</title>\n",
       "<path fill=\"none\" stroke=\"#000000\" d=\"M693.9645,-134.367C684.1691,-134.7532 673.4826,-134.8473 663.2529,-134.6494\"/>\n",
       "<polygon fill=\"#000000\" stroke=\"#000000\" points=\"663.3241,-131.1501 653.2253,-134.3541 663.118,-138.147 663.3241,-131.1501\"/>\n",
       "</g>\n",
       "<!-- (3, 1, 1)&#45;&gt;(1, 1, 0) -->\n",
       "<g id=\"edge10\" class=\"edge\">\n",
       "<title>(3, 1, 1)&#45;&gt;(1, 1, 0)</title>\n",
       "<path fill=\"none\" stroke=\"#000000\" d=\"M537.9324,-121.6459C547.7078,-121.2533 558.3893,-121.1527 568.629,-121.3441\"/>\n",
       "<polygon fill=\"#000000\" stroke=\"#000000\" points=\"568.575,-124.8439 578.6715,-121.633 568.7763,-117.8468 568.575,-124.8439\"/>\n",
       "</g>\n",
       "<!-- (3, 1, 1)&#45;&gt;(3, 0, 0) -->\n",
       "<g id=\"edge27\" class=\"edge\">\n",
       "<title>(3, 1, 1)&#45;&gt;(3, 0, 0)</title>\n",
       "<path fill=\"none\" stroke=\"#000000\" d=\"M463.3786,-134.367C453.5832,-134.7532 442.8967,-134.8473 432.667,-134.6494\"/>\n",
       "<polygon fill=\"#000000\" stroke=\"#000000\" points=\"432.7381,-131.1501 422.6394,-134.3541 432.532,-138.147 432.7381,-131.1501\"/>\n",
       "</g>\n",
       "<!-- (3, 2, 0)&#45;&gt;(3, 3, 1) -->\n",
       "<g id=\"edge33\" class=\"edge\">\n",
       "<title>(3, 2, 0)&#45;&gt;(3, 3, 1)</title>\n",
       "<path fill=\"none\" stroke=\"#000000\" d=\"M133.7709,-33.4644C119.5037,-41.5392 100.1765,-51.1556 82.7473,-58.9942\"/>\n",
       "<polygon fill=\"#000000\" stroke=\"#000000\" points=\"81.0502,-55.9169 73.3039,-63.145 83.867,-62.3252 81.0502,-55.9169\"/>\n",
       "</g>\n",
       "</g>\n",
       "</svg>\n"
      ],
      "text/plain": [
       "<graphviz.dot.Digraph at 0x7f3d096f58b0>"
      ]
     },
     "execution_count": 14,
     "metadata": {},
     "output_type": "execute_result"
    }
   ],
   "source": [
    "dot = dot_graph(R)\n",
    "dot"
   ]
  },
  {
   "cell_type": "markdown",
   "metadata": {},
   "source": [
    "Am Anfang sind alle links.  Das Ziel ist, dass am Ende aller rechts sind.  Links ist dann niemand mehr."
   ]
  },
  {
   "cell_type": "code",
   "execution_count": 15,
   "metadata": {},
   "outputs": [
    {
     "data": {
      "text/plain": [
       "((3, 3, 1),\n",
       " (2, 2, 0),\n",
       " (3, 2, 1),\n",
       " (3, 0, 0),\n",
       " (3, 1, 1),\n",
       " (1, 1, 0),\n",
       " (2, 2, 1),\n",
       " (0, 2, 0),\n",
       " (0, 3, 1),\n",
       " (0, 1, 0),\n",
       " (1, 1, 1),\n",
       " (0, 0, 0))"
      ]
     },
     "execution_count": 15,
     "metadata": {},
     "output_type": "execute_result"
    }
   ],
   "source": [
    "start = (3, 3, 1)\n",
    "goal  = (0, 0, 0)\n",
    "Path  = search(R, start, goal)\n",
    "Path"
   ]
  },
  {
   "cell_type": "markdown",
   "metadata": {},
   "source": [
    "Wenn Sie die Lösung in lesbarer Form anschauen möchten, dann sollten Sie auch den untenstehenden Code ausführen."
   ]
  },
  {
   "cell_type": "markdown",
   "metadata": {},
   "source": [
    "## Hilfsfunktionen zum Ausdrucken der Lösung"
   ]
  },
  {
   "cell_type": "markdown",
   "metadata": {},
   "source": [
    "Die folgenden Funktionen drucken die Lösung etwas lesbarer aus."
   ]
  },
  {
   "cell_type": "code",
   "execution_count": 16,
   "metadata": {},
   "outputs": [],
   "source": [
    "def printPath(path):\n",
    "    \"This prints the solution Path in a readable way.\"\n",
    "    print(\"Solution:\\n\")\n",
    "    for i in range(len(Path)-1):\n",
    "        m1, k1, b1 = path[i]\n",
    "        m2, k2, b2 = path[i+1]\n",
    "        printState(m1, k1, b1)\n",
    "        printBoat(m1, k1, b1, m2, k2, b2)\n",
    "    m, k, b = path[-1]\n",
    "    printState(m, k, b)"
   ]
  },
  {
   "cell_type": "code",
   "execution_count": 17,
   "metadata": {},
   "outputs": [],
   "source": [
    "def printState(m, k, b):\n",
    "    \"\"\"\n",
    "    Die Prozedur printState(m, k, b) druckt den Zustand, bei dem\n",
    "    m Missionare, k Kannibalen und b Boote am linken Ufer sind.    \n",
    "    \"\"\"\n",
    "    print( fillCharsRight(m * \"M\", 6) + \n",
    "           fillCharsRight(k * \"K\", 6) + \n",
    "           fillCharsRight(b * \"B\", 3) + \"    |~~~~~|    \" + \n",
    "           fillCharsLeft((3 - m) * \"M\", 6) + \n",
    "           fillCharsLeft((3 - k) * \"K\", 6) + \n",
    "           fillCharsLeft((1 - b) * \"B\", 3) \n",
    "         )"
   ]
  },
  {
   "cell_type": "code",
   "execution_count": 18,
   "metadata": {},
   "outputs": [],
   "source": [
    "def printBoat(m1, k1, b1, m2, k2, b2):\n",
    "    \"\"\"\n",
    "    Die Prozedur printBoat(m1, k1, b1, m2, k2, b2) druckt den Zustand des\n",
    "    Bootes, wenn der Zustand sich von [m1, k1, b1] zu [m2, k2, b2] ändert.\n",
    "    \"\"\"\n",
    "    if b1 == 1:\n",
    "        if m1 < m2:\n",
    "            print(\"Fehler in printBoat: negative Anzahl von Missionaren im Boot!\")\n",
    "            return\n",
    "        if k1 < k2:\n",
    "            print(\"Fehler in printBoat: negative Anzahl von Kannibalen im Boot!\")\n",
    "            return\n",
    "        print(19*\" \" + \"> \" + fillCharsBoth((m1-m2)*\"M\" + \" \" + (k1-k2)*\"K\", 3) + \" >\")\n",
    "    else:\n",
    "        if m1 > m2:\n",
    "            print(\"Fehler in printBoat: negative Anzahl von Missionaren im Boot!\")\n",
    "            return\n",
    "        if k1 > k2:\n",
    "            print(\"Fehler in printBoat: negative Anzahl von Kannibalen im Boot!\")\n",
    "            return\n",
    "        print(19*\" \" + \"< \" + fillCharsBoth((m2-m1)*\"M\" + \" \" + (k2-k1)*\"K\", 3) + \" <\")"
   ]
  },
  {
   "cell_type": "code",
   "execution_count": 19,
   "metadata": {},
   "outputs": [],
   "source": [
    "def fillCharsLeft(x, n):\n",
    "    \"\"\"\n",
    "    Die Prozedur fillCharsLeft(x, n) wandelt x in einen String der Länge n um.\n",
    "    Dabei wird der String von links mit Leerzeichen aufgefüllt.\n",
    "    \"\"\"\n",
    "    s = x + \"\"\n",
    "    m = n - len(s)\n",
    "    return m * \" \" + s"
   ]
  },
  {
   "cell_type": "code",
   "execution_count": 20,
   "metadata": {},
   "outputs": [],
   "source": [
    "def fillCharsRight(x, n):\n",
    "    \"\"\"\n",
    "    Die Prozedur fillCharsRight(x, n) wandelt x in einen String der Länge n um.\n",
    "    Dabei wird der String von rechts mit Leerzeichen aufgefüllt.\n",
    "    \"\"\"\n",
    "    s = x + \"\"\n",
    "    m = n - len(s)\n",
    "    return s + m * \" \""
   ]
  },
  {
   "cell_type": "code",
   "execution_count": 21,
   "metadata": {},
   "outputs": [],
   "source": [
    "def fillCharsBoth(x, n):\n",
    "    \"\"\"\n",
    "    Die Prozedur fillCharsBoth(x, n) wandelt x in einen String der Länge n um.\n",
    "    Dabei wird der String von links und rechts mit Leerzeichen aufgefüllt.\n",
    "    \"\"\"\n",
    "    s  = x + \"\"\n",
    "    ml = (n     - len(s)) // 2\n",
    "    mr = (n + 1 - len(s)) // 2\n",
    "    return ml * \" \" + s + mr * \" \""
   ]
  },
  {
   "cell_type": "code",
   "execution_count": 23,
   "metadata": {},
   "outputs": [
    {
     "name": "stdout",
     "output_type": "stream",
     "text": [
      "Solution:\n",
      "\n",
      "MMM   KKK   B      |~~~~~|                   \n",
      "                   > M K >\n",
      "MM    KK           |~~~~~|         M     K  B\n",
      "                   < M   <\n",
      "MMM   KK    B      |~~~~~|               K   \n",
      "                   >  KK >\n",
      "MMM                |~~~~~|             KKK  B\n",
      "                   <  K  <\n",
      "MMM   K     B      |~~~~~|              KK   \n",
      "                   > MM  >\n",
      "M     K            |~~~~~|        MM    KK  B\n",
      "                   < M K <\n",
      "MM    KK    B      |~~~~~|         M     K   \n",
      "                   > MM  >\n",
      "      KK           |~~~~~|       MMM     K  B\n",
      "                   <  K  <\n",
      "      KKK   B      |~~~~~|       MMM         \n",
      "                   >  KK >\n",
      "      K            |~~~~~|       MMM    KK  B\n",
      "                   < M   <\n",
      "M     K     B      |~~~~~|        MM    KK   \n",
      "                   > M K >\n",
      "                   |~~~~~|       MMM   KKK  B\n"
     ]
    }
   ],
   "source": [
    "printPath(Path)"
   ]
  },
  {
   "cell_type": "code",
   "execution_count": null,
   "metadata": {},
   "outputs": [],
   "source": []
  }
 ],
 "metadata": {
  "kernelspec": {
   "display_name": "Python 3",
   "language": "python",
   "name": "python3"
  },
  "language_info": {
   "codemirror_mode": {
    "name": "ipython",
    "version": 3
   },
   "file_extension": ".py",
   "mimetype": "text/x-python",
   "name": "python",
   "nbconvert_exporter": "python",
   "pygments_lexer": "ipython3",
   "version": "3.8.3"
  },
  "toc": {
   "base_numbering": 1,
   "nav_menu": {},
   "number_sections": true,
   "sideBar": true,
   "skip_h1_title": false,
   "title_cell": "Table of Contents",
   "title_sidebar": "Contents",
   "toc_cell": false,
   "toc_position": {},
   "toc_section_display": true,
   "toc_window_display": false
  },
  "varInspector": {
   "cols": {
    "lenName": 16,
    "lenType": 16,
    "lenVar": 40
   },
   "kernels_config": {
    "python": {
     "delete_cmd_postfix": "",
     "delete_cmd_prefix": "del ",
     "library": "var_list.py",
     "varRefreshCmd": "print(var_dic_list())"
    },
    "r": {
     "delete_cmd_postfix": ") ",
     "delete_cmd_prefix": "rm(",
     "library": "var_list.r",
     "varRefreshCmd": "cat(var_dic_list()) "
    }
   },
   "types_to_exclude": [
    "module",
    "function",
    "builtin_function_or_method",
    "instance",
    "_Feature"
   ],
   "window_display": false
  }
 },
 "nbformat": 4,
 "nbformat_minor": 2
}
