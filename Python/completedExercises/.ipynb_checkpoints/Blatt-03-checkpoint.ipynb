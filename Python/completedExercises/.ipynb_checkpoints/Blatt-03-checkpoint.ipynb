{
 "cells": [
  {
   "cell_type": "code",
   "execution_count": null,
   "metadata": {},
   "outputs": [],
   "source": [
    "from IPython.core.display import HTML\n",
    "with open ('style.css', 'r') as file:\n",
    "    css = file.read()\n",
    "HTML(css)"
   ]
  },
  {
   "cell_type": "markdown",
   "metadata": {},
   "source": [
    "# Japanischer Intelligenz-Test"
   ]
  },
  {
   "cell_type": "markdown",
   "metadata": {},
   "source": [
    "Im Internet finden Sie unter der Adresse\n",
    "<a href=\"https://www.pedagonet.com/Fun/flashgame185.htm\">https://www.pedagonet.com/Fun/flashgame185.htm</a>\n",
    "eine Animation einer Denksport-Aufgabe, die Sie mit Hilfe eines Programmes lösen sollen.\n",
    "Es geht bei der Aufgabe wieder darum, dass Personen über einen Fluss übersetzen sollen\n",
    "und dafür nur ein Boot haben, in dem maximal zwei Personen Platz haben.\n",
    "Bei den Personen handelt es sich um eine Mutter mit zwei Töchtern, einen Vater mit zwei\n",
    "Söhnen, einen Polizisten und einen Verbrecher.\n",
    "Bei der Überfahrt sind die folgenden Nebenbedingungen zu beachten:\n",
    "<ol>\n",
    "<li> Der Vater darf nicht ohne die Mutter mit einer der Töchter an einem Ufer sein. </li>\n",
    "<li> Die Mutter darf nicht ohne den Vater mit einem der Söhne an einem Ufer sein.   </li>\n",
    "<li> Wenn der Verbrecher nicht allein ist, dann muss der Polizist auf ihn aufpassen.\n",
    "      Der Verbrecher darf aber alleine sein, denn seine Fußfesseln verhindern, \n",
    "      dass er weglaufen kann. </li>\n",
    "<li> Nur der Vater, die Mutter und der Polizist können das Boot steuern. </li>\n",
    "</ol>"
   ]
  },
  {
   "cell_type": "markdown",
   "metadata": {},
   "source": [
    "## Hilfsfunktionen"
   ]
  },
  {
   "cell_type": "markdown",
   "metadata": {},
   "source": [
    "Die Funktion $\\texttt{power}(M)$ berechnet die Potenz-Menge von $M$, es gilt:\n",
    "$$ \\texttt{power}(M) = 2^M = \\bigl\\{A \\mid A \\subseteq M \\} $$"
   ]
  },
  {
   "cell_type": "code",
   "execution_count": 13,
   "metadata": {},
   "outputs": [],
   "source": [
    "def power(M):\n",
    "    \"This function computes the power set of the set M.\"\n",
    "    if M == set():\n",
    "        return { frozenset() }\n",
    "    else:\n",
    "        C  = set(M)  # C is a copy of M as we don't want to change the set M\n",
    "        x  = C.pop() # pop removes the element x from the set C\n",
    "        P1 = power(C)\n",
    "        P2 = { A | {x} for A in P1 }\n",
    "        return P1 | P2"
   ]
  },
  {
   "cell_type": "markdown",
   "metadata": {},
   "source": [
    "We will run *breadth-first search* to solve this problem."
   ]
  },
  {
   "cell_type": "code",
   "execution_count": 52,
   "metadata": {},
   "outputs": [],
   "source": [
    "%run Breadth-First-Search.ipynb"
   ]
  },
  {
   "cell_type": "markdown",
   "metadata": {},
   "source": [
    "## Spezifikation des Rätsels"
   ]
  },
  {
   "cell_type": "code",
   "execution_count": 1,
   "metadata": {},
   "outputs": [],
   "source": [
    "All = { \"Polizist\", \"Ganove\", \"Mutter\", \"Vater\", \n",
    "        \"Anton\", \"Bruno\", \"Cindy\", \"Doris\", \"Floß\" \n",
    "      }\n",
    "All = frozenset(All)"
   ]
  },
  {
   "cell_type": "markdown",
   "metadata": {},
   "source": [
    "In den folgenden Fällen gibt es ein Problem:\n",
    "<ol>\n",
    "<li> Der Vater ist mit einer der der Töchter an einem Ufer und die Mutter ist am anderen Ufer. </li>\n",
    "<li> Die Mutter ist mit einem der Söhne an einem Ufer und der Vater ist am anderen Ufer.       </li>\n",
    "<li> Der Verbrecher ist mit Vater, Mutter oder einem der Kinder an einem Ufer und der Polizist ist am anderen Ufer. </li>\n",
    "</ol>"
   ]
  },
  {
   "cell_type": "code",
   "execution_count": 10,
   "metadata": {},
   "outputs": [
    {
     "data": {
      "text/plain": [
       "frozenset({'Anton',\n",
       "           'Bruno',\n",
       "           'Cindy',\n",
       "           'Doris',\n",
       "           'Floß',\n",
       "           'Mutter',\n",
       "           'Polizist',\n",
       "           'Vater'})"
      ]
     },
     "execution_count": 10,
     "metadata": {},
     "output_type": "execute_result"
    }
   ],
   "source": [
    "Girls={\"Cindy\", \"Doris\"}\n",
    "Boys={\"Bruno\", \"Anton\" }\n",
    "Fahrer={\"Polizist\",\"Vater\",\"Mutter\"}\n",
    "\n",
    "All-{\"Ganove\"}"
   ]
  },
  {
   "cell_type": "code",
   "execution_count": 36,
   "metadata": {},
   "outputs": [],
   "source": [
    "def problem(S):\n",
    "    return(\n",
    "        \"Vater\" in S and len(S&Girls)>0 and \"Mutter\" not in S or\n",
    "        \"Mutter\" in S and \"Vater\" not in S and len(S&Boys)>0 or\n",
    "        \"Ganove\" in S and 'Polizist' not in S and len(S& (All-{'Ganove'}))>0\n",
    "    \n",
    "    \n",
    "    )"
   ]
  },
  {
   "cell_type": "markdown",
   "metadata": {},
   "source": [
    "<tt>States</tt> is the set of all states that do not have a problem."
   ]
  },
  {
   "cell_type": "code",
   "execution_count": 39,
   "metadata": {},
   "outputs": [
    {
     "data": {
      "text/plain": [
       "{frozenset(),\n",
       " frozenset({'Cindy', 'Ganove', 'Mutter', 'Polizist', 'Vater'}),\n",
       " frozenset({'Bruno', 'Doris', 'Mutter', 'Vater'}),\n",
       " frozenset({'Ganove'}),\n",
       " frozenset({'Anton',\n",
       "            'Bruno',\n",
       "            'Cindy',\n",
       "            'Doris',\n",
       "            'Floß',\n",
       "            'Mutter',\n",
       "            'Polizist',\n",
       "            'Vater'}),\n",
       " frozenset({'Cindy', 'Floß', 'Ganove', 'Mutter', 'Polizist', 'Vater'}),\n",
       " frozenset({'Bruno'}),\n",
       " frozenset({'Bruno', 'Mutter', 'Vater'}),\n",
       " frozenset({'Anton', 'Mutter', 'Vater'}),\n",
       " frozenset({'Doris', 'Floß', 'Ganove', 'Polizist'}),\n",
       " frozenset({'Anton',\n",
       "            'Bruno',\n",
       "            'Cindy',\n",
       "            'Ganove',\n",
       "            'Mutter',\n",
       "            'Polizist',\n",
       "            'Vater'}),\n",
       " frozenset({'Anton', 'Bruno', 'Cindy', 'Doris', 'Floß', 'Mutter', 'Vater'}),\n",
       " frozenset({'Ganove', 'Polizist'}),\n",
       " frozenset({'Bruno', 'Floß'}),\n",
       " frozenset({'Cindy', 'Doris', 'Floß', 'Mutter'}),\n",
       " frozenset({'Bruno', 'Cindy', 'Doris', 'Floß', 'Ganove', 'Polizist'}),\n",
       " frozenset({'Anton', 'Bruno', 'Doris', 'Mutter', 'Vater'}),\n",
       " frozenset({'Anton', 'Bruno', 'Floß'}),\n",
       " frozenset({'Anton', 'Bruno', 'Vater'}),\n",
       " frozenset({'Cindy', 'Doris', 'Floß'}),\n",
       " frozenset({'Bruno', 'Doris', 'Floß', 'Ganove', 'Polizist'}),\n",
       " frozenset({'Bruno',\n",
       "            'Cindy',\n",
       "            'Floß',\n",
       "            'Ganove',\n",
       "            'Mutter',\n",
       "            'Polizist',\n",
       "            'Vater'}),\n",
       " frozenset({'Anton', 'Bruno', 'Doris', 'Floß'}),\n",
       " frozenset({'Cindy', 'Doris', 'Mutter'}),\n",
       " frozenset({'Bruno', 'Cindy'}),\n",
       " frozenset({'Anton', 'Bruno', 'Cindy', 'Floß', 'Mutter', 'Vater'}),\n",
       " frozenset({'Anton', 'Floß', 'Ganove', 'Polizist'}),\n",
       " frozenset({'Anton', 'Cindy', 'Floß', 'Ganove', 'Polizist'}),\n",
       " frozenset({'Anton', 'Cindy', 'Doris', 'Floß', 'Mutter', 'Vater'}),\n",
       " frozenset({'Floß', 'Ganove', 'Mutter', 'Polizist', 'Vater'}),\n",
       " frozenset({'Bruno', 'Cindy', 'Mutter', 'Vater'}),\n",
       " frozenset({'Anton', 'Bruno', 'Doris', 'Floß', 'Ganove', 'Polizist'}),\n",
       " frozenset({'Doris', 'Mutter', 'Vater'}),\n",
       " frozenset({'Anton',\n",
       "            'Bruno',\n",
       "            'Doris',\n",
       "            'Ganove',\n",
       "            'Mutter',\n",
       "            'Polizist',\n",
       "            'Vater'}),\n",
       " frozenset({'Doris', 'Floß', 'Ganove', 'Mutter', 'Polizist', 'Vater'}),\n",
       " frozenset({'Anton',\n",
       "            'Cindy',\n",
       "            'Doris',\n",
       "            'Ganove',\n",
       "            'Mutter',\n",
       "            'Polizist',\n",
       "            'Vater'}),\n",
       " frozenset({'Anton', 'Bruno'}),\n",
       " frozenset({'Anton', 'Bruno', 'Floß', 'Vater'}),\n",
       " frozenset({'Anton', 'Bruno', 'Doris'}),\n",
       " frozenset({'Anton', 'Bruno', 'Cindy', 'Doris', 'Floß'}),\n",
       " frozenset({'Bruno', 'Ganove', 'Mutter', 'Polizist', 'Vater'}),\n",
       " frozenset({'Anton', 'Bruno', 'Cindy', 'Mutter', 'Vater'}),\n",
       " frozenset({'Anton', 'Doris', 'Floß', 'Ganove', 'Polizist'}),\n",
       " frozenset({'Anton', 'Bruno', 'Doris', 'Floß', 'Mutter', 'Vater'}),\n",
       " frozenset({'Bruno', 'Cindy', 'Ganove', 'Polizist'}),\n",
       " frozenset({'Bruno', 'Cindy', 'Doris'}),\n",
       " frozenset({'Anton',\n",
       "            'Bruno',\n",
       "            'Cindy',\n",
       "            'Doris',\n",
       "            'Ganove',\n",
       "            'Mutter',\n",
       "            'Polizist',\n",
       "            'Vater'}),\n",
       " frozenset({'Bruno', 'Floß', 'Ganove', 'Polizist'}),\n",
       " frozenset({'Bruno', 'Cindy', 'Floß', 'Ganove', 'Polizist'}),\n",
       " frozenset({'Cindy', 'Doris'}),\n",
       " frozenset({'Bruno', 'Cindy', 'Doris', 'Floß'}),\n",
       " frozenset({'Cindy', 'Doris', 'Ganove', 'Mutter', 'Polizist'}),\n",
       " frozenset({'Cindy', 'Doris', 'Floß', 'Ganove', 'Mutter', 'Polizist'}),\n",
       " frozenset({'Anton', 'Bruno', 'Floß', 'Ganove', 'Polizist', 'Vater'}),\n",
       " frozenset({'Bruno', 'Doris', 'Floß'}),\n",
       " frozenset({'Anton', 'Bruno', 'Cindy', 'Doris', 'Floß', 'Ganove', 'Polizist'}),\n",
       " frozenset({'Anton', 'Cindy', 'Mutter', 'Vater'}),\n",
       " frozenset({'Anton', 'Cindy', 'Floß', 'Mutter', 'Vater'}),\n",
       " frozenset({'Bruno', 'Doris', 'Floß', 'Mutter', 'Vater'}),\n",
       " frozenset({'Anton', 'Floß', 'Ganove', 'Mutter', 'Polizist', 'Vater'}),\n",
       " frozenset({'Bruno', 'Floß', 'Ganove', 'Mutter', 'Polizist', 'Vater'}),\n",
       " frozenset({'Cindy', 'Mutter', 'Vater'}),\n",
       " frozenset({'Bruno',\n",
       "            'Cindy',\n",
       "            'Doris',\n",
       "            'Ganove',\n",
       "            'Mutter',\n",
       "            'Polizist',\n",
       "            'Vater'}),\n",
       " frozenset({'Anton', 'Cindy', 'Doris', 'Ganove', 'Polizist'}),\n",
       " frozenset({'Anton', 'Ganove', 'Mutter', 'Polizist', 'Vater'}),\n",
       " frozenset({'Cindy', 'Doris', 'Mutter', 'Vater'}),\n",
       " frozenset({'Cindy', 'Floß', 'Mutter', 'Vater'}),\n",
       " frozenset({'Bruno', 'Doris', 'Ganove', 'Mutter', 'Polizist', 'Vater'}),\n",
       " frozenset({'Anton', 'Cindy'}),\n",
       " frozenset({'Anton',\n",
       "            'Doris',\n",
       "            'Floß',\n",
       "            'Ganove',\n",
       "            'Mutter',\n",
       "            'Polizist',\n",
       "            'Vater'}),\n",
       " frozenset({'Bruno',\n",
       "            'Doris',\n",
       "            'Floß',\n",
       "            'Ganove',\n",
       "            'Mutter',\n",
       "            'Polizist',\n",
       "            'Vater'}),\n",
       " frozenset({'Anton', 'Cindy', 'Ganove', 'Polizist'}),\n",
       " frozenset({'Bruno', 'Cindy', 'Doris', 'Floß', 'Mutter', 'Vater'}),\n",
       " frozenset({'Cindy', 'Doris', 'Floß', 'Ganove', 'Polizist'}),\n",
       " frozenset({'Anton'}),\n",
       " frozenset({'Anton', 'Cindy', 'Doris', 'Floß'}),\n",
       " frozenset({'Anton', 'Bruno', 'Ganove', 'Mutter', 'Polizist', 'Vater'}),\n",
       " frozenset({'Anton', 'Bruno', 'Cindy', 'Doris', 'Ganove', 'Polizist'}),\n",
       " frozenset({'Anton', 'Cindy', 'Doris', 'Mutter', 'Vater'}),\n",
       " frozenset({'Anton', 'Floß'}),\n",
       " frozenset({'Anton', 'Cindy', 'Floß'}),\n",
       " frozenset({'Bruno', 'Cindy', 'Floß'}),\n",
       " frozenset({'Bruno', 'Cindy', 'Floß', 'Mutter', 'Vater'}),\n",
       " frozenset({'Doris'}),\n",
       " frozenset({'Anton', 'Doris', 'Floß', 'Mutter', 'Vater'}),\n",
       " frozenset({'Cindy', 'Floß'}),\n",
       " frozenset({'Cindy', 'Floß', 'Ganove', 'Polizist'}),\n",
       " frozenset({'Bruno',\n",
       "            'Cindy',\n",
       "            'Doris',\n",
       "            'Floß',\n",
       "            'Ganove',\n",
       "            'Mutter',\n",
       "            'Polizist',\n",
       "            'Vater'}),\n",
       " frozenset({'Anton',\n",
       "            'Cindy',\n",
       "            'Doris',\n",
       "            'Floß',\n",
       "            'Ganove',\n",
       "            'Mutter',\n",
       "            'Polizist',\n",
       "            'Vater'}),\n",
       " frozenset({'Anton', 'Bruno', 'Doris', 'Ganove', 'Polizist'}),\n",
       " frozenset({'Anton', 'Bruno', 'Cindy', 'Doris'}),\n",
       " frozenset({'Bruno', 'Cindy', 'Doris', 'Ganove', 'Polizist'}),\n",
       " frozenset({'Anton', 'Bruno', 'Mutter', 'Vater'}),\n",
       " frozenset({'Anton', 'Bruno', 'Cindy'}),\n",
       " frozenset({'Bruno', 'Ganove', 'Polizist'}),\n",
       " frozenset({'Bruno', 'Cindy', 'Ganove', 'Mutter', 'Polizist', 'Vater'}),\n",
       " frozenset({'Anton',\n",
       "            'Bruno',\n",
       "            'Cindy',\n",
       "            'Floß',\n",
       "            'Ganove',\n",
       "            'Mutter',\n",
       "            'Polizist',\n",
       "            'Vater'}),\n",
       " frozenset({'Cindy', 'Doris', 'Floß', 'Mutter', 'Vater'}),\n",
       " frozenset({'Anton', 'Doris', 'Ganove', 'Polizist'}),\n",
       " frozenset({'Anton', 'Cindy', 'Doris', 'Floß', 'Ganove', 'Polizist'}),\n",
       " frozenset({'Doris', 'Floß', 'Mutter', 'Vater'}),\n",
       " frozenset({'Anton', 'Ganove', 'Polizist'}),\n",
       " frozenset({'Floß', 'Mutter', 'Vater'}),\n",
       " frozenset({'Anton', 'Cindy', 'Ganove', 'Mutter', 'Polizist', 'Vater'}),\n",
       " frozenset({'Anton',\n",
       "            'Bruno',\n",
       "            'Floß',\n",
       "            'Ganove',\n",
       "            'Mutter',\n",
       "            'Polizist',\n",
       "            'Vater'}),\n",
       " frozenset({'Cindy'}),\n",
       " frozenset({'Cindy', 'Doris', 'Ganove', 'Polizist'}),\n",
       " frozenset({'Cindy',\n",
       "            'Doris',\n",
       "            'Floß',\n",
       "            'Ganove',\n",
       "            'Mutter',\n",
       "            'Polizist',\n",
       "            'Vater'}),\n",
       " frozenset({'Bruno', 'Cindy', 'Doris', 'Mutter', 'Vater'}),\n",
       " frozenset({'Anton', 'Floß', 'Mutter', 'Vater'}),\n",
       " frozenset({'Doris', 'Ganove', 'Polizist'}),\n",
       " frozenset({'Anton', 'Cindy', 'Doris'}),\n",
       " frozenset({'Anton', 'Bruno', 'Cindy', 'Floß', 'Ganove', 'Polizist'}),\n",
       " frozenset({'Anton', 'Doris', 'Mutter', 'Vater'}),\n",
       " frozenset({'Floß', 'Ganove', 'Polizist'}),\n",
       " frozenset({'Doris', 'Ganove', 'Mutter', 'Polizist', 'Vater'}),\n",
       " frozenset({'Doris', 'Floß'}),\n",
       " frozenset({'Anton', 'Bruno', 'Ganove', 'Polizist'}),\n",
       " frozenset({'Anton', 'Bruno', 'Cindy', 'Ganove', 'Polizist'}),\n",
       " frozenset({'Bruno', 'Floß', 'Mutter', 'Vater'}),\n",
       " frozenset({'Anton', 'Bruno', 'Floß', 'Mutter', 'Vater'}),\n",
       " frozenset({'Ganove', 'Mutter', 'Polizist', 'Vater'}),\n",
       " frozenset({'Anton', 'Doris'}),\n",
       " frozenset({'Anton', 'Doris', 'Ganove', 'Mutter', 'Polizist', 'Vater'}),\n",
       " frozenset({'Bruno', 'Doris', 'Ganove', 'Polizist'}),\n",
       " frozenset({'Floß'}),\n",
       " frozenset({'Bruno', 'Doris'}),\n",
       " frozenset({'Anton', 'Bruno', 'Ganove', 'Polizist', 'Vater'}),\n",
       " frozenset({'Mutter', 'Vater'}),\n",
       " frozenset({'Anton',\n",
       "            'Bruno',\n",
       "            'Doris',\n",
       "            'Floß',\n",
       "            'Ganove',\n",
       "            'Mutter',\n",
       "            'Polizist',\n",
       "            'Vater'}),\n",
       " frozenset({'Anton', 'Bruno', 'Cindy', 'Doris', 'Mutter', 'Vater'}),\n",
       " frozenset({'Anton', 'Bruno', 'Cindy', 'Floß'}),\n",
       " frozenset({'Cindy', 'Doris', 'Ganove', 'Mutter', 'Polizist', 'Vater'}),\n",
       " frozenset({'Anton', 'Bruno', 'Floß', 'Ganove', 'Polizist'}),\n",
       " frozenset({'Cindy', 'Ganove', 'Polizist'}),\n",
       " frozenset({'Anton',\n",
       "            'Cindy',\n",
       "            'Floß',\n",
       "            'Ganove',\n",
       "            'Mutter',\n",
       "            'Polizist',\n",
       "            'Vater'}),\n",
       " frozenset({'Anton', 'Doris', 'Floß'}),\n",
       " frozenset({'Anton',\n",
       "            'Bruno',\n",
       "            'Cindy',\n",
       "            'Doris',\n",
       "            'Floß',\n",
       "            'Ganove',\n",
       "            'Mutter',\n",
       "            'Polizist',\n",
       "            'Vater'})}"
      ]
     },
     "execution_count": 39,
     "metadata": {},
     "output_type": "execute_result"
    }
   ],
   "source": [
    "States = { S for S in power(All) if not problem(S) \n",
    "          and not problem(All - S)\n",
    "         }\n",
    "States"
   ]
  },
  {
   "cell_type": "markdown",
   "metadata": {},
   "source": [
    "There are either 140 or 138 different states."
   ]
  },
  {
   "cell_type": "code",
   "execution_count": 40,
   "metadata": {},
   "outputs": [
    {
     "data": {
      "text/plain": [
       "138"
      ]
     },
     "execution_count": 40,
     "metadata": {},
     "output_type": "execute_result"
    }
   ],
   "source": [
    "len(States)"
   ]
  },
  {
   "cell_type": "markdown",
   "metadata": {},
   "source": [
    "<tt>R1</tt> decribes the transitions where the boat crosses the river from left to right."
   ]
  },
  {
   "cell_type": "code",
   "execution_count": 46,
   "metadata": {},
   "outputs": [],
   "source": [
    "R1 = { (S,S-B) for S in States for B in power(S)\n",
    "      if S-B in States and Fahrer&B!=set() and 'Floß' in B and len(B) <= 3\n",
    "     \n",
    "     }"
   ]
  },
  {
   "cell_type": "markdown",
   "metadata": {},
   "source": [
    "<tt>R1</tt> has 100 elements."
   ]
  },
  {
   "cell_type": "code",
   "execution_count": 47,
   "metadata": {},
   "outputs": [
    {
     "data": {
      "text/plain": [
       "100"
      ]
     },
     "execution_count": 47,
     "metadata": {},
     "output_type": "execute_result"
    }
   ],
   "source": [
    "len(R1)"
   ]
  },
  {
   "cell_type": "markdown",
   "metadata": {},
   "source": [
    "<tt>R2</tt> is the inverse of <tt>R1</tt>."
   ]
  },
  {
   "cell_type": "code",
   "execution_count": 48,
   "metadata": {},
   "outputs": [],
   "source": [
    "R2 = { (S,B)  for (B,S) in R1      }"
   ]
  },
  {
   "cell_type": "code",
   "execution_count": 49,
   "metadata": {},
   "outputs": [],
   "source": [
    "R = R1 | R2"
   ]
  },
  {
   "cell_type": "code",
   "execution_count": 50,
   "metadata": {},
   "outputs": [
    {
     "ename": "NameError",
     "evalue": "name 'dot_graph' is not defined",
     "output_type": "error",
     "traceback": [
      "\u001b[1;31m---------------------------------------------------------------------------\u001b[0m",
      "\u001b[1;31mNameError\u001b[0m                                 Traceback (most recent call last)",
      "\u001b[1;32m<ipython-input-50-fa9a21b2fd03>\u001b[0m in \u001b[0;36m<module>\u001b[1;34m\u001b[0m\n\u001b[1;32m----> 1\u001b[1;33m \u001b[0mdot\u001b[0m \u001b[1;33m=\u001b[0m \u001b[0mdot_graph\u001b[0m\u001b[1;33m(\u001b[0m\u001b[0mR\u001b[0m\u001b[1;33m)\u001b[0m\u001b[1;33m\u001b[0m\u001b[1;33m\u001b[0m\u001b[0m\n\u001b[0m",
      "\u001b[1;31mNameError\u001b[0m: name 'dot_graph' is not defined"
     ]
    }
   ],
   "source": [
    "dot = dot_graph(R)"
   ]
  },
  {
   "cell_type": "code",
   "execution_count": 51,
   "metadata": {},
   "outputs": [
    {
     "ename": "NameError",
     "evalue": "name 'dot' is not defined",
     "output_type": "error",
     "traceback": [
      "\u001b[1;31m---------------------------------------------------------------------------\u001b[0m",
      "\u001b[1;31mNameError\u001b[0m                                 Traceback (most recent call last)",
      "\u001b[1;32m<ipython-input-51-a890e0e9df3c>\u001b[0m in \u001b[0;36m<module>\u001b[1;34m\u001b[0m\n\u001b[1;32m----> 1\u001b[1;33m \u001b[0mdot\u001b[0m\u001b[1;33m.\u001b[0m\u001b[0mrender\u001b[0m\u001b[1;33m(\u001b[0m\u001b[1;34m'graph'\u001b[0m\u001b[1;33m,\u001b[0m \u001b[0mview\u001b[0m\u001b[1;33m=\u001b[0m\u001b[1;32mTrue\u001b[0m\u001b[1;33m)\u001b[0m\u001b[1;33m\u001b[0m\u001b[1;33m\u001b[0m\u001b[0m\n\u001b[0m",
      "\u001b[1;31mNameError\u001b[0m: name 'dot' is not defined"
     ]
    }
   ],
   "source": [
    "dot.render('graph', view=True)  "
   ]
  },
  {
   "cell_type": "markdown",
   "metadata": {},
   "source": [
    "Am Anfang sind alle am linken Ufer, am Ende sollen alle auf dem rechten Ufer sein."
   ]
  },
  {
   "cell_type": "code",
   "execution_count": 53,
   "metadata": {},
   "outputs": [
    {
     "name": "stdout",
     "output_type": "stream",
     "text": [
      "Iteration 1: 2 new states found.\n",
      "Iteration 2: 1 new states found.\n",
      "Iteration 3: 4 new states found.\n",
      "Iteration 4: 4 new states found.\n",
      "Iteration 5: 6 new states found.\n",
      "Iteration 6: 2 new states found.\n",
      "Iteration 7: 4 new states found.\n",
      "Iteration 8: 2 new states found.\n",
      "Iteration 9: 6 new states found.\n",
      "Iteration 10: 10 new states found.\n",
      "Iteration 11: 10 new states found.\n",
      "Iteration 12: 8 new states found.\n",
      "Iteration 13: 4 new states found.\n",
      "Iteration 14: 8 new states found.\n",
      "Iteration 15: 1 new states found.\n",
      "Iteration 16: 1 new states found.\n",
      "{'Doris', 'Ganove', 'Bruno', 'Anton', 'Polizist', 'Vater', 'Floß', 'Cindy', 'Mutter'}\n",
      "{'Vater', 'Doris', 'Bruno', 'Cindy', 'Mutter', 'Anton'}\n",
      "{'Doris', 'Bruno', 'Anton', 'Polizist', 'Vater', 'Floß', 'Cindy', 'Mutter'}\n",
      "{'Vater', 'Bruno', 'Cindy', 'Mutter', 'Anton'}\n",
      "{'Ganove', 'Bruno', 'Anton', 'Polizist', 'Vater', 'Floß', 'Cindy', 'Mutter'}\n",
      "{'Polizist', 'Vater', 'Ganove', 'Bruno', 'Anton'}\n",
      "{'Polizist', 'Bruno', 'Vater', 'Ganove', 'Floß', 'Mutter', 'Anton'}\n",
      "{'Polizist', 'Bruno', 'Ganove', 'Anton'}\n",
      "{'Polizist', 'Bruno', 'Vater', 'Ganove', 'Floß', 'Anton'}\n",
      "{'Bruno', 'Vater', 'Anton'}\n",
      "{'Bruno', 'Vater', 'Floß', 'Mutter', 'Anton'}\n",
      "{'Bruno', 'Anton'}\n",
      "{'Floß', 'Bruno', 'Vater', 'Anton'}\n",
      "{'Anton'}\n",
      "{'Floß', 'Polizist', 'Ganove', 'Anton'}\n",
      "{'Ganove'}\n",
      "{'Floß', 'Polizist', 'Ganove'}\n",
      "set()\n"
     ]
    }
   ],
   "source": [
    "start = All\n",
    "goal  = set()\n",
    "Path  = search(R, start, goal)\n",
    "for x in Path:\n",
    "    print(set(x))"
   ]
  },
  {
   "cell_type": "markdown",
   "metadata": {},
   "source": [
    "Zur Lösung des Problems sind 17 Überfahrten notwendig.  Die Liste <tt>Path</tt> hat also die Länge 18. "
   ]
  },
  {
   "cell_type": "code",
   "execution_count": 54,
   "metadata": {},
   "outputs": [
    {
     "data": {
      "text/plain": [
       "18"
      ]
     },
     "execution_count": 54,
     "metadata": {},
     "output_type": "execute_result"
    }
   ],
   "source": [
    "len(Path)"
   ]
  },
  {
   "cell_type": "markdown",
   "metadata": {},
   "source": [
    "## Hilfsfunktionen zum Ausdrucken der Lösung"
   ]
  },
  {
   "cell_type": "markdown",
   "metadata": {},
   "source": [
    "Die folgenden Funktionen dienen dazu, den berechneten Pfad schöner ausdrucken zu können.  Hier brauchen Sie nichts verändern, es reicht aus, diese Funktionen auszuführen."
   ]
  },
  {
   "cell_type": "code",
   "execution_count": 57,
   "metadata": {},
   "outputs": [],
   "source": [
    "def shorten(S):\n",
    "    \"\"\"\n",
    "    Shorten all strings in the set S to one character and turn S in to a \n",
    "    sorted list.\n",
    "    \"\"\"\n",
    "    return sorted([ w[0] for w in S ])"
   ]
  },
  {
   "cell_type": "code",
   "execution_count": 56,
   "metadata": {},
   "outputs": [],
   "source": [
    "def mkPair(S, All):\n",
    "    \"Given the left shore, compute both the left shore and the right shore.\"\n",
    "    return (S, All - S);\n",
    "\n",
    "def my_str(s):\n",
    "    \"Print frozen sets as sets.\"\n",
    "    if len(s) == 0:\n",
    "        return \"[]\"\n",
    "    else:\n",
    "        return str(shorten(s))\n",
    "    \n",
    "def printPath(Path, All):\n",
    "    \"print the path one transition at a time\"\n",
    "    for i in range(len(Path)):\n",
    "        (S1, S2) = mkPair(Path[i], All)\n",
    "        if (len(S1) == 0 or len(S2) == 0):\n",
    "            print(my_str(S1), 33 * \" \", my_str(S2))\n",
    "        else:\n",
    "            print(my_str(S1), 35 * \" \", my_str(S2))\n",
    "        if i + 1 == len(Path): \n",
    "            break\n",
    "        (T1, T2) = mkPair(Path[i+1], All)        \n",
    "        if \"Floß\" in S1:\n",
    "            B = S1 - T1  # the boat crossing from left to right\n",
    "            print(\"                         >>>> \", my_str(B-{\"Floß\"}), \" >>>> \")\n",
    "        else:\n",
    "            B = S2 - T2  # the boat crossing from right to left\n",
    "            print(\"                         <<<< \", my_str(B-{\"Floß\"}), \" <<<< \")\n",
    "            "
   ]
  },
  {
   "cell_type": "code",
   "execution_count": 58,
   "metadata": {},
   "outputs": [
    {
     "name": "stdout",
     "output_type": "stream",
     "text": [
      "['A', 'B', 'C', 'D', 'F', 'G', 'M', 'P', 'V']                                   []\n",
      "                         >>>>  ['G', 'P']  >>>> \n",
      "['A', 'B', 'C', 'D', 'M', 'V']                                     ['F', 'G', 'P']\n",
      "                         <<<<  ['P']  <<<< \n",
      "['A', 'B', 'C', 'D', 'F', 'M', 'P', 'V']                                     ['G']\n",
      "                         >>>>  ['D', 'P']  >>>> \n",
      "['A', 'B', 'C', 'M', 'V']                                     ['D', 'F', 'G', 'P']\n",
      "                         <<<<  ['G', 'P']  <<<< \n",
      "['A', 'B', 'C', 'F', 'G', 'M', 'P', 'V']                                     ['D']\n",
      "                         >>>>  ['C', 'M']  >>>> \n",
      "['A', 'B', 'G', 'P', 'V']                                     ['C', 'D', 'F', 'M']\n",
      "                         <<<<  ['M']  <<<< \n",
      "['A', 'B', 'F', 'G', 'M', 'P', 'V']                                     ['C', 'D']\n",
      "                         >>>>  ['M', 'V']  >>>> \n",
      "['A', 'B', 'G', 'P']                                     ['C', 'D', 'F', 'M', 'V']\n",
      "                         <<<<  ['V']  <<<< \n",
      "['A', 'B', 'F', 'G', 'P', 'V']                                     ['C', 'D', 'M']\n",
      "                         >>>>  ['G', 'P']  >>>> \n",
      "['A', 'B', 'V']                                     ['C', 'D', 'F', 'G', 'M', 'P']\n",
      "                         <<<<  ['M']  <<<< \n",
      "['A', 'B', 'F', 'M', 'V']                                     ['C', 'D', 'G', 'P']\n",
      "                         >>>>  ['M', 'V']  >>>> \n",
      "['A', 'B']                                     ['C', 'D', 'F', 'G', 'M', 'P', 'V']\n",
      "                         <<<<  ['V']  <<<< \n",
      "['A', 'B', 'F', 'V']                                     ['C', 'D', 'G', 'M', 'P']\n",
      "                         >>>>  ['B', 'V']  >>>> \n",
      "['A']                                     ['B', 'C', 'D', 'F', 'G', 'M', 'P', 'V']\n",
      "                         <<<<  ['G', 'P']  <<<< \n",
      "['A', 'F', 'G', 'P']                                     ['B', 'C', 'D', 'M', 'V']\n",
      "                         >>>>  ['A', 'P']  >>>> \n",
      "['G']                                     ['A', 'B', 'C', 'D', 'F', 'M', 'P', 'V']\n",
      "                         <<<<  ['P']  <<<< \n",
      "['F', 'G', 'P']                                     ['A', 'B', 'C', 'D', 'M', 'V']\n",
      "                         >>>>  ['G', 'P']  >>>> \n",
      "[]                                   ['A', 'B', 'C', 'D', 'F', 'G', 'M', 'P', 'V']\n"
     ]
    }
   ],
   "source": [
    "printPath(Path, All)"
   ]
  },
  {
   "cell_type": "code",
   "execution_count": null,
   "metadata": {},
   "outputs": [],
   "source": []
  }
 ],
 "metadata": {
  "hide_input": false,
  "kernelspec": {
   "display_name": "Python 3",
   "language": "python",
   "name": "python3"
  },
  "language_info": {
   "codemirror_mode": {
    "name": "ipython",
    "version": 3
   },
   "file_extension": ".py",
   "mimetype": "text/x-python",
   "name": "python",
   "nbconvert_exporter": "python",
   "pygments_lexer": "ipython3",
   "version": "3.8.3"
  },
  "toc": {
   "base_numbering": 1,
   "nav_menu": {},
   "number_sections": true,
   "sideBar": true,
   "skip_h1_title": false,
   "title_cell": "Table of Contents",
   "title_sidebar": "Contents",
   "toc_cell": false,
   "toc_position": {},
   "toc_section_display": true,
   "toc_window_display": false
  },
  "varInspector": {
   "cols": {
    "lenName": 16,
    "lenType": 16,
    "lenVar": 40
   },
   "kernels_config": {
    "python": {
     "delete_cmd_postfix": "",
     "delete_cmd_prefix": "del ",
     "library": "var_list.py",
     "varRefreshCmd": "print(var_dic_list())"
    },
    "r": {
     "delete_cmd_postfix": ") ",
     "delete_cmd_prefix": "rm(",
     "library": "var_list.r",
     "varRefreshCmd": "cat(var_dic_list()) "
    }
   },
   "types_to_exclude": [
    "module",
    "function",
    "builtin_function_or_method",
    "instance",
    "_Feature"
   ],
   "window_display": false
  }
 },
 "nbformat": 4,
 "nbformat_minor": 2
}
