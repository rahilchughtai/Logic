{
 "cells": [
  {
   "cell_type": "code",
   "execution_count": 2,
   "metadata": {},
   "outputs": [
    {
     "data": {
      "text/html": [
       "<link href='http://fonts.googleapis.com/css?family=Alegreya+Sans:100,300,400,500,700,800,900,100italic,300italic,400italic,500italic,700italic,800italic,900italic' rel='stylesheet' type='text/css'>\n",
       "<link href='http://fonts.googleapis.com/css?family=Arvo:400,700,400italic' rel='stylesheet' type='text/css'>\n",
       "<link href='http://fonts.googleapis.com/css?family=PT+Mono' rel='stylesheet' type='text/css'>\n",
       "<link href='http://fonts.googleapis.com/css?family=Shadows+Into+Light' rel='stylesheet' type='text/css'>\n",
       "<link href='http://fonts.googleapis.com/css?family=Philosopher:400,700,400italic,700italic' rel='stylesheet' type='text/css'>\n",
       "\n",
       "<style>\n",
       "\n",
       "@font-face {\n",
       "    font-family: \"Computer Modern\";\n",
       "    src: url('http://mirrors.ctan.org/fonts/cm-unicode/fonts/otf/cmunss.otf');\n",
       "}\n",
       "\n",
       ".container { width: 100% }\n",
       "\n",
       "/* Formatting for header cells */\n",
       ".text_cell_render h1 {\n",
       "    font-family: 'Philosopher', sans-serif;\n",
       "    font-weight: 400;\n",
       "    font-size: 2.2em;\n",
       "    line-height: 100%;\n",
       "    color: rgb(0, 80, 120);\n",
       "    margin-bottom: 0.1em;\n",
       "    margin-top: 0.1em;\n",
       "    display: block;\n",
       "}\n",
       ".text_cell_render h2 {\n",
       "    font-family: 'Philosopher', serif;\n",
       "    font-weight: 400;\n",
       "    font-size: 1.9em;\n",
       "    line-height: 100%;\n",
       "    color: rgb(200,100,0);\n",
       "    margin-bottom: 0.1em;\n",
       "    margin-top: 0.1em;\n",
       "    display: block;\n",
       "}\n",
       "\n",
       ".text_cell_render h3 {\n",
       "    font-family: 'Philosopher', serif;\n",
       "    margin-top:12px;\n",
       "    margin-bottom: 3px;\n",
       "    font-style: italic;\n",
       "    color: rgb(94,127,192);\n",
       "}\n",
       "\n",
       ".text_cell_render h4 {\n",
       "    font-family: 'Philosopher', serif;\n",
       "}\n",
       "\n",
       ".text_cell_render h5 {\n",
       "    font-family: 'Alegreya Sans', sans-serif;\n",
       "    font-weight: 300;\n",
       "    font-size: 16pt;\n",
       "    color: grey;\n",
       "    font-style: italic;\n",
       "    margin-bottom: .1em;\n",
       "    margin-top: 0.1em;\n",
       "    display: block;\n",
       "}\n",
       "\n",
       ".text_cell_render h6 {\n",
       "    font-family: 'PT Mono', sans-serif;\n",
       "    font-weight: 300;\n",
       "    font-size: 10pt;\n",
       "    color: grey;\n",
       "    margin-bottom: 1px;\n",
       "    margin-top: 1px;\n",
       "}\n",
       "\n",
       ".text_cell_render em {\n",
       "    font-family: 'Philosopher', sans-serif;\n",
       "    color:        blue;\n",
       "    background-color: rgb(255,220,180);\n",
       "    font-size:    110%;\n",
       "    margin-left:   2px;\n",
       "    margin-right:  2px;\n",
       "    font-weight:   100;\n",
       "}\n",
       "\n",
       ".text_cell_render b {\n",
       "    color:            rgb(255,195,195);\n",
       "    background-color: rgb(0,0,0);\n",
       "    font-size:    110%;\n",
       "    margin-left:   2px;\n",
       "    margin-right:  2px;\n",
       "    font-weight:   650;\n",
       "}\n",
       "\n",
       ".text_cell_render tt {\n",
       "    font-size:    120%;\n",
       "    margin-left:   2px;\n",
       "    margin-right:  2px;\n",
       "    font-weight:   150;\n",
       "}\n",
       "\n",
       ".Codemirror {\n",
       "    font-family: \"PT Mono\";\n",
       "    font-size: 100%;\n",
       "}\n",
       "\n",
       "</style>\n",
       "\n"
      ],
      "text/plain": [
       "<IPython.core.display.HTML object>"
      ]
     },
     "execution_count": 2,
     "metadata": {},
     "output_type": "execute_result"
    }
   ],
   "source": [
    "from IPython.core.display import HTML\n",
    "with open ('style.css', 'r') as file:\n",
    "    css = file.read()\n",
    "HTML(css)"
   ]
  },
  {
   "cell_type": "markdown",
   "metadata": {},
   "source": [
    "# Ein Rangier-Problem"
   ]
  },
  {
   "cell_type": "markdown",
   "metadata": {},
   "source": [
    "<img src=\"rangierProblem.png\">"
   ]
  },
  {
   "cell_type": "markdown",
   "metadata": {},
   "source": [
    "Die obige Abbildung zeigt ein *Rangier-Problem*: Auf dem Gleis-Abschnitt <strong>A</strong> befinden sich drei Waggons, die wir mit den Ziffern 1, 2, 3 bezeichnen.  Auf dem Gleisabschnitt <strong>B</strong> befindet sich eine Lokomotive, die wir mit der Ziffer 0 bezeichnen.   Ziel ist es, die Waggons in der Reihenfolge 3, 1, 2 auf dem Gleis-Abschnitt <strong>C</strong> abzustellen.  Die Lokomotive soll am Schluss wieder auf den Gleis-Abschnitt <strong>B</strong> zurückfahren.  Die Lokomotive kann die Waggons in beliebiger Reihenfolge an und abkoppeln.  Beim Rangieren ist es erlaubt, dass die Lokomotive gleichzeitig Waggons vorne und hinten anhängt.  Eine Konstellation der Form <tt>[1,2,0,3]</tt>, bei der die Lokomotive zwei Waggons zieht und einen Waggon schiebt, (oder umgekehrt, je nach dem, in welche Richtung sie fährt) ist also möglich."
   ]
  },
  {
   "cell_type": "markdown",
   "metadata": {},
   "source": [
    "## Funktionen zum Ausdrucken der Lösung"
   ]
  },
  {
   "cell_type": "markdown",
   "metadata": {},
   "source": [
    "Die folgenden beiden Funktionen dienen nur dazu, die Lösung etwas lesbarer auszudrucken."
   ]
  },
  {
   "cell_type": "code",
   "execution_count": 3,
   "metadata": {},
   "outputs": [],
   "source": [
    "def printState(A, B, C):\n",
    "    \"print a given state\"\n",
    "    print('A: ', list(A), '; B: ', list(B), '; C: ', list(C), sep='')"
   ]
  },
  {
   "cell_type": "code",
   "execution_count": 4,
   "metadata": {},
   "outputs": [],
   "source": [
    "def printPath(Path):\n",
    "    \"print the given Path\"\n",
    "    print(\"Solution:\\n\")\n",
    "    for (A, B, C) in Path:\n",
    "        printState(A, B, C)"
   ]
  },
  {
   "cell_type": "markdown",
   "metadata": {},
   "source": [
    "## Hilfsfunktionen"
   ]
  },
  {
   "cell_type": "markdown",
   "metadata": {},
   "source": [
    "**Aufgabe 1**: Definieren Sie eine Funktion $\\texttt{allTuples}(S)$, so dass für eine Menge $S$ der Aufruf $\\texttt{allTuples}(S)$\n",
    "die Menge aller der Tupel berechnet, die jedes Element von $S$ genau einmal enthalten.  Beispielsweise soll der Aufruf\n",
    "$$ \\texttt{allTuples}(\\{1,2,3\\}) $$\n",
    "die folgende Menge als Ergebnis zurück liefern:\n",
    "$$ \\bigl\\{(1, 2, 3), (1, 3, 2), (2, 1, 3), (2, 3, 1), (3, 1, 2), (3, 2, 1)\\bigr\\} $$\n",
    "**Hinweis**: Versuchen Sie, diese Funktion rekursiv zu definieren."
   ]
  },
  {
   "cell_type": "code",
   "execution_count": 5,
   "metadata": {},
   "outputs": [],
   "source": [
    "def allTuples(S):\n",
    "    '''\n",
    "    Given a set S this function returns the set of all tuples that contain each element\n",
    "    of S exactly once.\n",
    "    '''\n",
    "    n = len(S)\n",
    "    if n == 0:\n",
    "        return { () }\n",
    "    T = set(S)\n",
    "    x = T.pop()\n",
    "    return { t[:k] + (x,) + t[k:] for k in range(n) for t in allTuples(T) }"
   ]
  },
  {
   "cell_type": "code",
   "execution_count": 6,
   "metadata": {},
   "outputs": [
    {
     "data": {
      "text/plain": [
       "{(1, 2, 3), (1, 3, 2), (2, 1, 3), (2, 3, 1), (3, 1, 2), (3, 2, 1)}"
      ]
     },
     "execution_count": 6,
     "metadata": {},
     "output_type": "execute_result"
    }
   ],
   "source": [
    "allTuples({1,2,3})"
   ]
  },
  {
   "cell_type": "markdown",
   "metadata": {},
   "source": [
    "Die Funktion $\\texttt{power}(M)$ berechnet für eine Menge $M$ die Potenz-Menge $2^M$."
   ]
  },
  {
   "cell_type": "code",
   "execution_count": 7,
   "metadata": {},
   "outputs": [],
   "source": [
    "def power(M):\n",
    "    'This function computes the power set of the set M.'\n",
    "    if M == set():\n",
    "        return { frozenset() }\n",
    "    else:\n",
    "        C  = set(M)  # C is a copy of M as we don't want to change the set M\n",
    "        x  = C.pop() # pop removes the element x from the set C\n",
    "        P1 = power(C)\n",
    "        P2 = { A | {x} for A in P1 }\n",
    "        return P1 | P2"
   ]
  },
  {
   "cell_type": "markdown",
   "metadata": {},
   "source": [
    "Die Funktion $\\texttt{inverse}(R)$ berechnet das Inverse der Relation $R$."
   ]
  },
  {
   "cell_type": "code",
   "execution_count": 8,
   "metadata": {},
   "outputs": [],
   "source": [
    "def inverse(R):\n",
    "    'return the inverse of the relation R'\n",
    "    return { (y, x) for (x, y) in R }"
   ]
  },
  {
   "cell_type": "markdown",
   "metadata": {},
   "source": [
    "Die Funktion $\\texttt{myReverse}(L)$ dreht die Reihenfolge der Elemente in dem Tupel $L$ um.\n",
    "Versuchen Sie eine rekursive Implementierung."
   ]
  },
  {
   "cell_type": "code",
   "execution_count": 9,
   "metadata": {},
   "outputs": [],
   "source": [
    "def myReverse(L):\n",
    "    'return the reverse of the tuple L'\n",
    "    n = len(L)\n",
    "    if n == 0:\n",
    "        return ()\n",
    "    return (L[-1],) + myReverse(L[:-1])"
   ]
  },
  {
   "cell_type": "code",
   "execution_count": 10,
   "metadata": {},
   "outputs": [
    {
     "data": {
      "text/plain": [
       "(3, 2, 1)"
      ]
     },
     "execution_count": 10,
     "metadata": {},
     "output_type": "execute_result"
    }
   ],
   "source": [
    "myReverse((1,2,3))"
   ]
  },
  {
   "cell_type": "code",
   "execution_count": 11,
   "metadata": {},
   "outputs": [],
   "source": [
    "%run Breadth-First-Search.ipynb"
   ]
  },
  {
   "cell_type": "markdown",
   "metadata": {},
   "source": [
    "## Problemspezifischer Code"
   ]
  },
  {
   "cell_type": "markdown",
   "metadata": {},
   "source": [
    "Wir stellen die Waggons durch die Ziffern 1, 2 und 3 dar, die Lokomotive wird durch 0 dargestellt.  Zustände werden durch Tupel dargestellt.  Beispielsweise wird der Start-Zustand durch das Tupel\n",
    "$$ \\bigl\\langle\\langle 1,2,3 \\rangle, \\langle 0 \\rangle, \\langle\\rangle\\bigr\\rangle $$\n",
    "dargestellt, denn auf dem Gleis <b>A</b> stehen die Waggons 1, 2, 3, die Lokomotive steht auf dem Gleis <b>B</b> und das Gleis <b>C</b> ist leer."
   ]
  },
  {
   "cell_type": "code",
   "execution_count": 12,
   "metadata": {},
   "outputs": [],
   "source": [
    "All = { 0, 1, 2, 3 }"
   ]
  },
  {
   "cell_type": "code",
   "execution_count": 14,
   "metadata": {},
   "outputs": [
    {
     "data": {
      "text/plain": [
       "{frozenset(),\n",
       " frozenset({2}),\n",
       " frozenset({3}),\n",
       " frozenset({2, 3}),\n",
       " frozenset({0, 2, 3}),\n",
       " frozenset({1}),\n",
       " frozenset({1, 2}),\n",
       " frozenset({1, 3}),\n",
       " frozenset({1, 2, 3}),\n",
       " frozenset({0}),\n",
       " frozenset({0, 1}),\n",
       " frozenset({0, 2}),\n",
       " frozenset({0, 1, 2}),\n",
       " frozenset({0, 3}),\n",
       " frozenset({0, 1, 3}),\n",
       " frozenset({0, 1, 2, 3})}"
      ]
     },
     "execution_count": 14,
     "metadata": {},
     "output_type": "execute_result"
    }
   ],
   "source": [
    "PowerAll = power(All)\n",
    "PowerAll"
   ]
  },
  {
   "cell_type": "markdown",
   "metadata": {},
   "source": [
    "**Aufgabe 2**: Definieren Sie die Menge $\\texttt{Partitions}$ so, dass diese Menge alle Tripel der Form\n",
    "$$ \\langle A, B, C \\rangle $$\n",
    "enthält, für welche die Menge $\\{ A, B, C \\}$ eine <em style=\"color:blue\">Partition</em> der Menge $\\{0,1,2,3\\}$ ist.\n",
    "<ol> \n",
    "<li><b>Hinweis</b>: Die Menge $\\{ A, B, C \\}$ ist genau dann eine Partition einer Menge $S$, \n",
    "    wenn $A$, $B$ und $C$ Mengen sind, so dass gilt:\n",
    "    $$A \\cup B \\cup C = S \\quad\\mbox{und}\\quad \n",
    "      A \\cap B = \\{\\}, \\quad A \\cap C = \\{\\} \\quad \\mbox{und} \\quad B \\cap C = \\{\\}.\n",
    "    $$  \n",
    "    </li>\n",
    "<li><b>Hinweis</b>:  Die Menge $$\\{0,1,2,3\\} \\quad \\mbox{hat 81 Partitionen der Form}\\quad \\langle A, B, C \\rangle.$$\n",
    "    </li>\n",
    "<ol>"
   ]
  },
  {
   "cell_type": "code",
   "execution_count": 20,
   "metadata": {},
   "outputs": [],
   "source": [
    "Partitions = {  (A,B,C) for A in PowerAll for B in PowerAll for C in PowerAll\n",
    "                if A | B | C == All and A & B == set() and A & C == set() and B&C == set()\n",
    "                                  \n",
    "             }"
   ]
  },
  {
   "cell_type": "code",
   "execution_count": 25,
   "metadata": {},
   "outputs": [
    {
     "data": {
      "text/plain": [
       "{(frozenset(), frozenset(), frozenset({0, 1, 2, 3})),\n",
       " (frozenset(), frozenset({0}), frozenset({1, 2, 3})),\n",
       " (frozenset(), frozenset({0, 1, 2}), frozenset({3})),\n",
       " (frozenset(), frozenset({0, 3}), frozenset({1, 2})),\n",
       " (frozenset(), frozenset({0, 1, 3}), frozenset({2})),\n",
       " (frozenset(), frozenset({2}), frozenset({0, 1, 3})),\n",
       " (frozenset(), frozenset({0, 2}), frozenset({1, 3})),\n",
       " (frozenset(), frozenset({0, 1}), frozenset({2, 3})),\n",
       " (frozenset(), frozenset({2, 3}), frozenset({0, 1})),\n",
       " (frozenset(), frozenset({0, 2, 3}), frozenset({1})),\n",
       " (frozenset(), frozenset({1}), frozenset({0, 2, 3})),\n",
       " (frozenset(), frozenset({1, 2}), frozenset({0, 3})),\n",
       " (frozenset(), frozenset({3}), frozenset({0, 1, 2})),\n",
       " (frozenset(), frozenset({1, 3}), frozenset({0, 2})),\n",
       " (frozenset(), frozenset({1, 2, 3}), frozenset({0})),\n",
       " (frozenset(), frozenset({0, 1, 2, 3}), frozenset()),\n",
       " (frozenset({2}), frozenset({1}), frozenset({0, 3})),\n",
       " (frozenset({2}), frozenset({0, 1, 3}), frozenset()),\n",
       " (frozenset({1}), frozenset({2, 3}), frozenset({0})),\n",
       " (frozenset({3}), frozenset(), frozenset({0, 1, 2})),\n",
       " (frozenset({0}), frozenset(), frozenset({1, 2, 3})),\n",
       " (frozenset({0}), frozenset({1}), frozenset({2, 3})),\n",
       " (frozenset({0}), frozenset({3}), frozenset({1, 2})),\n",
       " (frozenset({0}), frozenset({1, 2, 3}), frozenset()),\n",
       " (frozenset({0, 3}), frozenset({2}), frozenset({1})),\n",
       " (frozenset({0, 3}), frozenset({1, 2}), frozenset()),\n",
       " (frozenset({2}), frozenset({1, 3}), frozenset({0})),\n",
       " (frozenset({2, 3}), frozenset({1}), frozenset({0})),\n",
       " (frozenset({1}), frozenset({0}), frozenset({2, 3})),\n",
       " (frozenset({1}), frozenset({0, 3}), frozenset({2})),\n",
       " (frozenset({2}), frozenset({3}), frozenset({0, 1})),\n",
       " (frozenset({1, 2}), frozenset({0}), frozenset({3})),\n",
       " (frozenset({1, 2}), frozenset({0, 3}), frozenset()),\n",
       " (frozenset({0}), frozenset({2}), frozenset({1, 3})),\n",
       " (frozenset({1, 2, 3}), frozenset({0}), frozenset()),\n",
       " (frozenset({0, 1}), frozenset({2}), frozenset({3})),\n",
       " (frozenset({3}), frozenset({2}), frozenset({0, 1})),\n",
       " (frozenset({0, 1, 3}), frozenset({2}), frozenset()),\n",
       " (frozenset({2, 3}), frozenset({0}), frozenset({1})),\n",
       " (frozenset({2, 3}), frozenset({0, 1}), frozenset()),\n",
       " (frozenset({1}), frozenset({0, 2}), frozenset({3})),\n",
       " (frozenset({0}), frozenset({1, 3}), frozenset({2})),\n",
       " (frozenset({1}), frozenset({3}), frozenset({0, 2})),\n",
       " (frozenset({0}), frozenset({1, 2}), frozenset({3})),\n",
       " (frozenset({0, 1}), frozenset(), frozenset({2, 3})),\n",
       " (frozenset({0, 1}), frozenset({2, 3}), frozenset()),\n",
       " (frozenset({2}), frozenset({0}), frozenset({1, 3})),\n",
       " (frozenset({1, 2}), frozenset({3}), frozenset({0})),\n",
       " (frozenset({0, 1, 2}), frozenset(), frozenset({3})),\n",
       " (frozenset({0, 1, 2}), frozenset({3}), frozenset()),\n",
       " (frozenset({3}), frozenset({0}), frozenset({1, 2})),\n",
       " (frozenset({3}), frozenset({1, 2}), frozenset({0})),\n",
       " (frozenset({3}), frozenset({0, 2}), frozenset({1})),\n",
       " (frozenset({2}), frozenset({0, 3}), frozenset({1})),\n",
       " (frozenset({3}), frozenset({1}), frozenset({0, 2})),\n",
       " (frozenset({2}), frozenset(), frozenset({0, 1, 3})),\n",
       " (frozenset({2}), frozenset({0, 1}), frozenset({3})),\n",
       " (frozenset({3}), frozenset({0, 1}), frozenset({2})),\n",
       " (frozenset({2, 3}), frozenset(), frozenset({0, 1})),\n",
       " (frozenset({1, 2, 3}), frozenset(), frozenset({0})),\n",
       " (frozenset({0}), frozenset({2, 3}), frozenset({1})),\n",
       " (frozenset({0, 3}), frozenset(), frozenset({1, 2})),\n",
       " (frozenset({0, 3}), frozenset({1}), frozenset({2})),\n",
       " (frozenset({0, 2}), frozenset({1}), frozenset({3})),\n",
       " (frozenset({0, 2}), frozenset({1, 3}), frozenset()),\n",
       " (frozenset({0, 1, 3}), frozenset(), frozenset({2})),\n",
       " (frozenset({0, 2, 3}), frozenset(), frozenset({1})),\n",
       " (frozenset({0, 2, 3}), frozenset({1}), frozenset()),\n",
       " (frozenset({1}), frozenset(), frozenset({0, 2, 3})),\n",
       " (frozenset({1}), frozenset({2}), frozenset({0, 3})),\n",
       " (frozenset({1, 2}), frozenset(), frozenset({0, 3})),\n",
       " (frozenset({0, 1}), frozenset({3}), frozenset({2})),\n",
       " (frozenset({0, 2}), frozenset(), frozenset({1, 3})),\n",
       " (frozenset({0, 2}), frozenset({3}), frozenset({1})),\n",
       " (frozenset({1}), frozenset({0, 2, 3}), frozenset()),\n",
       " (frozenset({3}), frozenset({0, 1, 2}), frozenset()),\n",
       " (frozenset({1, 3}), frozenset(), frozenset({0, 2})),\n",
       " (frozenset({1, 3}), frozenset({2}), frozenset({0})),\n",
       " (frozenset({1, 3}), frozenset({0}), frozenset({2})),\n",
       " (frozenset({1, 3}), frozenset({0, 2}), frozenset()),\n",
       " (frozenset({0, 1, 2, 3}), frozenset(), frozenset())}"
      ]
     },
     "execution_count": 25,
     "metadata": {},
     "output_type": "execute_result"
    }
   ],
   "source": [
    "len(Partitions)\n",
    "Partitions"
   ]
  },
  {
   "cell_type": "markdown",
   "metadata": {},
   "source": [
    "**Aufgabe 3**: Wir stellen Zustände durch Tupel der Form\n",
    "$$ \\langle LA, LB, LC \\rangle $$\n",
    "dar.  Dabei ist $LA$ das Tupel der Waggons auf dem Gleis A, $LB$ ist das Tupel der\n",
    "Waggons auf dem Gleis $B$ und $LC$ ist das Tupel der Waggons auf dem Gleis C.\n",
    "Berechnen Sie die Menge aller Zustände."
   ]
  },
  {
   "cell_type": "code",
   "execution_count": 41,
   "metadata": {},
   "outputs": [
    {
     "data": {
      "text/plain": [
       "{frozenset({(frozenset(), frozenset({3}), frozenset({0, 1, 2})),\n",
       "            (frozenset(), frozenset({0, 1, 2}), frozenset({3})),\n",
       "            (frozenset({0, 1, 2}), frozenset(), frozenset({3})),\n",
       "            (frozenset({0, 1, 2}), frozenset({3}), frozenset()),\n",
       "            (frozenset({3}), frozenset(), frozenset({0, 1, 2})),\n",
       "            (frozenset({3}), frozenset({0, 1, 2}), frozenset())}),\n",
       " frozenset({(frozenset(), frozenset({0, 3}), frozenset({1, 2})),\n",
       "            (frozenset(), frozenset({1, 2}), frozenset({0, 3})),\n",
       "            (frozenset({1, 2}), frozenset(), frozenset({0, 3})),\n",
       "            (frozenset({0, 3}), frozenset(), frozenset({1, 2})),\n",
       "            (frozenset({0, 3}), frozenset({1, 2}), frozenset()),\n",
       "            (frozenset({1, 2}), frozenset({0, 3}), frozenset())}),\n",
       " frozenset({(frozenset(), frozenset({0, 1, 3}), frozenset({2})),\n",
       "            (frozenset(), frozenset({2}), frozenset({0, 1, 3})),\n",
       "            (frozenset({2}), frozenset({0, 1, 3}), frozenset()),\n",
       "            (frozenset({0, 1, 3}), frozenset(), frozenset({2})),\n",
       "            (frozenset({2}), frozenset(), frozenset({0, 1, 3})),\n",
       "            (frozenset({0, 1, 3}), frozenset({2}), frozenset())}),\n",
       " frozenset({(frozenset({2}), frozenset({0, 1}), frozenset({3})),\n",
       "            (frozenset({3}), frozenset({2}), frozenset({0, 1})),\n",
       "            (frozenset({0, 1}), frozenset({2}), frozenset({3})),\n",
       "            (frozenset({0, 1}), frozenset({3}), frozenset({2})),\n",
       "            (frozenset({2}), frozenset({3}), frozenset({0, 1})),\n",
       "            (frozenset({3}), frozenset({0, 1}), frozenset({2}))}),\n",
       " frozenset({(frozenset({1}), frozenset({3}), frozenset({0, 2})),\n",
       "            (frozenset({3}), frozenset({1}), frozenset({0, 2})),\n",
       "            (frozenset({3}), frozenset({0, 2}), frozenset({1})),\n",
       "            (frozenset({0, 2}), frozenset({3}), frozenset({1})),\n",
       "            (frozenset({0, 2}), frozenset({1}), frozenset({3})),\n",
       "            (frozenset({1}), frozenset({0, 2}), frozenset({3}))}),\n",
       " frozenset({(frozenset(), frozenset({0, 2}), frozenset({1, 3})),\n",
       "            (frozenset(), frozenset({1, 3}), frozenset({0, 2})),\n",
       "            (frozenset({1, 3}), frozenset(), frozenset({0, 2})),\n",
       "            (frozenset({0, 2}), frozenset({1, 3}), frozenset()),\n",
       "            (frozenset({1, 3}), frozenset({0, 2}), frozenset()),\n",
       "            (frozenset({0, 2}), frozenset(), frozenset({1, 3}))}),\n",
       " frozenset({(frozenset(), frozenset({0}), frozenset({1, 2, 3})),\n",
       "            (frozenset(), frozenset({1, 2, 3}), frozenset({0})),\n",
       "            (frozenset({1, 2, 3}), frozenset(), frozenset({0})),\n",
       "            (frozenset({1, 2, 3}), frozenset({0}), frozenset()),\n",
       "            (frozenset({0}), frozenset(), frozenset({1, 2, 3})),\n",
       "            (frozenset({0}), frozenset({1, 2, 3}), frozenset())}),\n",
       " frozenset({(frozenset(), frozenset({0, 1, 2, 3})),\n",
       "            (frozenset({0, 1, 2, 3}), frozenset())}),\n",
       " frozenset({(frozenset({2}), frozenset({1}), frozenset({0, 3})),\n",
       "            (frozenset({1}), frozenset({0, 3}), frozenset({2})),\n",
       "            (frozenset({0, 3}), frozenset({1}), frozenset({2})),\n",
       "            (frozenset({2}), frozenset({0, 3}), frozenset({1})),\n",
       "            (frozenset({1}), frozenset({2}), frozenset({0, 3})),\n",
       "            (frozenset({0, 3}), frozenset({2}), frozenset({1}))}),\n",
       " frozenset({(frozenset(), frozenset({0, 1}), frozenset({2, 3})),\n",
       "            (frozenset(), frozenset({2, 3}), frozenset({0, 1})),\n",
       "            (frozenset({0, 1}), frozenset(), frozenset({2, 3})),\n",
       "            (frozenset({0, 1}), frozenset({2, 3}), frozenset()),\n",
       "            (frozenset({2, 3}), frozenset(), frozenset({0, 1})),\n",
       "            (frozenset({2, 3}), frozenset({0, 1}), frozenset())}),\n",
       " frozenset({(frozenset(), frozenset({0, 2, 3}), frozenset({1})),\n",
       "            (frozenset(), frozenset({1}), frozenset({0, 2, 3})),\n",
       "            (frozenset({0, 2, 3}), frozenset(), frozenset({1})),\n",
       "            (frozenset({0, 2, 3}), frozenset({1}), frozenset()),\n",
       "            (frozenset({1}), frozenset(), frozenset({0, 2, 3})),\n",
       "            (frozenset({1}), frozenset({0, 2, 3}), frozenset())}),\n",
       " frozenset({(frozenset({0}), frozenset({1}), frozenset({2, 3})),\n",
       "            (frozenset({0}), frozenset({2, 3}), frozenset({1})),\n",
       "            (frozenset({2, 3}), frozenset({0}), frozenset({1})),\n",
       "            (frozenset({1}), frozenset({2, 3}), frozenset({0})),\n",
       "            (frozenset({1}), frozenset({0}), frozenset({2, 3})),\n",
       "            (frozenset({2, 3}), frozenset({1}), frozenset({0}))}),\n",
       " frozenset({(frozenset({1, 3}), frozenset({2}), frozenset({0})),\n",
       "            (frozenset({2}), frozenset({0}), frozenset({1, 3})),\n",
       "            (frozenset({0}), frozenset({2}), frozenset({1, 3})),\n",
       "            (frozenset({2}), frozenset({1, 3}), frozenset({0})),\n",
       "            (frozenset({1, 3}), frozenset({0}), frozenset({2})),\n",
       "            (frozenset({0}), frozenset({1, 3}), frozenset({2}))}),\n",
       " frozenset({(frozenset({1, 2}), frozenset({0}), frozenset({3})),\n",
       "            (frozenset({1, 2}), frozenset({3}), frozenset({0})),\n",
       "            (frozenset({0}), frozenset({3}), frozenset({1, 2})),\n",
       "            (frozenset({3}), frozenset({0}), frozenset({1, 2})),\n",
       "            (frozenset({0}), frozenset({1, 2}), frozenset({3})),\n",
       "            (frozenset({3}), frozenset({1, 2}), frozenset({0}))})}"
      ]
     },
     "execution_count": 41,
     "metadata": {},
     "output_type": "execute_result"
    }
   ],
   "source": [
    "States = {\n",
    "    \n",
    "    frozenset( allTuples(x)) for x in Partitions\n",
    "    \n",
    "}\n",
    "\n",
    "States\n",
    "\n"
   ]
  },
  {
   "cell_type": "markdown",
   "metadata": {},
   "source": [
    "**Hinweis**:  Es gibt 360 verschiedene Zustände."
   ]
  },
  {
   "cell_type": "code",
   "execution_count": 40,
   "metadata": {},
   "outputs": [
    {
     "data": {
      "text/plain": [
       "14"
      ]
     },
     "execution_count": 40,
     "metadata": {},
     "output_type": "execute_result"
    }
   ],
   "source": [
    "len(States)"
   ]
  },
  {
   "cell_type": "markdown",
   "metadata": {},
   "source": [
    "**Aufgabe 4**: Berechnen Sie die Menge aller Transitionen, in denen die Lokomotive vom Gleis <b>A</b> über das westliche Gleis zum Gleis <b>C</b> fährt. \n",
    "\n",
    "<b>Hinweis</b>: Die Funktion $\\texttt{myReverse}$ dreht ein Tupel um."
   ]
  },
  {
   "cell_type": "code",
   "execution_count": null,
   "metadata": {},
   "outputs": [],
   "source": [
    "RacWest = \"your code here\"\n",
    "RacWest"
   ]
  },
  {
   "cell_type": "markdown",
   "metadata": {},
   "source": [
    "**Hinweis**: Es gibt 210 verschiedene Transitionen in der Menge `RacEast`."
   ]
  },
  {
   "cell_type": "code",
   "execution_count": null,
   "metadata": {},
   "outputs": [],
   "source": [
    "len(RacWest)"
   ]
  },
  {
   "cell_type": "markdown",
   "metadata": {},
   "source": [
    "**Aufgabe 5**: Berechnen Sie die Menge aller Transitionen, in denen die Lokomotive vom\n",
    "Gleis <b>A</b> über das östliche Gleis zum Gleis <b>C</b> fährt."
   ]
  },
  {
   "cell_type": "code",
   "execution_count": null,
   "metadata": {},
   "outputs": [],
   "source": [
    "RacEast = \"your code here\"\n",
    "RacEast"
   ]
  },
  {
   "cell_type": "markdown",
   "metadata": {},
   "source": [
    "Auch diese Menge enthält 210 Elemente."
   ]
  },
  {
   "cell_type": "code",
   "execution_count": null,
   "metadata": {},
   "outputs": [],
   "source": [
    "len(RacEast)"
   ]
  },
  {
   "cell_type": "code",
   "execution_count": null,
   "metadata": {},
   "outputs": [],
   "source": [
    "Rac = RacEast | RacWest"
   ]
  },
  {
   "cell_type": "code",
   "execution_count": null,
   "metadata": {},
   "outputs": [],
   "source": [
    "Rca = inverse(Rac)"
   ]
  },
  {
   "cell_type": "markdown",
   "metadata": {},
   "source": [
    "**Aufgabe 6**:\n",
    "Berechnen Sie die Menge aller Transitionen, in denen die Lokomotive vom Gleis <b>B</b> zum Gleis <b>C</b> fährt."
   ]
  },
  {
   "cell_type": "code",
   "execution_count": null,
   "metadata": {},
   "outputs": [],
   "source": [
    "Rbc = \"your code here\"\n",
    "Rbc"
   ]
  },
  {
   "cell_type": "markdown",
   "metadata": {},
   "source": [
    "Die Menge <tt>Rbc</tt> enthält 210 Elemente. "
   ]
  },
  {
   "cell_type": "code",
   "execution_count": null,
   "metadata": {},
   "outputs": [],
   "source": [
    "len(Rbc)"
   ]
  },
  {
   "cell_type": "code",
   "execution_count": null,
   "metadata": {},
   "outputs": [],
   "source": [
    "Rcb = inverse(Rbc)"
   ]
  },
  {
   "cell_type": "code",
   "execution_count": null,
   "metadata": {},
   "outputs": [],
   "source": [
    "R = \"your code here\"\n",
    "R"
   ]
  },
  {
   "cell_type": "markdown",
   "metadata": {},
   "source": [
    "Die Relation $R$ enthält 1140 verschiedene Elemente."
   ]
  },
  {
   "cell_type": "code",
   "execution_count": null,
   "metadata": {},
   "outputs": [],
   "source": [
    "len(R)"
   ]
  },
  {
   "cell_type": "code",
   "execution_count": null,
   "metadata": {},
   "outputs": [],
   "source": [
    "%%time\n",
    "start = ((1, 2, 3), (0,), ())\n",
    "goal  = ((), (0,), (3, 1, 2))\n",
    "Path  = search(R, start, goal)"
   ]
  },
  {
   "cell_type": "markdown",
   "metadata": {},
   "source": [
    "The tuple **<tt>Path</tt>** that is a solution to the shunting problem has a length of **13**.  If your path is shorter, then you have to inspect it **carefully** to identify the problem."
   ]
  },
  {
   "cell_type": "code",
   "execution_count": null,
   "metadata": {},
   "outputs": [],
   "source": [
    "len(Path)"
   ]
  },
  {
   "cell_type": "code",
   "execution_count": null,
   "metadata": {},
   "outputs": [],
   "source": [
    "printPath(Path)"
   ]
  },
  {
   "cell_type": "code",
   "execution_count": null,
   "metadata": {},
   "outputs": [],
   "source": []
  }
 ],
 "metadata": {
  "hide_input": false,
  "kernelspec": {
   "display_name": "Python 3",
   "language": "python",
   "name": "python3"
  },
  "language_info": {
   "codemirror_mode": {
    "name": "ipython",
    "version": 3
   },
   "file_extension": ".py",
   "mimetype": "text/x-python",
   "name": "python",
   "nbconvert_exporter": "python",
   "pygments_lexer": "ipython3",
   "version": "3.8.3"
  },
  "toc": {
   "base_numbering": 1,
   "nav_menu": {},
   "number_sections": true,
   "sideBar": true,
   "skip_h1_title": false,
   "title_cell": "Table of Contents",
   "title_sidebar": "Contents",
   "toc_cell": false,
   "toc_position": {},
   "toc_section_display": true,
   "toc_window_display": false
  },
  "varInspector": {
   "cols": {
    "lenName": 16,
    "lenType": 16,
    "lenVar": 40
   },
   "kernels_config": {
    "python": {
     "delete_cmd_postfix": "",
     "delete_cmd_prefix": "del ",
     "library": "var_list.py",
     "varRefreshCmd": "print(var_dic_list())"
    },
    "r": {
     "delete_cmd_postfix": ") ",
     "delete_cmd_prefix": "rm(",
     "library": "var_list.r",
     "varRefreshCmd": "cat(var_dic_list()) "
    }
   },
   "types_to_exclude": [
    "module",
    "function",
    "builtin_function_or_method",
    "instance",
    "_Feature"
   ],
   "window_display": false
  }
 },
 "nbformat": 4,
 "nbformat_minor": 2
}
