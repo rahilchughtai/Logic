{
 "cells": [
  {
   "cell_type": "code",
   "execution_count": 19,
   "metadata": {},
   "outputs": [
    {
     "data": {
      "text/html": [
       "<link href='http://fonts.googleapis.com/css?family=Alegreya+Sans:100,300,400,500,700,800,900,100italic,300italic,400italic,500italic,700italic,800italic,900italic' rel='stylesheet' type='text/css'>\n",
       "<link href='http://fonts.googleapis.com/css?family=Arvo:400,700,400italic' rel='stylesheet' type='text/css'>\n",
       "<link href='http://fonts.googleapis.com/css?family=PT+Mono' rel='stylesheet' type='text/css'>\n",
       "<link href='http://fonts.googleapis.com/css?family=Shadows+Into+Light' rel='stylesheet' type='text/css'>\n",
       "<link href='http://fonts.googleapis.com/css?family=Philosopher:400,700,400italic,700italic' rel='stylesheet' type='text/css'>\n",
       "\n",
       "<style>\n",
       "\n",
       "@font-face {\n",
       "    font-family: \"Computer Modern\";\n",
       "    src: url('http://mirrors.ctan.org/fonts/cm-unicode/fonts/otf/cmunss.otf');\n",
       "}\n",
       "\n",
       ".container { width: 100% }\n",
       "\n",
       "/* Formatting for header cells */\n",
       ".text_cell_render h1 {\n",
       "    font-family: 'Philosopher', sans-serif;\n",
       "    font-weight: 400;\n",
       "    font-size: 2.2em;\n",
       "    line-height: 100%;\n",
       "    color: rgb(0, 80, 120);\n",
       "    margin-bottom: 0.1em;\n",
       "    margin-top: 0.1em;\n",
       "    display: block;\n",
       "}\n",
       ".text_cell_render h2 {\n",
       "    font-family: 'Philosopher', serif;\n",
       "    font-weight: 400;\n",
       "    font-size: 1.9em;\n",
       "    line-height: 100%;\n",
       "    color: rgb(200,100,0);\n",
       "    margin-bottom: 0.1em;\n",
       "    margin-top: 0.1em;\n",
       "    display: block;\n",
       "}\n",
       "\n",
       ".text_cell_render h3 {\n",
       "    font-family: 'Philosopher', serif;\n",
       "    margin-top:12px;\n",
       "    margin-bottom: 3px;\n",
       "    font-style: italic;\n",
       "    color: rgb(94,127,192);\n",
       "}\n",
       "\n",
       ".text_cell_render h4 {\n",
       "    font-family: 'Philosopher', serif;\n",
       "}\n",
       "\n",
       ".text_cell_render h5 {\n",
       "    font-family: 'Alegreya Sans', sans-serif;\n",
       "    font-weight: 300;\n",
       "    font-size: 16pt;\n",
       "    color: grey;\n",
       "    font-style: italic;\n",
       "    margin-bottom: .1em;\n",
       "    margin-top: 0.1em;\n",
       "    display: block;\n",
       "}\n",
       "\n",
       ".text_cell_render h6 {\n",
       "    font-family: 'PT Mono', sans-serif;\n",
       "    font-weight: 300;\n",
       "    font-size: 10pt;\n",
       "    color: grey;\n",
       "    margin-bottom: 1px;\n",
       "    margin-top: 1px;\n",
       "}\n",
       "\n",
       ".text_cell_render em {\n",
       "    font-family: 'Philosopher', sans-serif;\n",
       "    color:        blue;\n",
       "    background-color: rgb(255,220,180);\n",
       "    font-size:    110%;\n",
       "    margin-left:   2px;\n",
       "    margin-right:  2px;\n",
       "    font-weight:   100;\n",
       "}\n",
       "\n",
       ".text_cell_render b {\n",
       "    color:            rgb(255,195,195);\n",
       "    background-color: rgb(0,0,0);\n",
       "    font-size:    110%;\n",
       "    margin-left:   2px;\n",
       "    margin-right:  2px;\n",
       "    font-weight:   650;\n",
       "}\n",
       "\n",
       ".text_cell_render tt {\n",
       "    font-size:    120%;\n",
       "    margin-left:   2px;\n",
       "    margin-right:  2px;\n",
       "    font-weight:   150;\n",
       "}\n",
       "\n",
       ".Codemirror {\n",
       "    font-family: \"PT Mono\";\n",
       "    font-size: 100%;\n",
       "}\n",
       "\n",
       "</style>\n",
       "\n"
      ],
      "text/plain": [
       "<IPython.core.display.HTML object>"
      ]
     },
     "execution_count": 19,
     "metadata": {},
     "output_type": "execute_result"
    }
   ],
   "source": [
    "from IPython.core.display import HTML\n",
    "with open('style.css', 'r') as file:\n",
    "    css = file.read()\n",
    "HTML(css)"
   ]
  },
  {
   "cell_type": "markdown",
   "metadata": {},
   "source": [
    "# Die Bekehrung der Ungläubigen"
   ]
  },
  {
   "cell_type": "markdown",
   "metadata": {},
   "source": [
    "Drei Missionare und drei Ungläubige wollen zusammen einen Fluss überqueren, denn die Ungläubigen sollen in der Kirche, die sich auf dem anderen Ufer befindet, getauft werden. Sie haben nur ein Boot, das Platz für **maximal zwei**  Passagiere bietet.  Sowohl die Ungläubigen als auch die Missionare können rudern.  Es ist zusätzlich bekannt, dass die Ungläubigen zum Kannibalismus neigen. Die Kannibalen sind hungrig, wenn die Missionare an einem der beiden Ufer in der Unterzahl sind, haben sie ein **Problem**.  Ihre Aufgabe besteht darin, einen Fahrplan zu erstellen, so dass einerseits alle Personen das andere Ufer erreichen und andererseits die Missionare zwischendurch kein Problem bekommen."
   ]
  },
  {
   "cell_type": "markdown",
   "metadata": {},
   "source": [
    "## Definition verschiedener Hilfsfunktionen"
   ]
  },
  {
   "cell_type": "markdown",
   "metadata": {},
   "source": [
    "Im Folgenden definieren wir einige Hilfsfunktionen, die wir auch schon bei der Lösung des *Wolf-Ziege-Kohl-Problems* verwendet haben."
   ]
  },
  {
   "cell_type": "code",
   "execution_count": null,
   "metadata": {},
   "outputs": [],
   "source": [
    "def tripleToStr(t):\n",
    "    return '(' + str(t[0]) + ',' + str(t[1]) + ',' + str(t[2]) + ')'"
   ]
  },
  {
   "cell_type": "code",
   "execution_count": 20,
   "metadata": {},
   "outputs": [],
   "source": [
    "import graphviz as gv"
   ]
  },
  {
   "cell_type": "code",
   "execution_count": 17,
   "metadata": {},
   "outputs": [],
   "source": [
    "%run Breadth-First-Search.ipynb"
   ]
  },
  {
   "cell_type": "markdown",
   "metadata": {},
   "source": [
    "Die einzelnen Zustände werden als Tripel der Form\n",
    "$$ \\langle m, k, b \\rangle $$\n",
    "dargestellt.  Dabei ist $m$ die Anzahl der Missionare am linken Ufer, $k$ ist die Anzahl der Kannibalen am linken Ufer und $b$ ist die Anzahl der Boote am linken Ufer."
   ]
  },
  {
   "cell_type": "markdown",
   "metadata": {},
   "source": [
    "Implementieren Sie eine Funktion <tt>problem</tt>, so dass der Aufruf $\\texttt{problem}(m, k)$ genau dann <tt>True</tt> als Ergebnis zurück liefert, wenn an einem Ufer mit $m$ Missionaren und $k$ Kannibalen für die Missionare ein Problem entsteht."
   ]
  },
  {
   "cell_type": "code",
   "execution_count": 48,
   "metadata": {},
   "outputs": [],
   "source": [
    "def problem(m, k):\n",
    "    '''\n",
    "    This function returns True if there is a problem on a shore that has \n",
    "    m missionaries and k cannibals.\n",
    "    '''\n",
    "    \n",
    "    return m < k and m != 0 \n",
    "    \n",
    "    "
   ]
  },
  {
   "cell_type": "code",
   "execution_count": 37,
   "metadata": {},
   "outputs": [
    {
     "data": {
      "text/plain": [
       "(False, False, True)"
      ]
     },
     "execution_count": 37,
     "metadata": {},
     "output_type": "execute_result"
    }
   ],
   "source": [
    "problem(3, 3), problem(2, 1), problem(1, 2)"
   ]
  },
  {
   "cell_type": "markdown",
   "metadata": {},
   "source": [
    "Berechnen Sie die Menge aller Zustände <tt>States</tt>, bei denen es keine Probleme gibt."
   ]
  },
  {
   "cell_type": "code",
   "execution_count": 51,
   "metadata": {},
   "outputs": [],
   "source": [
    "States = { (m,k,b) for m in range(0,3+1) for k in range (0,3+1) for b in {0,1}\n",
    "          if not problem(m,k) and not problem(3-m,3-k)\n",
    "         \n",
    "         \n",
    "         }"
   ]
  },
  {
   "cell_type": "markdown",
   "metadata": {},
   "source": [
    "Zur Kontrolle sollten Sie sich die einzelnen Zustände anschauen."
   ]
  },
  {
   "cell_type": "code",
   "execution_count": 52,
   "metadata": {},
   "outputs": [
    {
     "data": {
      "text/plain": [
       "[(0, 0, 0),\n",
       " (0, 0, 1),\n",
       " (0, 1, 0),\n",
       " (0, 1, 1),\n",
       " (0, 2, 0),\n",
       " (0, 2, 1),\n",
       " (0, 3, 0),\n",
       " (0, 3, 1),\n",
       " (1, 1, 0),\n",
       " (1, 1, 1),\n",
       " (2, 2, 0),\n",
       " (2, 2, 1),\n",
       " (3, 0, 0),\n",
       " (3, 0, 1),\n",
       " (3, 1, 0),\n",
       " (3, 1, 1),\n",
       " (3, 2, 0),\n",
       " (3, 2, 1),\n",
       " (3, 3, 0),\n",
       " (3, 3, 1)]"
      ]
     },
     "execution_count": 52,
     "metadata": {},
     "output_type": "execute_result"
    }
   ],
   "source": [
    "sorted(States)"
   ]
  },
  {
   "cell_type": "markdown",
   "metadata": {},
   "source": [
    "Wenn Sie alles richtig gemacht haben, dann hat die Menge <tt>States</tt> 20 verschiedene Elemente."
   ]
  },
  {
   "cell_type": "code",
   "execution_count": 53,
   "metadata": {},
   "outputs": [
    {
     "data": {
      "text/plain": [
       "20"
      ]
     },
     "execution_count": 53,
     "metadata": {},
     "output_type": "execute_result"
    }
   ],
   "source": [
    "len(States)"
   ]
  },
  {
   "cell_type": "markdown",
   "metadata": {},
   "source": [
    "<tt>R1</tt> ist die Relation, welche die Überfahrten vom linken Ufer zum rechten Ufer beschreibt."
   ]
  },
  {
   "cell_type": "code",
   "execution_count": 23,
   "metadata": {},
   "outputs": [
    {
     "ename": "TypeError",
     "evalue": "problem() missing 1 required positional argument: 'k'",
     "output_type": "error",
     "traceback": [
      "\u001b[1;31m---------------------------------------------------------------------------\u001b[0m",
      "\u001b[1;31mTypeError\u001b[0m                                 Traceback (most recent call last)",
      "\u001b[1;32m<ipython-input-23-f30eba4b9053>\u001b[0m in \u001b[0;36m<module>\u001b[1;34m\u001b[0m\n\u001b[0;32m      1\u001b[0m \u001b[0mtuples\u001b[0m \u001b[1;33m=\u001b[0m \u001b[1;33m{\u001b[0m \u001b[1;33m(\u001b[0m\u001b[0mm\u001b[0m\u001b[1;33m,\u001b[0m\u001b[0mk\u001b[0m\u001b[1;33m,\u001b[0m\u001b[0mb\u001b[0m\u001b[1;33m)\u001b[0m \u001b[1;32mfor\u001b[0m \u001b[0mm\u001b[0m \u001b[1;32min\u001b[0m \u001b[0mrange\u001b[0m\u001b[1;33m(\u001b[0m\u001b[1;36m0\u001b[0m\u001b[1;33m,\u001b[0m\u001b[1;36m3\u001b[0m\u001b[1;33m+\u001b[0m\u001b[1;36m1\u001b[0m\u001b[1;33m)\u001b[0m \u001b[1;32mfor\u001b[0m \u001b[0mk\u001b[0m \u001b[1;32min\u001b[0m \u001b[0mrange\u001b[0m \u001b[1;33m(\u001b[0m\u001b[1;36m0\u001b[0m\u001b[1;33m,\u001b[0m\u001b[1;36m3\u001b[0m\u001b[1;33m+\u001b[0m\u001b[1;36m1\u001b[0m\u001b[1;33m)\u001b[0m \u001b[1;32mfor\u001b[0m \u001b[0mb\u001b[0m \u001b[1;32min\u001b[0m \u001b[1;33m{\u001b[0m\u001b[1;36m0\u001b[0m\u001b[1;33m,\u001b[0m\u001b[1;36m1\u001b[0m\u001b[1;33m}\u001b[0m \u001b[1;33m}\u001b[0m\u001b[1;33m\u001b[0m\u001b[1;33m\u001b[0m\u001b[0m\n\u001b[0;32m      2\u001b[0m \u001b[1;33m\u001b[0m\u001b[0m\n\u001b[1;32m----> 3\u001b[1;33m R1 = { (S,B) for S in States for B in tuples if not problem(B) \n\u001b[0m\u001b[0;32m      4\u001b[0m \u001b[1;33m\u001b[0m\u001b[0m\n\u001b[0;32m      5\u001b[0m \u001b[1;33m\u001b[0m\u001b[0m\n",
      "\u001b[1;32m<ipython-input-23-f30eba4b9053>\u001b[0m in \u001b[0;36m<setcomp>\u001b[1;34m(.0)\u001b[0m\n\u001b[0;32m      1\u001b[0m \u001b[0mtuples\u001b[0m \u001b[1;33m=\u001b[0m \u001b[1;33m{\u001b[0m \u001b[1;33m(\u001b[0m\u001b[0mm\u001b[0m\u001b[1;33m,\u001b[0m\u001b[0mk\u001b[0m\u001b[1;33m,\u001b[0m\u001b[0mb\u001b[0m\u001b[1;33m)\u001b[0m \u001b[1;32mfor\u001b[0m \u001b[0mm\u001b[0m \u001b[1;32min\u001b[0m \u001b[0mrange\u001b[0m\u001b[1;33m(\u001b[0m\u001b[1;36m0\u001b[0m\u001b[1;33m,\u001b[0m\u001b[1;36m3\u001b[0m\u001b[1;33m+\u001b[0m\u001b[1;36m1\u001b[0m\u001b[1;33m)\u001b[0m \u001b[1;32mfor\u001b[0m \u001b[0mk\u001b[0m \u001b[1;32min\u001b[0m \u001b[0mrange\u001b[0m \u001b[1;33m(\u001b[0m\u001b[1;36m0\u001b[0m\u001b[1;33m,\u001b[0m\u001b[1;36m3\u001b[0m\u001b[1;33m+\u001b[0m\u001b[1;36m1\u001b[0m\u001b[1;33m)\u001b[0m \u001b[1;32mfor\u001b[0m \u001b[0mb\u001b[0m \u001b[1;32min\u001b[0m \u001b[1;33m{\u001b[0m\u001b[1;36m0\u001b[0m\u001b[1;33m,\u001b[0m\u001b[1;36m1\u001b[0m\u001b[1;33m}\u001b[0m \u001b[1;33m}\u001b[0m\u001b[1;33m\u001b[0m\u001b[1;33m\u001b[0m\u001b[0m\n\u001b[0;32m      2\u001b[0m \u001b[1;33m\u001b[0m\u001b[0m\n\u001b[1;32m----> 3\u001b[1;33m R1 = { (S,B) for S in States for B in tuples if not problem(B) \n\u001b[0m\u001b[0;32m      4\u001b[0m \u001b[1;33m\u001b[0m\u001b[0m\n\u001b[0;32m      5\u001b[0m \u001b[1;33m\u001b[0m\u001b[0m\n",
      "\u001b[1;31mTypeError\u001b[0m: problem() missing 1 required positional argument: 'k'"
     ]
    }
   ],
   "source": [
    "\n",
    "\n",
    "R1 = { (S,B) for S in States for B in tuples if not problem(B) \n",
    "      \n",
    "      \n",
    "     \n",
    "     }"
   ]
  },
  {
   "cell_type": "code",
   "execution_count": 41,
   "metadata": {},
   "outputs": [
    {
     "data": {
      "text/plain": [
       "{((0, 0, 0), (0, 0, 0)),\n",
       " ((0, 0, 0), (0, 0, 1)),\n",
       " ((0, 0, 0), (1, 0, 0)),\n",
       " ((0, 0, 0), (1, 0, 1)),\n",
       " ((0, 0, 0), (1, 1, 0)),\n",
       " ((0, 0, 0), (1, 1, 1)),\n",
       " ((0, 0, 0), (2, 0, 0)),\n",
       " ((0, 0, 0), (2, 0, 1)),\n",
       " ((0, 0, 0), (2, 1, 0)),\n",
       " ((0, 0, 0), (2, 1, 1)),\n",
       " ((0, 0, 0), (2, 2, 0)),\n",
       " ((0, 0, 0), (2, 2, 1)),\n",
       " ((0, 0, 0), (3, 0, 0)),\n",
       " ((0, 0, 0), (3, 0, 1)),\n",
       " ((0, 0, 0), (3, 1, 0)),\n",
       " ((0, 0, 0), (3, 1, 1)),\n",
       " ((0, 0, 0), (3, 2, 0)),\n",
       " ((0, 0, 0), (3, 2, 1)),\n",
       " ((0, 0, 0), (3, 3, 0)),\n",
       " ((0, 0, 0), (3, 3, 1)),\n",
       " ((0, 0, 1), (0, 0, 0)),\n",
       " ((0, 0, 1), (0, 0, 1)),\n",
       " ((0, 0, 1), (1, 0, 0)),\n",
       " ((0, 0, 1), (1, 0, 1)),\n",
       " ((0, 0, 1), (1, 1, 0)),\n",
       " ((0, 0, 1), (1, 1, 1)),\n",
       " ((0, 0, 1), (2, 0, 0)),\n",
       " ((0, 0, 1), (2, 0, 1)),\n",
       " ((0, 0, 1), (2, 1, 0)),\n",
       " ((0, 0, 1), (2, 1, 1)),\n",
       " ((0, 0, 1), (2, 2, 0)),\n",
       " ((0, 0, 1), (2, 2, 1)),\n",
       " ((0, 0, 1), (3, 0, 0)),\n",
       " ((0, 0, 1), (3, 0, 1)),\n",
       " ((0, 0, 1), (3, 1, 0)),\n",
       " ((0, 0, 1), (3, 1, 1)),\n",
       " ((0, 0, 1), (3, 2, 0)),\n",
       " ((0, 0, 1), (3, 2, 1)),\n",
       " ((0, 0, 1), (3, 3, 0)),\n",
       " ((0, 0, 1), (3, 3, 1)),\n",
       " ((1, 0, 0), (0, 0, 0)),\n",
       " ((1, 0, 0), (0, 0, 1)),\n",
       " ((1, 0, 0), (1, 0, 0)),\n",
       " ((1, 0, 0), (1, 0, 1)),\n",
       " ((1, 0, 0), (1, 1, 0)),\n",
       " ((1, 0, 0), (1, 1, 1)),\n",
       " ((1, 0, 0), (2, 0, 0)),\n",
       " ((1, 0, 0), (2, 0, 1)),\n",
       " ((1, 0, 0), (2, 1, 0)),\n",
       " ((1, 0, 0), (2, 1, 1)),\n",
       " ((1, 0, 0), (2, 2, 0)),\n",
       " ((1, 0, 0), (2, 2, 1)),\n",
       " ((1, 0, 0), (3, 0, 0)),\n",
       " ((1, 0, 0), (3, 0, 1)),\n",
       " ((1, 0, 0), (3, 1, 0)),\n",
       " ((1, 0, 0), (3, 1, 1)),\n",
       " ((1, 0, 0), (3, 2, 0)),\n",
       " ((1, 0, 0), (3, 2, 1)),\n",
       " ((1, 0, 0), (3, 3, 0)),\n",
       " ((1, 0, 0), (3, 3, 1)),\n",
       " ((1, 0, 1), (0, 0, 0)),\n",
       " ((1, 0, 1), (0, 0, 1)),\n",
       " ((1, 0, 1), (1, 0, 0)),\n",
       " ((1, 0, 1), (1, 0, 1)),\n",
       " ((1, 0, 1), (1, 1, 0)),\n",
       " ((1, 0, 1), (1, 1, 1)),\n",
       " ((1, 0, 1), (2, 0, 0)),\n",
       " ((1, 0, 1), (2, 0, 1)),\n",
       " ((1, 0, 1), (2, 1, 0)),\n",
       " ((1, 0, 1), (2, 1, 1)),\n",
       " ((1, 0, 1), (2, 2, 0)),\n",
       " ((1, 0, 1), (2, 2, 1)),\n",
       " ((1, 0, 1), (3, 0, 0)),\n",
       " ((1, 0, 1), (3, 0, 1)),\n",
       " ((1, 0, 1), (3, 1, 0)),\n",
       " ((1, 0, 1), (3, 1, 1)),\n",
       " ((1, 0, 1), (3, 2, 0)),\n",
       " ((1, 0, 1), (3, 2, 1)),\n",
       " ((1, 0, 1), (3, 3, 0)),\n",
       " ((1, 0, 1), (3, 3, 1)),\n",
       " ((1, 1, 0), (0, 0, 0)),\n",
       " ((1, 1, 0), (0, 0, 1)),\n",
       " ((1, 1, 0), (1, 0, 0)),\n",
       " ((1, 1, 0), (1, 0, 1)),\n",
       " ((1, 1, 0), (1, 1, 0)),\n",
       " ((1, 1, 0), (1, 1, 1)),\n",
       " ((1, 1, 0), (2, 0, 0)),\n",
       " ((1, 1, 0), (2, 0, 1)),\n",
       " ((1, 1, 0), (2, 1, 0)),\n",
       " ((1, 1, 0), (2, 1, 1)),\n",
       " ((1, 1, 0), (2, 2, 0)),\n",
       " ((1, 1, 0), (2, 2, 1)),\n",
       " ((1, 1, 0), (3, 0, 0)),\n",
       " ((1, 1, 0), (3, 0, 1)),\n",
       " ((1, 1, 0), (3, 1, 0)),\n",
       " ((1, 1, 0), (3, 1, 1)),\n",
       " ((1, 1, 0), (3, 2, 0)),\n",
       " ((1, 1, 0), (3, 2, 1)),\n",
       " ((1, 1, 0), (3, 3, 0)),\n",
       " ((1, 1, 0), (3, 3, 1)),\n",
       " ((1, 1, 1), (0, 0, 0)),\n",
       " ((1, 1, 1), (0, 0, 1)),\n",
       " ((1, 1, 1), (1, 0, 0)),\n",
       " ((1, 1, 1), (1, 0, 1)),\n",
       " ((1, 1, 1), (1, 1, 0)),\n",
       " ((1, 1, 1), (1, 1, 1)),\n",
       " ((1, 1, 1), (2, 0, 0)),\n",
       " ((1, 1, 1), (2, 0, 1)),\n",
       " ((1, 1, 1), (2, 1, 0)),\n",
       " ((1, 1, 1), (2, 1, 1)),\n",
       " ((1, 1, 1), (2, 2, 0)),\n",
       " ((1, 1, 1), (2, 2, 1)),\n",
       " ((1, 1, 1), (3, 0, 0)),\n",
       " ((1, 1, 1), (3, 0, 1)),\n",
       " ((1, 1, 1), (3, 1, 0)),\n",
       " ((1, 1, 1), (3, 1, 1)),\n",
       " ((1, 1, 1), (3, 2, 0)),\n",
       " ((1, 1, 1), (3, 2, 1)),\n",
       " ((1, 1, 1), (3, 3, 0)),\n",
       " ((1, 1, 1), (3, 3, 1)),\n",
       " ((2, 0, 0), (0, 0, 0)),\n",
       " ((2, 0, 0), (0, 0, 1)),\n",
       " ((2, 0, 0), (1, 0, 0)),\n",
       " ((2, 0, 0), (1, 0, 1)),\n",
       " ((2, 0, 0), (1, 1, 0)),\n",
       " ((2, 0, 0), (1, 1, 1)),\n",
       " ((2, 0, 0), (2, 0, 0)),\n",
       " ((2, 0, 0), (2, 0, 1)),\n",
       " ((2, 0, 0), (2, 1, 0)),\n",
       " ((2, 0, 0), (2, 1, 1)),\n",
       " ((2, 0, 0), (2, 2, 0)),\n",
       " ((2, 0, 0), (2, 2, 1)),\n",
       " ((2, 0, 0), (3, 0, 0)),\n",
       " ((2, 0, 0), (3, 0, 1)),\n",
       " ((2, 0, 0), (3, 1, 0)),\n",
       " ((2, 0, 0), (3, 1, 1)),\n",
       " ((2, 0, 0), (3, 2, 0)),\n",
       " ((2, 0, 0), (3, 2, 1)),\n",
       " ((2, 0, 0), (3, 3, 0)),\n",
       " ((2, 0, 0), (3, 3, 1)),\n",
       " ((2, 0, 1), (0, 0, 0)),\n",
       " ((2, 0, 1), (0, 0, 1)),\n",
       " ((2, 0, 1), (1, 0, 0)),\n",
       " ((2, 0, 1), (1, 0, 1)),\n",
       " ((2, 0, 1), (1, 1, 0)),\n",
       " ((2, 0, 1), (1, 1, 1)),\n",
       " ((2, 0, 1), (2, 0, 0)),\n",
       " ((2, 0, 1), (2, 0, 1)),\n",
       " ((2, 0, 1), (2, 1, 0)),\n",
       " ((2, 0, 1), (2, 1, 1)),\n",
       " ((2, 0, 1), (2, 2, 0)),\n",
       " ((2, 0, 1), (2, 2, 1)),\n",
       " ((2, 0, 1), (3, 0, 0)),\n",
       " ((2, 0, 1), (3, 0, 1)),\n",
       " ((2, 0, 1), (3, 1, 0)),\n",
       " ((2, 0, 1), (3, 1, 1)),\n",
       " ((2, 0, 1), (3, 2, 0)),\n",
       " ((2, 0, 1), (3, 2, 1)),\n",
       " ((2, 0, 1), (3, 3, 0)),\n",
       " ((2, 0, 1), (3, 3, 1)),\n",
       " ((2, 1, 0), (0, 0, 0)),\n",
       " ((2, 1, 0), (0, 0, 1)),\n",
       " ((2, 1, 0), (1, 0, 0)),\n",
       " ((2, 1, 0), (1, 0, 1)),\n",
       " ((2, 1, 0), (1, 1, 0)),\n",
       " ((2, 1, 0), (1, 1, 1)),\n",
       " ((2, 1, 0), (2, 0, 0)),\n",
       " ((2, 1, 0), (2, 0, 1)),\n",
       " ((2, 1, 0), (2, 1, 0)),\n",
       " ((2, 1, 0), (2, 1, 1)),\n",
       " ((2, 1, 0), (2, 2, 0)),\n",
       " ((2, 1, 0), (2, 2, 1)),\n",
       " ((2, 1, 0), (3, 0, 0)),\n",
       " ((2, 1, 0), (3, 0, 1)),\n",
       " ((2, 1, 0), (3, 1, 0)),\n",
       " ((2, 1, 0), (3, 1, 1)),\n",
       " ((2, 1, 0), (3, 2, 0)),\n",
       " ((2, 1, 0), (3, 2, 1)),\n",
       " ((2, 1, 0), (3, 3, 0)),\n",
       " ((2, 1, 0), (3, 3, 1)),\n",
       " ((2, 1, 1), (0, 0, 0)),\n",
       " ((2, 1, 1), (0, 0, 1)),\n",
       " ((2, 1, 1), (1, 0, 0)),\n",
       " ((2, 1, 1), (1, 0, 1)),\n",
       " ((2, 1, 1), (1, 1, 0)),\n",
       " ((2, 1, 1), (1, 1, 1)),\n",
       " ((2, 1, 1), (2, 0, 0)),\n",
       " ((2, 1, 1), (2, 0, 1)),\n",
       " ((2, 1, 1), (2, 1, 0)),\n",
       " ((2, 1, 1), (2, 1, 1)),\n",
       " ((2, 1, 1), (2, 2, 0)),\n",
       " ((2, 1, 1), (2, 2, 1)),\n",
       " ((2, 1, 1), (3, 0, 0)),\n",
       " ((2, 1, 1), (3, 0, 1)),\n",
       " ((2, 1, 1), (3, 1, 0)),\n",
       " ((2, 1, 1), (3, 1, 1)),\n",
       " ((2, 1, 1), (3, 2, 0)),\n",
       " ((2, 1, 1), (3, 2, 1)),\n",
       " ((2, 1, 1), (3, 3, 0)),\n",
       " ((2, 1, 1), (3, 3, 1)),\n",
       " ((2, 2, 0), (0, 0, 0)),\n",
       " ((2, 2, 0), (0, 0, 1)),\n",
       " ((2, 2, 0), (1, 0, 0)),\n",
       " ((2, 2, 0), (1, 0, 1)),\n",
       " ((2, 2, 0), (1, 1, 0)),\n",
       " ((2, 2, 0), (1, 1, 1)),\n",
       " ((2, 2, 0), (2, 0, 0)),\n",
       " ((2, 2, 0), (2, 0, 1)),\n",
       " ((2, 2, 0), (2, 1, 0)),\n",
       " ((2, 2, 0), (2, 1, 1)),\n",
       " ((2, 2, 0), (2, 2, 0)),\n",
       " ((2, 2, 0), (2, 2, 1)),\n",
       " ((2, 2, 0), (3, 0, 0)),\n",
       " ((2, 2, 0), (3, 0, 1)),\n",
       " ((2, 2, 0), (3, 1, 0)),\n",
       " ((2, 2, 0), (3, 1, 1)),\n",
       " ((2, 2, 0), (3, 2, 0)),\n",
       " ((2, 2, 0), (3, 2, 1)),\n",
       " ((2, 2, 0), (3, 3, 0)),\n",
       " ((2, 2, 0), (3, 3, 1)),\n",
       " ((2, 2, 1), (0, 0, 0)),\n",
       " ((2, 2, 1), (0, 0, 1)),\n",
       " ((2, 2, 1), (1, 0, 0)),\n",
       " ((2, 2, 1), (1, 0, 1)),\n",
       " ((2, 2, 1), (1, 1, 0)),\n",
       " ((2, 2, 1), (1, 1, 1)),\n",
       " ((2, 2, 1), (2, 0, 0)),\n",
       " ((2, 2, 1), (2, 0, 1)),\n",
       " ((2, 2, 1), (2, 1, 0)),\n",
       " ((2, 2, 1), (2, 1, 1)),\n",
       " ((2, 2, 1), (2, 2, 0)),\n",
       " ((2, 2, 1), (2, 2, 1)),\n",
       " ((2, 2, 1), (3, 0, 0)),\n",
       " ((2, 2, 1), (3, 0, 1)),\n",
       " ((2, 2, 1), (3, 1, 0)),\n",
       " ((2, 2, 1), (3, 1, 1)),\n",
       " ((2, 2, 1), (3, 2, 0)),\n",
       " ((2, 2, 1), (3, 2, 1)),\n",
       " ((2, 2, 1), (3, 3, 0)),\n",
       " ((2, 2, 1), (3, 3, 1)),\n",
       " ((3, 0, 0), (0, 0, 0)),\n",
       " ((3, 0, 0), (0, 0, 1)),\n",
       " ((3, 0, 0), (1, 0, 0)),\n",
       " ((3, 0, 0), (1, 0, 1)),\n",
       " ((3, 0, 0), (1, 1, 0)),\n",
       " ((3, 0, 0), (1, 1, 1)),\n",
       " ((3, 0, 0), (2, 0, 0)),\n",
       " ((3, 0, 0), (2, 0, 1)),\n",
       " ((3, 0, 0), (2, 1, 0)),\n",
       " ((3, 0, 0), (2, 1, 1)),\n",
       " ((3, 0, 0), (2, 2, 0)),\n",
       " ((3, 0, 0), (2, 2, 1)),\n",
       " ((3, 0, 0), (3, 0, 0)),\n",
       " ((3, 0, 0), (3, 0, 1)),\n",
       " ((3, 0, 0), (3, 1, 0)),\n",
       " ((3, 0, 0), (3, 1, 1)),\n",
       " ((3, 0, 0), (3, 2, 0)),\n",
       " ((3, 0, 0), (3, 2, 1)),\n",
       " ((3, 0, 0), (3, 3, 0)),\n",
       " ((3, 0, 0), (3, 3, 1)),\n",
       " ((3, 0, 1), (0, 0, 0)),\n",
       " ((3, 0, 1), (0, 0, 1)),\n",
       " ((3, 0, 1), (1, 0, 0)),\n",
       " ((3, 0, 1), (1, 0, 1)),\n",
       " ((3, 0, 1), (1, 1, 0)),\n",
       " ((3, 0, 1), (1, 1, 1)),\n",
       " ((3, 0, 1), (2, 0, 0)),\n",
       " ((3, 0, 1), (2, 0, 1)),\n",
       " ((3, 0, 1), (2, 1, 0)),\n",
       " ((3, 0, 1), (2, 1, 1)),\n",
       " ((3, 0, 1), (2, 2, 0)),\n",
       " ((3, 0, 1), (2, 2, 1)),\n",
       " ((3, 0, 1), (3, 0, 0)),\n",
       " ((3, 0, 1), (3, 0, 1)),\n",
       " ((3, 0, 1), (3, 1, 0)),\n",
       " ((3, 0, 1), (3, 1, 1)),\n",
       " ((3, 0, 1), (3, 2, 0)),\n",
       " ((3, 0, 1), (3, 2, 1)),\n",
       " ((3, 0, 1), (3, 3, 0)),\n",
       " ((3, 0, 1), (3, 3, 1)),\n",
       " ((3, 1, 0), (0, 0, 0)),\n",
       " ((3, 1, 0), (0, 0, 1)),\n",
       " ((3, 1, 0), (1, 0, 0)),\n",
       " ((3, 1, 0), (1, 0, 1)),\n",
       " ((3, 1, 0), (1, 1, 0)),\n",
       " ((3, 1, 0), (1, 1, 1)),\n",
       " ((3, 1, 0), (2, 0, 0)),\n",
       " ((3, 1, 0), (2, 0, 1)),\n",
       " ((3, 1, 0), (2, 1, 0)),\n",
       " ((3, 1, 0), (2, 1, 1)),\n",
       " ((3, 1, 0), (2, 2, 0)),\n",
       " ((3, 1, 0), (2, 2, 1)),\n",
       " ((3, 1, 0), (3, 0, 0)),\n",
       " ((3, 1, 0), (3, 0, 1)),\n",
       " ((3, 1, 0), (3, 1, 0)),\n",
       " ((3, 1, 0), (3, 1, 1)),\n",
       " ((3, 1, 0), (3, 2, 0)),\n",
       " ((3, 1, 0), (3, 2, 1)),\n",
       " ((3, 1, 0), (3, 3, 0)),\n",
       " ((3, 1, 0), (3, 3, 1)),\n",
       " ((3, 1, 1), (0, 0, 0)),\n",
       " ((3, 1, 1), (0, 0, 1)),\n",
       " ((3, 1, 1), (1, 0, 0)),\n",
       " ((3, 1, 1), (1, 0, 1)),\n",
       " ((3, 1, 1), (1, 1, 0)),\n",
       " ((3, 1, 1), (1, 1, 1)),\n",
       " ((3, 1, 1), (2, 0, 0)),\n",
       " ((3, 1, 1), (2, 0, 1)),\n",
       " ((3, 1, 1), (2, 1, 0)),\n",
       " ((3, 1, 1), (2, 1, 1)),\n",
       " ((3, 1, 1), (2, 2, 0)),\n",
       " ((3, 1, 1), (2, 2, 1)),\n",
       " ((3, 1, 1), (3, 0, 0)),\n",
       " ((3, 1, 1), (3, 0, 1)),\n",
       " ((3, 1, 1), (3, 1, 0)),\n",
       " ((3, 1, 1), (3, 1, 1)),\n",
       " ((3, 1, 1), (3, 2, 0)),\n",
       " ((3, 1, 1), (3, 2, 1)),\n",
       " ((3, 1, 1), (3, 3, 0)),\n",
       " ((3, 1, 1), (3, 3, 1)),\n",
       " ((3, 2, 0), (0, 0, 0)),\n",
       " ((3, 2, 0), (0, 0, 1)),\n",
       " ((3, 2, 0), (1, 0, 0)),\n",
       " ((3, 2, 0), (1, 0, 1)),\n",
       " ((3, 2, 0), (1, 1, 0)),\n",
       " ((3, 2, 0), (1, 1, 1)),\n",
       " ((3, 2, 0), (2, 0, 0)),\n",
       " ((3, 2, 0), (2, 0, 1)),\n",
       " ((3, 2, 0), (2, 1, 0)),\n",
       " ((3, 2, 0), (2, 1, 1)),\n",
       " ((3, 2, 0), (2, 2, 0)),\n",
       " ((3, 2, 0), (2, 2, 1)),\n",
       " ((3, 2, 0), (3, 0, 0)),\n",
       " ((3, 2, 0), (3, 0, 1)),\n",
       " ((3, 2, 0), (3, 1, 0)),\n",
       " ((3, 2, 0), (3, 1, 1)),\n",
       " ((3, 2, 0), (3, 2, 0)),\n",
       " ((3, 2, 0), (3, 2, 1)),\n",
       " ((3, 2, 0), (3, 3, 0)),\n",
       " ((3, 2, 0), (3, 3, 1)),\n",
       " ((3, 2, 1), (0, 0, 0)),\n",
       " ((3, 2, 1), (0, 0, 1)),\n",
       " ((3, 2, 1), (1, 0, 0)),\n",
       " ((3, 2, 1), (1, 0, 1)),\n",
       " ((3, 2, 1), (1, 1, 0)),\n",
       " ((3, 2, 1), (1, 1, 1)),\n",
       " ((3, 2, 1), (2, 0, 0)),\n",
       " ((3, 2, 1), (2, 0, 1)),\n",
       " ((3, 2, 1), (2, 1, 0)),\n",
       " ((3, 2, 1), (2, 1, 1)),\n",
       " ((3, 2, 1), (2, 2, 0)),\n",
       " ((3, 2, 1), (2, 2, 1)),\n",
       " ((3, 2, 1), (3, 0, 0)),\n",
       " ((3, 2, 1), (3, 0, 1)),\n",
       " ((3, 2, 1), (3, 1, 0)),\n",
       " ((3, 2, 1), (3, 1, 1)),\n",
       " ((3, 2, 1), (3, 2, 0)),\n",
       " ((3, 2, 1), (3, 2, 1)),\n",
       " ((3, 2, 1), (3, 3, 0)),\n",
       " ((3, 2, 1), (3, 3, 1)),\n",
       " ((3, 3, 0), (0, 0, 0)),\n",
       " ((3, 3, 0), (0, 0, 1)),\n",
       " ((3, 3, 0), (1, 0, 0)),\n",
       " ((3, 3, 0), (1, 0, 1)),\n",
       " ((3, 3, 0), (1, 1, 0)),\n",
       " ((3, 3, 0), (1, 1, 1)),\n",
       " ((3, 3, 0), (2, 0, 0)),\n",
       " ((3, 3, 0), (2, 0, 1)),\n",
       " ((3, 3, 0), (2, 1, 0)),\n",
       " ((3, 3, 0), (2, 1, 1)),\n",
       " ((3, 3, 0), (2, 2, 0)),\n",
       " ((3, 3, 0), (2, 2, 1)),\n",
       " ((3, 3, 0), (3, 0, 0)),\n",
       " ((3, 3, 0), (3, 0, 1)),\n",
       " ((3, 3, 0), (3, 1, 0)),\n",
       " ((3, 3, 0), (3, 1, 1)),\n",
       " ((3, 3, 0), (3, 2, 0)),\n",
       " ((3, 3, 0), (3, 2, 1)),\n",
       " ((3, 3, 0), (3, 3, 0)),\n",
       " ((3, 3, 0), (3, 3, 1)),\n",
       " ((3, 3, 1), (0, 0, 0)),\n",
       " ((3, 3, 1), (0, 0, 1)),\n",
       " ((3, 3, 1), (1, 0, 0)),\n",
       " ((3, 3, 1), (1, 0, 1)),\n",
       " ((3, 3, 1), (1, 1, 0)),\n",
       " ((3, 3, 1), (1, 1, 1)),\n",
       " ((3, 3, 1), (2, 0, 0)),\n",
       " ((3, 3, 1), (2, 0, 1)),\n",
       " ((3, 3, 1), (2, 1, 0)),\n",
       " ((3, 3, 1), (2, 1, 1)),\n",
       " ((3, 3, 1), (2, 2, 0)),\n",
       " ((3, 3, 1), (2, 2, 1)),\n",
       " ((3, 3, 1), (3, 0, 0)),\n",
       " ((3, 3, 1), (3, 0, 1)),\n",
       " ((3, 3, 1), (3, 1, 0)),\n",
       " ((3, 3, 1), (3, 1, 1)),\n",
       " ((3, 3, 1), (3, 2, 0)),\n",
       " ((3, 3, 1), (3, 2, 1)),\n",
       " ((3, 3, 1), (3, 3, 0)),\n",
       " ((3, 3, 1), (3, 3, 1))}"
      ]
     },
     "execution_count": 41,
     "metadata": {},
     "output_type": "execute_result"
    }
   ],
   "source": [
    "R1"
   ]
  },
  {
   "cell_type": "markdown",
   "metadata": {},
   "source": [
    "Die Relation <tt>R1</tt> enthält 17 Paare."
   ]
  },
  {
   "cell_type": "code",
   "execution_count": 40,
   "metadata": {},
   "outputs": [
    {
     "data": {
      "text/plain": [
       "400"
      ]
     },
     "execution_count": 40,
     "metadata": {},
     "output_type": "execute_result"
    }
   ],
   "source": [
    "len(R1)"
   ]
  },
  {
   "cell_type": "markdown",
   "metadata": {},
   "source": [
    "<tt>R2</tt> ist das Inverse der Relation <tt>R1</tt>."
   ]
  },
  {
   "cell_type": "code",
   "execution_count": null,
   "metadata": {},
   "outputs": [],
   "source": [
    "R2 = \"your code here\""
   ]
  },
  {
   "cell_type": "code",
   "execution_count": null,
   "metadata": {},
   "outputs": [],
   "source": [
    "R = R1 | R2 "
   ]
  },
  {
   "cell_type": "markdown",
   "metadata": {},
   "source": [
    "Wenn Sie sich die Relation <tt>R</tt> als Graph anschauen, dann sollten Sie sehen, dass Sie einen Pfad von dem Knoten <tt>(3,3,1)</tt> zu dem Knoten <tt>(0,0,0)</tt> finden können:"
   ]
  },
  {
   "cell_type": "code",
   "execution_count": null,
   "metadata": {},
   "outputs": [],
   "source": [
    "dot = dot_graph(R)\n",
    "dot"
   ]
  },
  {
   "cell_type": "markdown",
   "metadata": {},
   "source": [
    "Am Anfang sind alle links.  Das Ziel ist, dass am Ende aller rechts sind.  Links ist dann niemand mehr."
   ]
  },
  {
   "cell_type": "code",
   "execution_count": null,
   "metadata": {},
   "outputs": [],
   "source": [
    "start = \"your code here\"\n",
    "goal  = \"your code here\"\n",
    "Path  = search(R, start, goal)\n",
    "Path"
   ]
  },
  {
   "cell_type": "markdown",
   "metadata": {},
   "source": [
    "Wenn Sie die Lösung in lesbarer Form anschauen möchten, dann sollten Sie auch den untenstehenden Code ausführen."
   ]
  },
  {
   "cell_type": "markdown",
   "metadata": {},
   "source": [
    "## Hilfsfunktionen zum Ausdrucken der Lösung"
   ]
  },
  {
   "cell_type": "markdown",
   "metadata": {},
   "source": [
    "Die folgenden Funktionen drucken die Lösung etwas lesbarer aus."
   ]
  },
  {
   "cell_type": "code",
   "execution_count": null,
   "metadata": {},
   "outputs": [],
   "source": [
    "def printPath(path):\n",
    "    \"This prints the solution Path in a readable way.\"\n",
    "    print(\"Solution:\\n\")\n",
    "    for i in range(len(Path)-1):\n",
    "        m1, k1, b1 = path[i]\n",
    "        m2, k2, b2 = path[i+1]\n",
    "        printState(m1, k1, b1)\n",
    "        printBoat(m1, k1, b1, m2, k2, b2)\n",
    "    m, k, b = path[-1]\n",
    "    printState(m, k, b)"
   ]
  },
  {
   "cell_type": "code",
   "execution_count": null,
   "metadata": {},
   "outputs": [],
   "source": [
    "def printState(m, k, b):\n",
    "    \"\"\"\n",
    "    Die Prozedur printState(m, k, b) druckt den Zustand, bei dem\n",
    "    m Missionare, k Kannibalen und b Boote am linken Ufer sind.    \n",
    "    \"\"\"\n",
    "    print( fillCharsRight(m * \"M\", 6) + \n",
    "           fillCharsRight(k * \"K\", 6) + \n",
    "           fillCharsRight(b * \"B\", 3) + \"    |~~~~~|    \" + \n",
    "           fillCharsLeft((3 - m) * \"M\", 6) + \n",
    "           fillCharsLeft((3 - k) * \"K\", 6) + \n",
    "           fillCharsLeft((1 - b) * \"B\", 3) \n",
    "         )"
   ]
  },
  {
   "cell_type": "code",
   "execution_count": null,
   "metadata": {},
   "outputs": [],
   "source": [
    "def printBoat(m1, k1, b1, m2, k2, b2):\n",
    "    \"\"\"\n",
    "    Die Prozedur printBoat(m1, k1, b1, m2, k2, b2) druckt den Zustand des\n",
    "    Bootes, wenn der Zustand sich von [m1, k1, b1] zu [m2, k2, b2] ändert.\n",
    "    \"\"\"\n",
    "    if b1 == 1:\n",
    "        if m1 < m2:\n",
    "            print(\"Fehler in printBoat: negative Anzahl von Missionaren im Boot!\")\n",
    "            return\n",
    "        if k1 < k2:\n",
    "            print(\"Fehler in printBoat: negative Anzahl von Kannibalen im Boot!\")\n",
    "            return\n",
    "        print(19*\" \" + \"> \" + fillCharsBoth((m1-m2)*\"M\" + \" \" + (k1-k2)*\"K\", 3) + \" >\")\n",
    "    else:\n",
    "        if m1 > m2:\n",
    "            print(\"Fehler in printBoat: negative Anzahl von Missionaren im Boot!\")\n",
    "            return\n",
    "        if k1 > k2:\n",
    "            print(\"Fehler in printBoat: negative Anzahl von Kannibalen im Boot!\")\n",
    "            return\n",
    "        print(19*\" \" + \"< \" + fillCharsBoth((m2-m1)*\"M\" + \" \" + (k2-k1)*\"K\", 3) + \" <\")"
   ]
  },
  {
   "cell_type": "code",
   "execution_count": null,
   "metadata": {},
   "outputs": [],
   "source": [
    "def fillCharsLeft(x, n):\n",
    "    \"\"\"\n",
    "    Die Prozedur fillCharsLeft(x, n) wandelt x in einen String der Länge n um.\n",
    "    Dabei wird der String von links mit Leerzeichen aufgefüllt.\n",
    "    \"\"\"\n",
    "    s = x + \"\"\n",
    "    m = n - len(s)\n",
    "    return m * \" \" + s"
   ]
  },
  {
   "cell_type": "code",
   "execution_count": null,
   "metadata": {},
   "outputs": [],
   "source": [
    "def fillCharsRight(x, n):\n",
    "    \"\"\"\n",
    "    Die Prozedur fillCharsRight(x, n) wandelt x in einen String der Länge n um.\n",
    "    Dabei wird der String von rechts mit Leerzeichen aufgefüllt.\n",
    "    \"\"\"\n",
    "    s = x + \"\"\n",
    "    m = n - len(s)\n",
    "    return s + m * \" \""
   ]
  },
  {
   "cell_type": "code",
   "execution_count": null,
   "metadata": {},
   "outputs": [],
   "source": [
    "def fillCharsBoth(x, n):\n",
    "    \"\"\"\n",
    "    Die Prozedur fillCharsBoth(x, n) wandelt x in einen String der Länge n um.\n",
    "    Dabei wird der String von links und rechts mit Leerzeichen aufgefüllt.\n",
    "    \"\"\"\n",
    "    s  = x + \"\"\n",
    "    ml = (n     - len(s)) // 2\n",
    "    mr = (n + 1 - len(s)) // 2\n",
    "    return ml * \" \" + s + mr * \" \""
   ]
  },
  {
   "cell_type": "code",
   "execution_count": null,
   "metadata": {},
   "outputs": [],
   "source": [
    "printPath(Path)"
   ]
  },
  {
   "cell_type": "markdown",
   "metadata": {},
   "source": [
    "# Twin Prime Conjecture"
   ]
  },
  {
   "cell_type": "code",
   "execution_count": 14,
   "metadata": {},
   "outputs": [
    {
     "data": {
      "text/plain": [
       "False"
      ]
     },
     "execution_count": 14,
     "metadata": {},
     "output_type": "execute_result"
    }
   ],
   "source": [
    "def stops(function_f,input_a):\n",
    "    \"\"\"\n",
    "    solves the halting problem for function f with input a\n",
    "    if function terminates: return 1\n",
    "    if function diverges: return 0\n",
    "    \"\"\"\n",
    "\n",
    "def divisors(k):\n",
    "    return { t for t in range(1,k+1) if k%t==0}\n",
    "\n",
    "def is_prime(k):\n",
    "    return divisors(k)=={1,k}\n",
    "\n",
    "\n",
    "\n",
    "def search_twin(n):\n",
    "    i=n\n",
    "    while True:\n",
    "        p=i\n",
    "        p2=p+2\n",
    "        if is_prime(p) and is_prime(p2):\n",
    "            return p2\n",
    "        else:\n",
    "            i+=1\n",
    "            \n",
    "def twin_prime(n):\n",
    "    while True:\n",
    "        check=stops(search_twin, n)\n",
    "        if check==1:\n",
    "            n=search_twin(n)+1\n",
    "        else:\n",
    "            return False\n",
    "        \n",
    "def check_twin_prime_conjecture(n):\n",
    "    if stops(twin_prime(),n)==1:\n",
    "        return False\n",
    "    else:\n",
    "        return True\n",
    "\n",
    "      \n",
    "\n",
    "\n",
    "\n",
    "\n",
    "\n",
    "\n",
    "\n",
    "    "
   ]
  }
 ],
 "metadata": {
  "kernelspec": {
   "display_name": "Python 3",
   "language": "python",
   "name": "python3"
  },
  "language_info": {
   "codemirror_mode": {
    "name": "ipython",
    "version": 3
   },
   "file_extension": ".py",
   "mimetype": "text/x-python",
   "name": "python",
   "nbconvert_exporter": "python",
   "pygments_lexer": "ipython3",
   "version": "3.8.3"
  },
  "toc": {
   "base_numbering": 1,
   "nav_menu": {},
   "number_sections": true,
   "sideBar": true,
   "skip_h1_title": false,
   "title_cell": "Table of Contents",
   "title_sidebar": "Contents",
   "toc_cell": false,
   "toc_position": {},
   "toc_section_display": true,
   "toc_window_display": false
  },
  "varInspector": {
   "cols": {
    "lenName": 16,
    "lenType": 16,
    "lenVar": 40
   },
   "kernels_config": {
    "python": {
     "delete_cmd_postfix": "",
     "delete_cmd_prefix": "del ",
     "library": "var_list.py",
     "varRefreshCmd": "print(var_dic_list())"
    },
    "r": {
     "delete_cmd_postfix": ") ",
     "delete_cmd_prefix": "rm(",
     "library": "var_list.r",
     "varRefreshCmd": "cat(var_dic_list()) "
    }
   },
   "types_to_exclude": [
    "module",
    "function",
    "builtin_function_or_method",
    "instance",
    "_Feature"
   ],
   "window_display": false
  }
 },
 "nbformat": 4,
 "nbformat_minor": 2
}
