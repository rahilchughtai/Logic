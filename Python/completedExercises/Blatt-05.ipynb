{
 "cells": [
  {
   "cell_type": "code",
   "execution_count": 1,
   "metadata": {},
   "outputs": [
    {
     "data": {
      "text/html": [
       "<link href='http://fonts.googleapis.com/css?family=Alegreya+Sans:100,300,400,500,700,800,900,100italic,300italic,400italic,500italic,700italic,800italic,900italic' rel='stylesheet' type='text/css'>\n",
       "<link href='http://fonts.googleapis.com/css?family=Arvo:400,700,400italic' rel='stylesheet' type='text/css'>\n",
       "<link href='http://fonts.googleapis.com/css?family=PT+Mono' rel='stylesheet' type='text/css'>\n",
       "<link href='http://fonts.googleapis.com/css?family=Shadows+Into+Light' rel='stylesheet' type='text/css'>\n",
       "<link href='http://fonts.googleapis.com/css?family=Philosopher:400,700,400italic,700italic' rel='stylesheet' type='text/css'>\n",
       "\n",
       "<style>\n",
       "\n",
       "@font-face {\n",
       "    font-family: \"Computer Modern\";\n",
       "    src: url('http://mirrors.ctan.org/fonts/cm-unicode/fonts/otf/cmunss.otf');\n",
       "}\n",
       "\n",
       ".container { width: 100% }\n",
       "\n",
       "/* Formatting for header cells */\n",
       ".text_cell_render h1 {\n",
       "    font-family: 'Philosopher', sans-serif;\n",
       "    font-weight: 400;\n",
       "    font-size: 2.2em;\n",
       "    line-height: 100%;\n",
       "    color: rgb(0, 80, 120);\n",
       "    margin-bottom: 0.1em;\n",
       "    margin-top: 0.1em;\n",
       "    display: block;\n",
       "}\n",
       ".text_cell_render h2 {\n",
       "    font-family: 'Philosopher', serif;\n",
       "    font-weight: 400;\n",
       "    font-size: 1.9em;\n",
       "    line-height: 100%;\n",
       "    color: rgb(200,100,0);\n",
       "    margin-bottom: 0.1em;\n",
       "    margin-top: 0.1em;\n",
       "    display: block;\n",
       "}\n",
       "\n",
       ".text_cell_render h3 {\n",
       "    font-family: 'Philosopher', serif;\n",
       "    margin-top:12px;\n",
       "    margin-bottom: 3px;\n",
       "    font-style: italic;\n",
       "    color: rgb(94,127,192);\n",
       "}\n",
       "\n",
       ".text_cell_render h4 {\n",
       "    font-family: 'Philosopher', serif;\n",
       "}\n",
       "\n",
       ".text_cell_render h5 {\n",
       "    font-family: 'Alegreya Sans', sans-serif;\n",
       "    font-weight: 300;\n",
       "    font-size: 16pt;\n",
       "    color: grey;\n",
       "    font-style: italic;\n",
       "    margin-bottom: .1em;\n",
       "    margin-top: 0.1em;\n",
       "    display: block;\n",
       "}\n",
       "\n",
       ".text_cell_render h6 {\n",
       "    font-family: 'PT Mono', sans-serif;\n",
       "    font-weight: 300;\n",
       "    font-size: 10pt;\n",
       "    color: grey;\n",
       "    margin-bottom: 1px;\n",
       "    margin-top: 1px;\n",
       "}\n",
       "\n",
       ".text_cell_render em {\n",
       "    font-family: 'Philosopher', sans-serif;\n",
       "    color:        blue;\n",
       "    background-color: rgb(255,220,180);\n",
       "    font-size:    110%;\n",
       "    margin-left:   2px;\n",
       "    margin-right:  2px;\n",
       "    font-weight:   100;\n",
       "}\n",
       "\n",
       ".text_cell_render b {\n",
       "    color:            rgb(255,195,195);\n",
       "    background-color: rgb(0,0,0);\n",
       "    font-size:    110%;\n",
       "    margin-left:   2px;\n",
       "    margin-right:  2px;\n",
       "    font-weight:   650;\n",
       "}\n",
       "\n",
       ".text_cell_render tt {\n",
       "    font-size:    120%;\n",
       "    margin-left:   2px;\n",
       "    margin-right:  2px;\n",
       "    font-weight:   150;\n",
       "}\n",
       "\n",
       ".Codemirror {\n",
       "    font-family: \"PT Mono\";\n",
       "    font-size: 100%;\n",
       "}\n",
       "\n",
       "</style>\n",
       "\n"
      ],
      "text/plain": [
       "<IPython.core.display.HTML object>"
      ]
     },
     "execution_count": 1,
     "metadata": {},
     "output_type": "execute_result"
    }
   ],
   "source": [
    "from IPython.core.display import HTML\n",
    "with open ('style.css', 'r') as file:\n",
    "    css = file.read()\n",
    "HTML(css)"
   ]
  },
  {
   "cell_type": "markdown",
   "metadata": {},
   "source": [
    "# Ein Rangier-Problem"
   ]
  },
  {
   "cell_type": "markdown",
   "metadata": {},
   "source": [
    "<img src=\"rangierProblem.png\">"
   ]
  },
  {
   "cell_type": "markdown",
   "metadata": {},
   "source": [
    "Die obige Abbildung zeigt ein *Rangier-Problem*: Auf dem Gleis-Abschnitt <strong>A</strong> befinden sich drei Waggons, die wir mit den Ziffern 1, 2, 3 bezeichnen.  Auf dem Gleisabschnitt <strong>B</strong> befindet sich eine Lokomotive, die wir mit der Ziffer 0 bezeichnen.   Ziel ist es, die Waggons in der Reihenfolge 3, 1, 2 auf dem Gleis-Abschnitt <strong>C</strong> abzustellen.  Die Lokomotive soll am Schluss wieder auf den Gleis-Abschnitt <strong>B</strong> zurückfahren.  Die Lokomotive kann die Waggons in beliebiger Reihenfolge an und abkoppeln.  Beim Rangieren ist es erlaubt, dass die Lokomotive gleichzeitig Waggons vorne und hinten anhängt.  Eine Konstellation der Form <tt>[1,2,0,3]</tt>, bei der die Lokomotive zwei Waggons zieht und einen Waggon schiebt, (oder umgekehrt, je nach dem, in welche Richtung sie fährt) ist also möglich."
   ]
  },
  {
   "cell_type": "markdown",
   "metadata": {},
   "source": [
    "## Funktionen zum Ausdrucken der Lösung"
   ]
  },
  {
   "cell_type": "markdown",
   "metadata": {},
   "source": [
    "Die folgenden beiden Funktionen dienen nur dazu, die Lösung etwas lesbarer auszudrucken."
   ]
  },
  {
   "cell_type": "code",
   "execution_count": 2,
   "metadata": {},
   "outputs": [],
   "source": [
    "def printState(A, B, C):\n",
    "    \"print a given state\"\n",
    "    print('A: ', list(A), '; B: ', list(B), '; C: ', list(C), sep='')"
   ]
  },
  {
   "cell_type": "code",
   "execution_count": 3,
   "metadata": {},
   "outputs": [],
   "source": [
    "def printPath(Path):\n",
    "    \"print the given Path\"\n",
    "    print(\"Solution:\\n\")\n",
    "    for (A, B, C) in Path:\n",
    "        printState(A, B, C)"
   ]
  },
  {
   "cell_type": "markdown",
   "metadata": {},
   "source": [
    "## Hilfsfunktionen"
   ]
  },
  {
   "cell_type": "markdown",
   "metadata": {},
   "source": [
    "**Aufgabe 1**: Definieren Sie eine Funktion $\\texttt{allTuples}(S)$, so dass für eine Menge $S$ der Aufruf $\\texttt{allTuples}(S)$\n",
    "die Menge aller der Tupel berechnet, die jedes Element von $S$ genau einmal enthalten.  Beispielsweise soll der Aufruf\n",
    "$$ \\texttt{allTuples}(\\{1,2,3\\}) $$\n",
    "die folgende Menge als Ergebnis zurück liefern:\n",
    "$$ \\bigl\\{(1, 2, 3), (1, 3, 2), (2, 1, 3), (2, 3, 1), (3, 1, 2), (3, 2, 1)\\bigr\\} $$\n",
    "**Hinweis**: Versuchen Sie, diese Funktion rekursiv zu definieren."
   ]
  },
  {
   "cell_type": "code",
   "execution_count": 4,
   "metadata": {},
   "outputs": [],
   "source": [
    "def allTuples(S):\n",
    "    '''\n",
    "    Given a set S this function returns the set of all tuples that contain each element\n",
    "    of S exactly once.\n",
    "    '''\n",
    "    n = len(S)\n",
    "    if n == 0:\n",
    "        return { () }\n",
    "    T = set(S)\n",
    "    x = T.pop()\n",
    "    return { t[:k] + (x,) + t[k:] for k in range(n) for t in allTuples(T) }"
   ]
  },
  {
   "cell_type": "code",
   "execution_count": 5,
   "metadata": {},
   "outputs": [
    {
     "data": {
      "text/plain": [
       "{(1, 2, 3), (1, 3, 2), (2, 1, 3), (2, 3, 1), (3, 1, 2), (3, 2, 1)}"
      ]
     },
     "execution_count": 5,
     "metadata": {},
     "output_type": "execute_result"
    }
   ],
   "source": [
    "allTuples({1,2,3})"
   ]
  },
  {
   "cell_type": "markdown",
   "metadata": {},
   "source": [
    "Die Funktion $\\texttt{power}(M)$ berechnet für eine Menge $M$ die Potenz-Menge $2^M$."
   ]
  },
  {
   "cell_type": "code",
   "execution_count": 6,
   "metadata": {},
   "outputs": [],
   "source": [
    "def power(M):\n",
    "    'This function computes the power set of the set M.'\n",
    "    if M == set():\n",
    "        return { frozenset() }\n",
    "    else:\n",
    "        C  = set(M)  # C is a copy of M as we don't want to change the set M\n",
    "        x  = C.pop() # pop removes the element x from the set C\n",
    "        P1 = power(C)\n",
    "        P2 = { A | {x} for A in P1 }\n",
    "        return P1 | P2"
   ]
  },
  {
   "cell_type": "markdown",
   "metadata": {},
   "source": [
    "Die Funktion $\\texttt{inverse}(R)$ berechnet das Inverse der Relation $R$."
   ]
  },
  {
   "cell_type": "code",
   "execution_count": 7,
   "metadata": {},
   "outputs": [],
   "source": [
    "def inverse(R):\n",
    "    'return the inverse of the relation R'\n",
    "    return { (y, x) for (x, y) in R }"
   ]
  },
  {
   "cell_type": "markdown",
   "metadata": {},
   "source": [
    "Die Funktion $\\texttt{myReverse}(L)$ dreht die Reihenfolge der Elemente in dem Tupel $L$ um.\n",
    "Versuchen Sie eine rekursive Implementierung."
   ]
  },
  {
   "cell_type": "code",
   "execution_count": 8,
   "metadata": {},
   "outputs": [],
   "source": [
    "def myReverse(L):\n",
    "    'return the reverse of the tuple L'\n",
    "    n = len(L)\n",
    "    if n == 0:\n",
    "        return ()\n",
    "    return (L[-1],) + myReverse(L[:-1])"
   ]
  },
  {
   "cell_type": "code",
   "execution_count": 9,
   "metadata": {},
   "outputs": [
    {
     "data": {
      "text/plain": [
       "(3, 2, 1)"
      ]
     },
     "execution_count": 9,
     "metadata": {},
     "output_type": "execute_result"
    }
   ],
   "source": [
    "myReverse((1,2,3))"
   ]
  },
  {
   "cell_type": "code",
   "execution_count": 10,
   "metadata": {},
   "outputs": [],
   "source": [
    "%run Breadth-First-Search.ipynb"
   ]
  },
  {
   "cell_type": "markdown",
   "metadata": {},
   "source": [
    "## Problemspezifischer Code"
   ]
  },
  {
   "cell_type": "markdown",
   "metadata": {},
   "source": [
    "Wir stellen die Waggons durch die Ziffern 1, 2 und 3 dar, die Lokomotive wird durch 0 dargestellt.  Zustände werden durch Tupel dargestellt.  Beispielsweise wird der Start-Zustand durch das Tupel\n",
    "$$ \\bigl\\langle\\langle 1,2,3 \\rangle, \\langle 0 \\rangle, \\langle\\rangle\\bigr\\rangle $$\n",
    "dargestellt, denn auf dem Gleis <b>A</b> stehen die Waggons 1, 2, 3, die Lokomotive steht auf dem Gleis <b>B</b> und das Gleis <b>C</b> ist leer."
   ]
  },
  {
   "cell_type": "code",
   "execution_count": 11,
   "metadata": {},
   "outputs": [],
   "source": [
    "All = { 0, 1, 2, 3 }\n",
    "\n",
    "\n"
   ]
  },
  {
   "cell_type": "code",
   "execution_count": 12,
   "metadata": {},
   "outputs": [
    {
     "data": {
      "text/plain": [
       "{frozenset(),\n",
       " frozenset({2}),\n",
       " frozenset({3}),\n",
       " frozenset({2, 3}),\n",
       " frozenset({0, 2, 3}),\n",
       " frozenset({1}),\n",
       " frozenset({1, 2}),\n",
       " frozenset({1, 3}),\n",
       " frozenset({1, 2, 3}),\n",
       " frozenset({0}),\n",
       " frozenset({0, 1}),\n",
       " frozenset({0, 2}),\n",
       " frozenset({0, 1, 2}),\n",
       " frozenset({0, 3}),\n",
       " frozenset({0, 1, 3}),\n",
       " frozenset({0, 1, 2, 3})}"
      ]
     },
     "execution_count": 12,
     "metadata": {},
     "output_type": "execute_result"
    }
   ],
   "source": [
    "PowerAll = power(All)\n",
    "PowerAll"
   ]
  },
  {
   "cell_type": "markdown",
   "metadata": {},
   "source": [
    "**Aufgabe 2**: Definieren Sie die Menge $\\texttt{Partitions}$ so, dass diese Menge alle Tripel der Form\n",
    "$$ \\langle A, B, C \\rangle $$\n",
    "enthält, für welche die Menge $\\{ A, B, C \\}$ eine <em style=\"color:blue\">Partition</em> der Menge $\\{0,1,2,3\\}$ ist.\n",
    "<ol> \n",
    "<li><b>Hinweis</b>: Die Menge $\\{ A, B, C \\}$ ist genau dann eine Partition einer Menge $S$, \n",
    "    wenn $A$, $B$ und $C$ Mengen sind, so dass gilt:\n",
    "    $$A \\cup B \\cup C = S \\quad\\mbox{und}\\quad \n",
    "      A \\cap B = \\{\\}, \\quad A \\cap C = \\{\\} \\quad \\mbox{und} \\quad B \\cap C = \\{\\}.\n",
    "    $$  \n",
    "    </li>\n",
    "<li><b>Hinweis</b>:  Die Menge $$\\{0,1,2,3\\} \\quad \\mbox{hat 81 Partitionen der Form}\\quad \\langle A, B, C \\rangle.$$\n",
    "    </li>\n",
    "<ol>"
   ]
  },
  {
   "cell_type": "code",
   "execution_count": 13,
   "metadata": {},
   "outputs": [],
   "source": [
    "Partitions = {  (A,B,C) for A in PowerAll for B in PowerAll for C in PowerAll\n",
    "                if A | B | C == All and A & B == set() and A & C == set() and B&C == set()\n",
    "                                  \n",
    "             }"
   ]
  },
  {
   "cell_type": "code",
   "execution_count": null,
   "metadata": {},
   "outputs": [],
   "source": []
  },
  {
   "cell_type": "markdown",
   "metadata": {},
   "source": [
    "**Aufgabe 3**: Wir stellen Zustände durch Tupel der Form\n",
    "$$ \\langle LA, LB, LC \\rangle $$\n",
    "dar.  Dabei ist $LA$ das Tupel der Waggons auf dem Gleis A, $LB$ ist das Tupel der\n",
    "Waggons auf dem Gleis $B$ und $LC$ ist das Tupel der Waggons auf dem Gleis C.\n",
    "Berechnen Sie die Menge aller Zustände."
   ]
  },
  {
   "cell_type": "code",
   "execution_count": 15,
   "metadata": {},
   "outputs": [
    {
     "data": {
      "text/plain": [
       "{((), (), (0, 1, 2, 3)),\n",
       " ((), (), (0, 1, 3, 2)),\n",
       " ((), (), (0, 2, 1, 3)),\n",
       " ((), (), (0, 2, 3, 1)),\n",
       " ((), (), (0, 3, 1, 2)),\n",
       " ((), (), (0, 3, 2, 1)),\n",
       " ((), (), (1, 0, 2, 3)),\n",
       " ((), (), (1, 0, 3, 2)),\n",
       " ((), (), (1, 2, 0, 3)),\n",
       " ((), (), (1, 2, 3, 0)),\n",
       " ((), (), (1, 3, 0, 2)),\n",
       " ((), (), (1, 3, 2, 0)),\n",
       " ((), (), (2, 0, 1, 3)),\n",
       " ((), (), (2, 0, 3, 1)),\n",
       " ((), (), (2, 1, 0, 3)),\n",
       " ((), (), (2, 1, 3, 0)),\n",
       " ((), (), (2, 3, 0, 1)),\n",
       " ((), (), (2, 3, 1, 0)),\n",
       " ((), (), (3, 0, 1, 2)),\n",
       " ((), (), (3, 0, 2, 1)),\n",
       " ((), (), (3, 1, 0, 2)),\n",
       " ((), (), (3, 1, 2, 0)),\n",
       " ((), (), (3, 2, 0, 1)),\n",
       " ((), (), (3, 2, 1, 0)),\n",
       " ((), (0,), (1, 2, 3)),\n",
       " ((), (0,), (1, 3, 2)),\n",
       " ((), (0,), (2, 1, 3)),\n",
       " ((), (0,), (2, 3, 1)),\n",
       " ((), (0,), (3, 1, 2)),\n",
       " ((), (0,), (3, 2, 1)),\n",
       " ((), (0, 1), (2, 3)),\n",
       " ((), (0, 1), (3, 2)),\n",
       " ((), (0, 1, 2), (3,)),\n",
       " ((), (0, 1, 2, 3), ()),\n",
       " ((), (0, 1, 3), (2,)),\n",
       " ((), (0, 1, 3, 2), ()),\n",
       " ((), (0, 2), (1, 3)),\n",
       " ((), (0, 2), (3, 1)),\n",
       " ((), (0, 2, 1), (3,)),\n",
       " ((), (0, 2, 1, 3), ()),\n",
       " ((), (0, 2, 3), (1,)),\n",
       " ((), (0, 2, 3, 1), ()),\n",
       " ((), (0, 3), (1, 2)),\n",
       " ((), (0, 3), (2, 1)),\n",
       " ((), (0, 3, 1), (2,)),\n",
       " ((), (0, 3, 1, 2), ()),\n",
       " ((), (0, 3, 2), (1,)),\n",
       " ((), (0, 3, 2, 1), ()),\n",
       " ((), (1,), (0, 2, 3)),\n",
       " ((), (1,), (0, 3, 2)),\n",
       " ((), (1,), (2, 0, 3)),\n",
       " ((), (1,), (2, 3, 0)),\n",
       " ((), (1,), (3, 0, 2)),\n",
       " ((), (1,), (3, 2, 0)),\n",
       " ((), (1, 0), (2, 3)),\n",
       " ((), (1, 0), (3, 2)),\n",
       " ((), (1, 0, 2), (3,)),\n",
       " ((), (1, 0, 2, 3), ()),\n",
       " ((), (1, 0, 3), (2,)),\n",
       " ((), (1, 0, 3, 2), ()),\n",
       " ((), (1, 2), (0, 3)),\n",
       " ((), (1, 2), (3, 0)),\n",
       " ((), (1, 2, 0), (3,)),\n",
       " ((), (1, 2, 0, 3), ()),\n",
       " ((), (1, 2, 3), (0,)),\n",
       " ((), (1, 2, 3, 0), ()),\n",
       " ((), (1, 3), (0, 2)),\n",
       " ((), (1, 3), (2, 0)),\n",
       " ((), (1, 3, 0), (2,)),\n",
       " ((), (1, 3, 0, 2), ()),\n",
       " ((), (1, 3, 2), (0,)),\n",
       " ((), (1, 3, 2, 0), ()),\n",
       " ((), (2,), (0, 1, 3)),\n",
       " ((), (2,), (0, 3, 1)),\n",
       " ((), (2,), (1, 0, 3)),\n",
       " ((), (2,), (1, 3, 0)),\n",
       " ((), (2,), (3, 0, 1)),\n",
       " ((), (2,), (3, 1, 0)),\n",
       " ((), (2, 0), (1, 3)),\n",
       " ((), (2, 0), (3, 1)),\n",
       " ((), (2, 0, 1), (3,)),\n",
       " ((), (2, 0, 1, 3), ()),\n",
       " ((), (2, 0, 3), (1,)),\n",
       " ((), (2, 0, 3, 1), ()),\n",
       " ((), (2, 1), (0, 3)),\n",
       " ((), (2, 1), (3, 0)),\n",
       " ((), (2, 1, 0), (3,)),\n",
       " ((), (2, 1, 0, 3), ()),\n",
       " ((), (2, 1, 3), (0,)),\n",
       " ((), (2, 1, 3, 0), ()),\n",
       " ((), (2, 3), (0, 1)),\n",
       " ((), (2, 3), (1, 0)),\n",
       " ((), (2, 3, 0), (1,)),\n",
       " ((), (2, 3, 0, 1), ()),\n",
       " ((), (2, 3, 1), (0,)),\n",
       " ((), (2, 3, 1, 0), ()),\n",
       " ((), (3,), (0, 1, 2)),\n",
       " ((), (3,), (0, 2, 1)),\n",
       " ((), (3,), (1, 0, 2)),\n",
       " ((), (3,), (1, 2, 0)),\n",
       " ((), (3,), (2, 0, 1)),\n",
       " ((), (3,), (2, 1, 0)),\n",
       " ((), (3, 0), (1, 2)),\n",
       " ((), (3, 0), (2, 1)),\n",
       " ((), (3, 0, 1), (2,)),\n",
       " ((), (3, 0, 1, 2), ()),\n",
       " ((), (3, 0, 2), (1,)),\n",
       " ((), (3, 0, 2, 1), ()),\n",
       " ((), (3, 1), (0, 2)),\n",
       " ((), (3, 1), (2, 0)),\n",
       " ((), (3, 1, 0), (2,)),\n",
       " ((), (3, 1, 0, 2), ()),\n",
       " ((), (3, 1, 2), (0,)),\n",
       " ((), (3, 1, 2, 0), ()),\n",
       " ((), (3, 2), (0, 1)),\n",
       " ((), (3, 2), (1, 0)),\n",
       " ((), (3, 2, 0), (1,)),\n",
       " ((), (3, 2, 0, 1), ()),\n",
       " ((), (3, 2, 1), (0,)),\n",
       " ((), (3, 2, 1, 0), ()),\n",
       " ((0,), (), (1, 2, 3)),\n",
       " ((0,), (), (1, 3, 2)),\n",
       " ((0,), (), (2, 1, 3)),\n",
       " ((0,), (), (2, 3, 1)),\n",
       " ((0,), (), (3, 1, 2)),\n",
       " ((0,), (), (3, 2, 1)),\n",
       " ((0,), (1,), (2, 3)),\n",
       " ((0,), (1,), (3, 2)),\n",
       " ((0,), (1, 2), (3,)),\n",
       " ((0,), (1, 2, 3), ()),\n",
       " ((0,), (1, 3), (2,)),\n",
       " ((0,), (1, 3, 2), ()),\n",
       " ((0,), (2,), (1, 3)),\n",
       " ((0,), (2,), (3, 1)),\n",
       " ((0,), (2, 1), (3,)),\n",
       " ((0,), (2, 1, 3), ()),\n",
       " ((0,), (2, 3), (1,)),\n",
       " ((0,), (2, 3, 1), ()),\n",
       " ((0,), (3,), (1, 2)),\n",
       " ((0,), (3,), (2, 1)),\n",
       " ((0,), (3, 1), (2,)),\n",
       " ((0,), (3, 1, 2), ()),\n",
       " ((0,), (3, 2), (1,)),\n",
       " ((0,), (3, 2, 1), ()),\n",
       " ((0, 1), (), (2, 3)),\n",
       " ((0, 1), (), (3, 2)),\n",
       " ((0, 1), (2,), (3,)),\n",
       " ((0, 1), (2, 3), ()),\n",
       " ((0, 1), (3,), (2,)),\n",
       " ((0, 1), (3, 2), ()),\n",
       " ((0, 1, 2), (), (3,)),\n",
       " ((0, 1, 2), (3,), ()),\n",
       " ((0, 1, 2, 3), (), ()),\n",
       " ((0, 1, 3), (), (2,)),\n",
       " ((0, 1, 3), (2,), ()),\n",
       " ((0, 1, 3, 2), (), ()),\n",
       " ((0, 2), (), (1, 3)),\n",
       " ((0, 2), (), (3, 1)),\n",
       " ((0, 2), (1,), (3,)),\n",
       " ((0, 2), (1, 3), ()),\n",
       " ((0, 2), (3,), (1,)),\n",
       " ((0, 2), (3, 1), ()),\n",
       " ((0, 2, 1), (), (3,)),\n",
       " ((0, 2, 1), (3,), ()),\n",
       " ((0, 2, 1, 3), (), ()),\n",
       " ((0, 2, 3), (), (1,)),\n",
       " ((0, 2, 3), (1,), ()),\n",
       " ((0, 2, 3, 1), (), ()),\n",
       " ((0, 3), (), (1, 2)),\n",
       " ((0, 3), (), (2, 1)),\n",
       " ((0, 3), (1,), (2,)),\n",
       " ((0, 3), (1, 2), ()),\n",
       " ((0, 3), (2,), (1,)),\n",
       " ((0, 3), (2, 1), ()),\n",
       " ((0, 3, 1), (), (2,)),\n",
       " ((0, 3, 1), (2,), ()),\n",
       " ((0, 3, 1, 2), (), ()),\n",
       " ((0, 3, 2), (), (1,)),\n",
       " ((0, 3, 2), (1,), ()),\n",
       " ((0, 3, 2, 1), (), ()),\n",
       " ((1,), (), (0, 2, 3)),\n",
       " ((1,), (), (0, 3, 2)),\n",
       " ((1,), (), (2, 0, 3)),\n",
       " ((1,), (), (2, 3, 0)),\n",
       " ((1,), (), (3, 0, 2)),\n",
       " ((1,), (), (3, 2, 0)),\n",
       " ((1,), (0,), (2, 3)),\n",
       " ((1,), (0,), (3, 2)),\n",
       " ((1,), (0, 2), (3,)),\n",
       " ((1,), (0, 2, 3), ()),\n",
       " ((1,), (0, 3), (2,)),\n",
       " ((1,), (0, 3, 2), ()),\n",
       " ((1,), (2,), (0, 3)),\n",
       " ((1,), (2,), (3, 0)),\n",
       " ((1,), (2, 0), (3,)),\n",
       " ((1,), (2, 0, 3), ()),\n",
       " ((1,), (2, 3), (0,)),\n",
       " ((1,), (2, 3, 0), ()),\n",
       " ((1,), (3,), (0, 2)),\n",
       " ((1,), (3,), (2, 0)),\n",
       " ((1,), (3, 0), (2,)),\n",
       " ((1,), (3, 0, 2), ()),\n",
       " ((1,), (3, 2), (0,)),\n",
       " ((1,), (3, 2, 0), ()),\n",
       " ((1, 0), (), (2, 3)),\n",
       " ((1, 0), (), (3, 2)),\n",
       " ((1, 0), (2,), (3,)),\n",
       " ((1, 0), (2, 3), ()),\n",
       " ((1, 0), (3,), (2,)),\n",
       " ((1, 0), (3, 2), ()),\n",
       " ((1, 0, 2), (), (3,)),\n",
       " ((1, 0, 2), (3,), ()),\n",
       " ((1, 0, 2, 3), (), ()),\n",
       " ((1, 0, 3), (), (2,)),\n",
       " ((1, 0, 3), (2,), ()),\n",
       " ((1, 0, 3, 2), (), ()),\n",
       " ((1, 2), (), (0, 3)),\n",
       " ((1, 2), (), (3, 0)),\n",
       " ((1, 2), (0,), (3,)),\n",
       " ((1, 2), (0, 3), ()),\n",
       " ((1, 2), (3,), (0,)),\n",
       " ((1, 2), (3, 0), ()),\n",
       " ((1, 2, 0), (), (3,)),\n",
       " ((1, 2, 0), (3,), ()),\n",
       " ((1, 2, 0, 3), (), ()),\n",
       " ((1, 2, 3), (), (0,)),\n",
       " ((1, 2, 3), (0,), ()),\n",
       " ((1, 2, 3, 0), (), ()),\n",
       " ((1, 3), (), (0, 2)),\n",
       " ((1, 3), (), (2, 0)),\n",
       " ((1, 3), (0,), (2,)),\n",
       " ((1, 3), (0, 2), ()),\n",
       " ((1, 3), (2,), (0,)),\n",
       " ((1, 3), (2, 0), ()),\n",
       " ((1, 3, 0), (), (2,)),\n",
       " ((1, 3, 0), (2,), ()),\n",
       " ((1, 3, 0, 2), (), ()),\n",
       " ((1, 3, 2), (), (0,)),\n",
       " ((1, 3, 2), (0,), ()),\n",
       " ((1, 3, 2, 0), (), ()),\n",
       " ((2,), (), (0, 1, 3)),\n",
       " ((2,), (), (0, 3, 1)),\n",
       " ((2,), (), (1, 0, 3)),\n",
       " ((2,), (), (1, 3, 0)),\n",
       " ((2,), (), (3, 0, 1)),\n",
       " ((2,), (), (3, 1, 0)),\n",
       " ((2,), (0,), (1, 3)),\n",
       " ((2,), (0,), (3, 1)),\n",
       " ((2,), (0, 1), (3,)),\n",
       " ((2,), (0, 1, 3), ()),\n",
       " ((2,), (0, 3), (1,)),\n",
       " ((2,), (0, 3, 1), ()),\n",
       " ((2,), (1,), (0, 3)),\n",
       " ((2,), (1,), (3, 0)),\n",
       " ((2,), (1, 0), (3,)),\n",
       " ((2,), (1, 0, 3), ()),\n",
       " ((2,), (1, 3), (0,)),\n",
       " ((2,), (1, 3, 0), ()),\n",
       " ((2,), (3,), (0, 1)),\n",
       " ((2,), (3,), (1, 0)),\n",
       " ((2,), (3, 0), (1,)),\n",
       " ((2,), (3, 0, 1), ()),\n",
       " ((2,), (3, 1), (0,)),\n",
       " ((2,), (3, 1, 0), ()),\n",
       " ((2, 0), (), (1, 3)),\n",
       " ((2, 0), (), (3, 1)),\n",
       " ((2, 0), (1,), (3,)),\n",
       " ((2, 0), (1, 3), ()),\n",
       " ((2, 0), (3,), (1,)),\n",
       " ((2, 0), (3, 1), ()),\n",
       " ((2, 0, 1), (), (3,)),\n",
       " ((2, 0, 1), (3,), ()),\n",
       " ((2, 0, 1, 3), (), ()),\n",
       " ((2, 0, 3), (), (1,)),\n",
       " ((2, 0, 3), (1,), ()),\n",
       " ((2, 0, 3, 1), (), ()),\n",
       " ((2, 1), (), (0, 3)),\n",
       " ((2, 1), (), (3, 0)),\n",
       " ((2, 1), (0,), (3,)),\n",
       " ((2, 1), (0, 3), ()),\n",
       " ((2, 1), (3,), (0,)),\n",
       " ((2, 1), (3, 0), ()),\n",
       " ((2, 1, 0), (), (3,)),\n",
       " ((2, 1, 0), (3,), ()),\n",
       " ((2, 1, 0, 3), (), ()),\n",
       " ((2, 1, 3), (), (0,)),\n",
       " ((2, 1, 3), (0,), ()),\n",
       " ((2, 1, 3, 0), (), ()),\n",
       " ((2, 3), (), (0, 1)),\n",
       " ((2, 3), (), (1, 0)),\n",
       " ((2, 3), (0,), (1,)),\n",
       " ((2, 3), (0, 1), ()),\n",
       " ((2, 3), (1,), (0,)),\n",
       " ((2, 3), (1, 0), ()),\n",
       " ((2, 3, 0), (), (1,)),\n",
       " ((2, 3, 0), (1,), ()),\n",
       " ((2, 3, 0, 1), (), ()),\n",
       " ((2, 3, 1), (), (0,)),\n",
       " ((2, 3, 1), (0,), ()),\n",
       " ((2, 3, 1, 0), (), ()),\n",
       " ((3,), (), (0, 1, 2)),\n",
       " ((3,), (), (0, 2, 1)),\n",
       " ((3,), (), (1, 0, 2)),\n",
       " ((3,), (), (1, 2, 0)),\n",
       " ((3,), (), (2, 0, 1)),\n",
       " ((3,), (), (2, 1, 0)),\n",
       " ((3,), (0,), (1, 2)),\n",
       " ((3,), (0,), (2, 1)),\n",
       " ((3,), (0, 1), (2,)),\n",
       " ((3,), (0, 1, 2), ()),\n",
       " ((3,), (0, 2), (1,)),\n",
       " ((3,), (0, 2, 1), ()),\n",
       " ((3,), (1,), (0, 2)),\n",
       " ((3,), (1,), (2, 0)),\n",
       " ((3,), (1, 0), (2,)),\n",
       " ((3,), (1, 0, 2), ()),\n",
       " ((3,), (1, 2), (0,)),\n",
       " ((3,), (1, 2, 0), ()),\n",
       " ((3,), (2,), (0, 1)),\n",
       " ((3,), (2,), (1, 0)),\n",
       " ((3,), (2, 0), (1,)),\n",
       " ((3,), (2, 0, 1), ()),\n",
       " ((3,), (2, 1), (0,)),\n",
       " ((3,), (2, 1, 0), ()),\n",
       " ((3, 0), (), (1, 2)),\n",
       " ((3, 0), (), (2, 1)),\n",
       " ((3, 0), (1,), (2,)),\n",
       " ((3, 0), (1, 2), ()),\n",
       " ((3, 0), (2,), (1,)),\n",
       " ((3, 0), (2, 1), ()),\n",
       " ((3, 0, 1), (), (2,)),\n",
       " ((3, 0, 1), (2,), ()),\n",
       " ((3, 0, 1, 2), (), ()),\n",
       " ((3, 0, 2), (), (1,)),\n",
       " ((3, 0, 2), (1,), ()),\n",
       " ((3, 0, 2, 1), (), ()),\n",
       " ((3, 1), (), (0, 2)),\n",
       " ((3, 1), (), (2, 0)),\n",
       " ((3, 1), (0,), (2,)),\n",
       " ((3, 1), (0, 2), ()),\n",
       " ((3, 1), (2,), (0,)),\n",
       " ((3, 1), (2, 0), ()),\n",
       " ((3, 1, 0), (), (2,)),\n",
       " ((3, 1, 0), (2,), ()),\n",
       " ((3, 1, 0, 2), (), ()),\n",
       " ((3, 1, 2), (), (0,)),\n",
       " ((3, 1, 2), (0,), ()),\n",
       " ((3, 1, 2, 0), (), ()),\n",
       " ((3, 2), (), (0, 1)),\n",
       " ((3, 2), (), (1, 0)),\n",
       " ((3, 2), (0,), (1,)),\n",
       " ((3, 2), (0, 1), ()),\n",
       " ((3, 2), (1,), (0,)),\n",
       " ((3, 2), (1, 0), ()),\n",
       " ((3, 2, 0), (), (1,)),\n",
       " ((3, 2, 0), (1,), ()),\n",
       " ((3, 2, 0, 1), (), ()),\n",
       " ((3, 2, 1), (), (0,)),\n",
       " ((3, 2, 1), (0,), ()),\n",
       " ((3, 2, 1, 0), (), ())}"
      ]
     },
     "execution_count": 15,
     "metadata": {},
     "output_type": "execute_result"
    }
   ],
   "source": [
    "States = { (A,B,C) for (A,B,C) in Partitions\n",
    "                        for A in allTuples(A)\n",
    "                        for B in allTuples(B)\n",
    "                        for C in allTuples(C)}\n",
    "len(States)\n",
    "States\n",
    "\n",
    "\n",
    "\n"
   ]
  },
  {
   "cell_type": "markdown",
   "metadata": {},
   "source": [
    "**Hinweis**:  Es gibt 360 verschiedene Zustände."
   ]
  },
  {
   "cell_type": "code",
   "execution_count": 16,
   "metadata": {},
   "outputs": [
    {
     "data": {
      "text/plain": [
       "360"
      ]
     },
     "execution_count": 16,
     "metadata": {},
     "output_type": "execute_result"
    }
   ],
   "source": [
    "len(States)\n"
   ]
  },
  {
   "cell_type": "markdown",
   "metadata": {},
   "source": [
    "**Aufgabe 4**: Berechnen Sie die Menge aller Transitionen, in denen die Lokomotive vom Gleis <b>A</b> über das westliche Gleis zum Gleis <b>C</b> fährt. \n",
    "\n",
    "<b>Hinweis</b>: Die Funktion $\\texttt{myReverse}$ dreht ein Tupel um."
   ]
  },
  {
   "cell_type": "code",
   "execution_count": 17,
   "metadata": {},
   "outputs": [
    {
     "data": {
      "text/plain": [
       "210"
      ]
     },
     "execution_count": 17,
     "metadata": {},
     "output_type": "execute_result"
    }
   ],
   "source": [
    "RacWest = { ((a,b,c),(a[i:],b,myReverse(a[:i])+c)) for (a,b,c) in States \n",
    "                                                    for i in range(1,len(a)+1) \n",
    "                                                    if 0 in a[0:i]\n",
    "}\n",
    "\n",
    "len(RacWest)"
   ]
  },
  {
   "cell_type": "markdown",
   "metadata": {},
   "source": [
    "**Hinweis**: Es gibt 210 verschiedene Transitionen in der Menge `RacEast`."
   ]
  },
  {
   "cell_type": "markdown",
   "metadata": {},
   "source": [
    "**Aufgabe 5**: Berechnen Sie die Menge aller Transitionen, in denen die Lokomotive vom\n",
    "Gleis <b>A</b> über das östliche Gleis zum Gleis <b>C</b> fährt."
   ]
  },
  {
   "cell_type": "code",
   "execution_count": 18,
   "metadata": {},
   "outputs": [
    {
     "data": {
      "text/plain": [
       "210"
      ]
     },
     "execution_count": 18,
     "metadata": {},
     "output_type": "execute_result"
    }
   ],
   "source": [
    "RacEast = { ((a,b,c),(a[:i],b,c+myReverse(a[i:]))) for (a,b,c) in States \n",
    "                                                    for i in range(0,len(a)) \n",
    "                                                    if 0 in a[i:]\n",
    "}\n",
    "len(RacEast)"
   ]
  },
  {
   "cell_type": "markdown",
   "metadata": {},
   "source": [
    "Auch diese Menge enthält 210 Elemente."
   ]
  },
  {
   "cell_type": "code",
   "execution_count": 19,
   "metadata": {},
   "outputs": [
    {
     "data": {
      "text/plain": [
       "360"
      ]
     },
     "execution_count": 19,
     "metadata": {},
     "output_type": "execute_result"
    }
   ],
   "source": [
    "Rac = RacEast | RacWest\n",
    "\n",
    "len(Rac)\n"
   ]
  },
  {
   "cell_type": "code",
   "execution_count": 20,
   "metadata": {},
   "outputs": [],
   "source": [
    "Rca = inverse(Rac)\n",
    "\n"
   ]
  },
  {
   "cell_type": "markdown",
   "metadata": {},
   "source": [
    "**Aufgabe 6**:\n",
    "Berechnen Sie die Menge aller Transitionen, in denen die Lokomotive vom Gleis <b>B</b> zum Gleis <b>C</b> fährt."
   ]
  },
  {
   "cell_type": "code",
   "execution_count": 21,
   "metadata": {},
   "outputs": [],
   "source": [
    "Rbc = { ((a,b,c),(a,b[:i],b[i:]+c)) for (a,b,c) in States \n",
    "                                    for i in range(0, len(b) )\n",
    "                                    if 0 in b[i:]}\n",
    "           \n",
    "      \n",
    "         "
   ]
  },
  {
   "cell_type": "markdown",
   "metadata": {},
   "source": [
    "Die Menge <tt>Rbc</tt> enthält 210 Elemente. "
   ]
  },
  {
   "cell_type": "code",
   "execution_count": 22,
   "metadata": {},
   "outputs": [
    {
     "data": {
      "text/plain": [
       "210"
      ]
     },
     "execution_count": 22,
     "metadata": {},
     "output_type": "execute_result"
    }
   ],
   "source": [
    "len(Rbc)"
   ]
  },
  {
   "cell_type": "code",
   "execution_count": 23,
   "metadata": {},
   "outputs": [
    {
     "data": {
      "text/plain": [
       "210"
      ]
     },
     "execution_count": 23,
     "metadata": {},
     "output_type": "execute_result"
    }
   ],
   "source": [
    "Rcb = inverse(Rbc)\n",
    "\n",
    "len(Rcb)"
   ]
  },
  {
   "cell_type": "code",
   "execution_count": 24,
   "metadata": {},
   "outputs": [],
   "source": [
    "R = Rac | Rca | Rbc| Rcb\n"
   ]
  },
  {
   "cell_type": "markdown",
   "metadata": {},
   "source": [
    "Die Relation $R$ enthält 1140 verschiedene Elemente."
   ]
  },
  {
   "cell_type": "code",
   "execution_count": 25,
   "metadata": {},
   "outputs": [
    {
     "data": {
      "text/plain": [
       "1140"
      ]
     },
     "execution_count": 25,
     "metadata": {},
     "output_type": "execute_result"
    }
   ],
   "source": [
    "len(R)"
   ]
  },
  {
   "cell_type": "code",
   "execution_count": 26,
   "metadata": {},
   "outputs": [
    {
     "name": "stdout",
     "output_type": "stream",
     "text": [
      "Iteration 1: 1 new states found.\n",
      "Iteration 2: 2 new states found.\n",
      "Iteration 3: 6 new states found.\n",
      "Iteration 4: 20 new states found.\n",
      "Iteration 5: 9 new states found.\n",
      "Iteration 6: 20 new states found.\n",
      "Iteration 7: 18 new states found.\n",
      "Iteration 8: 34 new states found.\n",
      "Iteration 9: 26 new states found.\n",
      "Iteration 10: 51 new states found.\n",
      "Iteration 11: 42 new states found.\n",
      "Wall time: 22.9 ms\n"
     ]
    }
   ],
   "source": [
    "%%time\n",
    "start = ((1, 2, 3), (0,), ())\n",
    "goal  = ((), (0,), (3, 1, 2))\n",
    "Path  = search(R, start, goal)"
   ]
  },
  {
   "cell_type": "markdown",
   "metadata": {},
   "source": [
    "The tuple **<tt>Path</tt>** that is a solution to the shunting problem has a length of **13**.  If your path is shorter, then you have to inspect it **carefully** to identify the problem."
   ]
  },
  {
   "cell_type": "code",
   "execution_count": 27,
   "metadata": {},
   "outputs": [
    {
     "data": {
      "text/plain": [
       "13"
      ]
     },
     "execution_count": 27,
     "metadata": {},
     "output_type": "execute_result"
    }
   ],
   "source": [
    "len(Path)"
   ]
  },
  {
   "cell_type": "code",
   "execution_count": 28,
   "metadata": {},
   "outputs": [
    {
     "name": "stdout",
     "output_type": "stream",
     "text": [
      "Solution:\n",
      "\n",
      "A: [1, 2, 3]; B: [0]; C: []\n",
      "A: [1, 2, 3]; B: []; C: [0]\n",
      "A: [0, 1, 2, 3]; B: []; C: []\n",
      "A: [2, 3]; B: []; C: [1, 0]\n",
      "A: [2, 3]; B: [1, 0]; C: []\n",
      "A: [2, 3]; B: [1]; C: [0]\n",
      "A: [0, 2, 3]; B: [1]; C: []\n",
      "A: [3]; B: [1]; C: [2, 0]\n",
      "A: [3]; B: [1, 2, 0]; C: []\n",
      "A: [3]; B: []; C: [1, 2, 0]\n",
      "A: [3, 0]; B: []; C: [1, 2]\n",
      "A: []; B: []; C: [0, 3, 1, 2]\n",
      "A: []; B: [0]; C: [3, 1, 2]\n"
     ]
    }
   ],
   "source": [
    "printPath(Path)"
   ]
  },
  {
   "cell_type": "code",
   "execution_count": 29,
   "metadata": {},
   "outputs": [],
   "source": [
    "#yayyyay"
   ]
  }
 ],
 "metadata": {
  "hide_input": false,
  "kernelspec": {
   "display_name": "Python 3",
   "language": "python",
   "name": "python3"
  },
  "language_info": {
   "codemirror_mode": {
    "name": "ipython",
    "version": 3
   },
   "file_extension": ".py",
   "mimetype": "text/x-python",
   "name": "python",
   "nbconvert_exporter": "python",
   "pygments_lexer": "ipython3",
   "version": "3.8.3"
  },
  "toc": {
   "base_numbering": 1,
   "nav_menu": {},
   "number_sections": true,
   "sideBar": true,
   "skip_h1_title": false,
   "title_cell": "Table of Contents",
   "title_sidebar": "Contents",
   "toc_cell": false,
   "toc_position": {},
   "toc_section_display": true,
   "toc_window_display": false
  },
  "varInspector": {
   "cols": {
    "lenName": 16,
    "lenType": 16,
    "lenVar": 40
   },
   "kernels_config": {
    "python": {
     "delete_cmd_postfix": "",
     "delete_cmd_prefix": "del ",
     "library": "var_list.py",
     "varRefreshCmd": "print(var_dic_list())"
    },
    "r": {
     "delete_cmd_postfix": ") ",
     "delete_cmd_prefix": "rm(",
     "library": "var_list.r",
     "varRefreshCmd": "cat(var_dic_list()) "
    }
   },
   "types_to_exclude": [
    "module",
    "function",
    "builtin_function_or_method",
    "instance",
    "_Feature"
   ],
   "window_display": false
  }
 },
 "nbformat": 4,
 "nbformat_minor": 2
}
