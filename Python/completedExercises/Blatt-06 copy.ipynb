{
 "cells": [
  {
   "cell_type": "code",
   "execution_count": 23,
   "metadata": {},
   "outputs": [
    {
     "data": {
      "text/html": [
       "<link href='http://fonts.googleapis.com/css?family=Alegreya+Sans:100,300,400,500,700,800,900,100italic,300italic,400italic,500italic,700italic,800italic,900italic' rel='stylesheet' type='text/css'>\n",
       "<link href='http://fonts.googleapis.com/css?family=Arvo:400,700,400italic' rel='stylesheet' type='text/css'>\n",
       "<link href='http://fonts.googleapis.com/css?family=PT+Mono' rel='stylesheet' type='text/css'>\n",
       "<link href='http://fonts.googleapis.com/css?family=Shadows+Into+Light' rel='stylesheet' type='text/css'>\n",
       "<link href='http://fonts.googleapis.com/css?family=Philosopher:400,700,400italic,700italic' rel='stylesheet' type='text/css'>\n",
       "\n",
       "<style>\n",
       "\n",
       "@font-face {\n",
       "    font-family: \"Computer Modern\";\n",
       "    src: url('http://mirrors.ctan.org/fonts/cm-unicode/fonts/otf/cmunss.otf');\n",
       "}\n",
       "\n",
       ".container { width: 100% }\n",
       "\n",
       "/* Formatting for header cells */\n",
       ".text_cell_render h1 {\n",
       "    font-family: 'Philosopher', sans-serif;\n",
       "    font-weight: 400;\n",
       "    font-size: 2.2em;\n",
       "    line-height: 100%;\n",
       "    color: rgb(0, 80, 120);\n",
       "    margin-bottom: 0.1em;\n",
       "    margin-top: 0.1em;\n",
       "    display: block;\n",
       "}\n",
       ".text_cell_render h2 {\n",
       "    font-family: 'Philosopher', serif;\n",
       "    font-weight: 400;\n",
       "    font-size: 1.9em;\n",
       "    line-height: 100%;\n",
       "    color: rgb(200,100,0);\n",
       "    margin-bottom: 0.1em;\n",
       "    margin-top: 0.1em;\n",
       "    display: block;\n",
       "}\n",
       "\n",
       ".text_cell_render h3 {\n",
       "    font-family: 'Philosopher', serif;\n",
       "    margin-top:12px;\n",
       "    margin-bottom: 3px;\n",
       "    font-style: italic;\n",
       "    color: rgb(94,127,192);\n",
       "}\n",
       "\n",
       ".text_cell_render h4 {\n",
       "    font-family: 'Philosopher', serif;\n",
       "}\n",
       "\n",
       ".text_cell_render h5 {\n",
       "    font-family: 'Alegreya Sans', sans-serif;\n",
       "    font-weight: 300;\n",
       "    font-size: 16pt;\n",
       "    color: grey;\n",
       "    font-style: italic;\n",
       "    margin-bottom: .1em;\n",
       "    margin-top: 0.1em;\n",
       "    display: block;\n",
       "}\n",
       "\n",
       ".text_cell_render h6 {\n",
       "    font-family: 'PT Mono', sans-serif;\n",
       "    font-weight: 300;\n",
       "    font-size: 10pt;\n",
       "    color: grey;\n",
       "    margin-bottom: 1px;\n",
       "    margin-top: 1px;\n",
       "}\n",
       "\n",
       ".text_cell_render em {\n",
       "    font-family: 'Philosopher', sans-serif;\n",
       "    color:        blue;\n",
       "    background-color: rgb(255,220,180);\n",
       "    font-size:    110%;\n",
       "    margin-left:   2px;\n",
       "    margin-right:  2px;\n",
       "    font-weight:   100;\n",
       "}\n",
       "\n",
       ".text_cell_render b {\n",
       "    color:            rgb(255,195,195);\n",
       "    background-color: rgb(0,0,0);\n",
       "    font-size:    110%;\n",
       "    margin-left:   2px;\n",
       "    margin-right:  2px;\n",
       "    font-weight:   650;\n",
       "}\n",
       "\n",
       ".text_cell_render tt {\n",
       "    font-size:    120%;\n",
       "    margin-left:   2px;\n",
       "    margin-right:  2px;\n",
       "    font-weight:   150;\n",
       "}\n",
       "\n",
       ".Codemirror {\n",
       "    font-family: \"PT Mono\";\n",
       "    font-size: 100%;\n",
       "}\n",
       "\n",
       "</style>\n",
       "\n"
      ],
      "text/plain": [
       "<IPython.core.display.HTML object>"
      ]
     },
     "execution_count": 23,
     "metadata": {},
     "output_type": "execute_result"
    }
   ],
   "source": [
    "from IPython.core.display import HTML\n",
    "with open('style.css', 'r') as file:\n",
    "    css = file.read()\n",
    "HTML(css)"
   ]
  },
  {
   "cell_type": "markdown",
   "metadata": {},
   "source": [
    "# The $3 \\times 3$ Sliding Puzzle"
   ]
  },
  {
   "cell_type": "markdown",
   "metadata": {},
   "source": [
    "<img src=\"8-puzzle.png\">"
   ]
  },
  {
   "cell_type": "markdown",
   "metadata": {},
   "source": [
    "The picture above shows an instance of the $3 \\times 3$ \n",
    "<a href=\"https://en.wikipedia.org/wiki/Sliding_puzzle\">sliding puzzle</a>:\n",
    "There is a board of size $3 \\times 3$ with 8 tiles on it. These tiles are numbered with digits from the set $\\{1,\\cdots, 8\\}$.  As the the $3 \\times 3$ board has an area of $9$ but there are only $8$ tiles, there is an empty square on the board.  Tiles adjacent to the empty square can be moved into the square, thereby emptying the space that was previously occupied by theses tiles.  The goal of the $3 \\times 3$ puzzle is to transform the state shown on the left of the picture above into the state shown on the right.\n",
    "\n",
    "In order to get an idea of the sliding puzzle, you can play it online at <a href=\"http://mypuzzle.org/sliding\">http://mypuzzle.org/sliding</a>."
   ]
  },
  {
   "cell_type": "markdown",
   "metadata": {},
   "source": [
    "## Utilities to Display the Solution"
   ]
  },
  {
   "cell_type": "markdown",
   "metadata": {},
   "source": [
    "We use a different color for each tile."
   ]
  },
  {
   "cell_type": "code",
   "execution_count": 24,
   "metadata": {},
   "outputs": [],
   "source": [
    "Colors = ['white', 'lightblue', 'pink', 'magenta', \n",
    "          'orange', 'red', 'yellow', 'lightgreen', 'salmon'\n",
    "         ]"
   ]
  },
  {
   "cell_type": "code",
   "execution_count": 25,
   "metadata": {},
   "outputs": [],
   "source": [
    "def get_style(n):\n",
    "    return 'background-color: ' + Colors[n] + ';\">'"
   ]
  },
  {
   "cell_type": "code",
   "execution_count": 26,
   "metadata": {},
   "outputs": [],
   "source": [
    "CSS_Table = { 'border'      : '2px solid darkblue',\n",
    "              'border-style': 'double',\n",
    "              'border-width': '4px'\n",
    "            }"
   ]
  },
  {
   "cell_type": "code",
   "execution_count": 27,
   "metadata": {},
   "outputs": [],
   "source": [
    "CSS_TD = { 'border'      : '2px solid black', \n",
    "           'border-style': 'groove',\n",
    "           'border-width': '8px',\n",
    "           'padding'     : '15px',\n",
    "           'font-size'   : '150%', \n",
    "         }"
   ]
  },
  {
   "cell_type": "code",
   "execution_count": 28,
   "metadata": {},
   "outputs": [],
   "source": [
    "def css_style(Dictionary):\n",
    "    result = ''\n",
    "    for k, v in Dictionary.items():\n",
    "        result += k + ':' + v + ';'\n",
    "    return result"
   ]
  },
  {
   "cell_type": "markdown",
   "metadata": {},
   "source": [
    "The function `state_to_html` displays a given state as an `Html` tabel."
   ]
  },
  {
   "cell_type": "code",
   "execution_count": 29,
   "metadata": {},
   "outputs": [],
   "source": [
    "def state_to_html(State):\n",
    "    result = '<table style=\"' + css_style(CSS_Table) + '\">\\n'\n",
    "    for row in State:\n",
    "        result += '<tr>'\n",
    "        for number in row:\n",
    "            result += '<td style=\"' + css_style(CSS_TD)\n",
    "            if number > 0:\n",
    "                result += get_style(number) + str(number)\n",
    "            else:\n",
    "                result += get_style(number)\n",
    "            result += '</td>'\n",
    "        result += '</tr>\\n'\n",
    "    result += '</table>'\n",
    "    return result"
   ]
  },
  {
   "cell_type": "markdown",
   "metadata": {},
   "source": [
    "Given a non-empty set `S`, the function `arb` returns an arbitrary element of `S`.\n",
    "The set `S` is left unchanged."
   ]
  },
  {
   "cell_type": "code",
   "execution_count": 30,
   "metadata": {},
   "outputs": [],
   "source": [
    "def arb(S):\n",
    "    for x in S:\n",
    "        return x"
   ]
  },
  {
   "cell_type": "code",
   "execution_count": 31,
   "metadata": {},
   "outputs": [],
   "source": [
    "%run Breadth-First-Fast.ipynb"
   ]
  },
  {
   "cell_type": "markdown",
   "metadata": {},
   "source": [
    "## Problem Specific Code"
   ]
  },
  {
   "cell_type": "markdown",
   "metadata": {},
   "source": [
    "We will represent states as tuples of tuples.  For example, the start state that is shown in the picture at the beginnning of this notebook is represented as follows:"
   ]
  },
  {
   "cell_type": "code",
   "execution_count": 32,
   "metadata": {},
   "outputs": [],
   "source": [
    "start = ((8, 0, 6),\n",
    "         (5, 4, 7),\n",
    "         (2, 3, 1)\n",
    "        )\n",
    "\n",
    "\n",
    "\n",
    "\n",
    "test = ((1, 2, 3),\n",
    "         (4, 0, 5),\n",
    "         (6, 7, 8)\n",
    "        )\n"
   ]
  },
  {
   "cell_type": "markdown",
   "metadata": {},
   "source": [
    "Note that the empty tile is represented by the digit $0$.  "
   ]
  },
  {
   "cell_type": "markdown",
   "metadata": {},
   "source": [
    "**Exercise 1**: Define the goal state below."
   ]
  },
  {
   "cell_type": "code",
   "execution_count": 33,
   "metadata": {},
   "outputs": [],
   "source": [
    "goal = ((0, 1, 2),\n",
    "         (3, 4, 5),\n",
    "         (6, 7, 8)\n",
    "        )\n",
    "\n"
   ]
  },
  {
   "cell_type": "markdown",
   "metadata": {},
   "source": [
    "**Exercise 2:** \n",
    "The function $\\texttt{findZero}(S)$ takes a state $S$ and returns a pair $(r, c)$ that specifies the row and the column of the blank in the state $S$.  For example, we should have:\n",
    "$$ \\texttt{findZero}(\\texttt{start}) = (0, 1) \\quad\\mbox{and}\\quad \n",
    "   \\texttt{findZero}(\\texttt{goal}) = (0, 0) \n",
    "$$"
   ]
  },
  {
   "cell_type": "code",
   "execution_count": 68,
   "metadata": {},
   "outputs": [],
   "source": [
    "def findZero(State):\n",
    "    \n",
    "    \n",
    "  \n",
    "               \n",
    "\n",
    "    \n",
    "    "
   ]
  },
  {
   "cell_type": "code",
   "execution_count": 69,
   "metadata": {},
   "outputs": [
    {
     "name": "stdout",
     "output_type": "stream",
     "text": [
      "8\n",
      "5\n",
      "2\n"
     ]
    }
   ],
   "source": [
    "findZero(start)\n"
   ]
  },
  {
   "cell_type": "code",
   "execution_count": 36,
   "metadata": {},
   "outputs": [
    {
     "data": {
      "text/plain": [
       "(0, 0)"
      ]
     },
     "execution_count": 36,
     "metadata": {},
     "output_type": "execute_result"
    }
   ],
   "source": [
    "findZero(goal)"
   ]
  },
  {
   "cell_type": "markdown",
   "metadata": {},
   "source": [
    "We have to represent states as tuples of tuples in order to be able to insert them into sets.  However, as tuples are immutable, we need to be able to convert them to lists in order to change them.  The function $\\texttt{listOfLists}(S)$ takes a state $S$ and transforms it into a list of lists."
   ]
  },
  {
   "cell_type": "code",
   "execution_count": 37,
   "metadata": {},
   "outputs": [],
   "source": [
    "def listOfLists(S):\n",
    "    'Transform a tuple of tuples into a list of lists.'\n",
    "    return [ [x for x in row] for row in S ]"
   ]
  },
  {
   "cell_type": "code",
   "execution_count": 38,
   "metadata": {},
   "outputs": [
    {
     "data": {
      "text/plain": [
       "[[8, 0, 6], [5, 4, 7], [2, 3, 1]]"
      ]
     },
     "execution_count": 38,
     "metadata": {},
     "output_type": "execute_result"
    }
   ],
   "source": [
    "listOfLists(start)"
   ]
  },
  {
   "cell_type": "markdown",
   "metadata": {},
   "source": [
    "As lists can not be inserted into sets, we also need a function that takes a list of list and transforms it back into a tuple of tuple."
   ]
  },
  {
   "cell_type": "code",
   "execution_count": 39,
   "metadata": {},
   "outputs": [],
   "source": [
    "def tupleOfTuples(S):\n",
    "    'Transform a list of lists into a tuple of tuples.'\n",
    "    return tuple(tuple(x for x in row) for row in S)"
   ]
  },
  {
   "cell_type": "code",
   "execution_count": 40,
   "metadata": {},
   "outputs": [
    {
     "data": {
      "text/plain": [
       "((8, 0, 6), (5, 4, 7), (2, 3, 1))"
      ]
     },
     "execution_count": 40,
     "metadata": {},
     "output_type": "execute_result"
    }
   ],
   "source": [
    "tupleOfTuples([[8, 0, 6], [5, 4, 7], [2, 3, 1]])"
   ]
  },
  {
   "cell_type": "markdown",
   "metadata": {},
   "source": [
    "**Exercise 3**: Implement a function $\\texttt{moveUp}(S, r, c)$ that computes the state that results from moving the tile below the blank space **up** in state $S$.  The variables $r$ and $c$ specify the location of the *row* and *column* of the blank tile.  Therefore we have $S[r][c] = 0$.\n",
    "\n",
    "In your implementation you may assume that there is indeed a tile below the blank space, i.e. we have $r < 2$.  "
   ]
  },
  {
   "cell_type": "code",
   "execution_count": 41,
   "metadata": {},
   "outputs": [
    {
     "data": {
      "text/plain": [
       "[[8, 0, 6], [5, 4, 7], [2, 3, 1]]"
      ]
     },
     "execution_count": 41,
     "metadata": {},
     "output_type": "execute_result"
    }
   ],
   "source": [
    "listOfLists(start)"
   ]
  },
  {
   "cell_type": "code",
   "execution_count": 42,
   "metadata": {},
   "outputs": [],
   "source": [
    "def moveUp(S, r, c):\n",
    "    \n",
    "    newS=listOfLists(S)\n",
    "    \n",
    "    moving= newS[r+1][c]\n",
    "    \n",
    "    newS[r][c]=moving\n",
    "    \n",
    "    newS[r+1][c]=0\n",
    "    \n",
    "\n",
    "    \n",
    "    return tupleOfTuples(newS)\n",
    "    \n",
    "    \n",
    "    \n",
    "    \n",
    "    \n",
    "    "
   ]
  },
  {
   "cell_type": "code",
   "execution_count": 43,
   "metadata": {},
   "outputs": [
    {
     "data": {
      "text/html": [
       "<table style=\"border:2px solid darkblue;border-style:double;border-width:4px;\">\n",
       "<tr><td style=\"border:2px solid black;border-style:groove;border-width:8px;padding:15px;font-size:150%;background-color: lightblue;\">1</td><td style=\"border:2px solid black;border-style:groove;border-width:8px;padding:15px;font-size:150%;background-color: pink;\">2</td><td style=\"border:2px solid black;border-style:groove;border-width:8px;padding:15px;font-size:150%;background-color: magenta;\">3</td></tr>\n",
       "<tr><td style=\"border:2px solid black;border-style:groove;border-width:8px;padding:15px;font-size:150%;background-color: orange;\">4</td><td style=\"border:2px solid black;border-style:groove;border-width:8px;padding:15px;font-size:150%;background-color: white;\"></td><td style=\"border:2px solid black;border-style:groove;border-width:8px;padding:15px;font-size:150%;background-color: red;\">5</td></tr>\n",
       "<tr><td style=\"border:2px solid black;border-style:groove;border-width:8px;padding:15px;font-size:150%;background-color: yellow;\">6</td><td style=\"border:2px solid black;border-style:groove;border-width:8px;padding:15px;font-size:150%;background-color: lightgreen;\">7</td><td style=\"border:2px solid black;border-style:groove;border-width:8px;padding:15px;font-size:150%;background-color: salmon;\">8</td></tr>\n",
       "</table>"
      ],
      "text/plain": [
       "<IPython.core.display.HTML object>"
      ]
     },
     "execution_count": 43,
     "metadata": {},
     "output_type": "execute_result"
    }
   ],
   "source": [
    "HTML(state_to_html(test))"
   ]
  },
  {
   "cell_type": "code",
   "execution_count": null,
   "metadata": {},
   "outputs": [],
   "source": []
  },
  {
   "cell_type": "markdown",
   "metadata": {},
   "source": [
    "**Exercise 4**: Implement a function $\\texttt{moveDown}(S, r, c)$ that computes the state that results from moving the tile below the blank space **down** in state $S$.  The variables $r$ and $c$ specify the location of the *row* and *column* of the blank tile.  Therefore we have $S[r][c] = 0$.\n",
    "\n",
    "In your implementation you may assume that there is indeed a tile above the blank space, i.e. we have $r > 0$.  "
   ]
  },
  {
   "cell_type": "code",
   "execution_count": 44,
   "metadata": {},
   "outputs": [],
   "source": [
    "def moveDown(S, r, c):\n",
    "    'Move the tile above the blank down.'\n",
    "    \"your code here\"\n",
    "    newS=listOfLists(S)\n",
    "    \n",
    "    moving= newS[r-1][c]\n",
    "    \n",
    "    newS[r][c]=moving\n",
    "    \n",
    "    newS[r-1][c]=0\n",
    "    \n",
    "\n",
    "    \n",
    "    return tupleOfTuples(newS)\n",
    "\n",
    "\n",
    "    "
   ]
  },
  {
   "cell_type": "markdown",
   "metadata": {},
   "source": [
    "**Exercise 5:**\n",
    "Similarly to the previous exercise, implement functions $\\texttt{moveRight}(S, r, c)$ and $\\texttt{moveLeft}(S, r, c)$."
   ]
  },
  {
   "cell_type": "code",
   "execution_count": 45,
   "metadata": {},
   "outputs": [],
   "source": [
    "def moveRight(S, r, c):\n",
    "    'Move the tile left of the blank to the right.'\n",
    "    \"your code here\"\n",
    "    newS=listOfLists(S)\n",
    "    \n",
    "    moving= newS[r][c-1]\n",
    "    \n",
    "    newS[r][c]=moving\n",
    "    \n",
    "    newS[r][c-1]=0\n",
    "    \n",
    "\n",
    "    \n",
    "    return tupleOfTuples(newS)"
   ]
  },
  {
   "cell_type": "code",
   "execution_count": 46,
   "metadata": {},
   "outputs": [],
   "source": [
    "def moveLeft(S, r, c):\n",
    "    \n",
    "    newS=listOfLists(S)\n",
    "    \n",
    "    moving= newS[r][c+1]\n",
    "    \n",
    "    newS[r][c]=moving\n",
    "    \n",
    "    newS[r][c+1]=0\n",
    "    \n",
    "    return tupleOfTuples(newS)\n",
    "    "
   ]
  },
  {
   "cell_type": "markdown",
   "metadata": {},
   "source": [
    "\n",
    "**Exercise 6:**. Implement a function $\\texttt{nextStates}(S)$ that takes a state $S$ representet as a tuple of tuple and that computes the set of states that are reachable from $S$ in one step.  Remember to use the previously defined functions `findZero`, `moveUp`, $\\cdots$, `moveLeft`.  However, when you do use the function `moveUp`, then you should also check that it is possible to move a tile up."
   ]
  },
  {
   "cell_type": "code",
   "execution_count": 47,
   "metadata": {},
   "outputs": [
    {
     "name": "stdout",
     "output_type": "stream",
     "text": [
      "((8, 0, 6), (5, 4, 7), (2, 3, 1))\n"
     ]
    },
    {
     "data": {
      "text/plain": [
       "{((8, 4, 6), (5, 0, 7), (2, 3, 1))}"
      ]
     },
     "execution_count": 47,
     "metadata": {},
     "output_type": "execute_result"
    }
   ],
   "source": [
    "\n",
    "print(start)\n",
    "up=moveUp(start,0,1)\n",
    "\n",
    "stat=set()\n",
    "\n",
    "stat | {up}"
   ]
  },
  {
   "cell_type": "code",
   "execution_count": 48,
   "metadata": {},
   "outputs": [],
   "source": [
    "def nextStates(State):\n",
    "    next_states = set()\n",
    "    \n",
    "    reihe , spalte = findZero(State)\n",
    "    \n",
    "    #moveup\n",
    "    if reihe<2:\n",
    "        next_states = next_states | {moveUp(State,reihe,spalte)}\n",
    "    \n",
    "    #movedown\n",
    "    if reihe>0:\n",
    "        next_states = next_states | {moveDown(State,reihe,spalte)}\n",
    "    #moveright\n",
    "    if spalte>0:\n",
    "        next_states = next_states | {moveRight(State,reihe,spalte)}\n",
    "        \n",
    "    #moveleft\n",
    "    if spalte<2:\n",
    "        next_states = next_states | {moveLeft(State,reihe,spalte)}\n",
    "        \n",
    "        \n",
    "    return next_states\n",
    "    \n",
    "    \n",
    "    \n",
    "    \n",
    "    \n",
    "    "
   ]
  },
  {
   "cell_type": "code",
   "execution_count": 49,
   "metadata": {},
   "outputs": [
    {
     "data": {
      "text/plain": [
       "{((1, 0, 3), (4, 2, 5), (6, 7, 8)),\n",
       " ((1, 2, 3), (0, 4, 5), (6, 7, 8)),\n",
       " ((1, 2, 3), (4, 5, 0), (6, 7, 8)),\n",
       " ((1, 2, 3), (4, 7, 5), (6, 0, 8))}"
      ]
     },
     "execution_count": 49,
     "metadata": {},
     "output_type": "execute_result"
    }
   ],
   "source": [
    "nextStates(test)\n",
    "\n"
   ]
  },
  {
   "cell_type": "markdown",
   "metadata": {},
   "source": [
    "The computation of the relation `R` might take about 10 seconds. The reason is that `R` contains $967,680$ different pairs."
   ]
  },
  {
   "cell_type": "markdown",
   "metadata": {},
   "source": [
    "The following computation takes about 3 seconds on my desktop computer, which has an 3,4 GHz Quad-Core Intel Core i5 (7500) Prozessor.   "
   ]
  },
  {
   "cell_type": "code",
   "execution_count": 50,
   "metadata": {},
   "outputs": [
    {
     "name": "stdout",
     "output_type": "stream",
     "text": [
      "Iteration 1: 3 new states found.\n",
      "Iteration 2: 5 new states found.\n",
      "Iteration 3: 10 new states found.\n",
      "Iteration 4: 14 new states found.\n",
      "Iteration 5: 28 new states found.\n",
      "Iteration 6: 42 new states found.\n",
      "Iteration 7: 80 new states found.\n",
      "Iteration 8: 108 new states found.\n",
      "Iteration 9: 202 new states found.\n",
      "Iteration 10: 278 new states found.\n",
      "Iteration 11: 524 new states found.\n",
      "Iteration 12: 726 new states found.\n",
      "Iteration 13: 1348 new states found.\n",
      "Iteration 14: 1804 new states found.\n",
      "Iteration 15: 3283 new states found.\n",
      "Iteration 16: 4193 new states found.\n",
      "Iteration 17: 7322 new states found.\n",
      "Iteration 18: 8596 new states found.\n",
      "Iteration 19: 13930 new states found.\n",
      "Iteration 20: 14713 new states found.\n",
      "Iteration 21: 21721 new states found.\n",
      "Iteration 22: 19827 new states found.\n",
      "Iteration 23: 25132 new states found.\n",
      "Iteration 24: 18197 new states found.\n",
      "Iteration 25: 18978 new states found.\n",
      "Iteration 26: 9929 new states found.\n",
      "Iteration 27: 7359 new states found.\n",
      "Iteration 28: 2081 new states found.\n",
      "Iteration 29: 878 new states found.\n",
      "Iteration 30: 126 new states found.\n",
      "Wall time: 3.42 s\n"
     ]
    }
   ],
   "source": [
    "%%time\n",
    "Path = search(nextStates, start, goal)"
   ]
  },
  {
   "cell_type": "markdown",
   "metadata": {},
   "source": [
    "The tuple Path that is a solution to the sliding problem has a length of **32**.  If your path is shorter, then you have to inspect it carefully to identify the problem.  In order to do this, use the function <tt>printPath</tt> that is implemented at the bottom of this notebook."
   ]
  },
  {
   "cell_type": "code",
   "execution_count": 51,
   "metadata": {},
   "outputs": [
    {
     "data": {
      "text/plain": [
       "32"
      ]
     },
     "execution_count": 51,
     "metadata": {},
     "output_type": "execute_result"
    }
   ],
   "source": [
    "len(Path)"
   ]
  },
  {
   "cell_type": "markdown",
   "metadata": {},
   "source": [
    "Print the solution via `HTML` tables."
   ]
  },
  {
   "cell_type": "code",
   "execution_count": 52,
   "metadata": {
    "scrolled": false
   },
   "outputs": [
    {
     "data": {
      "text/html": [
       "<table style=\"border:2px solid darkblue;border-style:double;border-width:4px;\">\n",
       "<tr><td style=\"border:2px solid black;border-style:groove;border-width:8px;padding:15px;font-size:150%;background-color: salmon;\">8</td><td style=\"border:2px solid black;border-style:groove;border-width:8px;padding:15px;font-size:150%;background-color: white;\"></td><td style=\"border:2px solid black;border-style:groove;border-width:8px;padding:15px;font-size:150%;background-color: yellow;\">6</td></tr>\n",
       "<tr><td style=\"border:2px solid black;border-style:groove;border-width:8px;padding:15px;font-size:150%;background-color: red;\">5</td><td style=\"border:2px solid black;border-style:groove;border-width:8px;padding:15px;font-size:150%;background-color: orange;\">4</td><td style=\"border:2px solid black;border-style:groove;border-width:8px;padding:15px;font-size:150%;background-color: lightgreen;\">7</td></tr>\n",
       "<tr><td style=\"border:2px solid black;border-style:groove;border-width:8px;padding:15px;font-size:150%;background-color: pink;\">2</td><td style=\"border:2px solid black;border-style:groove;border-width:8px;padding:15px;font-size:150%;background-color: magenta;\">3</td><td style=\"border:2px solid black;border-style:groove;border-width:8px;padding:15px;font-size:150%;background-color: lightblue;\">1</td></tr>\n",
       "</table>"
      ],
      "text/plain": [
       "<IPython.core.display.HTML object>"
      ]
     },
     "metadata": {},
     "output_type": "display_data"
    },
    {
     "data": {
      "text/html": [
       "<table style=\"border:2px solid darkblue;border-style:double;border-width:4px;\">\n",
       "<tr><td style=\"border:2px solid black;border-style:groove;border-width:8px;padding:15px;font-size:150%;background-color: white;\"></td><td style=\"border:2px solid black;border-style:groove;border-width:8px;padding:15px;font-size:150%;background-color: salmon;\">8</td><td style=\"border:2px solid black;border-style:groove;border-width:8px;padding:15px;font-size:150%;background-color: yellow;\">6</td></tr>\n",
       "<tr><td style=\"border:2px solid black;border-style:groove;border-width:8px;padding:15px;font-size:150%;background-color: red;\">5</td><td style=\"border:2px solid black;border-style:groove;border-width:8px;padding:15px;font-size:150%;background-color: orange;\">4</td><td style=\"border:2px solid black;border-style:groove;border-width:8px;padding:15px;font-size:150%;background-color: lightgreen;\">7</td></tr>\n",
       "<tr><td style=\"border:2px solid black;border-style:groove;border-width:8px;padding:15px;font-size:150%;background-color: pink;\">2</td><td style=\"border:2px solid black;border-style:groove;border-width:8px;padding:15px;font-size:150%;background-color: magenta;\">3</td><td style=\"border:2px solid black;border-style:groove;border-width:8px;padding:15px;font-size:150%;background-color: lightblue;\">1</td></tr>\n",
       "</table>"
      ],
      "text/plain": [
       "<IPython.core.display.HTML object>"
      ]
     },
     "metadata": {},
     "output_type": "display_data"
    },
    {
     "data": {
      "text/html": [
       "<table style=\"border:2px solid darkblue;border-style:double;border-width:4px;\">\n",
       "<tr><td style=\"border:2px solid black;border-style:groove;border-width:8px;padding:15px;font-size:150%;background-color: red;\">5</td><td style=\"border:2px solid black;border-style:groove;border-width:8px;padding:15px;font-size:150%;background-color: salmon;\">8</td><td style=\"border:2px solid black;border-style:groove;border-width:8px;padding:15px;font-size:150%;background-color: yellow;\">6</td></tr>\n",
       "<tr><td style=\"border:2px solid black;border-style:groove;border-width:8px;padding:15px;font-size:150%;background-color: white;\"></td><td style=\"border:2px solid black;border-style:groove;border-width:8px;padding:15px;font-size:150%;background-color: orange;\">4</td><td style=\"border:2px solid black;border-style:groove;border-width:8px;padding:15px;font-size:150%;background-color: lightgreen;\">7</td></tr>\n",
       "<tr><td style=\"border:2px solid black;border-style:groove;border-width:8px;padding:15px;font-size:150%;background-color: pink;\">2</td><td style=\"border:2px solid black;border-style:groove;border-width:8px;padding:15px;font-size:150%;background-color: magenta;\">3</td><td style=\"border:2px solid black;border-style:groove;border-width:8px;padding:15px;font-size:150%;background-color: lightblue;\">1</td></tr>\n",
       "</table>"
      ],
      "text/plain": [
       "<IPython.core.display.HTML object>"
      ]
     },
     "metadata": {},
     "output_type": "display_data"
    },
    {
     "data": {
      "text/html": [
       "<table style=\"border:2px solid darkblue;border-style:double;border-width:4px;\">\n",
       "<tr><td style=\"border:2px solid black;border-style:groove;border-width:8px;padding:15px;font-size:150%;background-color: red;\">5</td><td style=\"border:2px solid black;border-style:groove;border-width:8px;padding:15px;font-size:150%;background-color: salmon;\">8</td><td style=\"border:2px solid black;border-style:groove;border-width:8px;padding:15px;font-size:150%;background-color: yellow;\">6</td></tr>\n",
       "<tr><td style=\"border:2px solid black;border-style:groove;border-width:8px;padding:15px;font-size:150%;background-color: pink;\">2</td><td style=\"border:2px solid black;border-style:groove;border-width:8px;padding:15px;font-size:150%;background-color: orange;\">4</td><td style=\"border:2px solid black;border-style:groove;border-width:8px;padding:15px;font-size:150%;background-color: lightgreen;\">7</td></tr>\n",
       "<tr><td style=\"border:2px solid black;border-style:groove;border-width:8px;padding:15px;font-size:150%;background-color: white;\"></td><td style=\"border:2px solid black;border-style:groove;border-width:8px;padding:15px;font-size:150%;background-color: magenta;\">3</td><td style=\"border:2px solid black;border-style:groove;border-width:8px;padding:15px;font-size:150%;background-color: lightblue;\">1</td></tr>\n",
       "</table>"
      ],
      "text/plain": [
       "<IPython.core.display.HTML object>"
      ]
     },
     "metadata": {},
     "output_type": "display_data"
    },
    {
     "data": {
      "text/html": [
       "<table style=\"border:2px solid darkblue;border-style:double;border-width:4px;\">\n",
       "<tr><td style=\"border:2px solid black;border-style:groove;border-width:8px;padding:15px;font-size:150%;background-color: red;\">5</td><td style=\"border:2px solid black;border-style:groove;border-width:8px;padding:15px;font-size:150%;background-color: salmon;\">8</td><td style=\"border:2px solid black;border-style:groove;border-width:8px;padding:15px;font-size:150%;background-color: yellow;\">6</td></tr>\n",
       "<tr><td style=\"border:2px solid black;border-style:groove;border-width:8px;padding:15px;font-size:150%;background-color: pink;\">2</td><td style=\"border:2px solid black;border-style:groove;border-width:8px;padding:15px;font-size:150%;background-color: orange;\">4</td><td style=\"border:2px solid black;border-style:groove;border-width:8px;padding:15px;font-size:150%;background-color: lightgreen;\">7</td></tr>\n",
       "<tr><td style=\"border:2px solid black;border-style:groove;border-width:8px;padding:15px;font-size:150%;background-color: magenta;\">3</td><td style=\"border:2px solid black;border-style:groove;border-width:8px;padding:15px;font-size:150%;background-color: white;\"></td><td style=\"border:2px solid black;border-style:groove;border-width:8px;padding:15px;font-size:150%;background-color: lightblue;\">1</td></tr>\n",
       "</table>"
      ],
      "text/plain": [
       "<IPython.core.display.HTML object>"
      ]
     },
     "metadata": {},
     "output_type": "display_data"
    },
    {
     "data": {
      "text/html": [
       "<table style=\"border:2px solid darkblue;border-style:double;border-width:4px;\">\n",
       "<tr><td style=\"border:2px solid black;border-style:groove;border-width:8px;padding:15px;font-size:150%;background-color: red;\">5</td><td style=\"border:2px solid black;border-style:groove;border-width:8px;padding:15px;font-size:150%;background-color: salmon;\">8</td><td style=\"border:2px solid black;border-style:groove;border-width:8px;padding:15px;font-size:150%;background-color: yellow;\">6</td></tr>\n",
       "<tr><td style=\"border:2px solid black;border-style:groove;border-width:8px;padding:15px;font-size:150%;background-color: pink;\">2</td><td style=\"border:2px solid black;border-style:groove;border-width:8px;padding:15px;font-size:150%;background-color: orange;\">4</td><td style=\"border:2px solid black;border-style:groove;border-width:8px;padding:15px;font-size:150%;background-color: lightgreen;\">7</td></tr>\n",
       "<tr><td style=\"border:2px solid black;border-style:groove;border-width:8px;padding:15px;font-size:150%;background-color: magenta;\">3</td><td style=\"border:2px solid black;border-style:groove;border-width:8px;padding:15px;font-size:150%;background-color: lightblue;\">1</td><td style=\"border:2px solid black;border-style:groove;border-width:8px;padding:15px;font-size:150%;background-color: white;\"></td></tr>\n",
       "</table>"
      ],
      "text/plain": [
       "<IPython.core.display.HTML object>"
      ]
     },
     "metadata": {},
     "output_type": "display_data"
    },
    {
     "data": {
      "text/html": [
       "<table style=\"border:2px solid darkblue;border-style:double;border-width:4px;\">\n",
       "<tr><td style=\"border:2px solid black;border-style:groove;border-width:8px;padding:15px;font-size:150%;background-color: red;\">5</td><td style=\"border:2px solid black;border-style:groove;border-width:8px;padding:15px;font-size:150%;background-color: salmon;\">8</td><td style=\"border:2px solid black;border-style:groove;border-width:8px;padding:15px;font-size:150%;background-color: yellow;\">6</td></tr>\n",
       "<tr><td style=\"border:2px solid black;border-style:groove;border-width:8px;padding:15px;font-size:150%;background-color: pink;\">2</td><td style=\"border:2px solid black;border-style:groove;border-width:8px;padding:15px;font-size:150%;background-color: orange;\">4</td><td style=\"border:2px solid black;border-style:groove;border-width:8px;padding:15px;font-size:150%;background-color: white;\"></td></tr>\n",
       "<tr><td style=\"border:2px solid black;border-style:groove;border-width:8px;padding:15px;font-size:150%;background-color: magenta;\">3</td><td style=\"border:2px solid black;border-style:groove;border-width:8px;padding:15px;font-size:150%;background-color: lightblue;\">1</td><td style=\"border:2px solid black;border-style:groove;border-width:8px;padding:15px;font-size:150%;background-color: lightgreen;\">7</td></tr>\n",
       "</table>"
      ],
      "text/plain": [
       "<IPython.core.display.HTML object>"
      ]
     },
     "metadata": {},
     "output_type": "display_data"
    },
    {
     "data": {
      "text/html": [
       "<table style=\"border:2px solid darkblue;border-style:double;border-width:4px;\">\n",
       "<tr><td style=\"border:2px solid black;border-style:groove;border-width:8px;padding:15px;font-size:150%;background-color: red;\">5</td><td style=\"border:2px solid black;border-style:groove;border-width:8px;padding:15px;font-size:150%;background-color: salmon;\">8</td><td style=\"border:2px solid black;border-style:groove;border-width:8px;padding:15px;font-size:150%;background-color: white;\"></td></tr>\n",
       "<tr><td style=\"border:2px solid black;border-style:groove;border-width:8px;padding:15px;font-size:150%;background-color: pink;\">2</td><td style=\"border:2px solid black;border-style:groove;border-width:8px;padding:15px;font-size:150%;background-color: orange;\">4</td><td style=\"border:2px solid black;border-style:groove;border-width:8px;padding:15px;font-size:150%;background-color: yellow;\">6</td></tr>\n",
       "<tr><td style=\"border:2px solid black;border-style:groove;border-width:8px;padding:15px;font-size:150%;background-color: magenta;\">3</td><td style=\"border:2px solid black;border-style:groove;border-width:8px;padding:15px;font-size:150%;background-color: lightblue;\">1</td><td style=\"border:2px solid black;border-style:groove;border-width:8px;padding:15px;font-size:150%;background-color: lightgreen;\">7</td></tr>\n",
       "</table>"
      ],
      "text/plain": [
       "<IPython.core.display.HTML object>"
      ]
     },
     "metadata": {},
     "output_type": "display_data"
    },
    {
     "data": {
      "text/html": [
       "<table style=\"border:2px solid darkblue;border-style:double;border-width:4px;\">\n",
       "<tr><td style=\"border:2px solid black;border-style:groove;border-width:8px;padding:15px;font-size:150%;background-color: red;\">5</td><td style=\"border:2px solid black;border-style:groove;border-width:8px;padding:15px;font-size:150%;background-color: white;\"></td><td style=\"border:2px solid black;border-style:groove;border-width:8px;padding:15px;font-size:150%;background-color: salmon;\">8</td></tr>\n",
       "<tr><td style=\"border:2px solid black;border-style:groove;border-width:8px;padding:15px;font-size:150%;background-color: pink;\">2</td><td style=\"border:2px solid black;border-style:groove;border-width:8px;padding:15px;font-size:150%;background-color: orange;\">4</td><td style=\"border:2px solid black;border-style:groove;border-width:8px;padding:15px;font-size:150%;background-color: yellow;\">6</td></tr>\n",
       "<tr><td style=\"border:2px solid black;border-style:groove;border-width:8px;padding:15px;font-size:150%;background-color: magenta;\">3</td><td style=\"border:2px solid black;border-style:groove;border-width:8px;padding:15px;font-size:150%;background-color: lightblue;\">1</td><td style=\"border:2px solid black;border-style:groove;border-width:8px;padding:15px;font-size:150%;background-color: lightgreen;\">7</td></tr>\n",
       "</table>"
      ],
      "text/plain": [
       "<IPython.core.display.HTML object>"
      ]
     },
     "metadata": {},
     "output_type": "display_data"
    },
    {
     "data": {
      "text/html": [
       "<table style=\"border:2px solid darkblue;border-style:double;border-width:4px;\">\n",
       "<tr><td style=\"border:2px solid black;border-style:groove;border-width:8px;padding:15px;font-size:150%;background-color: white;\"></td><td style=\"border:2px solid black;border-style:groove;border-width:8px;padding:15px;font-size:150%;background-color: red;\">5</td><td style=\"border:2px solid black;border-style:groove;border-width:8px;padding:15px;font-size:150%;background-color: salmon;\">8</td></tr>\n",
       "<tr><td style=\"border:2px solid black;border-style:groove;border-width:8px;padding:15px;font-size:150%;background-color: pink;\">2</td><td style=\"border:2px solid black;border-style:groove;border-width:8px;padding:15px;font-size:150%;background-color: orange;\">4</td><td style=\"border:2px solid black;border-style:groove;border-width:8px;padding:15px;font-size:150%;background-color: yellow;\">6</td></tr>\n",
       "<tr><td style=\"border:2px solid black;border-style:groove;border-width:8px;padding:15px;font-size:150%;background-color: magenta;\">3</td><td style=\"border:2px solid black;border-style:groove;border-width:8px;padding:15px;font-size:150%;background-color: lightblue;\">1</td><td style=\"border:2px solid black;border-style:groove;border-width:8px;padding:15px;font-size:150%;background-color: lightgreen;\">7</td></tr>\n",
       "</table>"
      ],
      "text/plain": [
       "<IPython.core.display.HTML object>"
      ]
     },
     "metadata": {},
     "output_type": "display_data"
    },
    {
     "data": {
      "text/html": [
       "<table style=\"border:2px solid darkblue;border-style:double;border-width:4px;\">\n",
       "<tr><td style=\"border:2px solid black;border-style:groove;border-width:8px;padding:15px;font-size:150%;background-color: pink;\">2</td><td style=\"border:2px solid black;border-style:groove;border-width:8px;padding:15px;font-size:150%;background-color: red;\">5</td><td style=\"border:2px solid black;border-style:groove;border-width:8px;padding:15px;font-size:150%;background-color: salmon;\">8</td></tr>\n",
       "<tr><td style=\"border:2px solid black;border-style:groove;border-width:8px;padding:15px;font-size:150%;background-color: white;\"></td><td style=\"border:2px solid black;border-style:groove;border-width:8px;padding:15px;font-size:150%;background-color: orange;\">4</td><td style=\"border:2px solid black;border-style:groove;border-width:8px;padding:15px;font-size:150%;background-color: yellow;\">6</td></tr>\n",
       "<tr><td style=\"border:2px solid black;border-style:groove;border-width:8px;padding:15px;font-size:150%;background-color: magenta;\">3</td><td style=\"border:2px solid black;border-style:groove;border-width:8px;padding:15px;font-size:150%;background-color: lightblue;\">1</td><td style=\"border:2px solid black;border-style:groove;border-width:8px;padding:15px;font-size:150%;background-color: lightgreen;\">7</td></tr>\n",
       "</table>"
      ],
      "text/plain": [
       "<IPython.core.display.HTML object>"
      ]
     },
     "metadata": {},
     "output_type": "display_data"
    },
    {
     "data": {
      "text/html": [
       "<table style=\"border:2px solid darkblue;border-style:double;border-width:4px;\">\n",
       "<tr><td style=\"border:2px solid black;border-style:groove;border-width:8px;padding:15px;font-size:150%;background-color: pink;\">2</td><td style=\"border:2px solid black;border-style:groove;border-width:8px;padding:15px;font-size:150%;background-color: red;\">5</td><td style=\"border:2px solid black;border-style:groove;border-width:8px;padding:15px;font-size:150%;background-color: salmon;\">8</td></tr>\n",
       "<tr><td style=\"border:2px solid black;border-style:groove;border-width:8px;padding:15px;font-size:150%;background-color: orange;\">4</td><td style=\"border:2px solid black;border-style:groove;border-width:8px;padding:15px;font-size:150%;background-color: white;\"></td><td style=\"border:2px solid black;border-style:groove;border-width:8px;padding:15px;font-size:150%;background-color: yellow;\">6</td></tr>\n",
       "<tr><td style=\"border:2px solid black;border-style:groove;border-width:8px;padding:15px;font-size:150%;background-color: magenta;\">3</td><td style=\"border:2px solid black;border-style:groove;border-width:8px;padding:15px;font-size:150%;background-color: lightblue;\">1</td><td style=\"border:2px solid black;border-style:groove;border-width:8px;padding:15px;font-size:150%;background-color: lightgreen;\">7</td></tr>\n",
       "</table>"
      ],
      "text/plain": [
       "<IPython.core.display.HTML object>"
      ]
     },
     "metadata": {},
     "output_type": "display_data"
    },
    {
     "data": {
      "text/html": [
       "<table style=\"border:2px solid darkblue;border-style:double;border-width:4px;\">\n",
       "<tr><td style=\"border:2px solid black;border-style:groove;border-width:8px;padding:15px;font-size:150%;background-color: pink;\">2</td><td style=\"border:2px solid black;border-style:groove;border-width:8px;padding:15px;font-size:150%;background-color: red;\">5</td><td style=\"border:2px solid black;border-style:groove;border-width:8px;padding:15px;font-size:150%;background-color: salmon;\">8</td></tr>\n",
       "<tr><td style=\"border:2px solid black;border-style:groove;border-width:8px;padding:15px;font-size:150%;background-color: orange;\">4</td><td style=\"border:2px solid black;border-style:groove;border-width:8px;padding:15px;font-size:150%;background-color: yellow;\">6</td><td style=\"border:2px solid black;border-style:groove;border-width:8px;padding:15px;font-size:150%;background-color: white;\"></td></tr>\n",
       "<tr><td style=\"border:2px solid black;border-style:groove;border-width:8px;padding:15px;font-size:150%;background-color: magenta;\">3</td><td style=\"border:2px solid black;border-style:groove;border-width:8px;padding:15px;font-size:150%;background-color: lightblue;\">1</td><td style=\"border:2px solid black;border-style:groove;border-width:8px;padding:15px;font-size:150%;background-color: lightgreen;\">7</td></tr>\n",
       "</table>"
      ],
      "text/plain": [
       "<IPython.core.display.HTML object>"
      ]
     },
     "metadata": {},
     "output_type": "display_data"
    },
    {
     "data": {
      "text/html": [
       "<table style=\"border:2px solid darkblue;border-style:double;border-width:4px;\">\n",
       "<tr><td style=\"border:2px solid black;border-style:groove;border-width:8px;padding:15px;font-size:150%;background-color: pink;\">2</td><td style=\"border:2px solid black;border-style:groove;border-width:8px;padding:15px;font-size:150%;background-color: red;\">5</td><td style=\"border:2px solid black;border-style:groove;border-width:8px;padding:15px;font-size:150%;background-color: white;\"></td></tr>\n",
       "<tr><td style=\"border:2px solid black;border-style:groove;border-width:8px;padding:15px;font-size:150%;background-color: orange;\">4</td><td style=\"border:2px solid black;border-style:groove;border-width:8px;padding:15px;font-size:150%;background-color: yellow;\">6</td><td style=\"border:2px solid black;border-style:groove;border-width:8px;padding:15px;font-size:150%;background-color: salmon;\">8</td></tr>\n",
       "<tr><td style=\"border:2px solid black;border-style:groove;border-width:8px;padding:15px;font-size:150%;background-color: magenta;\">3</td><td style=\"border:2px solid black;border-style:groove;border-width:8px;padding:15px;font-size:150%;background-color: lightblue;\">1</td><td style=\"border:2px solid black;border-style:groove;border-width:8px;padding:15px;font-size:150%;background-color: lightgreen;\">7</td></tr>\n",
       "</table>"
      ],
      "text/plain": [
       "<IPython.core.display.HTML object>"
      ]
     },
     "metadata": {},
     "output_type": "display_data"
    },
    {
     "data": {
      "text/html": [
       "<table style=\"border:2px solid darkblue;border-style:double;border-width:4px;\">\n",
       "<tr><td style=\"border:2px solid black;border-style:groove;border-width:8px;padding:15px;font-size:150%;background-color: pink;\">2</td><td style=\"border:2px solid black;border-style:groove;border-width:8px;padding:15px;font-size:150%;background-color: white;\"></td><td style=\"border:2px solid black;border-style:groove;border-width:8px;padding:15px;font-size:150%;background-color: red;\">5</td></tr>\n",
       "<tr><td style=\"border:2px solid black;border-style:groove;border-width:8px;padding:15px;font-size:150%;background-color: orange;\">4</td><td style=\"border:2px solid black;border-style:groove;border-width:8px;padding:15px;font-size:150%;background-color: yellow;\">6</td><td style=\"border:2px solid black;border-style:groove;border-width:8px;padding:15px;font-size:150%;background-color: salmon;\">8</td></tr>\n",
       "<tr><td style=\"border:2px solid black;border-style:groove;border-width:8px;padding:15px;font-size:150%;background-color: magenta;\">3</td><td style=\"border:2px solid black;border-style:groove;border-width:8px;padding:15px;font-size:150%;background-color: lightblue;\">1</td><td style=\"border:2px solid black;border-style:groove;border-width:8px;padding:15px;font-size:150%;background-color: lightgreen;\">7</td></tr>\n",
       "</table>"
      ],
      "text/plain": [
       "<IPython.core.display.HTML object>"
      ]
     },
     "metadata": {},
     "output_type": "display_data"
    },
    {
     "data": {
      "text/html": [
       "<table style=\"border:2px solid darkblue;border-style:double;border-width:4px;\">\n",
       "<tr><td style=\"border:2px solid black;border-style:groove;border-width:8px;padding:15px;font-size:150%;background-color: white;\"></td><td style=\"border:2px solid black;border-style:groove;border-width:8px;padding:15px;font-size:150%;background-color: pink;\">2</td><td style=\"border:2px solid black;border-style:groove;border-width:8px;padding:15px;font-size:150%;background-color: red;\">5</td></tr>\n",
       "<tr><td style=\"border:2px solid black;border-style:groove;border-width:8px;padding:15px;font-size:150%;background-color: orange;\">4</td><td style=\"border:2px solid black;border-style:groove;border-width:8px;padding:15px;font-size:150%;background-color: yellow;\">6</td><td style=\"border:2px solid black;border-style:groove;border-width:8px;padding:15px;font-size:150%;background-color: salmon;\">8</td></tr>\n",
       "<tr><td style=\"border:2px solid black;border-style:groove;border-width:8px;padding:15px;font-size:150%;background-color: magenta;\">3</td><td style=\"border:2px solid black;border-style:groove;border-width:8px;padding:15px;font-size:150%;background-color: lightblue;\">1</td><td style=\"border:2px solid black;border-style:groove;border-width:8px;padding:15px;font-size:150%;background-color: lightgreen;\">7</td></tr>\n",
       "</table>"
      ],
      "text/plain": [
       "<IPython.core.display.HTML object>"
      ]
     },
     "metadata": {},
     "output_type": "display_data"
    },
    {
     "data": {
      "text/html": [
       "<table style=\"border:2px solid darkblue;border-style:double;border-width:4px;\">\n",
       "<tr><td style=\"border:2px solid black;border-style:groove;border-width:8px;padding:15px;font-size:150%;background-color: orange;\">4</td><td style=\"border:2px solid black;border-style:groove;border-width:8px;padding:15px;font-size:150%;background-color: pink;\">2</td><td style=\"border:2px solid black;border-style:groove;border-width:8px;padding:15px;font-size:150%;background-color: red;\">5</td></tr>\n",
       "<tr><td style=\"border:2px solid black;border-style:groove;border-width:8px;padding:15px;font-size:150%;background-color: white;\"></td><td style=\"border:2px solid black;border-style:groove;border-width:8px;padding:15px;font-size:150%;background-color: yellow;\">6</td><td style=\"border:2px solid black;border-style:groove;border-width:8px;padding:15px;font-size:150%;background-color: salmon;\">8</td></tr>\n",
       "<tr><td style=\"border:2px solid black;border-style:groove;border-width:8px;padding:15px;font-size:150%;background-color: magenta;\">3</td><td style=\"border:2px solid black;border-style:groove;border-width:8px;padding:15px;font-size:150%;background-color: lightblue;\">1</td><td style=\"border:2px solid black;border-style:groove;border-width:8px;padding:15px;font-size:150%;background-color: lightgreen;\">7</td></tr>\n",
       "</table>"
      ],
      "text/plain": [
       "<IPython.core.display.HTML object>"
      ]
     },
     "metadata": {},
     "output_type": "display_data"
    },
    {
     "data": {
      "text/html": [
       "<table style=\"border:2px solid darkblue;border-style:double;border-width:4px;\">\n",
       "<tr><td style=\"border:2px solid black;border-style:groove;border-width:8px;padding:15px;font-size:150%;background-color: orange;\">4</td><td style=\"border:2px solid black;border-style:groove;border-width:8px;padding:15px;font-size:150%;background-color: pink;\">2</td><td style=\"border:2px solid black;border-style:groove;border-width:8px;padding:15px;font-size:150%;background-color: red;\">5</td></tr>\n",
       "<tr><td style=\"border:2px solid black;border-style:groove;border-width:8px;padding:15px;font-size:150%;background-color: yellow;\">6</td><td style=\"border:2px solid black;border-style:groove;border-width:8px;padding:15px;font-size:150%;background-color: white;\"></td><td style=\"border:2px solid black;border-style:groove;border-width:8px;padding:15px;font-size:150%;background-color: salmon;\">8</td></tr>\n",
       "<tr><td style=\"border:2px solid black;border-style:groove;border-width:8px;padding:15px;font-size:150%;background-color: magenta;\">3</td><td style=\"border:2px solid black;border-style:groove;border-width:8px;padding:15px;font-size:150%;background-color: lightblue;\">1</td><td style=\"border:2px solid black;border-style:groove;border-width:8px;padding:15px;font-size:150%;background-color: lightgreen;\">7</td></tr>\n",
       "</table>"
      ],
      "text/plain": [
       "<IPython.core.display.HTML object>"
      ]
     },
     "metadata": {},
     "output_type": "display_data"
    },
    {
     "data": {
      "text/html": [
       "<table style=\"border:2px solid darkblue;border-style:double;border-width:4px;\">\n",
       "<tr><td style=\"border:2px solid black;border-style:groove;border-width:8px;padding:15px;font-size:150%;background-color: orange;\">4</td><td style=\"border:2px solid black;border-style:groove;border-width:8px;padding:15px;font-size:150%;background-color: pink;\">2</td><td style=\"border:2px solid black;border-style:groove;border-width:8px;padding:15px;font-size:150%;background-color: red;\">5</td></tr>\n",
       "<tr><td style=\"border:2px solid black;border-style:groove;border-width:8px;padding:15px;font-size:150%;background-color: yellow;\">6</td><td style=\"border:2px solid black;border-style:groove;border-width:8px;padding:15px;font-size:150%;background-color: lightblue;\">1</td><td style=\"border:2px solid black;border-style:groove;border-width:8px;padding:15px;font-size:150%;background-color: salmon;\">8</td></tr>\n",
       "<tr><td style=\"border:2px solid black;border-style:groove;border-width:8px;padding:15px;font-size:150%;background-color: magenta;\">3</td><td style=\"border:2px solid black;border-style:groove;border-width:8px;padding:15px;font-size:150%;background-color: white;\"></td><td style=\"border:2px solid black;border-style:groove;border-width:8px;padding:15px;font-size:150%;background-color: lightgreen;\">7</td></tr>\n",
       "</table>"
      ],
      "text/plain": [
       "<IPython.core.display.HTML object>"
      ]
     },
     "metadata": {},
     "output_type": "display_data"
    },
    {
     "data": {
      "text/html": [
       "<table style=\"border:2px solid darkblue;border-style:double;border-width:4px;\">\n",
       "<tr><td style=\"border:2px solid black;border-style:groove;border-width:8px;padding:15px;font-size:150%;background-color: orange;\">4</td><td style=\"border:2px solid black;border-style:groove;border-width:8px;padding:15px;font-size:150%;background-color: pink;\">2</td><td style=\"border:2px solid black;border-style:groove;border-width:8px;padding:15px;font-size:150%;background-color: red;\">5</td></tr>\n",
       "<tr><td style=\"border:2px solid black;border-style:groove;border-width:8px;padding:15px;font-size:150%;background-color: yellow;\">6</td><td style=\"border:2px solid black;border-style:groove;border-width:8px;padding:15px;font-size:150%;background-color: lightblue;\">1</td><td style=\"border:2px solid black;border-style:groove;border-width:8px;padding:15px;font-size:150%;background-color: salmon;\">8</td></tr>\n",
       "<tr><td style=\"border:2px solid black;border-style:groove;border-width:8px;padding:15px;font-size:150%;background-color: white;\"></td><td style=\"border:2px solid black;border-style:groove;border-width:8px;padding:15px;font-size:150%;background-color: magenta;\">3</td><td style=\"border:2px solid black;border-style:groove;border-width:8px;padding:15px;font-size:150%;background-color: lightgreen;\">7</td></tr>\n",
       "</table>"
      ],
      "text/plain": [
       "<IPython.core.display.HTML object>"
      ]
     },
     "metadata": {},
     "output_type": "display_data"
    },
    {
     "data": {
      "text/html": [
       "<table style=\"border:2px solid darkblue;border-style:double;border-width:4px;\">\n",
       "<tr><td style=\"border:2px solid black;border-style:groove;border-width:8px;padding:15px;font-size:150%;background-color: orange;\">4</td><td style=\"border:2px solid black;border-style:groove;border-width:8px;padding:15px;font-size:150%;background-color: pink;\">2</td><td style=\"border:2px solid black;border-style:groove;border-width:8px;padding:15px;font-size:150%;background-color: red;\">5</td></tr>\n",
       "<tr><td style=\"border:2px solid black;border-style:groove;border-width:8px;padding:15px;font-size:150%;background-color: white;\"></td><td style=\"border:2px solid black;border-style:groove;border-width:8px;padding:15px;font-size:150%;background-color: lightblue;\">1</td><td style=\"border:2px solid black;border-style:groove;border-width:8px;padding:15px;font-size:150%;background-color: salmon;\">8</td></tr>\n",
       "<tr><td style=\"border:2px solid black;border-style:groove;border-width:8px;padding:15px;font-size:150%;background-color: yellow;\">6</td><td style=\"border:2px solid black;border-style:groove;border-width:8px;padding:15px;font-size:150%;background-color: magenta;\">3</td><td style=\"border:2px solid black;border-style:groove;border-width:8px;padding:15px;font-size:150%;background-color: lightgreen;\">7</td></tr>\n",
       "</table>"
      ],
      "text/plain": [
       "<IPython.core.display.HTML object>"
      ]
     },
     "metadata": {},
     "output_type": "display_data"
    },
    {
     "data": {
      "text/html": [
       "<table style=\"border:2px solid darkblue;border-style:double;border-width:4px;\">\n",
       "<tr><td style=\"border:2px solid black;border-style:groove;border-width:8px;padding:15px;font-size:150%;background-color: orange;\">4</td><td style=\"border:2px solid black;border-style:groove;border-width:8px;padding:15px;font-size:150%;background-color: pink;\">2</td><td style=\"border:2px solid black;border-style:groove;border-width:8px;padding:15px;font-size:150%;background-color: red;\">5</td></tr>\n",
       "<tr><td style=\"border:2px solid black;border-style:groove;border-width:8px;padding:15px;font-size:150%;background-color: lightblue;\">1</td><td style=\"border:2px solid black;border-style:groove;border-width:8px;padding:15px;font-size:150%;background-color: white;\"></td><td style=\"border:2px solid black;border-style:groove;border-width:8px;padding:15px;font-size:150%;background-color: salmon;\">8</td></tr>\n",
       "<tr><td style=\"border:2px solid black;border-style:groove;border-width:8px;padding:15px;font-size:150%;background-color: yellow;\">6</td><td style=\"border:2px solid black;border-style:groove;border-width:8px;padding:15px;font-size:150%;background-color: magenta;\">3</td><td style=\"border:2px solid black;border-style:groove;border-width:8px;padding:15px;font-size:150%;background-color: lightgreen;\">7</td></tr>\n",
       "</table>"
      ],
      "text/plain": [
       "<IPython.core.display.HTML object>"
      ]
     },
     "metadata": {},
     "output_type": "display_data"
    },
    {
     "data": {
      "text/html": [
       "<table style=\"border:2px solid darkblue;border-style:double;border-width:4px;\">\n",
       "<tr><td style=\"border:2px solid black;border-style:groove;border-width:8px;padding:15px;font-size:150%;background-color: orange;\">4</td><td style=\"border:2px solid black;border-style:groove;border-width:8px;padding:15px;font-size:150%;background-color: pink;\">2</td><td style=\"border:2px solid black;border-style:groove;border-width:8px;padding:15px;font-size:150%;background-color: red;\">5</td></tr>\n",
       "<tr><td style=\"border:2px solid black;border-style:groove;border-width:8px;padding:15px;font-size:150%;background-color: lightblue;\">1</td><td style=\"border:2px solid black;border-style:groove;border-width:8px;padding:15px;font-size:150%;background-color: magenta;\">3</td><td style=\"border:2px solid black;border-style:groove;border-width:8px;padding:15px;font-size:150%;background-color: salmon;\">8</td></tr>\n",
       "<tr><td style=\"border:2px solid black;border-style:groove;border-width:8px;padding:15px;font-size:150%;background-color: yellow;\">6</td><td style=\"border:2px solid black;border-style:groove;border-width:8px;padding:15px;font-size:150%;background-color: white;\"></td><td style=\"border:2px solid black;border-style:groove;border-width:8px;padding:15px;font-size:150%;background-color: lightgreen;\">7</td></tr>\n",
       "</table>"
      ],
      "text/plain": [
       "<IPython.core.display.HTML object>"
      ]
     },
     "metadata": {},
     "output_type": "display_data"
    },
    {
     "data": {
      "text/html": [
       "<table style=\"border:2px solid darkblue;border-style:double;border-width:4px;\">\n",
       "<tr><td style=\"border:2px solid black;border-style:groove;border-width:8px;padding:15px;font-size:150%;background-color: orange;\">4</td><td style=\"border:2px solid black;border-style:groove;border-width:8px;padding:15px;font-size:150%;background-color: pink;\">2</td><td style=\"border:2px solid black;border-style:groove;border-width:8px;padding:15px;font-size:150%;background-color: red;\">5</td></tr>\n",
       "<tr><td style=\"border:2px solid black;border-style:groove;border-width:8px;padding:15px;font-size:150%;background-color: lightblue;\">1</td><td style=\"border:2px solid black;border-style:groove;border-width:8px;padding:15px;font-size:150%;background-color: magenta;\">3</td><td style=\"border:2px solid black;border-style:groove;border-width:8px;padding:15px;font-size:150%;background-color: salmon;\">8</td></tr>\n",
       "<tr><td style=\"border:2px solid black;border-style:groove;border-width:8px;padding:15px;font-size:150%;background-color: yellow;\">6</td><td style=\"border:2px solid black;border-style:groove;border-width:8px;padding:15px;font-size:150%;background-color: lightgreen;\">7</td><td style=\"border:2px solid black;border-style:groove;border-width:8px;padding:15px;font-size:150%;background-color: white;\"></td></tr>\n",
       "</table>"
      ],
      "text/plain": [
       "<IPython.core.display.HTML object>"
      ]
     },
     "metadata": {},
     "output_type": "display_data"
    },
    {
     "data": {
      "text/html": [
       "<table style=\"border:2px solid darkblue;border-style:double;border-width:4px;\">\n",
       "<tr><td style=\"border:2px solid black;border-style:groove;border-width:8px;padding:15px;font-size:150%;background-color: orange;\">4</td><td style=\"border:2px solid black;border-style:groove;border-width:8px;padding:15px;font-size:150%;background-color: pink;\">2</td><td style=\"border:2px solid black;border-style:groove;border-width:8px;padding:15px;font-size:150%;background-color: red;\">5</td></tr>\n",
       "<tr><td style=\"border:2px solid black;border-style:groove;border-width:8px;padding:15px;font-size:150%;background-color: lightblue;\">1</td><td style=\"border:2px solid black;border-style:groove;border-width:8px;padding:15px;font-size:150%;background-color: magenta;\">3</td><td style=\"border:2px solid black;border-style:groove;border-width:8px;padding:15px;font-size:150%;background-color: white;\"></td></tr>\n",
       "<tr><td style=\"border:2px solid black;border-style:groove;border-width:8px;padding:15px;font-size:150%;background-color: yellow;\">6</td><td style=\"border:2px solid black;border-style:groove;border-width:8px;padding:15px;font-size:150%;background-color: lightgreen;\">7</td><td style=\"border:2px solid black;border-style:groove;border-width:8px;padding:15px;font-size:150%;background-color: salmon;\">8</td></tr>\n",
       "</table>"
      ],
      "text/plain": [
       "<IPython.core.display.HTML object>"
      ]
     },
     "metadata": {},
     "output_type": "display_data"
    },
    {
     "data": {
      "text/html": [
       "<table style=\"border:2px solid darkblue;border-style:double;border-width:4px;\">\n",
       "<tr><td style=\"border:2px solid black;border-style:groove;border-width:8px;padding:15px;font-size:150%;background-color: orange;\">4</td><td style=\"border:2px solid black;border-style:groove;border-width:8px;padding:15px;font-size:150%;background-color: pink;\">2</td><td style=\"border:2px solid black;border-style:groove;border-width:8px;padding:15px;font-size:150%;background-color: white;\"></td></tr>\n",
       "<tr><td style=\"border:2px solid black;border-style:groove;border-width:8px;padding:15px;font-size:150%;background-color: lightblue;\">1</td><td style=\"border:2px solid black;border-style:groove;border-width:8px;padding:15px;font-size:150%;background-color: magenta;\">3</td><td style=\"border:2px solid black;border-style:groove;border-width:8px;padding:15px;font-size:150%;background-color: red;\">5</td></tr>\n",
       "<tr><td style=\"border:2px solid black;border-style:groove;border-width:8px;padding:15px;font-size:150%;background-color: yellow;\">6</td><td style=\"border:2px solid black;border-style:groove;border-width:8px;padding:15px;font-size:150%;background-color: lightgreen;\">7</td><td style=\"border:2px solid black;border-style:groove;border-width:8px;padding:15px;font-size:150%;background-color: salmon;\">8</td></tr>\n",
       "</table>"
      ],
      "text/plain": [
       "<IPython.core.display.HTML object>"
      ]
     },
     "metadata": {},
     "output_type": "display_data"
    },
    {
     "data": {
      "text/html": [
       "<table style=\"border:2px solid darkblue;border-style:double;border-width:4px;\">\n",
       "<tr><td style=\"border:2px solid black;border-style:groove;border-width:8px;padding:15px;font-size:150%;background-color: orange;\">4</td><td style=\"border:2px solid black;border-style:groove;border-width:8px;padding:15px;font-size:150%;background-color: white;\"></td><td style=\"border:2px solid black;border-style:groove;border-width:8px;padding:15px;font-size:150%;background-color: pink;\">2</td></tr>\n",
       "<tr><td style=\"border:2px solid black;border-style:groove;border-width:8px;padding:15px;font-size:150%;background-color: lightblue;\">1</td><td style=\"border:2px solid black;border-style:groove;border-width:8px;padding:15px;font-size:150%;background-color: magenta;\">3</td><td style=\"border:2px solid black;border-style:groove;border-width:8px;padding:15px;font-size:150%;background-color: red;\">5</td></tr>\n",
       "<tr><td style=\"border:2px solid black;border-style:groove;border-width:8px;padding:15px;font-size:150%;background-color: yellow;\">6</td><td style=\"border:2px solid black;border-style:groove;border-width:8px;padding:15px;font-size:150%;background-color: lightgreen;\">7</td><td style=\"border:2px solid black;border-style:groove;border-width:8px;padding:15px;font-size:150%;background-color: salmon;\">8</td></tr>\n",
       "</table>"
      ],
      "text/plain": [
       "<IPython.core.display.HTML object>"
      ]
     },
     "metadata": {},
     "output_type": "display_data"
    },
    {
     "data": {
      "text/html": [
       "<table style=\"border:2px solid darkblue;border-style:double;border-width:4px;\">\n",
       "<tr><td style=\"border:2px solid black;border-style:groove;border-width:8px;padding:15px;font-size:150%;background-color: white;\"></td><td style=\"border:2px solid black;border-style:groove;border-width:8px;padding:15px;font-size:150%;background-color: orange;\">4</td><td style=\"border:2px solid black;border-style:groove;border-width:8px;padding:15px;font-size:150%;background-color: pink;\">2</td></tr>\n",
       "<tr><td style=\"border:2px solid black;border-style:groove;border-width:8px;padding:15px;font-size:150%;background-color: lightblue;\">1</td><td style=\"border:2px solid black;border-style:groove;border-width:8px;padding:15px;font-size:150%;background-color: magenta;\">3</td><td style=\"border:2px solid black;border-style:groove;border-width:8px;padding:15px;font-size:150%;background-color: red;\">5</td></tr>\n",
       "<tr><td style=\"border:2px solid black;border-style:groove;border-width:8px;padding:15px;font-size:150%;background-color: yellow;\">6</td><td style=\"border:2px solid black;border-style:groove;border-width:8px;padding:15px;font-size:150%;background-color: lightgreen;\">7</td><td style=\"border:2px solid black;border-style:groove;border-width:8px;padding:15px;font-size:150%;background-color: salmon;\">8</td></tr>\n",
       "</table>"
      ],
      "text/plain": [
       "<IPython.core.display.HTML object>"
      ]
     },
     "metadata": {},
     "output_type": "display_data"
    },
    {
     "data": {
      "text/html": [
       "<table style=\"border:2px solid darkblue;border-style:double;border-width:4px;\">\n",
       "<tr><td style=\"border:2px solid black;border-style:groove;border-width:8px;padding:15px;font-size:150%;background-color: lightblue;\">1</td><td style=\"border:2px solid black;border-style:groove;border-width:8px;padding:15px;font-size:150%;background-color: orange;\">4</td><td style=\"border:2px solid black;border-style:groove;border-width:8px;padding:15px;font-size:150%;background-color: pink;\">2</td></tr>\n",
       "<tr><td style=\"border:2px solid black;border-style:groove;border-width:8px;padding:15px;font-size:150%;background-color: white;\"></td><td style=\"border:2px solid black;border-style:groove;border-width:8px;padding:15px;font-size:150%;background-color: magenta;\">3</td><td style=\"border:2px solid black;border-style:groove;border-width:8px;padding:15px;font-size:150%;background-color: red;\">5</td></tr>\n",
       "<tr><td style=\"border:2px solid black;border-style:groove;border-width:8px;padding:15px;font-size:150%;background-color: yellow;\">6</td><td style=\"border:2px solid black;border-style:groove;border-width:8px;padding:15px;font-size:150%;background-color: lightgreen;\">7</td><td style=\"border:2px solid black;border-style:groove;border-width:8px;padding:15px;font-size:150%;background-color: salmon;\">8</td></tr>\n",
       "</table>"
      ],
      "text/plain": [
       "<IPython.core.display.HTML object>"
      ]
     },
     "metadata": {},
     "output_type": "display_data"
    },
    {
     "data": {
      "text/html": [
       "<table style=\"border:2px solid darkblue;border-style:double;border-width:4px;\">\n",
       "<tr><td style=\"border:2px solid black;border-style:groove;border-width:8px;padding:15px;font-size:150%;background-color: lightblue;\">1</td><td style=\"border:2px solid black;border-style:groove;border-width:8px;padding:15px;font-size:150%;background-color: orange;\">4</td><td style=\"border:2px solid black;border-style:groove;border-width:8px;padding:15px;font-size:150%;background-color: pink;\">2</td></tr>\n",
       "<tr><td style=\"border:2px solid black;border-style:groove;border-width:8px;padding:15px;font-size:150%;background-color: magenta;\">3</td><td style=\"border:2px solid black;border-style:groove;border-width:8px;padding:15px;font-size:150%;background-color: white;\"></td><td style=\"border:2px solid black;border-style:groove;border-width:8px;padding:15px;font-size:150%;background-color: red;\">5</td></tr>\n",
       "<tr><td style=\"border:2px solid black;border-style:groove;border-width:8px;padding:15px;font-size:150%;background-color: yellow;\">6</td><td style=\"border:2px solid black;border-style:groove;border-width:8px;padding:15px;font-size:150%;background-color: lightgreen;\">7</td><td style=\"border:2px solid black;border-style:groove;border-width:8px;padding:15px;font-size:150%;background-color: salmon;\">8</td></tr>\n",
       "</table>"
      ],
      "text/plain": [
       "<IPython.core.display.HTML object>"
      ]
     },
     "metadata": {},
     "output_type": "display_data"
    },
    {
     "data": {
      "text/html": [
       "<table style=\"border:2px solid darkblue;border-style:double;border-width:4px;\">\n",
       "<tr><td style=\"border:2px solid black;border-style:groove;border-width:8px;padding:15px;font-size:150%;background-color: lightblue;\">1</td><td style=\"border:2px solid black;border-style:groove;border-width:8px;padding:15px;font-size:150%;background-color: white;\"></td><td style=\"border:2px solid black;border-style:groove;border-width:8px;padding:15px;font-size:150%;background-color: pink;\">2</td></tr>\n",
       "<tr><td style=\"border:2px solid black;border-style:groove;border-width:8px;padding:15px;font-size:150%;background-color: magenta;\">3</td><td style=\"border:2px solid black;border-style:groove;border-width:8px;padding:15px;font-size:150%;background-color: orange;\">4</td><td style=\"border:2px solid black;border-style:groove;border-width:8px;padding:15px;font-size:150%;background-color: red;\">5</td></tr>\n",
       "<tr><td style=\"border:2px solid black;border-style:groove;border-width:8px;padding:15px;font-size:150%;background-color: yellow;\">6</td><td style=\"border:2px solid black;border-style:groove;border-width:8px;padding:15px;font-size:150%;background-color: lightgreen;\">7</td><td style=\"border:2px solid black;border-style:groove;border-width:8px;padding:15px;font-size:150%;background-color: salmon;\">8</td></tr>\n",
       "</table>"
      ],
      "text/plain": [
       "<IPython.core.display.HTML object>"
      ]
     },
     "metadata": {},
     "output_type": "display_data"
    },
    {
     "data": {
      "text/html": [
       "<table style=\"border:2px solid darkblue;border-style:double;border-width:4px;\">\n",
       "<tr><td style=\"border:2px solid black;border-style:groove;border-width:8px;padding:15px;font-size:150%;background-color: white;\"></td><td style=\"border:2px solid black;border-style:groove;border-width:8px;padding:15px;font-size:150%;background-color: lightblue;\">1</td><td style=\"border:2px solid black;border-style:groove;border-width:8px;padding:15px;font-size:150%;background-color: pink;\">2</td></tr>\n",
       "<tr><td style=\"border:2px solid black;border-style:groove;border-width:8px;padding:15px;font-size:150%;background-color: magenta;\">3</td><td style=\"border:2px solid black;border-style:groove;border-width:8px;padding:15px;font-size:150%;background-color: orange;\">4</td><td style=\"border:2px solid black;border-style:groove;border-width:8px;padding:15px;font-size:150%;background-color: red;\">5</td></tr>\n",
       "<tr><td style=\"border:2px solid black;border-style:groove;border-width:8px;padding:15px;font-size:150%;background-color: yellow;\">6</td><td style=\"border:2px solid black;border-style:groove;border-width:8px;padding:15px;font-size:150%;background-color: lightgreen;\">7</td><td style=\"border:2px solid black;border-style:groove;border-width:8px;padding:15px;font-size:150%;background-color: salmon;\">8</td></tr>\n",
       "</table>"
      ],
      "text/plain": [
       "<IPython.core.display.HTML object>"
      ]
     },
     "metadata": {},
     "output_type": "display_data"
    }
   ],
   "source": [
    "for State in Path:\n",
    "    display(HTML(state_to_html(State)))"
   ]
  },
  {
   "cell_type": "code",
   "execution_count": null,
   "metadata": {},
   "outputs": [],
   "source": []
  }
 ],
 "metadata": {
  "hide_input": false,
  "kernelspec": {
   "display_name": "Python 3",
   "language": "python",
   "name": "python3"
  },
  "language_info": {
   "codemirror_mode": {
    "name": "ipython",
    "version": 3
   },
   "file_extension": ".py",
   "mimetype": "text/x-python",
   "name": "python",
   "nbconvert_exporter": "python",
   "pygments_lexer": "ipython3",
   "version": "3.8.3"
  },
  "toc": {
   "base_numbering": 1,
   "nav_menu": {},
   "number_sections": true,
   "sideBar": true,
   "skip_h1_title": false,
   "title_cell": "Table of Contents",
   "title_sidebar": "Contents",
   "toc_cell": false,
   "toc_position": {},
   "toc_section_display": true,
   "toc_window_display": false
  },
  "varInspector": {
   "cols": {
    "lenName": 16,
    "lenType": 16,
    "lenVar": 40
   },
   "kernels_config": {
    "python": {
     "delete_cmd_postfix": "",
     "delete_cmd_prefix": "del ",
     "library": "var_list.py",
     "varRefreshCmd": "print(var_dic_list())"
    },
    "r": {
     "delete_cmd_postfix": ") ",
     "delete_cmd_prefix": "rm(",
     "library": "var_list.r",
     "varRefreshCmd": "cat(var_dic_list()) "
    }
   },
   "types_to_exclude": [
    "module",
    "function",
    "builtin_function_or_method",
    "instance",
    "_Feature"
   ],
   "window_display": false
  }
 },
 "nbformat": 4,
 "nbformat_minor": 2
}
