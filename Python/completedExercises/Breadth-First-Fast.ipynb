{
 "cells": [
  {
   "cell_type": "code",
   "execution_count": null,
   "metadata": {},
   "outputs": [],
   "source": [
    "from IPython.core.display import HTML\n",
    "with open('style.css', 'r') as file:\n",
    "    css = file.read()\n",
    "HTML(css)"
   ]
  },
  {
   "cell_type": "markdown",
   "metadata": {},
   "source": [
    "# Breadth-First-Search"
   ]
  },
  {
   "cell_type": "markdown",
   "metadata": {},
   "source": [
    "The function `search` takes three arguments:\n",
    "- `next_states` is a function that takes a state $s$ and computes the set of all states that can be reached from\n",
    "  $s$ in one step.\n",
    "- `start` is the state we are currently in.\n",
    "- `goal` is the state we want to reach.\n",
    "\n",
    "`search` computes the shortest path form `start` to `goal` provided such a path exists."
   ]
  },
  {
   "cell_type": "code",
   "execution_count": null,
   "metadata": {},
   "outputs": [],
   "source": [
    "def search(next_states, start, goal):\n",
    "    Paths   = { (start,) }\n",
    "    Visited = { start }\n",
    "    n       = 0\n",
    "    while True:\n",
    "        n       += 1\n",
    "        NewPaths = set()\n",
    "        for Path in Paths:\n",
    "            for state in next_states(Path[-1]):\n",
    "                if state not in Visited:\n",
    "                    LongerPath = Path + (state,)\n",
    "                    if state == goal:\n",
    "                        return LongerPath\n",
    "                    NewPaths.add(LongerPath)\n",
    "                    Visited .add(state)\n",
    "        print(f'Iteration {n}: {len(NewPaths)} new states found.')\n",
    "        if NewPaths == set():\n",
    "            return\n",
    "        Paths = NewPaths"
   ]
  },
  {
   "cell_type": "code",
   "execution_count": null,
   "metadata": {},
   "outputs": [],
   "source": []
  }
 ],
 "metadata": {
  "@webio": {
   "lastCommId": null,
   "lastKernelId": null
  },
  "kernelspec": {
   "display_name": "Python 3",
   "language": "python",
   "name": "python3"
  },
  "language_info": {
   "codemirror_mode": {
    "name": "ipython",
    "version": 3
   },
   "file_extension": ".py",
   "mimetype": "text/x-python",
   "name": "python",
   "nbconvert_exporter": "python",
   "pygments_lexer": "ipython3",
   "version": "3.9.0"
  }
 },
 "nbformat": 4,
 "nbformat_minor": 4
}
