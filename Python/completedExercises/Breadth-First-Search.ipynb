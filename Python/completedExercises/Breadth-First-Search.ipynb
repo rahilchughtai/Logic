{
 "cells": [
  {
   "cell_type": "code",
   "execution_count": null,
   "metadata": {},
   "outputs": [],
   "source": []
  },
  {
   "cell_type": "markdown",
   "metadata": {},
   "source": [
    "# Breadth-First-Search"
   ]
  },
  {
   "cell_type": "code",
   "execution_count": null,
   "metadata": {},
   "outputs": [],
   "source": [
    "def search(R, start, goal):\n",
    "    Paths   = { (start,) }\n",
    "    Visited = { start }\n",
    "    n       = 0\n",
    "    while True:\n",
    "        n       += 1\n",
    "        NewPaths = set()\n",
    "        for Path in Paths:\n",
    "            for (y, z) in R:\n",
    "                if Path[-1] == y and z not in Visited:\n",
    "                    LongerPath = Path + (z,)\n",
    "                    if z == goal:\n",
    "                        return LongerPath\n",
    "                    NewPaths.add(LongerPath)\n",
    "                    Visited .add(z)\n",
    "        print(f'Iteration {n}: {len(NewPaths)} new states found.')\n",
    "        if NewPaths == set():\n",
    "            return\n",
    "        Paths = NewPaths"
   ]
  },
  {
   "cell_type": "code",
   "execution_count": null,
   "metadata": {},
   "outputs": [],
   "source": []
  }
 ],
 "metadata": {
  "@webio": {
   "lastCommId": null,
   "lastKernelId": null
  },
  "kernelspec": {
   "display_name": "Python 3",
   "language": "python",
   "name": "python3"
  },
  "language_info": {
   "codemirror_mode": {
    "name": "ipython",
    "version": 3
   },
   "file_extension": ".py",
   "mimetype": "text/x-python",
   "name": "python",
   "nbconvert_exporter": "python",
   "pygments_lexer": "ipython3",
   "version": "3.9.0"
  }
 },
 "nbformat": 4,
 "nbformat_minor": 4
}