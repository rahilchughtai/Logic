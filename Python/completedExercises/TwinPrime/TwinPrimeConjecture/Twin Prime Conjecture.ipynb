{
 "cells": [
  {
   "cell_type": "markdown",
   "metadata": {},
   "source": [
    "# Twin Prime Conjecture"
   ]
  },
  {
   "cell_type": "code",
   "execution_count": 4,
   "metadata": {},
   "outputs": [],
   "source": [
    "def divisors(k):\n",
    "    return { t for t in range(1,k+1) if k%t==0}\n",
    "\n",
    "def is_prime(k):\n",
    "    if k<2: return False\n",
    "    return divisors(k)=={1,k}"
   ]
  },
  {
   "cell_type": "code",
   "execution_count": null,
   "metadata": {},
   "outputs": [],
   "source": [
    "def stops(function_f,input_a):\n",
    "    \"\"\"\n",
    "    solves the halting problem for function f with input a\n",
    "    if function terminates: return 1\n",
    "    if function rdiveges: return 0\n",
    "    \"\"\""
   ]
  },
  {
   "cell_type": "code",
   "execution_count": 5,
   "metadata": {},
   "outputs": [],
   "source": [
    "def search_twin(n):\n",
    "    i=n\n",
    "    while True:\n",
    "        p=i\n",
    "        p2=p+2\n",
    "        if is_prime(p) and is_prime(p2):\n",
    "            return p\n",
    "        else:\n",
    "            i+=1"
   ]
  },
  {
   "cell_type": "code",
   "execution_count": 6,
   "metadata": {},
   "outputs": [
    {
     "data": {
      "text/plain": [
       "100151"
      ]
     },
     "execution_count": 6,
     "metadata": {},
     "output_type": "execute_result"
    }
   ],
   "source": [
    "search_twin(100000)"
   ]
  },
  {
   "cell_type": "code",
   "execution_count": null,
   "metadata": {},
   "outputs": [],
   "source": [
    "            \n",
    "def twin_prime(n):\n",
    "    while True:\n",
    "        check=stops(search_twin, n)\n",
    "        if check==1:\n",
    "            n=search_twin(n)+1\n",
    "        else:\n",
    "            return False\n",
    "        \n",
    "def check_twin_prime_conjecture(n):\n",
    "    if stops(twin_prime , n ) ==1:\n",
    "        return False\n",
    "    else:\n",
    "        return True\n",
    "    \n",
    "    \n",
    "##check_twin_prime_conjecture(0)\n",
    "\n",
    "n=0\n",
    "def test(n):\n",
    "    i=n\n",
    "    while i<70000:\n",
    "        k=search_twin(i)\n",
    "        print( (k,k+2) )\n",
    "        i=k+1\n",
    "test(0)"
   ]
  }
 ],
 "metadata": {
  "kernelspec": {
   "display_name": "Python 3",
   "language": "python",
   "name": "python3"
  },
  "language_info": {
   "codemirror_mode": {
    "name": "ipython",
    "version": 3
   },
   "file_extension": ".py",
   "mimetype": "text/x-python",
   "name": "python",
   "nbconvert_exporter": "python",
   "pygments_lexer": "ipython3",
   "version": "3.8.3"
  }
 },
 "nbformat": 4,
 "nbformat_minor": 4
}
