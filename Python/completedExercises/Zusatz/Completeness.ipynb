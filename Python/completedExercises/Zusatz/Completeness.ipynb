{
 "cells": [
  {
   "cell_type": "code",
   "execution_count": null,
   "metadata": {},
   "outputs": [],
   "source": [
    "from IPython.core.display import HTML\n",
    "HTML('''<style>\n",
    "        .container { width:100% !important; }\n",
    "        </style>\n",
    "     ''')"
   ]
  },
  {
   "cell_type": "markdown",
   "metadata": {},
   "source": [
    "# Refutational Completeness of the Cut Rule"
   ]
  },
  {
   "cell_type": "markdown",
   "metadata": {},
   "source": [
    "This notebook implements a number of procedures that are needed in our proof of the <em style=\"color:blue\">refutational completeness</em> of the cut rule."
   ]
  },
  {
   "cell_type": "markdown",
   "metadata": {},
   "source": [
    "The function $\\texttt{complement}(l)$ computes the <em style=\"color:blue\">complement</em> of a literal $l$.\n",
    "If $p$ is a propositional variable, we have the following: \n",
    "<ol>\n",
    "    <li>$\\texttt{complement}(p) = \\neg p$,\n",
    "    </li>\n",
    "    <li>$\\texttt{complement}(\\neg p) = p$.\n",
    "    </li>\n",
    "</ol>"
   ]
  },
  {
   "cell_type": "code",
   "execution_count": null,
   "metadata": {},
   "outputs": [],
   "source": [
    "def complement(l):\n",
    "    \"Compute the complement of the literal l.\"\n",
    "    if isinstance(l, str):  # l is a propositional variable\n",
    "        return ('¬', l)\n",
    "    else:                   # l = ('¬', 'p')\n",
    "        return l[1]         # l[1] = p"
   ]
  },
  {
   "cell_type": "code",
   "execution_count": null,
   "metadata": {},
   "outputs": [],
   "source": [
    "complement('p')"
   ]
  },
  {
   "cell_type": "code",
   "execution_count": null,
   "metadata": {},
   "outputs": [],
   "source": [
    "complement(('¬', 'p'))"
   ]
  },
  {
   "cell_type": "markdown",
   "metadata": {},
   "source": [
    "The function $\\texttt{extractVariable}(l)$ extracts the propositional variable from the literal $l$.\n",
    "If $p$ is a propositional variable, we have the following: \n",
    "<ol>\n",
    "    <li>$\\texttt{extractVariable}(p) = p$,\n",
    "    </li>\n",
    "    <li>$\\texttt{extractVariable}(\\neg p) = p$.\n",
    "    </li>\n",
    "</ol>"
   ]
  },
  {
   "cell_type": "code",
   "execution_count": null,
   "metadata": {},
   "outputs": [],
   "source": [
    "def extractVariable(l):\n",
    "    \"Extract the variable of the literal l.\"\n",
    "    if isinstance(l, str):  # l is a propositional variable\n",
    "        return l\n",
    "    else:                   # l = ('¬', 'p')\n",
    "        return l[1]"
   ]
  },
  {
   "cell_type": "code",
   "execution_count": null,
   "metadata": {},
   "outputs": [],
   "source": [
    "extractVariable('p')"
   ]
  },
  {
   "cell_type": "code",
   "execution_count": null,
   "metadata": {},
   "outputs": [],
   "source": [
    "extractVariable(('¬', 'p'))"
   ]
  },
  {
   "cell_type": "markdown",
   "metadata": {},
   "source": [
    "The function $\\texttt{collectsVariables}(M)$ takes a set of clauses $M$ as its input and computes the set of all propositional variables occurring in $M$.  The clauses in $M$ are represented as sets of literals."
   ]
  },
  {
   "cell_type": "code",
   "execution_count": null,
   "metadata": {},
   "outputs": [],
   "source": [
    "def collectVariables(M):\n",
    "    \"Return the set of all variables occurring in M.\"\n",
    "    return { extractVariable(l) for C in M \n",
    "                                for l in C\n",
    "           }"
   ]
  },
  {
   "cell_type": "code",
   "execution_count": null,
   "metadata": {},
   "outputs": [],
   "source": [
    "C1 = frozenset({ 'p', 'q', 'r' })\n",
    "C2 = frozenset({ ('¬', 'p'), ('¬', 'q'), ('¬', 's') })\n",
    "collectVariables({C1, C2})"
   ]
  },
  {
   "cell_type": "markdown",
   "metadata": {},
   "source": [
    "Given two clauses $C_1$ and $C_2$ that are represented as sets of literals, the function $\\texttt{cutRule}(C_1, C_2)$ computes all clauses that can be derived from $C_1$ and $C_2$ using the *cut rule*.  In set notation, the cut rule is the following rule of inference:\n",
    "$$\n",
    "   \\frac{\\displaystyle \\;C_1\\cup \\{l\\} \\quad C_2 \\cup \\bigl\\{\\overline{\\,l\\,}\\;\\bigr\\}}{\\displaystyle C_1 \\cup C_2}\n",
    "$$"
   ]
  },
  {
   "cell_type": "code",
   "execution_count": null,
   "metadata": {},
   "outputs": [],
   "source": [
    "def cutRule(C1, C2):\n",
    "    \"Return the set of all clauses that can be deduced by the cut rule from c1 and c2.\"\n",
    "    return { C1 - {l} | C2 - {complement(l) } for l in C1\n",
    "                                              if  complement(l) in C2\n",
    "           }"
   ]
  },
  {
   "cell_type": "code",
   "execution_count": null,
   "metadata": {},
   "outputs": [],
   "source": [
    "C1 = frozenset({ 'p', 'q' })\n",
    "C2 = frozenset({ ('¬', 'p'), ('¬', 'q') })\n",
    "cutRule(C1, C2)"
   ]
  },
  {
   "cell_type": "markdown",
   "metadata": {},
   "source": [
    "In the expression $\\texttt{saturate}(\\texttt{Clauses})$ below, $\\texttt{Clauses}$ is a set of clauses represented as sets of literals.  The call $\\texttt{saturate}(\\texttt{Clauses})$ computes all clauses that can be derived from clauses in the set $\\texttt{Clauses}$ using the cut rule.  The function keeps applying the cut rule until either no new clauses can be derived, or the empty clause $\\{\\}$ is derived.  The resulting set of Clauses is <em style=\"color:blue\">saturated</em> in the following sense:  If $C_1$ and $C_2$ are clauses from the set $\\texttt{Clauses}$ and the clause $D$ can be derived from $C_1$ and $C_2$ via the cut rule, then $D \\in \\texttt{Clauses}$."
   ]
  },
  {
   "cell_type": "code",
   "execution_count": null,
   "metadata": {},
   "outputs": [],
   "source": [
    "def saturate(Clauses):\n",
    "    while True:\n",
    "        Derived = { C for C1 in Clauses\n",
    "                      for C2 in Clauses\n",
    "                      for C  in cutRule(C1, C2)\n",
    "                  }\n",
    "        if frozenset() in Derived:\n",
    "            return { frozenset() }  # This is the set notation of ⊥.\n",
    "        Derived -= Clauses          # remove clauses that were present before\n",
    "        if Derived == set():        # no new clauses have been found\n",
    "            return Clauses\n",
    "        Clauses |= Derived"
   ]
  },
  {
   "cell_type": "code",
   "execution_count": null,
   "metadata": {},
   "outputs": [],
   "source": [
    "C1 = frozenset({ 'p', 'q' })\n",
    "C2 = frozenset({ ('¬', 'p') })\n",
    "C3 = frozenset({ ('¬', 'p'), ('¬', 'q') })\n",
    "saturate({C1, C2, C3})"
   ]
  },
  {
   "cell_type": "markdown",
   "metadata": {},
   "source": [
    "The function $\\texttt{findValuation}(\\texttt{Clauses})$ takes a set of clauses as input.  The function tries to compute a variable interpretation that makes all of the clauses true.  If this is successful, a set of literals is returned.  This set of literals does not contain  any complementary literals and therefore corresponds to a variable assignment satisfying all clauses.  If $\\texttt{Clauses}$ is unsatisfiable, <tt>False</tt> is returned."
   ]
  },
  {
   "cell_type": "code",
   "execution_count": null,
   "metadata": {},
   "outputs": [],
   "source": [
    "def findValuation(Clauses):\n",
    "    \"Given a set of Clauses, find a propositional valuation satisfying all of these clauses.\"\n",
    "    Variables = collectVariables(Clauses)\n",
    "    Clauses   = saturate(Clauses)\n",
    "    if frozenset() in Clauses:  # The set Clauses is inconsistent.\n",
    "        return False\n",
    "    Literals = set()\n",
    "    for p in Variables:\n",
    "        if any(C for C in Clauses \n",
    "                 if  p in C and C - {p} <= { complement(l) for l in Literals }\n",
    "              ):\n",
    "            Literals |= { p }\n",
    "        else:\n",
    "            Literals |= { ('¬', p) }\n",
    "    return Literals"
   ]
  },
  {
   "cell_type": "markdown",
   "metadata": {},
   "source": [
    "The function $\\texttt{toString}(S)$ takes a set $S$ as input.  The set $S$ is a set of frozensets and the function converts $S$ into a string that looks like a set of sets. "
   ]
  },
  {
   "cell_type": "code",
   "execution_count": null,
   "metadata": {},
   "outputs": [],
   "source": [
    "C1 = frozenset({ 'r', 'p', 's' })\n",
    "C2 = frozenset({ 'r', 's' })\n",
    "C3 = frozenset({ 'p', 'q', 's' })\n",
    "C4 = frozenset({ ('¬', 'p'), ('¬', 'q') })\n",
    "C5 = frozenset({ ('¬', 'p'), 's', ('¬', 'r') })\n",
    "C6 = frozenset({ 'p', ('¬', 'q'), 'r'})\n",
    "C7 = frozenset({ ('¬', 'r'), ('¬', 's'), 'q' })\n",
    "C8 = frozenset({ ('¬', 'p'), ('¬', 's')})\n",
    "C9 = frozenset({ 'p', ('¬', 'r'), ('¬', 'q') })\n",
    "C0 = frozenset({ ('¬', 'p'), 'r', 'q', ('¬', 's') })\n",
    "Clauses  = { C0, C1, C2, C3, C4, C5, C6, C7, C8, C9 }\n",
    "findValuation(Clauses)"
   ]
  },
  {
   "cell_type": "code",
   "execution_count": null,
   "metadata": {},
   "outputs": [],
   "source": []
  }
 ],
 "metadata": {
  "hide_input": false,
  "kernelspec": {
   "display_name": "Python 3",
   "language": "python",
   "name": "python3"
  },
  "language_info": {
   "codemirror_mode": {
    "name": "ipython",
    "version": 3
   },
   "file_extension": ".py",
   "mimetype": "text/x-python",
   "name": "python",
   "nbconvert_exporter": "python",
   "pygments_lexer": "ipython3",
   "version": "3.6.7"
  },
  "toc": {
   "base_numbering": 1,
   "nav_menu": {},
   "number_sections": true,
   "sideBar": true,
   "skip_h1_title": false,
   "title_cell": "Table of Contents",
   "title_sidebar": "Contents",
   "toc_cell": false,
   "toc_position": {},
   "toc_section_display": true,
   "toc_window_display": false
  },
  "varInspector": {
   "cols": {
    "lenName": 16,
    "lenType": 16,
    "lenVar": 40
   },
   "kernels_config": {
    "python": {
     "delete_cmd_postfix": "",
     "delete_cmd_prefix": "del ",
     "library": "var_list.py",
     "varRefreshCmd": "print(var_dic_list())"
    },
    "r": {
     "delete_cmd_postfix": ") ",
     "delete_cmd_prefix": "rm(",
     "library": "var_list.r",
     "varRefreshCmd": "cat(var_dic_list()) "
    }
   },
   "types_to_exclude": [
    "module",
    "function",
    "builtin_function_or_method",
    "instance",
    "_Feature"
   ],
   "window_display": false
  }
 },
 "nbformat": 4,
 "nbformat_minor": 2
}
