{
 "cells": [
  {
   "cell_type": "code",
   "execution_count": null,
   "metadata": {},
   "outputs": [],
   "source": [
    "from IPython.core.display import HTML\n",
    "with open ('style.css', 'r') as file:\n",
    "    css = file.read()\n",
    "HTML(css)"
   ]
  },
  {
   "cell_type": "markdown",
   "metadata": {},
   "source": [
    "# Dictionaries"
   ]
  },
  {
   "cell_type": "markdown",
   "metadata": {},
   "source": [
    "A <em style=\"color:blue;\">binary relation</em> $R$ is a subset of the cartesian product of two sets $A$ and $B$, i.e. if $R$ is a binary relation we have:\n",
    "$$ R \\subseteq A \\times B $$\n",
    "A binary relation $R \\subseteq A \\times B$ is a <em style=\"color:blue;\">functional relation</em> if and only if we have:\n",
    "$$ \\forall x \\in A: \\forall y_1, y_2 \\in B: \\bigl(\n",
    "     \\langle x, y_1\\rangle \\in R \\wedge \\langle x, y_2\\rangle \\in R\n",
    "     \\rightarrow y_1 = y_2\n",
    "   \\bigr)\n",
    "$$\n",
    "If $R$ is a functional relation, then $R \\subseteq A \\times B$ can be interpreted as a function\n",
    "$$ f_R:A \\rightarrow B $$\n",
    "that is defined as follows:\n",
    "$$ f_R(x) := y \\quad\\mbox{iff}\\quad \\langle x, y\\rangle \\in R. $$"
   ]
  },
  {
   "cell_type": "markdown",
   "metadata": {},
   "source": [
    "In *Python* a functional relation $R \\subseteq A \\times B$ can be represented as a **dictionary**, provided $R$ is finite.  The empty dictionary is defined as follows:"
   ]
  },
  {
   "cell_type": "code",
   "execution_count": null,
   "metadata": {},
   "outputs": [],
   "source": [
    "emptyDict = {}"
   ]
  },
  {
   "cell_type": "markdown",
   "metadata": {},
   "source": [
    "In order to define a functional relation $R$ of the form\n",
    "$$ \\bigl\\{ \\langle x_1, y_1\\rangle, \\cdots, \\langle x_n, y_n\\rangle \\bigr\\} $$ \n",
    "we have to write the following Python code\n",
    "```\n",
    "    { x1: y1, ..., xn: yn }\n",
    "```\n",
    "An example will clarify this.  The dictionary <tt>Number2English</tt> maps the first seven numbers to their English names."
   ]
  },
  {
   "cell_type": "code",
   "execution_count": null,
   "metadata": {},
   "outputs": [],
   "source": [
    "Number2English = { 1: 'one', 2: 'two', 3: 'three', 4: 'four', 5: 'five', \n",
    "                   6: 'six', 7: 'seven', 8: 'eight', 9: 'nine'\n",
    "                 }\n",
    "Number2English"
   ]
  },
  {
   "cell_type": "markdown",
   "metadata": {},
   "source": [
    "Here, the numbers $1, \\cdots, 9$ are called the *keys* of the dictionary, while the strings\n",
    "`'one'`, $\\cdots$, `'nine'` are the *values*. "
   ]
  },
  {
   "cell_type": "markdown",
   "metadata": {},
   "source": [
    "We can use the dictionary <tt>Number2English</tt> as if it were a function: \n",
    "The only difference is that we have to use square brackets instead of parentheses.\n",
    "If we write `Number2English[k]`, then this expression will return \n",
    "the name of the number `k` provided $\\texttt{k} \\in \\{1,\\cdots,9\\}$."
   ]
  },
  {
   "cell_type": "code",
   "execution_count": null,
   "metadata": {},
   "outputs": [],
   "source": [
    "Number2English[2]"
   ]
  },
  {
   "cell_type": "markdown",
   "metadata": {},
   "source": [
    "The expression `Number2English[10]` would return an error message, as `10` is not a key of the dictionary `Number2English`.  We can check whether an object is a key of a dictionary by using the operator `in` as shown below:"
   ]
  },
  {
   "cell_type": "code",
   "execution_count": null,
   "metadata": {},
   "outputs": [],
   "source": [
    "10 in Number2English"
   ]
  },
  {
   "cell_type": "code",
   "execution_count": null,
   "metadata": {},
   "outputs": [],
   "source": [
    "7 in Number2English"
   ]
  },
  {
   "cell_type": "markdown",
   "metadata": {},
   "source": [
    "We can easily extend our dictionary as shown below:"
   ]
  },
  {
   "cell_type": "code",
   "execution_count": null,
   "metadata": {},
   "outputs": [],
   "source": [
    "Number2English[10] = 'ten'"
   ]
  },
  {
   "cell_type": "code",
   "execution_count": null,
   "metadata": {},
   "outputs": [],
   "source": [
    "Number2English"
   ]
  },
  {
   "cell_type": "markdown",
   "metadata": {},
   "source": [
    "In order to have more fun, let us define a second dictionary."
   ]
  },
  {
   "cell_type": "code",
   "execution_count": null,
   "metadata": {},
   "outputs": [],
   "source": [
    "Number2Hebrew = { 1:\"echad\", 2:\"shtaim\", 3:\"shalosh\", 4:\"arba\", 5:\"hamesh\", \n",
    "                  6:\"shesh\", 7:\"sheva\", 8:\"shmone\", 9: \"tesha\", 10: \"eser\"\n",
    "                }"
   ]
  },
  {
   "cell_type": "markdown",
   "metadata": {},
   "source": [
    "**Disclaimer:** I don't know any Hebrew, I have taken these names from the following <a href=\"https://www.youtube.com/watch?v=FBd9QdpqUz0\">youtube video</a>."
   ]
  },
  {
   "cell_type": "markdown",
   "metadata": {},
   "source": [
    "Dictionaries can be built via *comprehension expressions*.  Let us demonstrate this be \n",
    "computing the `inverse` of the dictionary `Number2English`:"
   ]
  },
  {
   "cell_type": "code",
   "execution_count": null,
   "metadata": {},
   "outputs": [],
   "source": [
    "English2Number = { Number2English[n]: n for n in Number2English }\n",
    "English2Number"
   ]
  },
  {
   "cell_type": "code",
   "execution_count": null,
   "metadata": {},
   "outputs": [],
   "source": [
    "English2Number['nine']"
   ]
  },
  {
   "cell_type": "markdown",
   "metadata": {},
   "source": [
    "The example above shows that we can iterate over the keys of a dictionary.  Let's use this to build a dictionary that translates the English names of numbers into their Hebrew equivalents:"
   ]
  },
  {
   "cell_type": "code",
   "execution_count": null,
   "metadata": {},
   "outputs": [],
   "source": [
    "English2Hebrew = { name:Number2Hebrew[English2Number[name]] for name in English2Number }\n",
    "English2Hebrew"
   ]
  },
  {
   "cell_type": "code",
   "execution_count": null,
   "metadata": {},
   "outputs": [],
   "source": [
    "English2Hebrew['eight']"
   ]
  },
  {
   "cell_type": "markdown",
   "metadata": {},
   "source": [
    "In order to get the number of entries in a dictionary, we can use the function `len`."
   ]
  },
  {
   "cell_type": "code",
   "execution_count": null,
   "metadata": {},
   "outputs": [],
   "source": [
    "len(English2Hebrew)"
   ]
  },
  {
   "cell_type": "markdown",
   "metadata": {},
   "source": [
    "If we want to delete an entry from a dictionary, we can use the keyword `del` as follows:"
   ]
  },
  {
   "cell_type": "code",
   "execution_count": null,
   "metadata": {},
   "outputs": [],
   "source": [
    "del Number2English[1]\n",
    "Number2English"
   ]
  },
  {
   "cell_type": "markdown",
   "metadata": {},
   "source": [
    "It is important to know that only *immutable* objects can serve as keys in a dictionary.  Therefore, number, strings, tuples, or frozensets can be used as keys, but lists or sets can not be used as keys."
   ]
  },
  {
   "cell_type": "markdown",
   "metadata": {},
   "source": [
    "Given a dictionary $d$, the method $d.\\texttt{items}()$ can be used to iterate over all key-value pairs stored in the dictionary $d$."
   ]
  },
  {
   "cell_type": "code",
   "execution_count": null,
   "metadata": {},
   "outputs": [],
   "source": []
  }
 ],
 "metadata": {
  "@webio": {
   "lastCommId": null,
   "lastKernelId": null
  },
  "hide_input": false,
  "kernelspec": {
   "display_name": "Python 3",
   "language": "python",
   "name": "python3"
  },
  "language_info": {
   "codemirror_mode": {
    "name": "ipython",
    "version": 3
   },
   "file_extension": ".py",
   "mimetype": "text/x-python",
   "name": "python",
   "nbconvert_exporter": "python",
   "pygments_lexer": "ipython3",
   "version": "3.7.8"
  },
  "toc": {
   "base_numbering": 1,
   "nav_menu": {},
   "number_sections": true,
   "sideBar": true,
   "skip_h1_title": false,
   "title_cell": "Table of Contents",
   "title_sidebar": "Contents",
   "toc_cell": false,
   "toc_position": {},
   "toc_section_display": true,
   "toc_window_display": false
  },
  "varInspector": {
   "cols": {
    "lenName": 16,
    "lenType": 16,
    "lenVar": 40
   },
   "kernels_config": {
    "python": {
     "delete_cmd_postfix": "",
     "delete_cmd_prefix": "del ",
     "library": "var_list.py",
     "varRefreshCmd": "print(var_dic_list())"
    },
    "r": {
     "delete_cmd_postfix": ") ",
     "delete_cmd_prefix": "rm(",
     "library": "var_list.r",
     "varRefreshCmd": "cat(var_dic_list()) "
    }
   },
   "types_to_exclude": [
    "module",
    "function",
    "builtin_function_or_method",
    "instance",
    "_Feature"
   ],
   "window_display": false
  }
 },
 "nbformat": 4,
 "nbformat_minor": 2
}
