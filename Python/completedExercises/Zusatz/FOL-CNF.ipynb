{
 "cells": [
  {
   "cell_type": "code",
   "execution_count": null,
   "metadata": {},
   "outputs": [],
   "source": [
    "%%HTML\n",
    "<style>\n",
    ".container { width:100% !important; }\n",
    "</style>"
   ]
  },
  {
   "cell_type": "markdown",
   "metadata": {},
   "source": [
    "# Computing the Conjunctive Normal Form in First Order Logic"
   ]
  },
  {
   "cell_type": "markdown",
   "metadata": {},
   "source": [
    "In order to convert a formula $f$ from first order logic into a set of clauses we have to perform the following steps:\n",
    "<ol>\n",
    "<li>Eliminate biconditionals,</li>\n",
    "<li>eliminate conditionals,</li>\n",
    "    <li>transform the formula into <em style=\"color:blue\">negation normal form</em>,</li>\n",
    "    <li>transform the formula into <em style=\"color:blue\">prenex normal form</em>,</li>\n",
    "    <li><em style=\"color:blue\">skolemize</em> the formula, and</li>\n",
    "    <li>transform the formula into <em style=\"color:blue\">clauses</em> in set notation.</li>\n",
    "</ol>"
   ]
  },
  {
   "cell_type": "markdown",
   "metadata": {},
   "source": [
    "When converting formulas into conjunctive normal form, we <u>assume</u> that the formulas are \n",
    "<em style=\"color:blue\">pure</em>, where we define a formula $f$ as <em style=\"color:blue\">pure</em> if all quantifiers appearing in $f$ use **different** variables.  For example, the formula\n",
    "$$ \\forall x: p(x) \\wedge \\forall x: q(x)$$\n",
    "is **not** *pure*, because there are two quantifiers that both bind the variable $x$.  We can rewrite this formulas as a *pure* formula as follows:\n",
    "$$ \\forall x: p(x) \\wedge \\forall y: q(y)$$"
   ]
  },
  {
   "cell_type": "markdown",
   "metadata": {},
   "source": [
    "## Auxilliary Functions"
   ]
  },
  {
   "cell_type": "markdown",
   "metadata": {},
   "source": [
    "Formulas are represented as nested tuples.  In order to convert a string into a nested tuple we use the <tt>LogicParser</tt> that is found in the module <tt>folParser</tt>.  Our parser distinguishes variables and function symbol as follows:\n",
    "<ul>\n",
    "    <li>A word starting with a lower case letter is interpreted as a <em style=\"color:blue\">variable</em>.</li>\n",
    "    <li>A word starting with an upper case letter is assumed to be a <em style=\"color:blue\">function</em> or <em style=\"color:blue\">predicate symbol</em>.</li>\n",
    "</ul>"
   ]
  },
  {
   "cell_type": "code",
   "execution_count": null,
   "metadata": {},
   "outputs": [],
   "source": [
    "import folParser as fp"
   ]
  },
  {
   "cell_type": "markdown",
   "metadata": {},
   "source": [
    "The function $\\texttt{parse}(s)$ takes a string $s$ which is a formula from first order logic and turns this string into a nested tuple."
   ]
  },
  {
   "cell_type": "code",
   "execution_count": null,
   "metadata": {},
   "outputs": [],
   "source": [
    "def parse(s):\n",
    "    return fp.LogicParser(s).parse()"
   ]
  },
  {
   "cell_type": "markdown",
   "metadata": {},
   "source": [
    "For testing purposes, the following formula is used.  This formula specifies the notion of a *grandparent*."
   ]
  },
  {
   "cell_type": "code",
   "execution_count": null,
   "metadata": {},
   "outputs": [],
   "source": [
    "s  = '∀g:∀c:(Grandparent(g, c) ↔ ∃p: (Parent(g, p) ∧ Parent(p, c)))'\n",
    "f1 = parse(s)\n",
    "f1"
   ]
  },
  {
   "cell_type": "markdown",
   "metadata": {},
   "source": [
    "The function $\\texttt{apply}(t, σ)$ takes an object $t$ and a <em style=\"color:blue;\">variable substitution</em> $\\sigma$ which is represented as a dictionary of the form $\\{x_1: s_1, \\cdots, x_n:s_n\\}$ and replaces every occurrence of the variable $x_i$ in the object $t$ with the corresponding term $s_i$.  The object $t$ is either \n",
    " - a term, \n",
    " - a formula from first order logic (abbreviated as <em style=\"color:blue\">FOL</em>), \n",
    " - a clause (represented as a `frozenset` of literals), or \n",
    " - a set of clauses."
   ]
  },
  {
   "cell_type": "code",
   "execution_count": null,
   "metadata": {},
   "outputs": [],
   "source": [
    "def apply(t, σ):\n",
    "    \"Apply the substitution σ to the term t.\"\n",
    "    if isinstance(t, set):                           # t is a set of clauses\n",
    "        return { apply(c, σ) for c in t }\n",
    "    if isinstance(t, frozenset):                     # t is a clause, i.e. a frozenset of literals\n",
    "        return frozenset({ apply(l, σ) for l in t })\n",
    "    if isinstance(t, str):                           # t is a variable\n",
    "        if t in σ:\n",
    "            return σ[t]\n",
    "        else:\n",
    "            return t\n",
    "    else: \n",
    "        f  = t[0]  # f could be a function symbol, predicate symbol, a logical connective, or a quantifier\n",
    "        ts = t[1:]\n",
    "        return (f,) + tuple(apply(s, σ) for s in ts)"
   ]
  },
  {
   "cell_type": "code",
   "execution_count": null,
   "metadata": {},
   "outputs": [],
   "source": [
    "f1"
   ]
  },
  {
   "cell_type": "code",
   "execution_count": null,
   "metadata": {},
   "outputs": [],
   "source": [
    "apply(f1, { 'g': 'x', 'p': 'y', 'c': 'z' })"
   ]
  },
  {
   "cell_type": "markdown",
   "metadata": {},
   "source": [
    "The function $\\texttt{boundVariables}(f)$ computes the set of variables that are <em style=\"color:blue\">bound</em> in the formula $f$."
   ]
  },
  {
   "cell_type": "code",
   "execution_count": null,
   "metadata": {},
   "outputs": [],
   "source": [
    "def boundVariables(f):\n",
    "    if f[0] in ('∀', '∃'):\n",
    "        _, x, g = f\n",
    "        return { x } | boundVariables(g)\n",
    "    if f[0] == '⊤':\n",
    "        return set()\n",
    "    if f[0] == '⊥':\n",
    "        return set()\n",
    "    if f[0] == '¬':\n",
    "        _, g = f\n",
    "        return boundVariables(g)\n",
    "    if f[0] in ('∧', '∨', '→', '↔'):\n",
    "        _, g, h = f\n",
    "        return boundVariables(g) | boundVariables(h)\n",
    "    return set()  # f must be an atomic formula"
   ]
  },
  {
   "cell_type": "code",
   "execution_count": null,
   "metadata": {},
   "outputs": [],
   "source": [
    "f1"
   ]
  },
  {
   "cell_type": "code",
   "execution_count": null,
   "metadata": {},
   "outputs": [],
   "source": [
    "boundVariables(f1)"
   ]
  },
  {
   "cell_type": "markdown",
   "metadata": {},
   "source": [
    "The function $\\texttt{allVariables}(f)$ computes the set of all variables that occur in terms inside $f$. The object $f$ is either a formula or a term."
   ]
  },
  {
   "cell_type": "code",
   "execution_count": null,
   "metadata": {},
   "outputs": [],
   "source": [
    "def allVariables(f):\n",
    "    if isinstance(f, str):  # f is a variable\n",
    "        return { f }\n",
    "    if f[0] in ('∀', '∃'):\n",
    "        _, _, g = f\n",
    "        return allVariables(g)\n",
    "    if f[0] == '⊤':\n",
    "        return set()\n",
    "    if f[0] == '⊥':\n",
    "        return set()\n",
    "    if f[0] == '¬':\n",
    "        _, g = f\n",
    "        return allVariables(g)\n",
    "    if f[0] in ('∧', '∨', '→', '↔'):\n",
    "        _, g, h = f\n",
    "        return allVariables(g) | allVariables(h)\n",
    "    args = f[1:]\n",
    "    return { x for t in args for x in allVariables(t) }"
   ]
  },
  {
   "cell_type": "code",
   "execution_count": null,
   "metadata": {},
   "outputs": [],
   "source": [
    "f1"
   ]
  },
  {
   "cell_type": "code",
   "execution_count": null,
   "metadata": {},
   "outputs": [],
   "source": [
    "allVariables(f1)"
   ]
  },
  {
   "cell_type": "markdown",
   "metadata": {},
   "source": [
    "Below we import the module `string` because it provides a definition of all lower case characters."
   ]
  },
  {
   "cell_type": "code",
   "execution_count": null,
   "metadata": {},
   "outputs": [],
   "source": [
    "import string\n",
    "string.ascii_lowercase"
   ]
  },
  {
   "cell_type": "code",
   "execution_count": null,
   "metadata": {},
   "outputs": [],
   "source": [
    "print(set(string.ascii_lowercase))"
   ]
  },
  {
   "cell_type": "markdown",
   "metadata": {},
   "source": [
    "The function $\\texttt{renameBoundVariables}(f)$ takes a first order formula $f$ and replaces all bound variables by **new** variables.  This only works if the set of characters `set(string.ascii_lowercase)` has enough characters that do not already occur in $f$."
   ]
  },
  {
   "cell_type": "code",
   "execution_count": null,
   "metadata": {},
   "outputs": [],
   "source": [
    "def renameBoundVariables(f):\n",
    "    BoundVs = boundVariables(f)\n",
    "    NewVars = set(string.ascii_lowercase) - BoundVs - allVariables(f)\n",
    "    NewVars = sorted(list(NewVars))\n",
    "    sigma   = { x: NewVars[i] for (i, x) in enumerate(BoundVs) }\n",
    "    return apply(f, sigma)"
   ]
  },
  {
   "cell_type": "code",
   "execution_count": null,
   "metadata": {},
   "outputs": [],
   "source": [
    "set(enumerate(['a', 'b', 'c']))"
   ]
  },
  {
   "cell_type": "code",
   "execution_count": null,
   "metadata": {},
   "outputs": [],
   "source": [
    "f1"
   ]
  },
  {
   "cell_type": "code",
   "execution_count": null,
   "metadata": {},
   "outputs": [],
   "source": [
    "renameBoundVariables(f1)"
   ]
  },
  {
   "cell_type": "markdown",
   "metadata": {},
   "source": [
    "## Elimination Biconditionals"
   ]
  },
  {
   "cell_type": "markdown",
   "metadata": {},
   "source": [
    "The function $\\texttt{eliminateBiconditional}(f)$ takes a formula $f$ from first order logic and eliminates all occurrences of the operator '↔' from this formula.  This is done by using the following equivalence:\n",
    "$$ (f \\leftrightarrow g) \\;\\Leftrightarrow\\; (f \\rightarrow g) \\wedge (g \\rightarrow f) $$\n",
    "In order to ensure that the resulting formula is <em style=\"color:blue\">pure</em>, we have to rename the bound variables in the formula $g \\rightarrow f$."
   ]
  },
  {
   "cell_type": "code",
   "execution_count": null,
   "metadata": {},
   "outputs": [],
   "source": [
    "def eliminateBiconditional(f):\n",
    "    \"Eliminate the logical operator '↔' from the formula f.\"\n",
    "    if f[0] == '↔':\n",
    "        g, h = f[1:]\n",
    "        ge   = eliminateBiconditional(g)\n",
    "        he   = eliminateBiconditional(h)\n",
    "        return ('∧', ('→', ge, he), renameBoundVariables(('→', he, ge)))\n",
    "    if f[0] == '⊤':\n",
    "        return f\n",
    "    if f[0] == '⊥':\n",
    "        return f\n",
    "    if f[0] == '¬':\n",
    "        g  = f[1]\n",
    "        ge = eliminateBiconditional(g)\n",
    "        return ('¬', ge)\n",
    "    if f[0] in ('∧', '∨', '→'):\n",
    "        op, g, h = f\n",
    "        ge       = eliminateBiconditional(g)\n",
    "        he       = eliminateBiconditional(h)\n",
    "        return (op, ge, he)\n",
    "    if f[0] in ('∀', '∃'):\n",
    "        q, x, g = f\n",
    "        ge      = eliminateBiconditional(g)\n",
    "        return (q, x, ge)\n",
    "    return f              # f must be an atomic formula"
   ]
  },
  {
   "cell_type": "code",
   "execution_count": null,
   "metadata": {},
   "outputs": [],
   "source": [
    "f1"
   ]
  },
  {
   "cell_type": "code",
   "execution_count": null,
   "metadata": {},
   "outputs": [],
   "source": [
    "f2 = eliminateBiconditional(f1)\n",
    "f2"
   ]
  },
  {
   "cell_type": "markdown",
   "metadata": {},
   "source": [
    "## Eliminating Conditionals"
   ]
  },
  {
   "cell_type": "markdown",
   "metadata": {},
   "source": [
    "The function $\\texttt{eliminateConditional}(f)$ takes a formula $f$ from first order logic and eliminates all occurrences of the operator '→' from this formula.  This is done by using the following equivalence:\n",
    "$$ (f \\rightarrow g) \\;\\Leftrightarrow\\; (\\neg f \\vee g) $$\n",
    "The implementation of this function is similar to the implementation of the function `eliminateConditional` that we had used in propositional logic."
   ]
  },
  {
   "cell_type": "code",
   "execution_count": null,
   "metadata": {},
   "outputs": [],
   "source": [
    "def eliminateConditional(f):\n",
    "    \"Eliminate the logical operator '→' from f.\"\n",
    "    if f[0] == '→':\n",
    "        g, h = f[1:]\n",
    "        ge   = eliminateConditional(g)\n",
    "        he   = eliminateConditional(h)\n",
    "        return ('∨', ('¬', ge), he)\n",
    "    if f[0] == '⊤':\n",
    "        return f\n",
    "    if f[0] == '⊥':\n",
    "        return f\n",
    "    if f[0] == '¬':\n",
    "        g  = f[1]\n",
    "        ge = eliminateConditional(g)\n",
    "        return ('¬', ge)\n",
    "    if f[0] in ('∧', '∨'):\n",
    "        op, g, h = f\n",
    "        ge       = eliminateConditional(g)\n",
    "        he       = eliminateConditional(h)\n",
    "        return (op, ge, he)\n",
    "    if f[0] in ('∀', '∃'):\n",
    "        q, x, g = f\n",
    "        ge      = eliminateConditional(g)\n",
    "        return (q, x, ge)\n",
    "    return f  # f must be an atomic formula"
   ]
  },
  {
   "cell_type": "code",
   "execution_count": null,
   "metadata": {},
   "outputs": [],
   "source": [
    "f2"
   ]
  },
  {
   "cell_type": "code",
   "execution_count": null,
   "metadata": {},
   "outputs": [],
   "source": [
    "f3 = eliminateConditional(f2)\n",
    "f3"
   ]
  },
  {
   "cell_type": "markdown",
   "metadata": {},
   "source": [
    "## Negation Normal Form"
   ]
  },
  {
   "cell_type": "markdown",
   "metadata": {},
   "source": [
    "The function $\\texttt{nnf}(f)$ computes the <em style=\"color:blue;\">negation normal form</em> of $f$, while $\\texttt{neg}(f)$ computes the *negation normal form* of $\\neg f$.  The expression $\\texttt{nnf}(f)$ is defined recursively as follows:\n",
    "<ol>\n",
    "    <li> $\\texttt{nnf}(\\neg \\texttt{F}) = \\texttt{neg}(\\texttt{F})$, </li>\n",
    "    <li> $\\texttt{nnf}(\\texttt{F}_1 \\wedge \\texttt{F}_2) = \n",
    "          \\texttt{nnf}(\\texttt{F}_1) \\wedge \\texttt{nnf}(\\texttt{F}_2)$,</li>\n",
    "    <li> $\\texttt{nnf}(\\texttt{F}_1 \\vee \\texttt{F}_2) = \n",
    "          \\texttt{nnf}(\\texttt{F}_1) \\vee \\texttt{nnf}(\\texttt{F}_2)$.</li>\n",
    "    <li> $\\texttt{nnf}(\\forall x: F) = \\forall x: \\texttt{nnf}(\\texttt{F})$.</li>\n",
    "    <li> $\\texttt{nnf}(\\exists x: F) = \\exists x: \\texttt{nnf}(\\texttt{F})$.</li>\n",
    "</ol>"
   ]
  },
  {
   "cell_type": "markdown",
   "metadata": {},
   "source": [
    "The auxiliary function $\\texttt{neg}$ is also defined recursively:\n",
    "<ol>\n",
    "    <li> $\\texttt{neg}(p) = \\texttt{nnf}(\\neg p) = \\neg p$ for all propositional variables $p$,</li>\n",
    "    <li> $\\texttt{neg}(\\neg F) = \\texttt{nnf}(\\neg \\neg F) = \\texttt{nnf}(F)$,</li>\n",
    "    <li> $$\\begin{array}[t]{cl}\n",
    "         & \\texttt{neg}\\bigl(F_1 \\wedge F_2 \\bigr) \\\\[0.1cm]\n",
    "       = & \\texttt{nnf}\\bigl(\\neg(F_1 \\wedge F_2)\\bigr) \\\\[0.1cm]\n",
    "       = & \\texttt{nnf}\\bigl(\\neg F_1 \\vee \\neg F_2\\bigr) \\\\[0.1cm]\n",
    "       = & \\texttt{nnf}\\bigl(\\neg F_1\\bigr) \\vee \\texttt{nnf}\\bigl(\\neg F_2\\bigr) \\\\[0.1cm]\n",
    "       = & \\texttt{neg}(F_1) \\vee \\texttt{neg}(F_2).\n",
    "       \\end{array}\n",
    "      $$\n",
    "      Therefore we have $\\texttt{neg}\\bigl(F_1 \\wedge F_2 \\bigr) = \\texttt{neg}(F_1) \\vee \\texttt{neg}(F_2)$.</li>\n",
    "    <li> $$\\begin{array}[t]{cl}\n",
    "         & \\texttt{neg}\\bigl(F_1 \\vee F_2 \\bigr)        \\\\[0.1cm]\n",
    "       = & \\texttt{nnf}\\bigl(\\neg(F_1 \\vee F_2) \\bigr)  \\\\[0.1cm]\n",
    "       = & \\texttt{nnf}\\bigl(\\neg F_1 \\wedge \\neg F_2 \\bigr)  \\\\[0.1cm]\n",
    "       = & \\texttt{nnf}\\bigl(\\neg F_1\\bigr) \\wedge \\texttt{nnf}\\bigl(\\neg F_2 \\bigr)  \\\\[0.1cm]\n",
    "       = & \\texttt{neg}(F_1) \\wedge \\texttt{neg}(F_2). \n",
    "       \\end{array}\n",
    "      $$\n",
    "      Therefore we have $\\texttt{neg}\\bigl(F_1 \\vee F_2 \\bigr) = \\texttt{neg}(F_1) \\wedge \\texttt{neg}(F_2)$.</li>\n",
    "    <li> $$\\begin{array}[t]{cl}\n",
    "         & \\texttt{neg}\\bigl(\\forall x: F \\bigr) \\\\[0.1cm]\n",
    "       = & \\texttt{nnf}\\bigl(\\neg \\forall x: F\\bigr) \\\\[0.1cm]\n",
    "       = & \\texttt{nnf}\\bigl(\\exists x: \\neg F\\bigr) \\\\[0.1cm]\n",
    "       = & \\exists x: \\texttt{nnf}(\\neg F)           \\\\[0.1cm]\n",
    "       = & \\exists x: \\texttt{neg}(F).\n",
    "       \\end{array}\n",
    "      $$\n",
    "      Therefore we have $\\texttt{neg}\\bigl(\\forall x: F \\bigr) = \\exists x: \\texttt{neg}(F)$.</li>\n",
    "      <li> $$\\begin{array}[t]{cl}\n",
    "         & \\texttt{neg}\\bigl(\\exists x: F \\bigr) \\\\[0.1cm]\n",
    "       = & \\texttt{nnf}\\bigl(\\neg \\exists x: F\\bigr) \\\\[0.1cm]\n",
    "       = & \\texttt{nnf}\\bigl(\\forall x: \\neg F\\bigr) \\\\[0.1cm]\n",
    "       = & \\forall x: \\texttt{nnf}(\\neg F)           \\\\[0.1cm]\n",
    "       = & \\forall x: \\texttt{neg}(F).\n",
    "       \\end{array}\n",
    "      $$\n",
    "      Therefore we have $\\texttt{neg}\\bigl(\\exists x: F \\bigr) = \\forall x: \\texttt{neg}(F)$.</li>\n",
    "</ol>"
   ]
  },
  {
   "cell_type": "code",
   "execution_count": null,
   "metadata": {},
   "outputs": [],
   "source": [
    "def nnf(f):\n",
    "    \"Compute the negation normal form of f.\"\n",
    "    if f[0] == '⊤':\n",
    "        return f\n",
    "    if f[0] == '⊥':\n",
    "        return f\n",
    "    if f[0] == '¬':\n",
    "        g = f[1]\n",
    "        return neg(g)\n",
    "    if f[0] in ('∧', '∨'):\n",
    "        op, g, h = f\n",
    "        return (op, nnf(g), nnf(h))\n",
    "    if f[0] in ('∀', '∃'):\n",
    "        q, x, g = f\n",
    "        return (q, x, nnf(g))\n",
    "    return f                     # f must be atomic here\n",
    "\n",
    "def neg(f):\n",
    "    \"Compute the negation normal form of ¬f.\"\n",
    "    if f[0] == '⊤':\n",
    "        return ('⊥',)\n",
    "    if f[0] == '⊥':\n",
    "        return ('⊤',)\n",
    "    if f[0] == '¬':\n",
    "        g = f[1]\n",
    "        return nnf(g)\n",
    "    if f[0] == '∧':\n",
    "        g, h = f[1:]\n",
    "        return ('∨', neg(g), neg(h))\n",
    "    if f[0] == '∨':\n",
    "        g, h = f[1:]\n",
    "        return ('∧', neg(g), neg(h))\n",
    "    if f[0] == '∀':\n",
    "        q, x, g = f\n",
    "        return ('∃', x, neg(g))\n",
    "    if f[0] == '∃':\n",
    "        q, x, g = f\n",
    "        return ('∀', x, neg(g))\n",
    "    return ('¬', f)              # f must be atomic here"
   ]
  },
  {
   "cell_type": "code",
   "execution_count": null,
   "metadata": {},
   "outputs": [],
   "source": [
    "f3"
   ]
  },
  {
   "cell_type": "code",
   "execution_count": null,
   "metadata": {},
   "outputs": [],
   "source": [
    "f4 = nnf(f3)\n",
    "f4"
   ]
  },
  {
   "cell_type": "markdown",
   "metadata": {},
   "source": [
    "## Prenex Normal Form"
   ]
  },
  {
   "cell_type": "markdown",
   "metadata": {},
   "source": [
    "In the following we assume that all quantifiers that occur in a formula bind **different** variables, i.e. we assume that the formulas are <b style=\"color:blue;\">pure</b>.  If this assumption is not satisfied, then the functions given below will produce <u>garbage</u>."
   ]
  },
  {
   "cell_type": "markdown",
   "metadata": {},
   "source": [
    "A <em style=\"color:blue;\">quantifier tuple</em> is a tuple of the following form:\n",
    "$$ (Q_1, x_1, \\cdots, Q_n, x_n) $$\n",
    "Here, the $Q_i$ denote quantifiers, i.e. we have $Q_i \\in \\{\\forall, \\exists\\}$, while the $x_i$ are variables.  The function $\\texttt{mergeQuantifiers}(T_1, T_2)$ takes two quantifier tuples $T_1$ and $T_2$ as arguments and merges them into a new quantifier tuple such that the relative order of the quantifiers remains the same, i.e. if both $Q_1, x_1$ and $Q_2, x_2$ occur in $T_1$ and $Q_1, x_1$ occurs before $Q_2, x_2$, then $Q_1, x_1$ will occur before $Q_2, x_2$ in the result."
   ]
  },
  {
   "cell_type": "code",
   "execution_count": null,
   "metadata": {},
   "outputs": [],
   "source": [
    "def mergeQuantifiers(Q1, Q2):\n",
    "    if Q1 == ():\n",
    "        return Q2\n",
    "    if Q2 == ():\n",
    "        return Q1\n",
    "    if Q1[0] == '∃':  # extract existential quantifiers first\n",
    "        return Q1[:2] + mergeQuantifiers(Q1[2:], Q2)\n",
    "    if Q2[0] == '∃':\n",
    "        return Q2[:2] + mergeQuantifiers(Q1, Q2[2:])\n",
    "    return Q1[:2] + mergeQuantifiers(Q1[2:], Q2)"
   ]
  },
  {
   "cell_type": "code",
   "execution_count": null,
   "metadata": {},
   "outputs": [],
   "source": [
    "mergeQuantifiers(('∀', 'x', '∃', 'y', '∀', 'z'), ('∃', 'u', '∀', 'v', '∃', 'w'))"
   ]
  },
  {
   "cell_type": "markdown",
   "metadata": {},
   "source": [
    "Given a formula $f$, the function $\\texttt{extractQuantifiers}(f)$ returns a pairs $(T, m)$, where $T$ is a quantifier tuple and $m$ is the <em style=\"color:blue;\">matrix</em> of the formula $f$, where the matrix of a formula is defined as the part that remains when all quantifiers have been extracted."
   ]
  },
  {
   "cell_type": "code",
   "execution_count": null,
   "metadata": {},
   "outputs": [],
   "source": [
    "def extractQuantifiers(f):\n",
    "    if f[0] in ('⊤', '⊥'):\n",
    "        return (), f\n",
    "    if f[0] == '¬':\n",
    "        return (), f\n",
    "    if f[0] in ('∧', '∨'):\n",
    "        op, g, h = f\n",
    "        qg, gm = extractQuantifiers(g)\n",
    "        qh, hm = extractQuantifiers(h)\n",
    "        # this works because f is pure\n",
    "        return mergeQuantifiers(qg, qh), (op, gm, hm)\n",
    "    if f[0] in ('∀', '∃'):\n",
    "        q, x, g = f\n",
    "        qg, gm  = extractQuantifiers(g)\n",
    "        return (q, x) + qg, gm\n",
    "    return (), f             # f must be atomic here"
   ]
  },
  {
   "cell_type": "code",
   "execution_count": null,
   "metadata": {},
   "outputs": [],
   "source": [
    "f4"
   ]
  },
  {
   "cell_type": "code",
   "execution_count": null,
   "metadata": {},
   "outputs": [],
   "source": [
    "Qs, f5 = extractQuantifiers(f4)\n",
    "Qs, f5"
   ]
  },
  {
   "cell_type": "markdown",
   "metadata": {},
   "source": [
    "Given a qantifier tuple $\\texttt{Qs}$ and a matrix $m$, the call $\\texttt{attachQuantifiers}(Qs, m)$ combines the quantifiers $\\texttt{Qs}$ and the matrix $m$ into a quantified formula."
   ]
  },
  {
   "cell_type": "code",
   "execution_count": null,
   "metadata": {},
   "outputs": [],
   "source": [
    "def attachQuantifiers(Qs, m):\n",
    "    if Qs == ():\n",
    "        return m\n",
    "    (Q, x) = Qs[:2]\n",
    "    Qr     = Qs[2:]\n",
    "    return (Q, x, attachQuantifiers(Qr, m))"
   ]
  },
  {
   "cell_type": "code",
   "execution_count": null,
   "metadata": {},
   "outputs": [],
   "source": [
    "Qs"
   ]
  },
  {
   "cell_type": "code",
   "execution_count": null,
   "metadata": {},
   "outputs": [],
   "source": [
    "f5"
   ]
  },
  {
   "cell_type": "code",
   "execution_count": null,
   "metadata": {},
   "outputs": [],
   "source": [
    "f6 = attachQuantifiers(Qs, f5)\n",
    "f6"
   ]
  },
  {
   "cell_type": "markdown",
   "metadata": {},
   "source": [
    "## Skolemization (Eliminating Existential Quantifiers)"
   ]
  },
  {
   "cell_type": "markdown",
   "metadata": {},
   "source": [
    "The variable $\\texttt{skolemCounter}$ is a global variable that is needed to create unique Skolem constants.  "
   ]
  },
  {
   "cell_type": "code",
   "execution_count": null,
   "metadata": {},
   "outputs": [],
   "source": [
    "skolemCounter = 0"
   ]
  },
  {
   "cell_type": "code",
   "execution_count": null,
   "metadata": {},
   "outputs": [],
   "source": [
    "def skolemConstant():\n",
    "    global skolemCounter\n",
    "    skolemCounter += 1\n",
    "    return 'sk' + str(skolemCounter)"
   ]
  },
  {
   "cell_type": "markdown",
   "metadata": {},
   "source": [
    "The function $\\texttt{skolemize}(f, \\texttt{Vs})$ takes a formula $f$ and a tuple of variables $\\texttt{Vs}$ and \n",
    "<em style=\"color:blue\">skolemizes</em> the formula $f$, i.e. it replaces all existentially quantified variables by appropriate <em style=\"color:blue\">Skolem functions</em>.  The tuple $\\texttt{Vs}$ is a tuple of variables that are \n",
    "assumed to be universally quantified.  The formula $f$ is assumed to be in <em style=\"color:blue\">prenex normal form</em>.\n",
    "\n",
    "For skolemization to work correctly, we have to assume that \n",
    "<font size=\"4\" style=\"color:darkgreen; size:125%\">$f$ does not contain free variables</font>!"
   ]
  },
  {
   "cell_type": "code",
   "execution_count": null,
   "metadata": {},
   "outputs": [],
   "source": [
    "def skolemize(f, Vs):\n",
    "    if f[0] == '∃':\n",
    "        x, g = f[1:]\n",
    "        t = (skolemConstant(),) + Vs \n",
    "        σ = { x: t }\n",
    "        return skolemize(apply(g, σ), Vs)\n",
    "    if f[0] == '∀':\n",
    "        x, g = f[1:]\n",
    "        return skolemize(g, Vs + (x,))\n",
    "    return f                            # at this point f cannot contain a quantifier  "
   ]
  },
  {
   "cell_type": "code",
   "execution_count": null,
   "metadata": {},
   "outputs": [],
   "source": [
    "f6"
   ]
  },
  {
   "cell_type": "code",
   "execution_count": null,
   "metadata": {},
   "outputs": [],
   "source": [
    "f7 = skolemize(f6, ())\n",
    "f7"
   ]
  },
  {
   "cell_type": "markdown",
   "metadata": {},
   "source": [
    "## Conversion to Clauses"
   ]
  },
  {
   "cell_type": "markdown",
   "metadata": {},
   "source": [
    "The function $\\texttt{cnf}(f)$ takes a <em style=\"color:blue\">skolemized</em> formula $f$ from first order logic that is in <em style=\"color:blue\">negation normal form</em> and returns the <em style=\"color:blue\">conjunctive normal form</em> of $f$ in <em style=\"color:blue\">set notation</em>.  This works the same way as in propositional logic."
   ]
  },
  {
   "cell_type": "code",
   "execution_count": null,
   "metadata": {},
   "outputs": [],
   "source": [
    "def cnf(f):\n",
    "    if f[0] == '⊤':\n",
    "        return set()\n",
    "    if f[0] == '⊥':\n",
    "        return {frozenset()}\n",
    "    if f[0] == '¬':\n",
    "        return { frozenset({f}) }\n",
    "    if f[0] == '∧':\n",
    "        g, h = f[1:]\n",
    "        return cnf(g) | cnf(h)\n",
    "    if f[0] == '∨':\n",
    "        g, h = f[1:]\n",
    "        return { k1 | k2 for k1 in cnf(g) for k2 in cnf(h) }\n",
    "    return { frozenset({f}) }    # f is atomic"
   ]
  },
  {
   "cell_type": "code",
   "execution_count": null,
   "metadata": {},
   "outputs": [],
   "source": [
    "f7"
   ]
  },
  {
   "cell_type": "code",
   "execution_count": null,
   "metadata": {},
   "outputs": [],
   "source": [
    "f8 = cnf(f7)\n",
    "f8"
   ]
  },
  {
   "cell_type": "markdown",
   "metadata": {},
   "source": [
    "## Putting Everything Together"
   ]
  },
  {
   "cell_type": "markdown",
   "metadata": {},
   "source": [
    "The function $f$ takes a <em style=\"color:blue\">pure</em> formula $f$ from first order logic and transforms $f$ into a set of first order clauses.  Furthermore, $f$ **must not** contain free variables."
   ]
  },
  {
   "cell_type": "code",
   "execution_count": null,
   "metadata": {},
   "outputs": [],
   "source": [
    "def normalize(f):\n",
    "    f1     = eliminateBiconditional(f)\n",
    "    f2     = eliminateConditional(f1)\n",
    "    f3     = nnf(f2)\n",
    "    Qs, f4 = extractQuantifiers(f3)\n",
    "    f5     = attachQuantifiers(Qs, f4)\n",
    "    f6     = skolemize(f5, ())\n",
    "    f7     = cnf(f6)\n",
    "    return f7"
   ]
  },
  {
   "cell_type": "code",
   "execution_count": null,
   "metadata": {},
   "outputs": [],
   "source": [
    "def test(s):\n",
    "    f = fp.LogicParser(s).parse()\n",
    "    print(f'The knf of {s} is:')\n",
    "    print(prettify(normalize(f)))"
   ]
  },
  {
   "cell_type": "code",
   "execution_count": null,
   "metadata": {},
   "outputs": [],
   "source": [
    "def prettify(M):\n",
    "    \"\"\"Turn the set of frozen sets M into a string that looks like a set of sets.\n",
    "       M is assumed to be a set of frozensets.\n",
    "    \"\"\"\n",
    "    if M == set():\n",
    "        return '{}'\n",
    "    result = \"{\\n\"\n",
    "    for A in M:\n",
    "        if A == frozenset(): \n",
    "            result += \"{},\\n\"\n",
    "        else:\n",
    "            result += \"    \" + str(set(A)) + \",\\n\" # A is converted from a frozen set to a set\n",
    "    result = result[:-2] # remove the trailing substring \", \"\n",
    "    result += \"\\n}\"\n",
    "    return result"
   ]
  },
  {
   "cell_type": "code",
   "execution_count": null,
   "metadata": {},
   "outputs": [],
   "source": [
    "test(s)"
   ]
  },
  {
   "cell_type": "code",
   "execution_count": null,
   "metadata": {},
   "outputs": [],
   "source": [
    "test('¬(∃y:∀x:P(x,y)→∀u:∃v:P(u,v))')"
   ]
  },
  {
   "cell_type": "code",
   "execution_count": null,
   "metadata": {},
   "outputs": [],
   "source": []
  }
 ],
 "metadata": {
  "hide_input": false,
  "kernelspec": {
   "display_name": "Python 3",
   "language": "python",
   "name": "python3"
  },
  "language_info": {
   "codemirror_mode": {
    "name": "ipython",
    "version": 3
   },
   "file_extension": ".py",
   "mimetype": "text/x-python",
   "name": "python",
   "nbconvert_exporter": "python",
   "pygments_lexer": "ipython3",
   "version": "3.6.7"
  },
  "toc": {
   "base_numbering": 1,
   "nav_menu": {},
   "number_sections": true,
   "sideBar": true,
   "skip_h1_title": false,
   "title_cell": "Table of Contents",
   "title_sidebar": "Contents",
   "toc_cell": false,
   "toc_position": {},
   "toc_section_display": true,
   "toc_window_display": false
  },
  "varInspector": {
   "cols": {
    "lenName": 16,
    "lenType": 16,
    "lenVar": 40
   },
   "kernels_config": {
    "python": {
     "delete_cmd_postfix": "",
     "delete_cmd_prefix": "del ",
     "library": "var_list.py",
     "varRefreshCmd": "print(var_dic_list())"
    },
    "r": {
     "delete_cmd_postfix": ") ",
     "delete_cmd_prefix": "rm(",
     "library": "var_list.r",
     "varRefreshCmd": "cat(var_dic_list()) "
    }
   },
   "types_to_exclude": [
    "module",
    "function",
    "builtin_function_or_method",
    "instance",
    "_Feature"
   ],
   "window_display": false
  }
 },
 "nbformat": 4,
 "nbformat_minor": 2
}
