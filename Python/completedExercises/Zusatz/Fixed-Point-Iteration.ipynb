{
 "cells": [
  {
   "cell_type": "code",
   "execution_count": null,
   "metadata": {},
   "outputs": [],
   "source": [
    "from IPython.core.display import HTML\n",
    "with open('style.css', 'r') as file:\n",
    "    css = file.read()\n",
    "HTML(css)"
   ]
  },
  {
   "cell_type": "markdown",
   "metadata": {},
   "source": [
    "# Solving a Fixed-Point Equation"
   ]
  },
  {
   "cell_type": "markdown",
   "metadata": {},
   "source": [
    "Assume we want to find a solution of the equation\n",
    "$$ x = \\cos(x).  $$\n",
    "As a first step, we would try to visualize the situation and plot both the function $y = \\cos(x)$ and the line $y = x$.  This is done in the following cell:"
   ]
  },
  {
   "cell_type": "code",
   "execution_count": null,
   "metadata": {},
   "outputs": [],
   "source": [
    "import matplotlib.pyplot as plt\n",
    "%matplotlib inline\n",
    "\n",
    "import math\n",
    "\n",
    "plt.rcParams['figure.figsize'] = [15, 10]\n",
    "n = 1000\n",
    "x = [         0.5 * math.pi * i / 1000  for i in range(1001)]\n",
    "y = [math.cos(0.5 * math.pi * i / 1000) for i in range(1001)]\n",
    "plt.margins(0.00)\n",
    "plt.plot(x[:640], x[:640], label=\"y=x\")\n",
    "plt.plot(x, y, label=\"y = cos(x)\")\n",
    "plt.grid()\n",
    "plt.xlabel(\"x\")\n",
    "plt.ylabel(\"y\")\n",
    "plt.legend()\n",
    "plt.title(\"Solve x = cos(x)\")\n",
    "plt.show()\n",
    "# plt.savefig(\"xEqualsCosX.pdf\")"
   ]
  },
  {
   "cell_type": "markdown",
   "metadata": {},
   "source": [
    "The figure above clearly shows that the line $y = x$ intersects the function $y = \\cos(x)$ at some point $\\bar{x}$ that lies somewhere in the intervall $[0.6, 0.8]$.  In order to compute $\\bar{x}$, we try the following \n",
    "<em style=\"color:blue\">fixed-point iteration</em>.\n",
    "<ol>\n",
    "    <li> We initialize $x_0$ with the value $1.0$. </li>\n",
    "    <li> We define $x_{n+1} := \\cos(x_n)$.\n",
    "</ol>"
   ]
  },
  {
   "cell_type": "markdown",
   "metadata": {},
   "source": [
    "Our hope is that the sequence $(x_n)_{n\\in\\mathbb{N}}$ converges to the solution $\\bar{x}$, i.e. we hope that\n",
    "$$ \\lim\\limits_{n\\rightarrow\\infty} x_n = \\bar{x}. $$\n",
    "Why should this be true?  Well let us assume that the limit of this sequence exists and define\n",
    "$$ \\bar{x} := \\lim\\limits_{n\\rightarrow\\infty} x_n. $$\n",
    "Then we have the following:\n",
    "$$\n",
    "  \\begin{array}{lcl}\n",
    "  \\cos\\bigl(\\bar{x}\\bigr) & = & \\cos\\Bigl(\\lim\\limits_{n\\rightarrow\\infty} x_n\\Bigr) \\\\\n",
    "                          & = & \\lim\\limits_{n\\rightarrow\\infty} \\cos(x_n)           \\\\\n",
    "                          & = & \\lim\\limits_{n\\rightarrow\\infty} x_{n+1}       \\\\\n",
    "                          & = & \\lim\\limits_{n\\rightarrow\\infty} x_{n}         \\\\\n",
    "                          & = & \\bar{x}\n",
    "  \\end{array}\n",
    "$$"
   ]
  },
  {
   "cell_type": "markdown",
   "metadata": {},
   "source": [
    "Therefore, if the sequence converges to some limit, ten the limit is indeed a solution of the equation $x = \\cos(x)$.  The question whether the sequence does indeed converge is decided <em style=\"color:blue\">experimentally</em> as follows:"
   ]
  },
  {
   "cell_type": "code",
   "execution_count": null,
   "metadata": {},
   "outputs": [],
   "source": [
    "import math\n",
    "\n",
    "x     = 1.0\n",
    "old_x = 0.0\n",
    "i     = 1\n",
    "while abs(x - old_x) >= 4.0E-16:\n",
    "    old_x = x\n",
    "    x = math.cos(x)\n",
    "    print(f'{i} : {x}')\n",
    "    i += 1"
   ]
  },
  {
   "cell_type": "markdown",
   "metadata": {},
   "source": [
    "It seems that the sequence $(x_n)_{n\\in\\mathbb{N}}$ does indeed converge and the solution $\\bar{x}$ to the equation $x=\\cos(x)$ satisfies \n",
    "$$ \\bar{x} \\approx 0.739085133215161. $$\n",
    "Furthermore, up to the precision of *Python's* floating point numbers, the limit $\\bar{x}$ satisfies the equation \n",
    "$\\cos(\\bar{x}) = \\bar{x}$:"
   ]
  },
  {
   "cell_type": "code",
   "execution_count": null,
   "metadata": {},
   "outputs": [],
   "source": [
    "x"
   ]
  },
  {
   "cell_type": "code",
   "execution_count": null,
   "metadata": {},
   "outputs": [],
   "source": [
    "math.cos(x)"
   ]
  },
  {
   "cell_type": "code",
   "execution_count": null,
   "metadata": {},
   "outputs": [],
   "source": [
    "x - math.cos(x)"
   ]
  },
  {
   "cell_type": "markdown",
   "metadata": {},
   "source": [
    "The tiny difference between <tt>x</tt> and <tt>cos(x)</tt> is due to rounding errors."
   ]
  },
  {
   "cell_type": "markdown",
   "metadata": {},
   "source": [
    "Let us try to generalize this approach.  The function <tt>solve</tt> shown below takes two arguments:\n",
    "  - The first argument `f` is a real valued function that takes a single real valued argument.\n",
    "  - The second argument `x0` is the start value of the fixed-point iteration.</li>\n",
    "\n",
    "The function tries to solve the equation:\n",
    "$$x = f(x) $$\n",
    "\n",
    "This is done by defining a sequence \n",
    "  - $x_1 = f(x_0)$,\n",
    "  - $x_2 = f(x_1)$, and, in general,\n",
    "  - $x_{n+1} = f(x_n)$.\n",
    "\n",
    "If this sequence converges, i.e. if the absolute value of the difference $x_{n+1} - x_n$ is less than\n",
    "$10^{-15}$, then the value $x_{n+1}$ is returned.  If the function does not converge within $10000$ steps, the special value \n",
    "`None` is returned instead.  This value is always returned if a function terminates without explicitly returning a value."
   ]
  },
  {
   "cell_type": "code",
   "execution_count": null,
   "metadata": {},
   "outputs": [],
   "source": [
    "def solve(f, x0):\n",
    "    \"\"\"\n",
    "    Solve the equation f(x) = x using a fixed point iteration.\n",
    "    x0 is the start value.\n",
    "    \"\"\"\n",
    "    x = x0\n",
    "    for n in range(10000):  # at most 10000 iterations\n",
    "        oldX = x\n",
    "        x    = f(x)\n",
    "        if abs(x - oldX) < 1.0e-15: \n",
    "            return x"
   ]
  },
  {
   "cell_type": "code",
   "execution_count": null,
   "metadata": {},
   "outputs": [],
   "source": [
    "print(\"solution to x = cos(x): \", solve(math.cos, 0));"
   ]
  },
  {
   "cell_type": "code",
   "execution_count": null,
   "metadata": {},
   "outputs": [],
   "source": [
    "def f(x):\n",
    "    return 1/(1+x)"
   ]
  },
  {
   "cell_type": "code",
   "execution_count": null,
   "metadata": {},
   "outputs": [],
   "source": [
    "solve(f, 0)"
   ]
  },
  {
   "cell_type": "markdown",
   "metadata": {},
   "source": [
    "Below, the expression `lambda x: 1/(1+x)` defines the function that maps $x$ to the value $\\frac{1}{1+x}$."
   ]
  },
  {
   "cell_type": "code",
   "execution_count": null,
   "metadata": {},
   "outputs": [],
   "source": [
    "print(\"solution to x = 1/(1+x):\", solve(lambda x: 1/(1+x), 0));"
   ]
  },
  {
   "cell_type": "code",
   "execution_count": null,
   "metadata": {},
   "outputs": [],
   "source": []
  }
 ],
 "metadata": {
  "@webio": {
   "lastCommId": null,
   "lastKernelId": null
  },
  "kernelspec": {
   "display_name": "Python 3",
   "language": "python",
   "name": "python3"
  },
  "language_info": {
   "codemirror_mode": {
    "name": "ipython",
    "version": 3
   },
   "file_extension": ".py",
   "mimetype": "text/x-python",
   "name": "python",
   "nbconvert_exporter": "python",
   "pygments_lexer": "ipython3",
   "version": "3.7.8"
  },
  "varInspector": {
   "cols": {
    "lenName": 16,
    "lenType": 16,
    "lenVar": 40
   },
   "kernels_config": {
    "python": {
     "delete_cmd_postfix": "",
     "delete_cmd_prefix": "del ",
     "library": "var_list.py",
     "varRefreshCmd": "print(var_dic_list())"
    },
    "r": {
     "delete_cmd_postfix": ") ",
     "delete_cmd_prefix": "rm(",
     "library": "var_list.r",
     "varRefreshCmd": "cat(var_dic_list()) "
    }
   },
   "types_to_exclude": [
    "module",
    "function",
    "builtin_function_or_method",
    "instance",
    "_Feature"
   ],
   "window_display": false
  }
 },
 "nbformat": 4,
 "nbformat_minor": 2
}
