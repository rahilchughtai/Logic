{
 "cells": [
  {
   "cell_type": "code",
   "execution_count": null,
   "metadata": {},
   "outputs": [],
   "source": [
    "from IPython.core.display import HTML\n",
    "with open('style.css', 'r') as file:\n",
    "    css = file.read()\n",
    "HTML(css)"
   ]
  },
  {
   "cell_type": "markdown",
   "metadata": {},
   "source": [
    "# An Introduction to *Python*\n",
    "\n",
    "Let us begin by checking the version of our Python interpreter."
   ]
  },
  {
   "cell_type": "code",
   "execution_count": null,
   "metadata": {},
   "outputs": [],
   "source": [
    "import sys\n",
    "sys.version"
   ]
  },
  {
   "cell_type": "markdown",
   "metadata": {},
   "source": [
    "This notebook gives a short introduction to *Python*.  We will start with the basics but as the **main goal** of this introduction is to show how *Python* supports *sets* we will quickly move to more advanced topics.\n",
    "In order to show off the features of *Python* we will give some examples that are not fully explained at the point \n",
    "where we introduce them.  However, rest assured that these features will be explained eventually."
   ]
  },
  {
   "cell_type": "markdown",
   "metadata": {},
   "source": [
    "## Evaluating expressions\n",
    "\n",
    "As Python is an interactive language, expressions can be evaluated directly.  In a *Jupyter* \n",
    "notebook we just have to type <tt>Ctrl-Enter</tt> in the cell containing the expression.  Instead\n",
    "of <tt>Ctrl-Enter</tt> we can also use <tt>Shift-Enter</tt>."
   ]
  },
  {
   "cell_type": "code",
   "execution_count": null,
   "metadata": {},
   "outputs": [],
   "source": [
    "1 + 2"
   ]
  },
  {
   "cell_type": "markdown",
   "metadata": {},
   "source": [
    "In *Python*, the precision of integers is not bounded.  Hence, the following expression does **not** cause\n",
    "an <a href=\"https://en.wikipedia.org/wiki/Integer_overflow\">integer overflow</a>."
   ]
  },
  {
   "cell_type": "code",
   "execution_count": null,
   "metadata": {},
   "outputs": [],
   "source": [
    "1 * 2 * 3 * 4 * 5 * 6 * 7 * 8 * 9 * 10 * 11 * 12 * 13 * 14 * 15 * 16 * 17 * 18 * 19 * 20 * 21 * 22 * 23 * 24 * 25"
   ]
  },
  {
   "cell_type": "markdown",
   "metadata": {},
   "source": [
    "The next *cell* in this notebook shows how to compute the *factorial* of 1000, i.e. it shows how to compute \n",
    "the product\n",
    "$$ 1000! = 1 \\cdot 2 \\cdot 3 \\cdot {\\dots} \\cdot 998 \\cdot 999 \\cdot 1000 $$\n",
    "It uses some advanced features from *functional programming* that will be discussed later."
   ]
  },
  {
   "cell_type": "code",
   "execution_count": null,
   "metadata": {},
   "outputs": [],
   "source": [
    "import functools \n",
    "\n",
    "functools.reduce(lambda x, y: (x*y), range(1, 1000+1))"
   ]
  },
  {
   "cell_type": "markdown",
   "metadata": {},
   "source": [
    "The following command will stop the interpreter if executed.  It is not useful inside a *Jupyter* notebook.  \n",
    "Hence, the next line should not be evaluated.  \n",
    "\n",
    "However, if you evaluate the following line, nothing bad will happen as the interpreter is just restarted by *Jupyter*.  "
   ]
  },
  {
   "cell_type": "code",
   "execution_count": null,
   "metadata": {},
   "outputs": [],
   "source": [
    "# exit()"
   ]
  },
  {
   "cell_type": "markdown",
   "metadata": {},
   "source": [
    "In order to write something to the screen, we can use the function <tt>print</tt>.  This function can print objects of any type.  In the following example, this function prints a <tt>string</tt>.  In *Python* any character sequence \n",
    "enclosed in single quotes is <tt>string</tt>."
   ]
  },
  {
   "cell_type": "code",
   "execution_count": null,
   "metadata": {},
   "outputs": [],
   "source": [
    "print('Hello, World!')"
   ]
  },
  {
   "cell_type": "markdown",
   "metadata": {},
   "source": [
    "The last expression in every notebook cell is automatically printed."
   ]
  },
  {
   "cell_type": "code",
   "execution_count": null,
   "metadata": {},
   "outputs": [],
   "source": [
    "'Hello, World!'"
   ]
  },
  {
   "cell_type": "markdown",
   "metadata": {},
   "source": [
    "If we want to supress the last expression from being printed, we can end the expression with a semicolon:"
   ]
  },
  {
   "cell_type": "code",
   "execution_count": null,
   "metadata": {},
   "outputs": [],
   "source": [
    "'Hello, World!';"
   ]
  },
  {
   "cell_type": "markdown",
   "metadata": {},
   "source": [
    "Instead of using single quotes we can also use double quotes as seen in the next example.  However, the convention is to use single quotes, unless the string itself contains a single quote."
   ]
  },
  {
   "cell_type": "code",
   "execution_count": null,
   "metadata": {},
   "outputs": [],
   "source": [
    "\"Hello, World!\""
   ]
  },
  {
   "cell_type": "markdown",
   "metadata": {},
   "source": [
    "The function <tt>print</tt> accepts any number of arguments.  For example, to print the string \"36 * 37 / 2 = \" followed by the value of the expression $36 \\cdot 37 / 2$ we can use the following <tt>print</tt> statement:"
   ]
  },
  {
   "cell_type": "code",
   "execution_count": null,
   "metadata": {},
   "outputs": [],
   "source": [
    "print('36 * 37 / 2 =', 36 * 37 // 2)"
   ]
  },
  {
   "cell_type": "markdown",
   "metadata": {},
   "source": [
    "In the expression \"<tt>36 \\* 37 // 2</tt>\" we have used the operator \"<tt>//</tt>\" in order to enforce *integer division*.  If we had used the operator \"<tt>/</tt>\" instead, *Python* would have used *floating point division* and therefore it would have printed the floating point number <tt>666.0</tt> instead of the integer <tt>666<tt>. "
   ]
  },
  {
   "cell_type": "code",
   "execution_count": null,
   "metadata": {},
   "outputs": [],
   "source": [
    "print('36 * 37 / 2 =', 36 * 37 / 2)"
   ]
  },
  {
   "cell_type": "code",
   "execution_count": null,
   "metadata": {},
   "outputs": [],
   "source": [
    "5 // 3, 4 % 3"
   ]
  },
  {
   "cell_type": "code",
   "execution_count": null,
   "metadata": {},
   "outputs": [],
   "source": [
    "range(1, 9+1)"
   ]
  },
  {
   "cell_type": "code",
   "execution_count": null,
   "metadata": {},
   "outputs": [],
   "source": [
    "A = set(range(1, 9+1))\n",
    "A"
   ]
  },
  {
   "cell_type": "code",
   "execution_count": null,
   "metadata": {},
   "outputs": [],
   "source": [
    "sum(A)"
   ]
  },
  {
   "cell_type": "markdown",
   "metadata": {},
   "source": [
    "The following script reads a natural number $n$ and computes the sum $\\sum\\limits_{i=1}^n i$.\n",
    "<ol>\n",
    "    <li>The function <tt>input</tt> prompts the user to enter a string.\n",
    "    </li>\n",
    "    <li>This string is then converted into an integer using the function <tt>int</tt>.\n",
    "    </li>\n",
    "    <li>Next, the <em>set</em> <tt>s</tt> is created such that \n",
    "        $$\\texttt{s} = \\{1, \\cdots, n\\}. $$  \n",
    "        The set <tt>s</tt> is constructed using the function <tt>range</tt>.  A function call \n",
    "        of the form $\\texttt{range}(a, b + 1)$ returns a *generator* that produces the natural numbers starting\n",
    "        from $a$ upto and including $b$.  By using this generator as an argument to the function <tt>set</tt>, \n",
    "        a set is created that contains all the natural number starting from $a$ upto and including $b$.\n",
    "        The precise mechanics of <em>generators</em> will be explained later.\n",
    "    </li>\n",
    "    <li>The <tt>print</tt> statement uses the function <tt>sum</tt> to add up all the elements of the\n",
    "        set <tt>s</tt>.  The effect of the last argument <tt>sep=''</tt> is to prevent <tt>print</tt> from \n",
    "        separating the previous arguments by spaces.\n",
    "    </li>\n",
    "</ol>"
   ]
  },
  {
   "cell_type": "code",
   "execution_count": null,
   "metadata": {},
   "outputs": [],
   "source": [
    "n = input('Type a natural number and press return: ')\n",
    "n = int(n)\n",
    "s = set(range(1, n+1))\n",
    "print('The sum 1 + 2 + ... + ', n, ' is equal to ', sum(s), '.', sep='')"
   ]
  },
  {
   "cell_type": "markdown",
   "metadata": {},
   "source": [
    "If we input $36 = 6^2$ above, we discover the following remarkable identity:\n",
    "$$ \\sum\\limits_{i=1}^{6^2} i = 666. $$"
   ]
  },
  {
   "cell_type": "markdown",
   "metadata": {},
   "source": [
    "The following example shows how *functions* can be defined in *Python*.  The function $\\texttt{sum}(n)$ is supposed \n",
    "to compute the sum of all the numbers in the set $\\{1, \\cdots, n\\}$.  Therefore, we have\n",
    "$$\\texttt{sum}(n) = \\sum\\limits_{i=1}^n i. $$  \n",
    "The function <tt>sum</tt> is defined *recursively*.  The recursive implementation of the function <tt>sum</tt> can best by understood if we observe that it satisfies the following two equations:\n",
    "<ol>\n",
    "    <li> $\\texttt{sum}(0) = 0$, </li>\n",
    "    <li> $\\texttt{sum}(n) = \\texttt{sum}(n-1) + n \\quad$  provided that $n > 0$.</li>\n",
    "</ol>"
   ]
  },
  {
   "cell_type": "code",
   "execution_count": null,
   "metadata": {},
   "outputs": [],
   "source": [
    "def sum(n):\n",
    "    if n == 0:\n",
    "        return 0\n",
    "    return sum(n-1) + n"
   ]
  },
  {
   "cell_type": "code",
   "execution_count": null,
   "metadata": {},
   "outputs": [],
   "source": [
    "sum"
   ]
  },
  {
   "cell_type": "code",
   "execution_count": null,
   "metadata": {},
   "outputs": [],
   "source": [
    "sum(3)"
   ]
  },
  {
   "cell_type": "code",
   "execution_count": null,
   "metadata": {},
   "outputs": [],
   "source": [
    "def sum(n):\n",
    "    print(f'calling sum({n})')\n",
    "    if n == 0:\n",
    "        print('sum(0) = 0')\n",
    "        return 0\n",
    "    snm1 = sum(n-1) \n",
    "    print(f'sum({n}) = sum({n-1}) + {n} = {snm1} + {n} = {snm1 + n}')\n",
    "    return snm1 + n"
   ]
  },
  {
   "cell_type": "code",
   "execution_count": null,
   "metadata": {},
   "outputs": [],
   "source": [
    "sum(3)"
   ]
  },
  {
   "cell_type": "markdown",
   "metadata": {},
   "source": [
    "Let us discuss the implementation of the function <tt>sum</tt> line by line:\n",
    "<ol>\n",
    "    <li> The keyword <tt>def</tt> starts the definition of the function. It is followed by the name of the function that is defined.  The name is followed by the list of the parameters of the function.  This list is enclosed in parentheses. If there had been more than one parameter, the parameters would have been separated by commas.  Finally, there needs to be a colon at the end of the first line.\n",
    "    </li>\n",
    "    <li> The body of the function is indented.  <b>Contrary</b> to most other programming languages, \n",
    "         <u>Python is space sensitive</u>. \n",
    "         The first statement of the body is a conditional statement, which starts with the keyword\n",
    "         <tt>if</tt>.  The keyword is followed by a test.  In this case we test whether the variable $n$ \n",
    "         is equal to the number $0$.  Note that this test is followed by a colon.\n",
    "    </li>\n",
    "    <li> The next line contains a <tt>return</tt> statement.  Note that this statement is again indented.\n",
    "         All statements indented by the same amount that follow an <tt>if</tt>-statement are considered as\n",
    "         the body of the <tt>if</tt>-statement.  In this case the body contains only a single statement.\n",
    "    </li>\n",
    "    <li> The <tt>print</tt> statement in the penultimate line contains a so called \n",
    "        <a href=\"https://realpython.com/python-f-strings/\">f-string</a>.  Expressions enclosed in curly braces are evaluated,           the result is converted to a string and inserted back into the f-string.  This behaviour is known as \n",
    "        <em style=\"color:blue;\">string interpolation</em>.\n",
    "    </li>\n",
    "    <li> The last line of the function definition contains the recursive invocation of the function <tt>sum</tt>.\n",
    "    </li>\n",
    "</ol>\n",
    "\n",
    "Using the function <tt>sum</tt>, we can compute the sum $\\sum\\limits_{i=1}^n i$ as follows:"
   ]
  },
  {
   "cell_type": "code",
   "execution_count": null,
   "metadata": {},
   "outputs": [],
   "source": [
    "n     = int(input(\"Enter a natural number: \"))\n",
    "total = sum(n)\n",
    "if n > 2:\n",
    "    print(\"0 + 1 + 2 + ... + \", n, \" = \", total, sep='')\n",
    "else: \n",
    "    print(total)"
   ]
  },
  {
   "cell_type": "markdown",
   "metadata": {},
   "source": [
    "## Sets in *Python*"
   ]
  },
  {
   "cell_type": "markdown",
   "metadata": {},
   "source": [
    "*Python* supports sets as a **native** datatype. This is one of the reasons that have lead me to choose *Python* as the programming language for this course.  To get a first impression how sets are handled in *Python*, let us define two simple sets $A$ and $B$ and print them:"
   ]
  },
  {
   "cell_type": "code",
   "execution_count": null,
   "metadata": {},
   "outputs": [],
   "source": [
    "A = {1, 2, 3}\n",
    "B = {2, 3, 4}\n",
    "print(f'A = {A}, B = {B}')"
   ]
  },
  {
   "cell_type": "markdown",
   "metadata": {},
   "source": [
    "There is a caveat here, we cannot define the empty set using the expression <tt>{}</tt> since this expression \n",
    "creates the empty <em style=\"color:blue;\">dictionary</em> instead.  (We will discuss the data type of *dictionaries* later.) To define the empty set $\\emptyset$, we therefore have to use the following expression:"
   ]
  },
  {
   "cell_type": "code",
   "execution_count": null,
   "metadata": {},
   "outputs": [],
   "source": [
    "S = set()\n",
    "S"
   ]
  },
  {
   "cell_type": "markdown",
   "metadata": {},
   "source": [
    "Note that the empty set is also printed as <tt>set()</tt> in *Python* and not as <tt>{}</tt>."
   ]
  },
  {
   "cell_type": "markdown",
   "metadata": {},
   "source": [
    "Next, let us compute the <em style=\"color:blue;\">union</em> $A \\cup B$. This is done using the operator \"<tt>|</tt>\". "
   ]
  },
  {
   "cell_type": "code",
   "execution_count": null,
   "metadata": {},
   "outputs": [],
   "source": [
    "A | B"
   ]
  },
  {
   "cell_type": "markdown",
   "metadata": {},
   "source": [
    "To compute the <em style=\"color:blue;\">intersection</em> $A \\cap B$, we use the operator \"<tt>&</tt>\":"
   ]
  },
  {
   "cell_type": "code",
   "execution_count": null,
   "metadata": {},
   "outputs": [],
   "source": [
    "A & B"
   ]
  },
  {
   "cell_type": "markdown",
   "metadata": {},
   "source": [
    "The <em style=\"color:blue;\">set difference</em> $A \\backslash B$ is computed using the operator \"<tt>-</tt>\":"
   ]
  },
  {
   "cell_type": "code",
   "execution_count": null,
   "metadata": {},
   "outputs": [],
   "source": [
    "A - B, B - A"
   ]
  },
  {
   "cell_type": "markdown",
   "metadata": {},
   "source": [
    "It is easy to test whether $A$ is a <em style=\"color:blue;\">subset</em> of $B$, i.e. whether $A \\subseteq B$ holds:"
   ]
  },
  {
   "cell_type": "code",
   "execution_count": null,
   "metadata": {},
   "outputs": [],
   "source": [
    "A <= B"
   ]
  },
  {
   "cell_type": "markdown",
   "metadata": {},
   "source": [
    "Testing whether an object $x$ is an <em style=\"color:blue;\">element</em> of a set $M$, i.e. to test whether $x \\in M$ holds, is straightforward:"
   ]
  },
  {
   "cell_type": "code",
   "execution_count": null,
   "metadata": {},
   "outputs": [],
   "source": [
    "1 in A"
   ]
  },
  {
   "cell_type": "markdown",
   "metadata": {},
   "source": [
    "On the other hand, the number $1$ is not an element of the set $B$, i.e. we have $1 \\not\\in B$:"
   ]
  },
  {
   "cell_type": "code",
   "execution_count": null,
   "metadata": {},
   "outputs": [],
   "source": [
    "1 not in B"
   ]
  },
  {
   "cell_type": "markdown",
   "metadata": {},
   "source": [
    "It is important to know that sets are <b style=\"color:red; background-color:rgb(0,112,122)\">not ordered</b>.  The reason is that sets are implemented as <em style=\"color:blue;\">hash tables</em>."
   ]
  },
  {
   "cell_type": "code",
   "execution_count": null,
   "metadata": {},
   "outputs": [],
   "source": [
    "print({-1,2,-3,4})"
   ]
  },
  {
   "cell_type": "markdown",
   "metadata": {},
   "source": [
    "However, if a set is displayed by a **Jupyter notebook** without a print statement, the elements are sorted."
   ]
  },
  {
   "cell_type": "code",
   "execution_count": null,
   "metadata": {},
   "outputs": [],
   "source": [
    "{-1,2,-3,4}"
   ]
  },
  {
   "cell_type": "markdown",
   "metadata": {},
   "source": [
    "## Defining Sets via Selection and Images"
   ]
  },
  {
   "cell_type": "markdown",
   "metadata": {},
   "source": [
    "Remember how we can define subsets of a given set $M$ via the axiom of selection.   If $p$ is a property such that for any object $x$ from the set $M$ the expression $p(x)$ is either <tt>True</tt> or <tt>False</tt>,  the subset of all those elements of $M$ such that $p(x)$ is <tt>True</tt> can be defined as\n",
    "$$ \\{ x \\in M \\mid p(x) \\}. $$\n",
    "For example, if $M$ is the set $\\{1, \\cdots, 100\\}$ and we want to compute the subset of this set that contains all numbers from $M$ that are divisible by $7$, then this set can be defined as\n",
    "$$ \\{ x \\in M \\mid x \\texttt{%} 7 = 0 \\}. $$\n",
    "In *Python*, the definition of this set can be given as follows: "
   ]
  },
  {
   "cell_type": "code",
   "execution_count": null,
   "metadata": {},
   "outputs": [],
   "source": [
    "M = set(range(1, 100+1))\n",
    "{ x for x in M if x % 7 == 0 }"
   ]
  },
  {
   "cell_type": "markdown",
   "metadata": {},
   "source": [
    "In general, in *Python* the set\n",
    "$$ \\{ x \\in M \\mid p(x) \\} $$\n",
    "is computed by the expression\n",
    "$$ \\{\\; x\\; \\texttt{for}\\; x\\; \\texttt{in}\\; M\\; \\texttt{if}\\; p(x)\\; \\}. $$\n",
    "This is called a *set comprehension*.\n",
    "\n",
    "*Image* sets can be computed in a similar way.  If $f$ is a function defined for all elements of a set $M$, the image set \n",
    "$$ \\{ f(x) \\mid x \\in M \\} $$\n",
    "can be computed in *Python* as follows:\n",
    "$$ \\{\\; f(x)\\; \\texttt{for}\\; x\\; \\texttt{in}\\; M\\; \\}. $$\n",
    "For example, the following expression computes the set of all squares of  numbers from the set $\\{1,\\cdots,10\\}$:"
   ]
  },
  {
   "cell_type": "code",
   "execution_count": null,
   "metadata": {},
   "outputs": [],
   "source": [
    "M = set(range(1,10+1))\n",
    "{ x*x for x in M }"
   ]
  },
  {
   "cell_type": "markdown",
   "metadata": {},
   "source": [
    "The computation of image sets and selections can be combined.  If $M$ is a set, $p$ is a property such that $p(x)$ is either <tt>True</tt> or <tt>False</tt> for elements of $M$, and $f$ is a function such that $f(x)$ is defined for all $x \\in M$ then we can compute set \n",
    "$$ \\{ f(x) \\mid  x \\in M \\wedge p(x) \\} $$\n",
    "of all images $f(x)$ from those $x\\in M$ that satisfy the property $p(x)$ via the expression\n",
    "$$ \\{\\; f(x)\\; \\texttt{for}\\; x\\; \\texttt{in}\\; M\\; \\texttt{if}\\; p(x)\\; \\}. $$\n",
    "For example, to compute the set of those squares of numbers from the set $\\{1,\\cdots,10\\}$ that are even we can write"
   ]
  },
  {
   "cell_type": "code",
   "execution_count": null,
   "metadata": {},
   "outputs": [],
   "source": [
    "{ x*x for x in M \n",
    "      if x % 2 == 0 \n",
    "}"
   ]
  },
  {
   "cell_type": "markdown",
   "metadata": {},
   "source": [
    "We can iterate over more than one set.  For example, let us define the set of all products $p \\cdot q$ of numbers $p$ and $q$ from the set $\\{2, \\cdots, 10\\}$, i.e. we intend to define the set\n",
    "$$ \\bigl\\{ p \\cdot q \\bigm| p \\in \\{2,\\cdots,10\\} \\wedge q \\in \\{2,\\cdots,10\\} \\bigr\\}. $$\n",
    "In *Python*, this set is defined as follows:  "
   ]
  },
  {
   "cell_type": "code",
   "execution_count": null,
   "metadata": {},
   "outputs": [],
   "source": [
    "{ p * q for p in range(2, 6+1) \n",
    "        for q in range(2, 6+1) \n",
    "}"
   ]
  },
  {
   "cell_type": "markdown",
   "metadata": {},
   "source": [
    "We can use this set to compute the set of *prime numbers*.  After all, the set of prime numbers is the set of all those natural numbers bigger than $1$ that can not be written as a proper product, that is a number $x$ is *prime* if \n",
    "<ul>\n",
    "    <li> $x$ is bigger than $1$ and </li>\n",
    "    <li> there are no natural numbers $p$ and $q$ both bigger than $1$ such that \n",
    "         $x = p \\cdot q$ holds.</li>\n",
    "</ul>\n",
    "More formally, the set $\\mathbb{P}$ of prime numbers is defined as follows:\n",
    "$$ \\mathbb{P} = \\Bigl\\{ x \\in \\mathbb{N} \\;\\bigm|\\; x > 1 \\wedge \\neg \\exists p, q \\in \\mathbb{N}: \\bigl(x = p \\cdot q \\wedge p > 1 \\wedge q > 1\\bigr)\\Bigr\\}. $$\n",
    "Hence the following code computes the set of all primes less \n",
    "than 100: "
   ]
  },
  {
   "cell_type": "code",
   "execution_count": null,
   "metadata": {},
   "outputs": [],
   "source": [
    "S = set(range(2, 100+1))\n",
    "print(S - { p * q for p in S for q in S })"
   ]
  },
  {
   "cell_type": "markdown",
   "metadata": {},
   "source": [
    "An alternative way to compute primes works by noting that a number $p$ is prime iff there is no number $t$ other than $1$ and $p$ that divides the number $p$.  The function <tt>dividers</tt> given below computes the set of all numbers dividing a given number $p$ evenly:"
   ]
  },
  {
   "cell_type": "code",
   "execution_count": null,
   "metadata": {},
   "outputs": [],
   "source": [
    "def dividers(p):\n",
    "    '''\n",
    "    Compute the set of numbers that divide the number p.\n",
    "    This is just an auxiliary function.\n",
    "    '''\n",
    "    return { t for t in range(1, p+1) if p % t == 0 }\n",
    "\n",
    "dividers(20)"
   ]
  },
  {
   "cell_type": "code",
   "execution_count": null,
   "metadata": {},
   "outputs": [],
   "source": [
    "n      = 100\n",
    "primes = { p for p in range(2, n) if dividers(p) == {1, p} }\n",
    "print(primes)"
   ]
  },
  {
   "cell_type": "markdown",
   "metadata": {},
   "source": [
    "## Computing the Power Set"
   ]
  },
  {
   "cell_type": "markdown",
   "metadata": {},
   "source": [
    "Unfortunately, there is no operator to compute the power set $2^M$ of a given set $M$.  Since the power set is needed frequently, we have to implement a function <tt>power</tt> to compute this set ourselves.  The easiest way to compute the power set $2^M$ of a set $M$ is to implement the following recursive equations:\n",
    "<ol>\n",
    "    <li>The power set of the empty set contains only the empty set:\n",
    "        $$2^{\\{\\}} = \\bigl\\{\\{\\}\\bigr\\}$$</li>\n",
    "    <li>If a set $M$ can be written as $M = C \\cup \\{x\\}$, where the element $x$ does not occur in the set $C$, then \n",
    "        the power set $2^M$ consists of two sets:</li>\n",
    "        <ul>\n",
    "            <li>Firstly, all subsets of $C$ are also subsets of $M$.</li>\n",
    "            <li>Secondly, if A is a subset of $C$, then the set $A \\cup\\{x\\}$ is also a subset of $M$.</li>\n",
    "        </ul>\n",
    "        If we combine these parts we get the following equation:\n",
    "        $$2^{C \\cup \\{x\\}} = 2^C \\cup \\bigl\\{ A \\cup \\{x\\} \\bigm| A \\in 2^C \\bigr\\}$$   \n",
    "</ol> \n",
    "But there is another problem:  In *Python* we can't create a set that has elements that are sets themselves!  The expression <tt>{{1,2}, {2,3}}</tt> raises an exception when evaluated!  Instead, we have to use <tt>frozenset</tt>s as shown below:"
   ]
  },
  {
   "cell_type": "code",
   "execution_count": null,
   "metadata": {},
   "outputs": [],
   "source": [
    "#{{1,2}, {2,3}}"
   ]
  },
  {
   "cell_type": "code",
   "execution_count": null,
   "metadata": {},
   "outputs": [],
   "source": [
    "{frozenset({1,2}), frozenset({2,3})}"
   ]
  },
  {
   "cell_type": "markdown",
   "metadata": {},
   "source": [
    "The following cells show two very important properties of sets:\n",
    " - sets are *mutable*,\n",
    " - assignment of sets does not create new sets but rather creates new references to existing sets."
   ]
  },
  {
   "cell_type": "code",
   "execution_count": null,
   "metadata": {},
   "outputs": [],
   "source": [
    "M = { 1, 2, 3 }\n",
    "M"
   ]
  },
  {
   "cell_type": "code",
   "execution_count": null,
   "metadata": {},
   "outputs": [],
   "source": [
    "N = M\n",
    "N"
   ]
  },
  {
   "cell_type": "code",
   "execution_count": null,
   "metadata": {},
   "outputs": [],
   "source": [
    "M.add(4)"
   ]
  },
  {
   "cell_type": "code",
   "execution_count": null,
   "metadata": {},
   "outputs": [],
   "source": [
    "N"
   ]
  },
  {
   "cell_type": "code",
   "execution_count": null,
   "metadata": {},
   "outputs": [],
   "source": [
    "M"
   ]
  },
  {
   "cell_type": "markdown",
   "metadata": {},
   "source": [
    "The reason we got the error when trying to evaluate the expression\n",
    "```\n",
    "   {{1,2}, {2,3}}\n",
    "``` \n",
    "is that in *Python* sets are implemented via *hash tables* and therefore the elements of a set need \n",
    "to be *hashable*. (The notion of a *hash table* will be discussed in more detail in the lecture on *Algorithms*.) However, sets are *mutable* and *mutable* objects are not *hashable*.  Fortunately, there is a\n",
    "workaround: *Python* provides the data type of *frozen sets*.  These sets behave like sets but are are lacking certain function and hence are **immutable**.  So if we use *frozen sets* as elements of the power set, we can compute the power set of a given set.  The function <tt>power</tt> given below shows how this works."
   ]
  },
  {
   "cell_type": "code",
   "execution_count": null,
   "metadata": {},
   "outputs": [],
   "source": [
    "def power(M):\n",
    "    \"This function computes the power set of the set M.\"\n",
    "    if M == set():\n",
    "        return { frozenset() }\n",
    "    else:\n",
    "        C  = set(M)  # C is a copy of M as we don't want to change the set M\n",
    "        x  = C.pop() # pop removes some element x from the set C\n",
    "        P1 = power(C)\n",
    "        P2 = { A | {x} for A in P1 }\n",
    "        return P1 | P2"
   ]
  },
  {
   "cell_type": "code",
   "execution_count": null,
   "metadata": {},
   "outputs": [],
   "source": [
    "power(A)"
   ]
  },
  {
   "cell_type": "markdown",
   "metadata": {},
   "source": [
    "Let us print this in a more readable way.  To this end we implement a function <tt>prettify</tt> that turns a set of frozensets into a string that looks like a set of sets."
   ]
  },
  {
   "cell_type": "code",
   "execution_count": null,
   "metadata": {},
   "outputs": [],
   "source": [
    "def prettify(M):\n",
    "    \"\"\"Turn the set of frozen sets M into a string that looks like a set of sets.\n",
    "       M is assumed to be the power set of some set.\n",
    "    \"\"\"\n",
    "    result = \"{{}, \"   # The empty set is always an element of a power set.\n",
    "    for A in M:\n",
    "        if A == set(): # The empty set has already been taken care of.\n",
    "            continue\n",
    "        result += str(set(A)) + \", \" # A is converted from a frozen set to a set\n",
    "    result = result[:-2] # remove the trailing substring \", \"\n",
    "    result += \"}\"\n",
    "    return result"
   ]
  },
  {
   "cell_type": "code",
   "execution_count": null,
   "metadata": {},
   "outputs": [],
   "source": [
    "prettify(power(A))"
   ]
  },
  {
   "cell_type": "markdown",
   "metadata": {},
   "source": [
    "The function $S\\texttt{.add}(x)$ insert the element $x$ into the set $S$."
   ]
  },
  {
   "cell_type": "code",
   "execution_count": null,
   "metadata": {},
   "outputs": [],
   "source": [
    "S = {1, 2, 3}\n",
    "S.add(4)\n",
    "S"
   ]
  },
  {
   "cell_type": "markdown",
   "metadata": {},
   "source": [
    "In *Python*, variables are <em style=\"color:blue;\">references</em> and assignments \n",
    "<b style=\"color:red; background-color:rgb(0,112,122)\">do not copy values</b>.  Instead, they just create new references to the old values!  This is the reason that below both <tt>A</tt> and <tt>B</tt> change their value, even so it seems that we only change <tt>A</tt>.  "
   ]
  },
  {
   "cell_type": "code",
   "execution_count": null,
   "metadata": {},
   "outputs": [],
   "source": [
    "A = {1,2,3}\n",
    "B = A\n",
    "A.add(4)\n",
    "print(f'A = {A}')\n",
    "print(f'B = {B}')"
   ]
  },
  {
   "cell_type": "markdown",
   "metadata": {},
   "source": [
    "In order to prevent this behaviour, we have to make a <em style=\"color:blue;\">copy</em> of the set <tt>A</tt>.  This can be done by calling the function $\\texttt{set}(\\texttt{A})$."
   ]
  },
  {
   "cell_type": "code",
   "execution_count": null,
   "metadata": {},
   "outputs": [],
   "source": [
    "A = {1,2,3}\n",
    "B = set(A)\n",
    "A.add(4)\n",
    "print(f'A = {A}')\n",
    "print(f'B = {B}')"
   ]
  },
  {
   "cell_type": "markdown",
   "metadata": {},
   "source": [
    "## Pairs and Cartesian Products"
   ]
  },
  {
   "cell_type": "markdown",
   "metadata": {},
   "source": [
    "In *Python*, pairs can be created by enclosing the components of the pair in parentheses. For example, to compute the pair $\\langle 1, 2 \\rangle$ we can write:"
   ]
  },
  {
   "cell_type": "code",
   "execution_count": null,
   "metadata": {},
   "outputs": [],
   "source": [
    "(1, 2)"
   ]
  },
  {
   "cell_type": "markdown",
   "metadata": {},
   "source": [
    "It is not even necessary to enclose the components of a pair in parentheses.  For example, to compute the pair $\\langle 1, 2 \\rangle$ we can also use the following expression:"
   ]
  },
  {
   "cell_type": "code",
   "execution_count": null,
   "metadata": {},
   "outputs": [],
   "source": [
    "1, 2"
   ]
  },
  {
   "cell_type": "markdown",
   "metadata": {},
   "source": [
    "The Cartesian product $A \\times B$ of two sets $A$ and $B$ can now be computed via the following expression:\n",
    "$$ \\{\\; (x, y) \\;\\texttt{for}\\; x \\;\\texttt{in}\\; A\\; \\texttt{for}\\; y\\; \\texttt{in}\\; B\\; \\} $$ \n",
    "For example, as we have defined $A$ as $\\{1,2,3\\}$ and $B$ as $\\{4,5\\}$, the Cartesian product of $A$ and $B$ is computed as follows:"
   ]
  },
  {
   "cell_type": "code",
   "execution_count": null,
   "metadata": {},
   "outputs": [],
   "source": [
    "A = {1, 2, 3}\n",
    "B = {4, 5}\n",
    "{ (x, y) for x in A \n",
    "         for y in B \n",
    "}"
   ]
  },
  {
   "cell_type": "markdown",
   "metadata": {},
   "source": [
    "## Tuples"
   ]
  },
  {
   "cell_type": "markdown",
   "metadata": {},
   "source": [
    "*Tuples* are a generalization of pairs.  For example, to compute the tuple $\\langle 1, 2, 3 \\rangle$ we can use the following expression:  "
   ]
  },
  {
   "cell_type": "code",
   "execution_count": null,
   "metadata": {},
   "outputs": [],
   "source": [
    "(1, 2, 3)"
   ]
  },
  {
   "cell_type": "markdown",
   "metadata": {},
   "source": [
    "Tuples are not sets, the order of the elements matters:"
   ]
  },
  {
   "cell_type": "code",
   "execution_count": null,
   "metadata": {},
   "outputs": [],
   "source": [
    "(1, 2, 3) != (2, 3, 1)"
   ]
  },
  {
   "cell_type": "markdown",
   "metadata": {},
   "source": [
    "Longer tuples can be build using the function <tt>range</tt> in combination with the function <tt>tuple</tt>:"
   ]
  },
  {
   "cell_type": "code",
   "execution_count": null,
   "metadata": {},
   "outputs": [],
   "source": [
    "tuple(range(1, 10+1))"
   ]
  },
  {
   "cell_type": "markdown",
   "metadata": {},
   "source": [
    "Tuple can be *concatenated* using the operator <tt>+</tt>:"
   ]
  },
  {
   "cell_type": "code",
   "execution_count": null,
   "metadata": {},
   "outputs": [],
   "source": [
    "T1 = (1, 2, 3)\n",
    "T2 = (4, 5, 6)\n",
    "T3 = T1 + T2\n",
    "T3"
   ]
  },
  {
   "cell_type": "markdown",
   "metadata": {},
   "source": [
    "The *length* of a tuple is computed using the function <tt>len</tt>:"
   ]
  },
  {
   "cell_type": "code",
   "execution_count": null,
   "metadata": {},
   "outputs": [],
   "source": [
    "len(T3)"
   ]
  },
  {
   "cell_type": "markdown",
   "metadata": {},
   "source": [
    "The components of a tuple can be extracted using square brackets.  <b>Note, that the first component of a tuple has the index $0$!</b>  This is similar to the behaviour of *arrays* in the programming language <tt>C</tt>."
   ]
  },
  {
   "cell_type": "code",
   "execution_count": null,
   "metadata": {},
   "outputs": [],
   "source": [
    "print(\"T3[0] =\", T3[0])\n",
    "print(\"T3[1] =\", T3[1])\n",
    "print(\"T3[2] =\", T3[2])"
   ]
  },
  {
   "cell_type": "markdown",
   "metadata": {},
   "source": [
    "If we use negative indices, then we index from the back of the tuple, as shown in the following example:"
   ]
  },
  {
   "cell_type": "code",
   "execution_count": null,
   "metadata": {},
   "outputs": [],
   "source": [
    "print(f'T3[-1] = {T3[-1]}') # last element\n",
    "print(f'T3[-2] = {T3[-2]}') # penultimate element\n",
    "print(f'T3[-3] = {T3[-3]}') # antepenultimate element "
   ]
  },
  {
   "cell_type": "code",
   "execution_count": null,
   "metadata": {},
   "outputs": [],
   "source": [
    "T3"
   ]
  },
  {
   "cell_type": "markdown",
   "metadata": {},
   "source": [
    "The <em style=\"color:blue;\">slicing operator</em> extracts a subtuple from a given tuple.  If $L$ is a tuple and $a$ and $b$ are natural numbers such that $a \\leq b$ and $a,b \\in \\{0, \\texttt{len}(L) \\}$, then the syntax of the slicing operator is as follows:\n",
    "$$ L[a:b] $$\n",
    "The expression $L[a:b]$ extracts the subtuple that starts with the element $L[a]$ up to and <b>excluding</b> the element $L[b]$.  The following shows an example:"
   ]
  },
  {
   "cell_type": "code",
   "execution_count": null,
   "metadata": {},
   "outputs": [],
   "source": [
    "L = tuple(range(1,10+1))\n",
    "print(f'L = {L}, L[2:6] = {L[2:6]}')"
   ]
  },
  {
   "cell_type": "markdown",
   "metadata": {},
   "source": [
    "Slicing works with negative indices, too: "
   ]
  },
  {
   "cell_type": "code",
   "execution_count": null,
   "metadata": {},
   "outputs": [],
   "source": [
    "L[2:-2]"
   ]
  },
  {
   "cell_type": "markdown",
   "metadata": {},
   "source": [
    "Slicing also works for strings."
   ]
  },
  {
   "cell_type": "code",
   "execution_count": null,
   "metadata": {},
   "outputs": [],
   "source": [
    "s = 'abcdef'\n",
    "s[2:-2]"
   ]
  },
  {
   "cell_type": "markdown",
   "metadata": {},
   "source": [
    "If we want to create a tuple of length $1$, we have to use the following syntax:"
   ]
  },
  {
   "cell_type": "code",
   "execution_count": null,
   "metadata": {},
   "outputs": [],
   "source": [
    "L = (1,)\n",
    "L"
   ]
  },
  {
   "cell_type": "markdown",
   "metadata": {},
   "source": [
    "Note that above the comma is not optional as the expression $(1)$ would be interpreted as the number $1$."
   ]
  },
  {
   "cell_type": "markdown",
   "metadata": {},
   "source": [
    "Similar to working with sets, it is often convenient to build long tuples using *comprehensions*.\n",
    "In order to create all square numbers that are odd and $\\leq$ 100 we can do the following:"
   ]
  },
  {
   "cell_type": "code",
   "execution_count": null,
   "metadata": {},
   "outputs": [],
   "source": [
    "G = (x*x for x in range(10+1) if x % 2 == 1)\n",
    "G"
   ]
  },
  {
   "cell_type": "markdown",
   "metadata": {},
   "source": [
    "Above, `G` is a *generator object*.  To turn this into a tuple we use the predefined function `tuple`:"
   ]
  },
  {
   "cell_type": "code",
   "execution_count": null,
   "metadata": {},
   "outputs": [],
   "source": [
    "tuple(G)"
   ]
  },
  {
   "cell_type": "markdown",
   "metadata": {},
   "source": [
    "## Lists"
   ]
  },
  {
   "cell_type": "markdown",
   "metadata": {},
   "source": [
    "Next, we discuss the data type of lists.  Lists are a lot like tuples, but in contrast to tuples, lists are \n",
    "<em style=\"color:blue;\">mutatable</em>, i.e. we can change lists.  To construct a list, we use square backets:"
   ]
  },
  {
   "cell_type": "code",
   "execution_count": null,
   "metadata": {},
   "outputs": [],
   "source": [
    "L = [1, 2, 3]\n",
    "L"
   ]
  },
  {
   "cell_type": "markdown",
   "metadata": {},
   "source": [
    "In a list, the order of the elements does matter:"
   ]
  },
  {
   "cell_type": "code",
   "execution_count": null,
   "metadata": {},
   "outputs": [],
   "source": [
    "[1, 2, 3] == [3, 2, 1]"
   ]
  },
  {
   "cell_type": "markdown",
   "metadata": {},
   "source": [
    "The *index operator* $[\\cdot]$ is a postfix operator that is used to return the element that is stored at \n",
    "a given index in a list."
   ]
  },
  {
   "cell_type": "code",
   "execution_count": null,
   "metadata": {},
   "outputs": [],
   "source": [
    "L[0]"
   ]
  },
  {
   "cell_type": "markdown",
   "metadata": {},
   "source": [
    "To change the first element of a list, we can use the *index operator* on the left hand side of an assignment:"
   ]
  },
  {
   "cell_type": "code",
   "execution_count": null,
   "metadata": {},
   "outputs": [],
   "source": [
    "L[0] = 7\n",
    "L"
   ]
  },
  {
   "cell_type": "markdown",
   "metadata": {},
   "source": [
    "This last operation would not be possible if <tt>L</tt> had been a tuple instead of a list.\n",
    "Lists support concatenation in the same way as tuples: "
   ]
  },
  {
   "cell_type": "code",
   "execution_count": null,
   "metadata": {},
   "outputs": [],
   "source": [
    "[1,2,3] + [4,5,6]"
   ]
  },
  {
   "cell_type": "markdown",
   "metadata": {},
   "source": [
    "The function `len` computes the length of a list:"
   ]
  },
  {
   "cell_type": "code",
   "execution_count": null,
   "metadata": {},
   "outputs": [],
   "source": [
    "len([4,5,6])"
   ]
  },
  {
   "cell_type": "markdown",
   "metadata": {},
   "source": [
    "Lists support the functions <tt>max</tt> and <tt>min</tt>.  The expression $\\texttt{max}(L)$ computes the maximum of all the elements of the list (or tuple) $L$, while $\\texttt{min}(L)$ computes the smallest element of $L$.  These functions also operate on tuples or sets.  They even work on list of lists or set of frozensets, but this is not really useful."
   ]
  },
  {
   "cell_type": "code",
   "execution_count": null,
   "metadata": {},
   "outputs": [],
   "source": [
    "max([1,2,3])"
   ]
  },
  {
   "cell_type": "code",
   "execution_count": null,
   "metadata": {},
   "outputs": [],
   "source": [
    "min([1,2,3])"
   ]
  },
  {
   "cell_type": "code",
   "execution_count": null,
   "metadata": {},
   "outputs": [],
   "source": [
    "max({1,2,3})"
   ]
  },
  {
   "cell_type": "code",
   "execution_count": null,
   "metadata": {},
   "outputs": [],
   "source": [
    "max([[1,2], [2,3,4], [5]])"
   ]
  },
  {
   "cell_type": "code",
   "execution_count": null,
   "metadata": {},
   "outputs": [],
   "source": [
    "max({frozenset({1,2}), frozenset({2,3,4}), frozenset({5})})"
   ]
  },
  {
   "cell_type": "markdown",
   "metadata": {},
   "source": [
    "## Boolean Operators"
   ]
  },
  {
   "cell_type": "markdown",
   "metadata": {},
   "source": [
    "In *Python*, the *truth values*, also known as *Boolean values*, are written as <tt>True</tt> and <tt>False</tt>. "
   ]
  },
  {
   "cell_type": "code",
   "execution_count": null,
   "metadata": {},
   "outputs": [],
   "source": [
    "True"
   ]
  },
  {
   "cell_type": "code",
   "execution_count": null,
   "metadata": {},
   "outputs": [],
   "source": [
    "False"
   ]
  },
  {
   "cell_type": "markdown",
   "metadata": {},
   "source": [
    "The following function is needed for pretty-printing.  It assumes that the argument <tt>val</tt> is a truth value.  This truth value is then turned into a string that has a size of exactly 5 characters."
   ]
  },
  {
   "cell_type": "code",
   "execution_count": null,
   "metadata": {},
   "outputs": [],
   "source": [
    "def toStr(val):\n",
    "    if val:\n",
    "        return 'True '\n",
    "    return 'False'"
   ]
  },
  {
   "cell_type": "markdown",
   "metadata": {},
   "source": [
    "These values can be combined using the <em style=\"color:blue;\">Boolean operators</em> $\\wedge$, $\\vee$, and $\\neg$.  In *Python*, these operators are denoted as `and`, `or`, and `not`.  The following table shows how the operator `and` is defined:"
   ]
  },
  {
   "cell_type": "code",
   "execution_count": null,
   "metadata": {},
   "outputs": [],
   "source": [
    "B = (True, False)\n",
    "for x in B:\n",
    "    for y in B:\n",
    "        print(toStr(x), 'and', toStr(y), '=', x and y)"
   ]
  },
  {
   "cell_type": "markdown",
   "metadata": {},
   "source": [
    "The *disjunction* of two Boolean values is only *False* if both values are *False*:"
   ]
  },
  {
   "cell_type": "code",
   "execution_count": null,
   "metadata": {},
   "outputs": [],
   "source": [
    "for x in B:\n",
    "    for y in B:\n",
    "        print(toStr(x), 'or', toStr(y), '=', x or y)"
   ]
  },
  {
   "cell_type": "markdown",
   "metadata": {},
   "source": [
    "Finally, the <em style=\"color:blue;\">negation</em> operator works as expected:"
   ]
  },
  {
   "cell_type": "code",
   "execution_count": null,
   "metadata": {},
   "outputs": [],
   "source": [
    "for x in B:\n",
    "    print('not', toStr(x), '=', not x)"
   ]
  },
  {
   "cell_type": "markdown",
   "metadata": {},
   "source": [
    "Boolean values are created by comparing numbers using the follwing comparison operators:\n",
    "<ol>\n",
    "    <li>$a\\;\\texttt{==}\\;b$ is true iff $a$ is equal to $b$.</li>\n",
    "    <li>$a\\;\\texttt{!=}\\;b$ is true iff $a$ is different from $b$.</li>\n",
    "    <li>$a\\;\\texttt{<}\\;b$ is true iff $a$ is less than $b$.</li>\n",
    "    <li>$a\\;\\texttt{<=}\\;b$ is true iff $a$ is less than or equal to $b$.</li>\n",
    "    <li>$a\\;\\texttt{>=}\\;b$ is true iff $a$ is bigger than or equal to $b$.</li>\n",
    "    <li>$a\\;\\texttt{>}\\;b$ is true iff $a$ is bigger than $b$.</li>\n",
    "</ol>"
   ]
  },
  {
   "cell_type": "code",
   "execution_count": null,
   "metadata": {},
   "outputs": [],
   "source": [
    "1 == 2"
   ]
  },
  {
   "cell_type": "code",
   "execution_count": null,
   "metadata": {},
   "outputs": [],
   "source": [
    "1 != 2"
   ]
  },
  {
   "cell_type": "code",
   "execution_count": null,
   "metadata": {},
   "outputs": [],
   "source": [
    "1 < 2"
   ]
  },
  {
   "cell_type": "code",
   "execution_count": null,
   "metadata": {},
   "outputs": [],
   "source": [
    "1 <= 2"
   ]
  },
  {
   "cell_type": "code",
   "execution_count": null,
   "metadata": {},
   "outputs": [],
   "source": [
    "1 > 2"
   ]
  },
  {
   "cell_type": "code",
   "execution_count": null,
   "metadata": {},
   "outputs": [],
   "source": [
    "1 >= 2"
   ]
  },
  {
   "cell_type": "markdown",
   "metadata": {},
   "source": [
    "Comparison operators can be <em style=\"color:blue;\">chained</em> as shown in the following example:"
   ]
  },
  {
   "cell_type": "code",
   "execution_count": null,
   "metadata": {},
   "outputs": [],
   "source": [
    "1 < 2 > -1"
   ]
  },
  {
   "cell_type": "markdown",
   "metadata": {},
   "source": [
    "*Python* supports the <em style=\"color:blue;\">universal quantifier</em> $\\forall$.  If $L$ is a list of Boolean values, then we can check whether all elements of $L$ are <tt>True</tt> by writing\n",
    "$$ \\texttt{all}(L). $$\n",
    "For example, to check whether all elements of a list $L$ are even we can write the following:"
   ]
  },
  {
   "cell_type": "code",
   "execution_count": null,
   "metadata": {},
   "outputs": [],
   "source": [
    "L = [2, 4, 6, 7]\n",
    "all(x % 2 == 0 for x in L)"
   ]
  },
  {
   "cell_type": "markdown",
   "metadata": {},
   "source": [
    "*Python* also supports the <em style=\"color:blue;\">existential quantifier</em> $\\exists$.  If $L$ is a list of Boolean values, the expression\n",
    "$$ \\texttt{any}(L) $$\n",
    "is true iff there exists an element $x \\in L$ such that $x$ is true."
   ]
  },
  {
   "cell_type": "code",
   "execution_count": null,
   "metadata": {},
   "outputs": [],
   "source": [
    "any(x ** 2 > 2 ** x for x in range(1,4+1))"
   ]
  },
  {
   "cell_type": "markdown",
   "metadata": {},
   "source": [
    "## Control Structures"
   ]
  },
  {
   "cell_type": "markdown",
   "metadata": {},
   "source": [
    "First of all, *Python* supports *branching*.  The following example is taken from the *Python* tutorial at [https://python.org](https://docs.python.org/3/tutorial/controlflow.html):"
   ]
  },
  {
   "cell_type": "code",
   "execution_count": null,
   "metadata": {},
   "outputs": [],
   "source": [
    "x = int(input(\"Please enter an integer: \"))\n",
    "if x < 0:\n",
    "   print('The number is negative!')\n",
    "elif x == 0:\n",
    "   print('The number is zero.')\n",
    "elif x == 1:\n",
    "   print(\"It's a one.\")\n",
    "else:\n",
    "   print(\"It's more than one.\")"
   ]
  },
  {
   "cell_type": "markdown",
   "metadata": {},
   "source": [
    "*Loops* can be used to iterate over sets, lists, tuples, or generators.  The following example prints the numbers from 1 to 10."
   ]
  },
  {
   "cell_type": "code",
   "execution_count": null,
   "metadata": {},
   "outputs": [],
   "source": [
    "for x in range(1, 10+1):\n",
    "    print(x)"
   ]
  },
  {
   "cell_type": "markdown",
   "metadata": {},
   "source": [
    "The same can be achieved with a `while` loop:"
   ]
  },
  {
   "cell_type": "code",
   "execution_count": null,
   "metadata": {},
   "outputs": [],
   "source": [
    "x = 1\n",
    "while x <= 10:\n",
    "    print(x, end=' ')\n",
    "    x += 1"
   ]
  },
  {
   "cell_type": "markdown",
   "metadata": {},
   "source": [
    "The following program computes the prime numbers according to an\n",
    "[algorithm given by Eratosthenes](https://en.wikipedia.org/wiki/Sieve_of_Eratosthenes).\n",
    " 1. We set $n$ equal to 100 as we want to compute the set all prime numbers less or equal that 100.\n",
    " 2. `primes` is the list of numbers from 0 upto $n$, i.e. we have initially\n",
    "    $$ \\texttt{primes} = [0,1,2,\\cdots,n] $$\n",
    "    Therefore, we have\n",
    "    $$ \\texttt{primes}[i] = i \\quad \\mbox{for all $i \\in \\{0,1,\\cdots,n\\}$.} $$\n",
    "    The idea is to set $\\texttt{primes}[i]$ to zero iff $i$ is a proper product of two numbers.\n",
    " 3. To this end we iterate over all $i$ and $j$ from the set $\\{2,\\cdots,n\\}$\n",
    "    and set the product $\\texttt{primes}[i\\cdot j]$ to zero.  \n",
    "    This is achieved by the two `for` loops in line 3 and 4 below.\n",
    "\n",
    "    Note that we have to check that the product $i * j$ is not bigger than $n$ \n",
    "    for otherwise we would get an *out of range error* when trying to assign $\\texttt{primes}[i*j]$.     \n",
    "    \n",
    " 4. After the iteration, all non-prime elements greater than one of the list primes have been set to zero.\n",
    " 5. Finally, we compute the set of primes by collecting those elements that have not been set to $0$."
   ]
  },
  {
   "cell_type": "code",
   "execution_count": null,
   "metadata": {},
   "outputs": [],
   "source": [
    "n         = 100\n",
    "primes    = list(range(0, n+1))\n",
    "primes[1] = 0\n",
    "for i in range(2, n+1):\n",
    "    for j in range(2, n+1):\n",
    "        if i * j <= n:\n",
    "            primes[i * j] = 0\n",
    "print(primes)\n",
    "print({ i for i in range(2, n+1) if primes[i] != 0 })"
   ]
  },
  {
   "cell_type": "markdown",
   "metadata": {},
   "source": [
    "The algorithm given above can be improved by using the following observations:\n",
    " 1. If a number $x$ can be written as a product $a \\cdot b$, then at least one of the numbers \n",
    "    $a$ or $b$ has to be less than $\\sqrt{x}$.  Therefore, the `for` loop in line 5 below \n",
    "    iterates as long as $i \\leq \\sqrt{x}$.  The function `ceil` is needed to cast the square \n",
    "    root of $x$ to a natural number.  In order to use the functions `sqrt` and `ceil` we have \n",
    "    to import them from the module `math`.  This is done in line 1 of the program shown below. \n",
    " 2. When we iterate over $j$ in the inner loop, it is sufficient if we start with $j = i$ \n",
    "    since all products of the form $i \\cdot j$ where $j < i$ have already been eliminated at the time \n",
    "    when the multiples of $i$ had been eliminated.\n",
    " 3. If $\\texttt{primes}[i] = 0$, then $i$ is not a prime and hence it has to be a product of two \n",
    "    numbers $a$ and $b$ both of which are smaller than $i$.  However, since all the multiples of \n",
    "    $a$ and $b$ have already been eliminated, there is no point in eliminating the multiples of \n",
    "    $i$ since these are also multiples of both $a$ and $b$ and hence they have already been eliminated.    \n",
    "    Therefore, if $\\texttt{primes}[i] = 0$ we can immediately jump to the next value of $i$.  \n",
    "    This is achieved by the *continue* statement in line 8 below. \n",
    "\n",
    "The program shown below is easily capable of computing all prime numbers less than a million."
   ]
  },
  {
   "cell_type": "code",
   "execution_count": null,
   "metadata": {
    "scrolled": true
   },
   "outputs": [],
   "source": [
    "%%time\n",
    "from math import sqrt, ceil\n",
    "\n",
    "n = 1000000\n",
    "primes = list(range(n+1))\n",
    "for i in range(2, ceil(sqrt(n))):\n",
    "    if primes[i] == 0:\n",
    "        continue\n",
    "    j = i\n",
    "    while i * j <= n:\n",
    "        primes[i * j] = 0\n",
    "        j += 1\n",
    "P = { i for i in range(2, n+1) if primes[i] != 0 }\n",
    "print(sorted(list(P)))"
   ]
  },
  {
   "cell_type": "markdown",
   "metadata": {},
   "source": [
    "## Numerical Functions"
   ]
  },
  {
   "cell_type": "markdown",
   "metadata": {},
   "source": [
    "*Python* provides all of the mathematical functions that you learned at school.  A detailed listing of these functions can be found at \n",
    "[https://docs.python.org/3.6/library/math.html](https://docs.python.org/3.6/library/math.html).  We just show the most important functions and constants.  In order to make the module `math` available, we use \n",
    "the following `import` statement: "
   ]
  },
  {
   "cell_type": "code",
   "execution_count": null,
   "metadata": {},
   "outputs": [],
   "source": [
    "import math"
   ]
  },
  {
   "cell_type": "markdown",
   "metadata": {},
   "source": [
    "The mathematical constant [Pi](https://en.wikipedia.org/wiki/Pi) which is most often written as $\\pi$ is available as `math.pi`."
   ]
  },
  {
   "cell_type": "code",
   "execution_count": null,
   "metadata": {},
   "outputs": [],
   "source": [
    "math.pi"
   ]
  },
  {
   "cell_type": "markdown",
   "metadata": {},
   "source": [
    "The <a href=\"https://en.wikipedia.org/wiki/Sine\">sine</a> function is called as follows:"
   ]
  },
  {
   "cell_type": "code",
   "execution_count": null,
   "metadata": {},
   "outputs": [],
   "source": [
    "math.sin(math.pi/6)"
   ]
  },
  {
   "cell_type": "markdown",
   "metadata": {},
   "source": [
    "The <a href=\"https://en.wikipedia.org/wiki/Trigonometric_functions#cosine\">cosine</a> function is called as follows:"
   ]
  },
  {
   "cell_type": "code",
   "execution_count": null,
   "metadata": {},
   "outputs": [],
   "source": [
    "math.cos(0.0)"
   ]
  },
  {
   "cell_type": "markdown",
   "metadata": {},
   "source": [
    "The tangent function is called as follows:"
   ]
  },
  {
   "cell_type": "code",
   "execution_count": null,
   "metadata": {},
   "outputs": [],
   "source": [
    "math.tan(math.pi/4)"
   ]
  },
  {
   "cell_type": "markdown",
   "metadata": {},
   "source": [
    "The *arc sine*, *arc cosine*, and *arc tangent* are called by prefixing the character `'a'` to the name of the function as seen below:"
   ]
  },
  {
   "cell_type": "code",
   "execution_count": null,
   "metadata": {},
   "outputs": [],
   "source": [
    "math.asin(1.0)"
   ]
  },
  {
   "cell_type": "code",
   "execution_count": null,
   "metadata": {},
   "outputs": [],
   "source": [
    "math.acos(1.0)"
   ]
  },
  {
   "cell_type": "code",
   "execution_count": null,
   "metadata": {},
   "outputs": [],
   "source": [
    "math.atan(1.0)"
   ]
  },
  {
   "cell_type": "markdown",
   "metadata": {},
   "source": [
    "<a href=\"https://en.wikipedia.org/wiki/E_(mathematical_constant)\">Euler's number $e$</a> can be computed as follows:"
   ]
  },
  {
   "cell_type": "code",
   "execution_count": null,
   "metadata": {},
   "outputs": [],
   "source": [
    "math.e"
   ]
  },
  {
   "cell_type": "markdown",
   "metadata": {},
   "source": [
    "The exponential function $\\mathrm{exp}(x) := e^x$ is computed as follows:"
   ]
  },
  {
   "cell_type": "code",
   "execution_count": null,
   "metadata": {},
   "outputs": [],
   "source": [
    "math.exp(1)"
   ]
  },
  {
   "cell_type": "markdown",
   "metadata": {},
   "source": [
    "The natural logarithm $\\ln(x)$, which is defined as the inverse of the function $\\exp(x)$, is called `log` (instead of `ln`):"
   ]
  },
  {
   "cell_type": "code",
   "execution_count": null,
   "metadata": {},
   "outputs": [],
   "source": [
    "math.log(math.e * math.e)"
   ]
  },
  {
   "cell_type": "markdown",
   "metadata": {},
   "source": [
    "The square root $\\sqrt{x}$ of a number $x$ is computed using the function `sqrt`:"
   ]
  },
  {
   "cell_type": "code",
   "execution_count": null,
   "metadata": {},
   "outputs": [],
   "source": [
    "math.sqrt(2)"
   ]
  },
  {
   "cell_type": "markdown",
   "metadata": {},
   "source": [
    "The <em style=\"color:blue;\">flooring function</em> $\\texttt{floor}(x)$ truncates a floating point number $x$ down to the biggest integer number less or equal to $x$:\n",
    "$$ \\texttt{floor}(x) = \\max(\\{ n \\in \\mathbb{Z} \\mid n \\leq x \\} $$"
   ]
  },
  {
   "cell_type": "code",
   "execution_count": null,
   "metadata": {},
   "outputs": [],
   "source": [
    "math.floor(1.999)"
   ]
  },
  {
   "cell_type": "markdown",
   "metadata": {},
   "source": [
    "The <em style=\"color:blue;\">ceiling function</em> $\\texttt{ceil}(x)$ rounds a floating point number $x$ up to the next  integer number bigger or equal to $x$:\n",
    "$$ \\texttt{ceil}(x) = \\min(\\{ n \\in \\mathbb{Z} \\mid x \\leq n \\} $$"
   ]
  },
  {
   "cell_type": "code",
   "execution_count": null,
   "metadata": {},
   "outputs": [],
   "source": [
    "math.ceil(1.001)"
   ]
  },
  {
   "cell_type": "code",
   "execution_count": null,
   "metadata": {},
   "outputs": [],
   "source": [
    "round(1.5), round(1.39), round(1.51)"
   ]
  },
  {
   "cell_type": "code",
   "execution_count": null,
   "metadata": {},
   "outputs": [],
   "source": [
    "abs(-1)"
   ]
  },
  {
   "cell_type": "markdown",
   "metadata": {
    "collapsed": true
   },
   "source": [
    "## The Help System"
   ]
  },
  {
   "cell_type": "markdown",
   "metadata": {},
   "source": [
    "Typing a single question mark <tt>'?'</tt> starts the help system of *Jupyter*."
   ]
  },
  {
   "cell_type": "code",
   "execution_count": null,
   "metadata": {},
   "outputs": [],
   "source": [
    "?"
   ]
  },
  {
   "cell_type": "markdown",
   "metadata": {},
   "source": [
    "If the name of a module is followed by a question mark, a description of the module is printed."
   ]
  },
  {
   "cell_type": "code",
   "execution_count": null,
   "metadata": {},
   "outputs": [],
   "source": [
    "math?"
   ]
  },
  {
   "cell_type": "markdown",
   "metadata": {},
   "source": [
    "This also works for functions defined in a module."
   ]
  },
  {
   "cell_type": "code",
   "execution_count": null,
   "metadata": {},
   "outputs": [],
   "source": [
    "math.sin?"
   ]
  },
  {
   "cell_type": "markdown",
   "metadata": {},
   "source": [
    "The question mark operator only works inside a <em style=\"color:blue;\">Jupyter notebook</em>.  If you are using an interpreted in the command line for executing *Python* commands, use the function `help` instead."
   ]
  },
  {
   "cell_type": "code",
   "execution_count": null,
   "metadata": {},
   "outputs": [],
   "source": [
    "help(math)"
   ]
  },
  {
   "cell_type": "code",
   "execution_count": null,
   "metadata": {},
   "outputs": [],
   "source": [
    "help(math.sin)"
   ]
  },
  {
   "cell_type": "code",
   "execution_count": null,
   "metadata": {},
   "outputs": [],
   "source": [
    "help(dir)"
   ]
  },
  {
   "cell_type": "markdown",
   "metadata": {},
   "source": [
    "We can use the function <tt>dir()</tt> to print the names of the variables that have been defined."
   ]
  },
  {
   "cell_type": "code",
   "execution_count": null,
   "metadata": {
    "scrolled": false
   },
   "outputs": [],
   "source": [
    "dir()"
   ]
  },
  {
   "cell_type": "code",
   "execution_count": null,
   "metadata": {},
   "outputs": [],
   "source": [
    "_27"
   ]
  },
  {
   "cell_type": "code",
   "execution_count": null,
   "metadata": {},
   "outputs": [],
   "source": [
    "_"
   ]
  },
  {
   "cell_type": "markdown",
   "metadata": {},
   "source": [
    "The <em style=\"color:blue;\">magic</em> command <tt>%quickref</tt> prints an overview of the so called \n",
    "<em style=\"color:blue;\">magic commands</em> that are available in <em style=\"color:blue;\">Jupyter notebooks</em>."
   ]
  },
  {
   "cell_type": "code",
   "execution_count": null,
   "metadata": {},
   "outputs": [],
   "source": [
    "%quickref"
   ]
  },
  {
   "cell_type": "markdown",
   "metadata": {},
   "source": [
    "We can use the command <tt>ls</tt> to list the files in the current directory."
   ]
  },
  {
   "cell_type": "code",
   "execution_count": null,
   "metadata": {},
   "outputs": [],
   "source": [
    "ls -al"
   ]
  },
  {
   "cell_type": "code",
   "execution_count": null,
   "metadata": {},
   "outputs": [],
   "source": [
    "!ls"
   ]
  },
  {
   "cell_type": "code",
   "execution_count": null,
   "metadata": {},
   "outputs": [],
   "source": []
  }
 ],
 "metadata": {
  "@webio": {
   "lastCommId": null,
   "lastKernelId": null
  },
  "hide_input": false,
  "kernelspec": {
   "display_name": "Python 3",
   "language": "python",
   "name": "python3"
  },
  "language_info": {
   "codemirror_mode": {
    "name": "ipython",
    "version": 3
   },
   "file_extension": ".py",
   "mimetype": "text/x-python",
   "name": "python",
   "nbconvert_exporter": "python",
   "pygments_lexer": "ipython3",
   "version": "3.9.0"
  },
  "toc": {
   "base_numbering": 1,
   "nav_menu": {},
   "number_sections": true,
   "sideBar": true,
   "skip_h1_title": false,
   "title_cell": "Table of Contents",
   "title_sidebar": "Contents",
   "toc_cell": false,
   "toc_position": {},
   "toc_section_display": true,
   "toc_window_display": false
  },
  "varInspector": {
   "cols": {
    "lenName": 16,
    "lenType": 16,
    "lenVar": 40
   },
   "kernels_config": {
    "python": {
     "delete_cmd_postfix": "",
     "delete_cmd_prefix": "del ",
     "library": "var_list.py",
     "varRefreshCmd": "print(var_dic_list())"
    },
    "r": {
     "delete_cmd_postfix": ") ",
     "delete_cmd_prefix": "rm(",
     "library": "var_list.r",
     "varRefreshCmd": "cat(var_dic_list()) "
    }
   },
   "types_to_exclude": [
    "module",
    "function",
    "builtin_function_or_method",
    "instance",
    "_Feature"
   ],
   "window_display": false
  }
 },
 "nbformat": 4,
 "nbformat_minor": 2
}
