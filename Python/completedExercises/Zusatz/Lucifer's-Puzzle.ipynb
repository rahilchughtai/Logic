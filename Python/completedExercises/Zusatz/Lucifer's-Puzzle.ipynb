{
 "cells": [
  {
   "cell_type": "code",
   "execution_count": 1,
   "metadata": {},
   "outputs": [],
   "source": [
    "%autosave 60\n",
    "from IPython.core.display import display, HTML\n",
    "display(HTML(\"<style>.container { width:100% !important; }</style>\"))"
   ]
  },
  {
   "cell_type": "markdown",
   "metadata": {},
   "source": [
    "# <a href=\"https://en.wikipedia.org/wiki/Sum_and_Product_Puzzle\">Lucifer's Puzzle</a>"
   ]
  },
  {
   "cell_type": "markdown",
   "metadata": {},
   "source": [
    "According to Wikipedia, the following puzzle has been published by <a href=\"https://en.wikipedia.org/wiki/Hans_Freudenthal\">Hans Freudenthal</a> (Nieuw Archief Voor Wiskunde, Series 3, Volume 17, 1969, page 152).  However, he used a different wording."
   ]
  },
  {
   "cell_type": "markdown",
   "metadata": {},
   "source": [
    "Both Euler and Gauss end up in hell.  Lucifer offers them freedom if they can guess two numbers $x$ and $y$ he is thinking of.  He gives both of them the following information:\n",
    "<ol>\n",
    "<li>$x, y \\in \\mathbb{N}$,</li>\n",
    "<li>$x + y \\leq 100$,</li>\n",
    "<li>$2 \\leq x < y$.</li>\n",
    "</ol>"
   ]
  },
  {
   "cell_type": "markdown",
   "metadata": {},
   "source": [
    "Next, he tells Gauss the product $x \\cdot y$ of the two numbers, while he tells Euler the sum $x + y$.  After this, the following dialogue evolves between Gauss and Euler:\n",
    "<table>\n",
    "<tr><td style=\"text-align:left\"><b>Gauss:</b></td> <td style=\"text-align:left\"> I don't known the numbers.</td></tr>\n",
    "<tr><td style=\"text-align:left\"><b>Euler:</b></td> <td style=\"text-align:left\">I knew that already.</td></tr>\n",
    "<tr><td style=\"text-align:left\"><b>Gauss:</b></td> <td style=\"text-align:left\">But I know them now.</td></tr>\n",
    "<tr><td style=\"text-align:left\"><b>Euler:</b></td> <td style=\"text-align:left\">Me too.</td></tr>\n",
    "</table>\n",
    "From this information we can deduce the value of both numbers."
   ]
  },
  {
   "cell_type": "markdown",
   "metadata": {},
   "source": [
    "## Set of all possible pairs"
   ]
  },
  {
   "cell_type": "markdown",
   "metadata": {},
   "source": [
    "If $2 \\leq x$ and $x + y \\leq 100$, then we must have $3 \\leq y \\leq 98$.  Because of $x < y$, the fact that $x + y \\leq 100$ implies $x \\leq 49$.  Therefore, the set of all pairs $(x, y)$ that Lucifer could have thought of is the following set <tt>P1</tt>:"
   ]
  },
  {
   "cell_type": "code",
   "execution_count": 2,
   "metadata": {},
   "outputs": [],
   "source": [
    "P1 = { (x, y) for x in range(2, 49+1) \n",
    "              for y in range(x + 1, 98+1)\n",
    "              if x + y <= 100\n",
    "     }"
   ]
  },
  {
   "cell_type": "code",
   "execution_count": 3,
   "metadata": {},
   "outputs": [],
   "source": [
    "len(P1)"
   ]
  },
  {
   "cell_type": "markdown",
   "metadata": {},
   "source": [
    "## Set of possible Pairs after Gauss admits he doesn't know the numbers "
   ]
  },
  {
   "cell_type": "markdown",
   "metadata": {},
   "source": [
    "If Gauss does not know the numbers, then the product $x \\cdot y$ does not allow a unique factorization of two factors $x$ and $y$ such that the conditions $x < y$ and $2 \\leq x < y$ are satisfied.  Hence we need to find those pairs $(x, y)$ such that $x \\cdot y$ does not have a unique factorization."
   ]
  },
  {
   "cell_type": "markdown",
   "metadata": {},
   "source": [
    "Given a product $p$, the function $\\texttt{allFactors}(p)$ computes the set of all pairs $(x, y)$ such that $x \\cdot y = p$ and, furthermore,  the conditions $2 \\leq x < y$  and $x +y \\leq 100$ are satisfied."
   ]
  },
  {
   "cell_type": "code",
   "execution_count": 4,
   "metadata": {},
   "outputs": [],
   "source": [
    "def allFactors(p):\n",
    "    return { (x, y) for x in range(2, 49+1) \n",
    "                    for y in range(x + 1, 98+1)\n",
    "                    if x * y == p and x + y <= 100 \n",
    "           }"
   ]
  },
  {
   "cell_type": "code",
   "execution_count": 5,
   "metadata": {},
   "outputs": [
    {
     "data": {
      "text/plain": [
       "{(49, 51)}"
      ]
     },
     "execution_count": 5,
     "metadata": {},
     "output_type": "execute_result"
    }
   ],
   "source": [
    "allFactors(2499)"
   ]
  },
  {
   "cell_type": "code",
   "execution_count": 6,
   "metadata": {},
   "outputs": [
    {
     "data": {
      "text/plain": [
       "{(2, 9), (3, 6)}"
      ]
     },
     "execution_count": 6,
     "metadata": {},
     "output_type": "execute_result"
    }
   ],
   "source": [
    "allFactors(18)"
   ]
  },
  {
   "cell_type": "markdown",
   "metadata": {},
   "source": [
    "After Gauss tell us that he doesn't know the numbers, we can exclude from <tt>P1</tt> all those numbers that only have a single factorization satisfying the constraints."
   ]
  },
  {
   "cell_type": "code",
   "execution_count": 7,
   "metadata": {},
   "outputs": [],
   "source": [
    "P2 = { (x, y) for (x, y) in P1 \n",
    "              if len(allFactors(x * y)) > 1\n",
    "     }"
   ]
  },
  {
   "cell_type": "code",
   "execution_count": 8,
   "metadata": {},
   "outputs": [
    {
     "data": {
      "text/plain": [
       "1747"
      ]
     },
     "execution_count": 8,
     "metadata": {},
     "output_type": "execute_result"
    }
   ],
   "source": [
    "len(P2)"
   ]
  },
  {
   "cell_type": "code",
   "execution_count": 31,
   "metadata": {},
   "outputs": [
    {
     "data": {
      "text/plain": [
       "False"
      ]
     },
     "execution_count": 31,
     "metadata": {},
     "output_type": "execute_result"
    }
   ],
   "source": [
    "(4, 61) in P2"
   ]
  },
  {
   "cell_type": "markdown",
   "metadata": {},
   "source": [
    "## Set of possible Pairs after Euler states he already knew that Gauss could not know the numbers "
   ]
  },
  {
   "cell_type": "markdown",
   "metadata": {},
   "source": [
    "Given a number $s$, the function $\\texttt{allSplits}(s)$ computes the set of all pairs $(x, y)$ such that $x + y = s$ and $2 \\leq x < y$."
   ]
  },
  {
   "cell_type": "code",
   "execution_count": 9,
   "metadata": {},
   "outputs": [],
   "source": [
    "def allSplits(s):\n",
    "    return { (x, s - x) for x in range(2, (s + 1) // 2) }"
   ]
  },
  {
   "cell_type": "code",
   "execution_count": 10,
   "metadata": {},
   "outputs": [
    {
     "data": {
      "text/plain": [
       "{(2, 8), (3, 7), (4, 6)}"
      ]
     },
     "execution_count": 10,
     "metadata": {},
     "output_type": "execute_result"
    }
   ],
   "source": [
    "allSplits(10)"
   ]
  },
  {
   "cell_type": "code",
   "execution_count": 11,
   "metadata": {},
   "outputs": [
    {
     "data": {
      "text/plain": [
       "{(2, 9), (3, 8), (4, 7), (5, 6)}"
      ]
     },
     "execution_count": 11,
     "metadata": {},
     "output_type": "execute_result"
    }
   ],
   "source": [
    "allSplits(11)"
   ]
  },
  {
   "cell_type": "markdown",
   "metadata": {},
   "source": [
    "If Euler already knew that Gauss could not have the numbers, then the sum $s$ that has been given to Euler must be such that no split of $s$ such that $s = x + y$ yields a product $x \\cdot y$ that factors uniquely.  Hence, the set of numbers   <tt>S1</tt> that could have been given to Euler is the set of all those numbers $s$ such that no split of $s$ factors uniquely."
   ]
  },
  {
   "cell_type": "code",
   "execution_count": 12,
   "metadata": {},
   "outputs": [],
   "source": [
    "S = { s for s in range(5, 100+1)\n",
    "      if all( len(allFactors(x * y)) > 1 for (x, y) in allSplits(s) )\n",
    "    }"
   ]
  },
  {
   "cell_type": "code",
   "execution_count": 13,
   "metadata": {},
   "outputs": [
    {
     "data": {
      "text/plain": [
       "{11, 17, 23, 27, 29, 35, 37, 41, 47, 53}"
      ]
     },
     "execution_count": 13,
     "metadata": {},
     "output_type": "execute_result"
    }
   ],
   "source": [
    "S"
   ]
  },
  {
   "cell_type": "markdown",
   "metadata": {},
   "source": [
    "Therefore the set of pairs $(x, y)$ that Lucifer is thinking of can be further restricted as we must have $x + y \\in \\texttt{S}$.  This leaves us with the set of pairs <tt>P3</tt>: "
   ]
  },
  {
   "cell_type": "code",
   "execution_count": 14,
   "metadata": {},
   "outputs": [],
   "source": [
    "P3 = { (x, y) for (x, y) in P2\n",
    "              if x + y in S\n",
    "     }"
   ]
  },
  {
   "cell_type": "code",
   "execution_count": 15,
   "metadata": {},
   "outputs": [
    {
     "data": {
      "text/plain": [
       "145"
      ]
     },
     "execution_count": 15,
     "metadata": {},
     "output_type": "execute_result"
    }
   ],
   "source": [
    "len(P3)"
   ]
  },
  {
   "cell_type": "markdown",
   "metadata": {},
   "source": [
    "## Set of pairs after Gauss claims he knows the numbers"
   ]
  },
  {
   "cell_type": "markdown",
   "metadata": {},
   "source": [
    "Gauss can only know the numbers $x$ and $y$ if the product $p$ given to him has only one possible factorization in <tt>P3</tt>.  "
   ]
  },
  {
   "cell_type": "markdown",
   "metadata": {},
   "source": [
    "Given a number $p$, the function $\\texttt{allPairsInP3}(p)$ computes the set of pairs $(x, y)$ such that, first, $(x, y) \\in \\texttt{P3}$ and, second, $x \\cdot y = p$:"
   ]
  },
  {
   "cell_type": "code",
   "execution_count": 16,
   "metadata": {},
   "outputs": [],
   "source": [
    "def allPairsInP3(p):\n",
    "    return { (x, y) for (x, y) in P3 \n",
    "                    if x * y == p\n",
    "           }"
   ]
  },
  {
   "cell_type": "code",
   "execution_count": 17,
   "metadata": {},
   "outputs": [
    {
     "data": {
      "text/plain": [
       "{(11, 42), (14, 33)}"
      ]
     },
     "execution_count": 17,
     "metadata": {},
     "output_type": "execute_result"
    }
   ],
   "source": [
    "allPairsInP3(14 * 33)"
   ]
  },
  {
   "cell_type": "markdown",
   "metadata": {},
   "source": [
    "<tt>P4</tt> is the set of pairs that are possible once we know that Gauss is able to determine the numbers $x$ and $y$."
   ]
  },
  {
   "cell_type": "code",
   "execution_count": 18,
   "metadata": {},
   "outputs": [],
   "source": [
    "P4 = { (x, y) for (x, y) in P3\n",
    "              if len(allPairsInP3(x * y)) == 1\n",
    "     }"
   ]
  },
  {
   "cell_type": "code",
   "execution_count": 19,
   "metadata": {},
   "outputs": [
    {
     "data": {
      "text/plain": [
       "86"
      ]
     },
     "execution_count": 19,
     "metadata": {},
     "output_type": "execute_result"
    }
   ],
   "source": [
    "len(P4)"
   ]
  },
  {
   "cell_type": "markdown",
   "metadata": {},
   "source": [
    "## Set of pairs after Euler claims he knows the numbers"
   ]
  },
  {
   "cell_type": "markdown",
   "metadata": {},
   "source": [
    "Given a natural number $s$, the function $\\texttt{alternativeSplits}(s)$ computes the set of all pairs $(x, y) \\in \\texttt{P4}$ such that the sum $x + y = s$."
   ]
  },
  {
   "cell_type": "code",
   "execution_count": 20,
   "metadata": {},
   "outputs": [],
   "source": [
    "def alternativeSplits(s):\n",
    "    return { (x, y) for (x, y) in P4\n",
    "                    if x + y == s\n",
    "           }"
   ]
  },
  {
   "cell_type": "code",
   "execution_count": 21,
   "metadata": {},
   "outputs": [
    {
     "data": {
      "text/plain": [
       "{(2, 9), (3, 8), (4, 7)}"
      ]
     },
     "execution_count": 21,
     "metadata": {},
     "output_type": "execute_result"
    }
   ],
   "source": [
    "alternativeSplits(11)"
   ]
  },
  {
   "cell_type": "markdown",
   "metadata": {},
   "source": [
    "Euler can only claim that he knows the solution if the sum $s$ that has been given to him admits only one possible split into a pair $(x, y)$ such that both $s = x + y$ and $(x, y) \\in \\texttt{P4}$.  The set of pairs satisfying this requirement is <tt>P5</tt>:"
   ]
  },
  {
   "cell_type": "code",
   "execution_count": 22,
   "metadata": {},
   "outputs": [],
   "source": [
    "P5 = { (x, y) for (x, y) in P4\n",
    "              if len(alternativeSplits(x + y)) == 1  \n",
    "     }"
   ]
  },
  {
   "cell_type": "code",
   "execution_count": 23,
   "metadata": {},
   "outputs": [
    {
     "data": {
      "text/plain": [
       "{(4, 13)}"
      ]
     },
     "execution_count": 23,
     "metadata": {},
     "output_type": "execute_result"
    }
   ],
   "source": [
    "P5"
   ]
  },
  {
   "cell_type": "markdown",
   "metadata": {},
   "source": [
    "As this set contains but a single pair, we know the numbers $x$ and $y$: We have $x = 4$ and $y = 13$. "
   ]
  },
  {
   "cell_type": "markdown",
   "metadata": {},
   "source": [
    "## Verification of the solution"
   ]
  },
  {
   "cell_type": "markdown",
   "metadata": {},
   "source": [
    "If $x = 4$ and $y = 13$, then we must have $x \\cdot y = 52$ and $x + y = 17$.  Hence, Gauss has received the product 52, while Euler has been told the sum 17."
   ]
  },
  {
   "cell_type": "code",
   "execution_count": 24,
   "metadata": {},
   "outputs": [
    {
     "data": {
      "text/plain": [
       "52"
      ]
     },
     "execution_count": 24,
     "metadata": {},
     "output_type": "execute_result"
    }
   ],
   "source": [
    "4 * 13"
   ]
  },
  {
   "cell_type": "code",
   "execution_count": 25,
   "metadata": {},
   "outputs": [
    {
     "data": {
      "text/plain": [
       "52"
      ]
     },
     "execution_count": 25,
     "metadata": {},
     "output_type": "execute_result"
    }
   ],
   "source": [
    "2 * 26"
   ]
  },
  {
   "cell_type": "markdown",
   "metadata": {},
   "source": [
    "As there are two possibilities to factor $52$, Gauss does not know the numbers initially."
   ]
  },
  {
   "cell_type": "markdown",
   "metadata": {},
   "source": [
    "Euler can split his sum as follows:"
   ]
  },
  {
   "cell_type": "code",
   "execution_count": 26,
   "metadata": {},
   "outputs": [
    {
     "data": {
      "text/plain": [
       "{(2, 15), (3, 14), (4, 13), (5, 12), (6, 11), (7, 10), (8, 9)}"
      ]
     },
     "execution_count": 26,
     "metadata": {},
     "output_type": "execute_result"
    }
   ],
   "source": [
    "allSplits(17)"
   ]
  },
  {
   "cell_type": "markdown",
   "metadata": {},
   "source": [
    "Euler sees that all possible splits of 17 factor in more than one way.  Hence he knows that Gauss can not deduce the numbers."
   ]
  },
  {
   "cell_type": "code",
   "execution_count": 27,
   "metadata": {},
   "outputs": [
    {
     "data": {
      "text/plain": [
       "{(6, 11): {(2, 33), (3, 22), (6, 11)},\n",
       " (5, 12): {(2, 30), (3, 20), (4, 15), (5, 12), (6, 10)},\n",
       " (4, 13): {(2, 26), (4, 13)},\n",
       " (8, 9): {(2, 36), (3, 24), (4, 18), (6, 12), (8, 9)},\n",
       " (7, 10): {(2, 35), (5, 14), (7, 10)},\n",
       " (2, 15): {(2, 15), (3, 10), (5, 6)},\n",
       " (3, 14): {(2, 21), (3, 14), (6, 7)}}"
      ]
     },
     "execution_count": 27,
     "metadata": {},
     "output_type": "execute_result"
    }
   ],
   "source": [
    "{ (u, v): allFactors(u * v) for (u, v) in allSplits(17) }"
   ]
  },
  {
   "cell_type": "markdown",
   "metadata": {},
   "source": [
    "From the initial statement of Euler, Gauss has deduced that Euler must have received a sum $s$ that is in the set <tt>S</tt> that we have calculated previously.  Here it is again:"
   ]
  },
  {
   "cell_type": "code",
   "execution_count": 28,
   "metadata": {},
   "outputs": [
    {
     "data": {
      "text/plain": [
       "{11, 17, 23, 27, 29, 35, 37, 41, 47, 53}"
      ]
     },
     "execution_count": 28,
     "metadata": {},
     "output_type": "execute_result"
    }
   ],
   "source": [
    "S"
   ]
  },
  {
   "cell_type": "markdown",
   "metadata": {},
   "source": [
    "As Gauss knows that the product 52 must be either the product $2 \\cdot 26$ or $4 \\cdot 13$ but $2 + 26 = 28 \\not\\in S$, he realizes that the numbers must be $x = 4$ and $y = 13$."
   ]
  },
  {
   "cell_type": "markdown",
   "metadata": {},
   "source": [
    "Now Euler looks at all splits of $17$:"
   ]
  },
  {
   "cell_type": "code",
   "execution_count": 29,
   "metadata": {},
   "outputs": [
    {
     "data": {
      "text/plain": [
       "{(2, 15), (3, 14), (4, 13), (5, 12), (6, 11), (7, 10), (8, 9)}"
      ]
     },
     "execution_count": 29,
     "metadata": {},
     "output_type": "execute_result"
    }
   ],
   "source": [
    "allSplits(17)"
   ]
  },
  {
   "cell_type": "markdown",
   "metadata": {},
   "source": [
    "He realizes that only one of these splits is in <tt>P4</tt>:"
   ]
  },
  {
   "cell_type": "code",
   "execution_count": 30,
   "metadata": {},
   "outputs": [
    {
     "data": {
      "text/plain": [
       "{(4, 13)}"
      ]
     },
     "execution_count": 30,
     "metadata": {},
     "output_type": "execute_result"
    }
   ],
   "source": [
    "{ (x, y) for (x, y) in allSplits(17) if (x, y) in P4 }"
   ]
  }
 ],
 "metadata": {
  "kernelspec": {
   "display_name": "Python 3",
   "language": "python",
   "name": "python3"
  },
  "language_info": {
   "codemirror_mode": {
    "name": "ipython",
    "version": 3
   },
   "file_extension": ".py",
   "mimetype": "text/x-python",
   "name": "python",
   "nbconvert_exporter": "python",
   "pygments_lexer": "ipython3",
   "version": "3.6.5"
  }
 },
 "nbformat": 4,
 "nbformat_minor": 2
}
