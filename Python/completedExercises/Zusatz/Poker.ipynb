{
 "cells": [
  {
   "cell_type": "code",
   "execution_count": null,
   "metadata": {},
   "outputs": [],
   "source": [
    "from IPython.core.display import HTML\n",
    "with open('style.css', 'r') as file:\n",
    "    css = file.read()\n",
    "HTML(css)"
   ]
  },
  {
   "cell_type": "markdown",
   "metadata": {},
   "source": [
    "# Case Study: Computation of Probabilities in Poker "
   ]
  },
  {
   "cell_type": "markdown",
   "metadata": {},
   "source": [
    "This notebook shows how to compute probabilities in <A href=\"https://en.wikipedia.org/wiki/Texas_hold_%27em\">Texas Hold'em Poker</A>.  Texas Hold'em is played with a deck of 52 cards.  The cards have 13 different <em style=\"color:blue\">values</em> and four different <em style=\"color:blue\">suits</em>.  These values are:"
   ]
  },
  {
   "cell_type": "code",
   "execution_count": null,
   "metadata": {},
   "outputs": [],
   "source": [
    "Values = { '2', '3', '4', '5', '6', '7', '8', '9', 'T', \n",
    "           'J', 'Q', 'K', 'A' \n",
    "         }"
   ]
  },
  {
   "cell_type": "markdown",
   "metadata": {},
   "source": [
    "The four <em style=\"color:blue\">suits</em> are <em style=\"color:blue\">clubs</em>, <em style=\"color:blue\">hearts</em>, \n",
    "<em style=\"color:blue\">diamonds</em>, and <em style=\"color:blue\">spades</em>.  We represent these suits by their first letter:"
   ]
  },
  {
   "cell_type": "code",
   "execution_count": null,
   "metadata": {},
   "outputs": [],
   "source": [
    "Suits = { '♣', '♥', '♦', '♠' }"
   ]
  },
  {
   "cell_type": "markdown",
   "metadata": {},
   "source": [
    "Now the *deck* of cards is convieniently represented by the *Cartesian product* of \n",
    "the two sets `Values` and `Suits`."
   ]
  },
  {
   "cell_type": "code",
   "execution_count": null,
   "metadata": {},
   "outputs": [],
   "source": [
    "Deck = { (v, s) for v in Values for s in Suits }\n",
    "Deck"
   ]
  },
  {
   "cell_type": "markdown",
   "metadata": {},
   "source": [
    "Let's assume you have been dealt the three of clubs and the three of spades.  In Texas Hold'em, the hand dealt to a player at the beginning is called the <em style=\"color:blue\">hole</em>, so we have:"
   ]
  },
  {
   "cell_type": "code",
   "execution_count": null,
   "metadata": {},
   "outputs": [],
   "source": [
    "Hole = { ('3', '♣'), ('3', '♠') }"
   ]
  },
  {
   "cell_type": "markdown",
   "metadata": {},
   "source": [
    "The remaining cards are all other cards, lets call them `Rest`:"
   ]
  },
  {
   "cell_type": "code",
   "execution_count": null,
   "metadata": {},
   "outputs": [],
   "source": [
    "Rest = Deck - Hole"
   ]
  },
  {
   "cell_type": "markdown",
   "metadata": {},
   "source": [
    "We are interested in the probability that on the <em style=\"color:blue\">flop</em> you will improve your hand to \n",
    "<em style=\"color:blue\">trips</em>.  The *flop* are three cards that are put openly on the table once the initial \n",
    "<em style=\"color:blue\">bidding</em> phase has ended.  So the question is how likely it is that one of these three cards will have the value `'3'`.  First, let us compute the set of all possible <em style=\"color:blue\">flops</em>.\n",
    "Note that we take care to ensure that the three cards in the flop are **different** by using the condition `len({c1, c2, c3}) == 3`."
   ]
  },
  {
   "cell_type": "code",
   "execution_count": null,
   "metadata": {},
   "outputs": [],
   "source": [
    "Flops = { (c1, c2, c3) for c1 in Rest \n",
    "                       for c2 in Rest \n",
    "                       for c3 in Rest \n",
    "                       if len({c1, c2, c3}) == 3 \n",
    "        }"
   ]
  },
  {
   "cell_type": "code",
   "execution_count": null,
   "metadata": {},
   "outputs": [],
   "source": [
    "len(Flops)"
   ]
  },
  {
   "cell_type": "markdown",
   "metadata": {},
   "source": [
    "Next, let us compute those flops that actually have a card with a value of `'3'`.  Since there are only two cards left that have a value of `'3'`, this subset of the set `flops` is easy to compute:"
   ]
  },
  {
   "cell_type": "code",
   "execution_count": null,
   "metadata": {},
   "outputs": [],
   "source": [
    "Trips = { f for f in Flops if ('3', '♦' ) in f or ('3', '♥') in f }"
   ]
  },
  {
   "cell_type": "code",
   "execution_count": null,
   "metadata": {},
   "outputs": [],
   "source": [
    "len(Trips)"
   ]
  },
  {
   "cell_type": "markdown",
   "metadata": {},
   "source": [
    "Now the probability that you will improve your hand from pairs to trips on the flop is just the ratio of the number of those cases where you do make trips to the number of all possible cases:"
   ]
  },
  {
   "cell_type": "code",
   "execution_count": null,
   "metadata": {},
   "outputs": [],
   "source": [
    "len(Trips)/len(Flops)"
   ]
  },
  {
   "cell_type": "markdown",
   "metadata": {},
   "source": [
    "Therefore, we can conclude that the probability to improve a *pocket pair* to *trips* \n",
    "on the flop is about `11.8%`."
   ]
  },
  {
   "cell_type": "code",
   "execution_count": null,
   "metadata": {},
   "outputs": [],
   "source": []
  }
 ],
 "metadata": {
  "@webio": {
   "lastCommId": null,
   "lastKernelId": null
  },
  "kernelspec": {
   "display_name": "Python 3",
   "language": "python",
   "name": "python3"
  },
  "language_info": {
   "codemirror_mode": {
    "name": "ipython",
    "version": 3
   },
   "file_extension": ".py",
   "mimetype": "text/x-python",
   "name": "python",
   "nbconvert_exporter": "python",
   "pygments_lexer": "ipython3",
   "version": "3.8.5"
  },
  "toc": {
   "base_numbering": 1,
   "nav_menu": {},
   "number_sections": true,
   "sideBar": true,
   "skip_h1_title": false,
   "title_cell": "Table of Contents",
   "title_sidebar": "Contents",
   "toc_cell": false,
   "toc_position": {},
   "toc_section_display": true,
   "toc_window_display": false
  },
  "varInspector": {
   "cols": {
    "lenName": 16,
    "lenType": 16,
    "lenVar": 40
   },
   "kernels_config": {
    "python": {
     "delete_cmd_postfix": "",
     "delete_cmd_prefix": "del ",
     "library": "var_list.py",
     "varRefreshCmd": "print(var_dic_list())"
    },
    "r": {
     "delete_cmd_postfix": ") ",
     "delete_cmd_prefix": "rm(",
     "library": "var_list.r",
     "varRefreshCmd": "cat(var_dic_list()) "
    }
   },
   "types_to_exclude": [
    "module",
    "function",
    "builtin_function_or_method",
    "instance",
    "_Feature"
   ],
   "window_display": false
  }
 },
 "nbformat": 4,
 "nbformat_minor": 2
}
