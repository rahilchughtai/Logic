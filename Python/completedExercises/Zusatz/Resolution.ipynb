{
 "cells": [
  {
   "cell_type": "code",
   "execution_count": 1,
   "metadata": {},
   "outputs": [
    {
     "data": {
      "application/javascript": [
       "IPython.notebook.set_autosave_interval(60000)"
      ]
     },
     "metadata": {},
     "output_type": "display_data"
    },
    {
     "name": "stdout",
     "output_type": "stream",
     "text": [
      "Autosaving every 60 seconds\n"
     ]
    },
    {
     "data": {
      "text/html": [
       "<style>.container { width:100% !important; }</style>"
      ],
      "text/plain": [
       "<IPython.core.display.HTML object>"
      ]
     },
     "metadata": {},
     "output_type": "display_data"
    }
   ],
   "source": [
    "%autosave 60\n",
    "from IPython.core.display import display, HTML\n",
    "display(HTML(\"<style>.container { width:100% !important; }</style>\"))"
   ]
  },
  {
   "cell_type": "markdown",
   "metadata": {},
   "source": [
    "## Auxiliary Functions"
   ]
  },
  {
   "cell_type": "markdown",
   "metadata": {},
   "source": [
    "We need the parser for first order formulas, hence we import it."
   ]
  },
  {
   "cell_type": "code",
   "execution_count": 2,
   "metadata": {},
   "outputs": [],
   "source": [
    "import folParser as fp\n",
    "\n",
    "def parse(s):\n",
    "    return fp.LogicParser(s).parse()"
   ]
  },
  {
   "cell_type": "markdown",
   "metadata": {},
   "source": [
    "The resolution calculus works with clauses.  The module <tt>folCNF</tt> implements the function $\\texttt{normalize}(f)$ that turns a formula $f$ into a set of clauses that is equisatisfiable to $f$."
   ]
  },
  {
   "cell_type": "code",
   "execution_count": 3,
   "metadata": {},
   "outputs": [],
   "source": [
    "import folCNF as cnf"
   ]
  },
  {
   "cell_type": "markdown",
   "metadata": {},
   "source": [
    "The module <tt>unify</tt> implements unification and the appplication of a substitution $\\sigma$ to a term:\n",
    "<ol>\n",
    "<li>The function $\\texttt{mgu}(s, t)$, which is defined in the module <tt>unify</tt>, \n",
    "    takes two terms $s$ and $t$ and computes the \n",
    "    <em style=\"color:blue;\">most general unifier</em> of $s$ and $t$.\n",
    "</li>\n",
    "<li>The function $\\texttt{apply}(t, \\sigma)$ takes a term $t$ and a substitution $\\sigma$ and\n",
    "    computes the <em  style=\"color:blue;\">application</em> $t\\sigma$ of $\\sigma$ to $t$.\n",
    "</li>\n",
    "</ol>"
   ]
  },
  {
   "cell_type": "code",
   "execution_count": 4,
   "metadata": {},
   "outputs": [],
   "source": [
    "from unify import mgu, apply"
   ]
  },
  {
   "cell_type": "markdown",
   "metadata": {},
   "source": [
    "The call $\\texttt{arb}(S)$ returns an arbitrary element from the set $S$."
   ]
  },
  {
   "cell_type": "code",
   "execution_count": 5,
   "metadata": {},
   "outputs": [],
   "source": [
    "def arb(S):\n",
    "    for x in S:\n",
    "        return x"
   ]
  },
  {
   "cell_type": "markdown",
   "metadata": {},
   "source": [
    "Given a literal $l$ the function $\\texttt{complement}(l)$ computes the \n",
    "<em style=\"color:blue;\">complement</em> $\\overline{\\,l\\,}$ of the literal $l$."
   ]
  },
  {
   "cell_type": "code",
   "execution_count": 6,
   "metadata": {},
   "outputs": [],
   "source": [
    "def complement(l):\n",
    "    \"Compute the complement of the literal l.\"\n",
    "    if l[0] == '¬':\n",
    "        return l[1]\n",
    "    else:\n",
    "        return ('¬', l)"
   ]
  },
  {
   "cell_type": "code",
   "execution_count": 7,
   "metadata": {},
   "outputs": [
    {
     "data": {
      "text/plain": [
       "('¬', ('p', 'x'))"
      ]
     },
     "execution_count": 7,
     "metadata": {},
     "output_type": "execute_result"
    }
   ],
   "source": [
    "complement(('p', 'x'))"
   ]
  },
  {
   "cell_type": "code",
   "execution_count": 8,
   "metadata": {},
   "outputs": [
    {
     "data": {
      "text/plain": [
       "('p', 'x')"
      ]
     },
     "execution_count": 8,
     "metadata": {},
     "output_type": "execute_result"
    }
   ],
   "source": [
    "complement(('¬', ('p', 'x')))"
   ]
  },
  {
   "cell_type": "markdown",
   "metadata": {},
   "source": [
    "Given a clause $C$, the function $\\texttt{collectVariables}(C)$ computes the set of all variables occurring in $C$.  The function $\\texttt{collectVariables}$ can also collect the variables occurring in a literal or a term."
   ]
  },
  {
   "cell_type": "code",
   "execution_count": 9,
   "metadata": {},
   "outputs": [],
   "source": [
    "def collectVariables(C):\n",
    "    if isinstance(C, frozenset):\n",
    "        return { x for literal in C \n",
    "                   for x in collectVariables(literal) \n",
    "               }\n",
    "    if isinstance(C, str): # C is a variable\n",
    "        return { C }\n",
    "    if C[0] == '¬':\n",
    "        return collectVariables(C[1])\n",
    "    # C must be a term or an atomic formula\n",
    "    args = C[1:]\n",
    "    return { x for t in args for x in collectVariables(t) }"
   ]
  },
  {
   "cell_type": "code",
   "execution_count": 10,
   "metadata": {},
   "outputs": [
    {
     "data": {
      "text/plain": [
       "('∀',\n",
       " 'g',\n",
       " ('∀',\n",
       "  'c',\n",
       "  ('↔',\n",
       "   ('Grandparent', 'g', 'c'),\n",
       "   ('∃', 'p', ('∧', ('Parent', 'g', 'p'), ('Parent', 'p', 'c'))))))"
      ]
     },
     "execution_count": 10,
     "metadata": {},
     "output_type": "execute_result"
    }
   ],
   "source": [
    "s = '∀g:∀c:(Grandparent(g, c) ↔ ∃p: (Parent(g, p) ∧ Parent(p, c)))'\n",
    "f = parse(s)\n",
    "f"
   ]
  },
  {
   "cell_type": "code",
   "execution_count": 11,
   "metadata": {},
   "outputs": [
    {
     "data": {
      "text/plain": [
       "{frozenset({('Grandparent', 'g', 'c'),\n",
       "            ('¬', ('Parent', 'a', 'c')),\n",
       "            ('¬', ('Parent', 'g', 'a'))}),\n",
       " frozenset({('Parent', 'g', ('sk1', 'g', 'c')),\n",
       "            ('¬', ('Grandparent', 'g', 'c'))}),\n",
       " frozenset({('Parent', ('sk1', 'g', 'c'), 'c'),\n",
       "            ('¬', ('Grandparent', 'g', 'c'))})}"
      ]
     },
     "execution_count": 11,
     "metadata": {},
     "output_type": "execute_result"
    }
   ],
   "source": [
    "Clauses = cnf.normalize(f)\n",
    "Clauses"
   ]
  },
  {
   "cell_type": "code",
   "execution_count": 12,
   "metadata": {},
   "outputs": [
    {
     "name": "stdout",
     "output_type": "stream",
     "text": [
      "collectVariables({('¬', ('Parent', 'a', 'c')), ('¬', ('Parent', 'g', 'a')), ('Grandparent', 'g', 'c')}) = \n",
      "\t{'c', 'g', 'a'}\n",
      "collectVariables({('¬', ('Grandparent', 'g', 'c')), ('Parent', 'g', ('sk1', 'g', 'c'))}) = \n",
      "\t{'c', 'g'}\n",
      "collectVariables({('¬', ('Grandparent', 'g', 'c')), ('Parent', ('sk1', 'g', 'c'), 'c')}) = \n",
      "\t{'c', 'g'}\n"
     ]
    }
   ],
   "source": [
    "for C in Clauses:\n",
    "    print(f'collectVariables({set(C)}) = \\n\\t{collectVariables(C)}')"
   ]
  },
  {
   "cell_type": "code",
   "execution_count": 13,
   "metadata": {},
   "outputs": [],
   "source": [
    "from string import ascii_lowercase"
   ]
  },
  {
   "cell_type": "markdown",
   "metadata": {},
   "source": [
    "The function $\\texttt{renameVariables}(f, g)$ renames the variables in the formula $f$ so that they are different from the variables occurring in the formula $g$."
   ]
  },
  {
   "cell_type": "code",
   "execution_count": 14,
   "metadata": {},
   "outputs": [],
   "source": [
    "def renameVariables(f, g=frozenset()):\n",
    "    OldVars = collectVariables(f)\n",
    "    NewVars = set(ascii_lowercase) - collectVariables(g)\n",
    "    NewVars = sorted(list(NewVars))\n",
    "    sigma   = { x: NewVars[i] for (i, x) in enumerate(OldVars) }\n",
    "    return apply(f, sigma)"
   ]
  },
  {
   "cell_type": "code",
   "execution_count": 15,
   "metadata": {},
   "outputs": [
    {
     "data": {
      "text/plain": [
       "('∀',\n",
       " 'b',\n",
       " ('∀',\n",
       "  'a',\n",
       "  ('↔',\n",
       "   ('Grandparent', 'b', 'a'),\n",
       "   ('∃', 'c', ('∧', ('Parent', 'b', 'c'), ('Parent', 'c', 'a'))))))"
      ]
     },
     "execution_count": 15,
     "metadata": {},
     "output_type": "execute_result"
    }
   ],
   "source": [
    "renameVariables(f)"
   ]
  },
  {
   "cell_type": "markdown",
   "metadata": {},
   "source": [
    "# A Calculus for First Order Logic"
   ]
  },
  {
   "cell_type": "markdown",
   "metadata": {},
   "source": [
    "The <em style=\"color:blue;\">resolution</em> rule is an inference rule that is defined as follows: If\n",
    "<ol>\n",
    "<li> $C_1$ and $C_2$ are clauses from first order logic,</li>\n",
    "<li> $p(s_1,\\cdots,s_n)$ and $p(t_1,\\cdots,t_n)$ are atomic formulas,</li> \n",
    "<li> the syntactical equation $p(s_1,\\cdots,s_n) \\doteq p(t_1,\\cdots,t_n)$ is solvable and\n",
    "     $$ \\mu = \\mathtt{mgu}\\bigl(p(s_1,\\cdots,s_n), p(t_1,\\cdots,t_n)\\bigr), $$</li> \n",
    "</ol>\n",
    "then\n",
    "$$\\frac{C_1 \\cup\\{ p(s_1,\\cdots,s_n)\\} \\quad\\quad \\{\\neg p(t_1,\\cdots,t_n)\\} \\cup C_2}{\n",
    "                 C_1\\mu \\cup C_2\\mu} \n",
    "$$\n",
    "is an application of the resolution rule."
   ]
  },
  {
   "cell_type": "markdown",
   "metadata": {},
   "source": [
    "Given a two clauses <tt>C1</tt> and <tt>C2</tt>, the function $\\texttt{resolve}(\\texttt{C1}, \\texttt{C2})$ computes a set of all clauses that can be inferred from <tt>C1</tt> and <tt>C2</tt> by applying the resolution rule."
   ]
  },
  {
   "cell_type": "code",
   "execution_count": 16,
   "metadata": {},
   "outputs": [],
   "source": [
    "def resolve(C1, C2):\n",
    "    C2 = renameVariables(C2, C1)\n",
    "    Result = set()\n",
    "    for L1 in C1:\n",
    "        for L2 in C2:\n",
    "            mu = mgu(L1, complement(L2))\n",
    "            if mu != None:\n",
    "                C1C2 = apply((C1 - { L1 }) | (C2 - { L2 }), mu)\n",
    "                Result.add(C1C2)\n",
    "    return Result"
   ]
  },
  {
   "cell_type": "markdown",
   "metadata": {},
   "source": [
    "## Some Formulas for Testing"
   ]
  },
  {
   "cell_type": "markdown",
   "metadata": {},
   "source": [
    "According to the book \n",
    "<a href=\"https://www.springer.com/la/book/9780817647629\">Logic for Computer Science</a> written by \n",
    "<a href=\"https://de.wikipedia.org/wiki/Uwe_Schöning\">Uwe Schöning</a>, the theory of red dragons is\n",
    "given by the following axioms:\n",
    "<ol>\n",
    "<li>\n",
    "Every dragon is happy if all its children can fly:\n",
    "$$ f_1 := \\forall x: \\Bigl(\\forall y: \\big(\\texttt{Child}(y,x) \\rightarrow \\texttt{CanFly}(y)\\big) \\rightarrow \\texttt{Happy}(x)\\Bigr) \n",
    "$$\n",
    "</li>\n",
    "<li> \n",
    "All red dragons can fly:\n",
    "$$\n",
    " f_2 := \\forall x: \\bigl(\\texttt{Red}(x) \\rightarrow \\texttt{CanFly}(x)\\bigr)\n",
    "$$\n",
    "</li>\n",
    "<li> The children of red dragons are red themselves:\n",
    "$$\n",
    "f_3 := \\forall x: \\Bigl(\\texttt{Red}(x) \\rightarrow \\forall y:\\bigl( \\texttt{Child}(y,x) \\rightarrow \\texttt{Red}(y)\\bigr)\\Bigr)\n",
    "$$\n",
    "</li>\n",
    "</ol>\n",
    "We will show that these axioms imply that all red dragons are happy:\n",
    "$$\n",
    " \\forall x: \\bigl(\\texttt{Red}(x) \\rightarrow \\texttt{Happy}(x)\\bigr)\n",
    "$$\n",
    "To this end, the formula stating that all red dragons can fly is negated.  \n",
    "$$\n",
    " f_4 := \\neg\\forall x: \\bigl(\\texttt{Red}(x) \\rightarrow \\texttt{Happy}(x)\\bigr)\n",
    "$$\n",
    "Then we will show that the set consisting of the negated formula together with the axioms is inconsistent:  \n",
    "$$ \\bigl\\{ f_1, f_2, f_3, f_4 \\} \\vdash \\bot. $$\n",
    "We start by defining the formulas."
   ]
  },
  {
   "cell_type": "code",
   "execution_count": 17,
   "metadata": {},
   "outputs": [],
   "source": [
    "s1 = '∀x:(∀y:(Child(y, x) → CanFly(y)) → Happy(x))'\n",
    "s2 = '∀x:(Red(x) → CanFly(x))'\n",
    "s3 = '∀x:(Red(x) → ∀y:(Child(y, x) → Red(y)))'\n",
    "s4 = '¬∀x:(Red(x) → Happy(x))'"
   ]
  },
  {
   "cell_type": "markdown",
   "metadata": {},
   "source": [
    "Next, the formulas are parsed and transformed into clauses."
   ]
  },
  {
   "cell_type": "code",
   "execution_count": 18,
   "metadata": {},
   "outputs": [
    {
     "data": {
      "text/plain": [
       "{frozenset({('Child', ('sk2', 'x'), 'x'), ('Happy', 'x')}),\n",
       " frozenset({('Happy', 'x'), ('¬', ('CanFly', ('sk2', 'x')))})}"
      ]
     },
     "execution_count": 18,
     "metadata": {},
     "output_type": "execute_result"
    }
   ],
   "source": [
    "f1 = parse(s1)\n",
    "cnf.normalize(f1)"
   ]
  },
  {
   "cell_type": "code",
   "execution_count": 19,
   "metadata": {},
   "outputs": [
    {
     "data": {
      "text/plain": [
       "{frozenset({('CanFly', 'x'), ('¬', ('Red', 'x'))})}"
      ]
     },
     "execution_count": 19,
     "metadata": {},
     "output_type": "execute_result"
    }
   ],
   "source": [
    "f2 = parse(s2)\n",
    "cnf.normalize(f2)"
   ]
  },
  {
   "cell_type": "code",
   "execution_count": 20,
   "metadata": {},
   "outputs": [
    {
     "data": {
      "text/plain": [
       "{frozenset({('Red', 'y'), ('¬', ('Child', 'y', 'x')), ('¬', ('Red', 'x'))})}"
      ]
     },
     "execution_count": 20,
     "metadata": {},
     "output_type": "execute_result"
    }
   ],
   "source": [
    "f3 = parse(s3)\n",
    "cnf.normalize(f3)"
   ]
  },
  {
   "cell_type": "code",
   "execution_count": 21,
   "metadata": {},
   "outputs": [
    {
     "data": {
      "text/plain": [
       "{frozenset({('¬', ('Happy', ('sk3',)))}), frozenset({('Red', ('sk3',))})}"
      ]
     },
     "execution_count": 21,
     "metadata": {},
     "output_type": "execute_result"
    }
   ],
   "source": [
    "f4 = parse(s4)\n",
    "cnf.normalize(f4)"
   ]
  },
  {
   "cell_type": "code",
   "execution_count": 22,
   "metadata": {},
   "outputs": [],
   "source": [
    "Clauses = cnf.normalize(f1) | cnf.normalize(f2) | cnf.normalize(f3) | cnf.normalize(f4)"
   ]
  },
  {
   "cell_type": "markdown",
   "metadata": {},
   "source": [
    "We give names to the clauses in order to be able to refer to them."
   ]
  },
  {
   "cell_type": "code",
   "execution_count": 23,
   "metadata": {},
   "outputs": [],
   "source": [
    "C1 = frozenset({('Red', ('sk3',))})"
   ]
  },
  {
   "cell_type": "code",
   "execution_count": 24,
   "metadata": {},
   "outputs": [],
   "source": [
    "C2 = frozenset({('¬', ('Happy', ('sk3',)))})"
   ]
  },
  {
   "cell_type": "code",
   "execution_count": 25,
   "metadata": {},
   "outputs": [],
   "source": [
    "C3 = frozenset({('CanFly', 'x'), ('¬', ('Red', 'x'))})"
   ]
  },
  {
   "cell_type": "code",
   "execution_count": 26,
   "metadata": {},
   "outputs": [],
   "source": [
    "C4 = frozenset({('Child', ('sk2', 'x'), 'x'), ('Happy', 'x')})"
   ]
  },
  {
   "cell_type": "code",
   "execution_count": 27,
   "metadata": {},
   "outputs": [],
   "source": [
    "C5 = frozenset({('Happy', 'x'), ('¬', ('CanFly', ('sk2', 'x')))})"
   ]
  },
  {
   "cell_type": "code",
   "execution_count": 28,
   "metadata": {},
   "outputs": [],
   "source": [
    "C6 = frozenset({('Red', 'y'), ('¬', ('Child', 'y', 'x')), ('¬', ('Red', 'x'))})"
   ]
  },
  {
   "cell_type": "markdown",
   "metadata": {},
   "source": [
    "Now we are ready to show that the set containing of these clauses is inconsistent."
   ]
  },
  {
   "cell_type": "code",
   "execution_count": 29,
   "metadata": {},
   "outputs": [
    {
     "data": {
      "text/plain": [
       "frozenset({('Red', 'b'), ('¬', ('Child', 'b', ('sk3',)))})"
      ]
     },
     "execution_count": 29,
     "metadata": {},
     "output_type": "execute_result"
    }
   ],
   "source": [
    "C7 = arb(resolve(C1, C6))\n",
    "C7"
   ]
  },
  {
   "cell_type": "code",
   "execution_count": 30,
   "metadata": {},
   "outputs": [
    {
     "data": {
      "text/plain": [
       "frozenset({('Happy', ('sk3',)), ('Red', ('sk2', ('sk3',)))})"
      ]
     },
     "execution_count": 30,
     "metadata": {},
     "output_type": "execute_result"
    }
   ],
   "source": [
    "C8 = arb(resolve(C7, C4))\n",
    "C8"
   ]
  },
  {
   "cell_type": "code",
   "execution_count": 31,
   "metadata": {},
   "outputs": [
    {
     "data": {
      "text/plain": [
       "frozenset({('Red', ('sk2', ('sk3',)))})"
      ]
     },
     "execution_count": 31,
     "metadata": {},
     "output_type": "execute_result"
    }
   ],
   "source": [
    "C9 = arb(resolve(C8, C2))\n",
    "C9"
   ]
  },
  {
   "cell_type": "code",
   "execution_count": 32,
   "metadata": {},
   "outputs": [
    {
     "data": {
      "text/plain": [
       "frozenset({('CanFly', ('sk2', ('sk3',)))})"
      ]
     },
     "execution_count": 32,
     "metadata": {},
     "output_type": "execute_result"
    }
   ],
   "source": [
    "C10 = arb(resolve(C9, C3))\n",
    "C10"
   ]
  },
  {
   "cell_type": "code",
   "execution_count": 33,
   "metadata": {},
   "outputs": [
    {
     "data": {
      "text/plain": [
       "frozenset({('Happy', ('sk3',))})"
      ]
     },
     "execution_count": 33,
     "metadata": {},
     "output_type": "execute_result"
    }
   ],
   "source": [
    "C11 = arb(resolve(C10, C5))\n",
    "C11"
   ]
  },
  {
   "cell_type": "code",
   "execution_count": 34,
   "metadata": {},
   "outputs": [
    {
     "data": {
      "text/plain": [
       "frozenset()"
      ]
     },
     "execution_count": 34,
     "metadata": {},
     "output_type": "execute_result"
    }
   ],
   "source": [
    "arb(resolve(C11, C2))"
   ]
  },
  {
   "cell_type": "markdown",
   "metadata": {},
   "source": [
    "As we have derived the empty set, we have shown that all <b style=\"color:red;\">communist</b> dragons are happy!"
   ]
  },
  {
   "cell_type": "markdown",
   "metadata": {},
   "source": [
    "## Factorization"
   ]
  },
  {
   "cell_type": "markdown",
   "metadata": {},
   "source": [
    "A calculus which only contains the resolution rule is not complete.  We also need the <em style=\"color:blue;\">factorization</em> rule.  If\n",
    "<ol>\n",
    "<li> $C$ is a clause from first order logic,</li>\n",
    "<li> $p(s_1,\\cdots,s_n)$ and $p(t_1,\\cdots,t_n)$ are atomic formulas,</li>\n",
    "<li> the syntactical equation $p(s_1,\\cdots,s_n)  \\doteq p(t_1,\\cdots,t_n)$ is solvable and \n",
    "     $$\\mu = \\mathtt{mgu}\\bigl(p(s_1,\\cdots,s_n), p(t_1,\\cdots,t_n)\\bigr), $$</li>\n",
    "</ol>\n",
    "then both \n",
    "$$ \\frac{C \\cup \\bigl\\{p(s_1,\\cdots,s_n),\\, p(t_1,\\cdots,t_n)\\bigl\\}}{C\\mu \\cup \\bigl\\{p(s_1,\\cdots,s_n)\\mu\\bigr\\} } $$ \n",
    "and\n",
    "$$ \\frac{C \\cup \\bigl\\{ \\neg p(s_1,\\cdots,s_n),\\, \\neg p(t_1,\\cdots,t_n)\\bigl\\}}{C\\mu \\cup \\bigl\\{\\neg p(s_1,\\cdots,s_n)\\mu\\bigr\\} }\n",
    "$$ \n",
    "are applications of the factorization rule."
   ]
  },
  {
   "cell_type": "markdown",
   "metadata": {},
   "source": [
    "The function $\\texttt{factorize}(C)$ takes a clause $C$ from first order logic and computes all clauses that can be derived from $C$ via factorization."
   ]
  },
  {
   "cell_type": "code",
   "execution_count": 35,
   "metadata": {},
   "outputs": [],
   "source": [
    "def factorize(C):\n",
    "    Result = set()\n",
    "    for L1 in C:\n",
    "        for L2 in C:\n",
    "            if L1 != L2:\n",
    "                mu  = mgu(L1, L2)\n",
    "                if mu != None:\n",
    "                    Cmu = apply(C, mu)\n",
    "                    Result.add(Cmu)\n",
    "    return Result"
   ]
  },
  {
   "cell_type": "markdown",
   "metadata": {},
   "source": [
    "The clauses \n",
    "<ol>\n",
    "<li>$C_1 := \\forall x: \\forall y: P(F(x),y) \\vee \\forall u: \\forall v:P(u, G(v))\\qquad\\qquad$ and</li>\n",
    "<li>$C_2 := \\forall x: \\forall y: \\bigl(\\neg P(F(x),y)\\bigr) \\vee \\forall u: \\forall v: \\bigl(\\neg P(u, G(v))\\bigr)$</li>\n",
    "</ol>\n",
    "are inconsistent.  However, the resolution rule alone is not sufficient to show that the set \n",
    "$\\{C_1, C_2\\}$ is inconsistent."
   ]
  },
  {
   "cell_type": "code",
   "execution_count": 36,
   "metadata": {},
   "outputs": [
    {
     "data": {
      "text/plain": [
       "frozenset({('P', 'u', ('G', 'v')), ('P', ('F', 'x'), 'y')})"
      ]
     },
     "execution_count": 36,
     "metadata": {},
     "output_type": "execute_result"
    }
   ],
   "source": [
    "C1 = arb(cnf.normalize(parse('∀x:∀y:P(F(x),y) ∨ ∀u:∀v:P(u,G(v))')))\n",
    "C1"
   ]
  },
  {
   "cell_type": "code",
   "execution_count": 37,
   "metadata": {},
   "outputs": [
    {
     "data": {
      "text/plain": [
       "frozenset({('¬', ('P', 'u', ('G', 'v'))), ('¬', ('P', ('F', 'x'), 'y'))})"
      ]
     },
     "execution_count": 37,
     "metadata": {},
     "output_type": "execute_result"
    }
   ],
   "source": [
    "C2 = arb(cnf.normalize(parse('∀x:∀y:(¬P(F(x),y)) ∨ ∀u:∀v:(¬P(u,G(v)))')))\n",
    "C2"
   ]
  },
  {
   "cell_type": "code",
   "execution_count": 38,
   "metadata": {},
   "outputs": [
    {
     "data": {
      "text/plain": [
       "frozenset({('P', ('F', 'x'), ('G', 'v'))})"
      ]
     },
     "execution_count": 38,
     "metadata": {},
     "output_type": "execute_result"
    }
   ],
   "source": [
    "C3 = arb(factorize(C1))\n",
    "C3"
   ]
  },
  {
   "cell_type": "code",
   "execution_count": 39,
   "metadata": {},
   "outputs": [
    {
     "data": {
      "text/plain": [
       "frozenset({('¬', ('P', ('F', 'x'), ('G', 'v')))})"
      ]
     },
     "execution_count": 39,
     "metadata": {},
     "output_type": "execute_result"
    }
   ],
   "source": [
    "C4 = arb(factorize(C2))\n",
    "C4"
   ]
  },
  {
   "cell_type": "code",
   "execution_count": 40,
   "metadata": {},
   "outputs": [
    {
     "data": {
      "text/plain": [
       "frozenset()"
      ]
     },
     "execution_count": 40,
     "metadata": {},
     "output_type": "execute_result"
    }
   ],
   "source": [
    "arb(resolve(C3, C4))"
   ]
  },
  {
   "cell_type": "markdown",
   "metadata": {},
   "source": [
    "## Automatic Theorem Proving"
   ]
  },
  {
   "cell_type": "markdown",
   "metadata": {},
   "source": [
    "Given a set of clauses <tt>Clauses</tt>, the function\n",
    "$\\texttt{infere}(\\texttt{Cs1}, \\texttt{Cs2})$ returns all possible clauses that result from:\n",
    "<ol>\n",
    "    <li>The resolution of two clauses $C_1, C_2 \\in \\texttt{Clauses}$, or</li>\n",
    "    <li>the factorization of a clause $C \\in \\texttt{Clauses}$.</li>\n",
    "</ol>"
   ]
  },
  {
   "cell_type": "code",
   "execution_count": 46,
   "metadata": {},
   "outputs": [],
   "source": [
    "def infere(Clauses):\n",
    "    Result =  { C for C1 in Clauses\n",
    "                  for C2 in Clauses\n",
    "                  for C  in resolve(C1, C2)\n",
    "                  if len(C) <= 3            # dirty hack to speed up the prover\n",
    "              }\n",
    "    Result |= { C for C1 in Clauses for C in factorize(C1) }\n",
    "    return Result "
   ]
  },
  {
   "cell_type": "code",
   "execution_count": 47,
   "metadata": {},
   "outputs": [],
   "source": [
    "def prettyPrint(Clauses):\n",
    "    for C in Clauses:\n",
    "        print(set(C))"
   ]
  },
  {
   "cell_type": "code",
   "execution_count": 48,
   "metadata": {},
   "outputs": [
    {
     "name": "stdout",
     "output_type": "stream",
     "text": [
      "{('CanFly', 'x'), ('¬', ('Red', 'x'))}\n",
      "{('Red', ('sk5',))}\n",
      "{('¬', ('Child', 'y', 'x')), ('Red', 'y'), ('¬', ('Red', 'x'))}\n",
      "{('Happy', 'x'), ('¬', ('CanFly', ('sk4', 'x')))}\n",
      "{('¬', ('Happy', ('sk5',)))}\n",
      "{('Happy', 'x'), ('Child', ('sk4', 'x'), 'x')}\n"
     ]
    }
   ],
   "source": [
    "prettyPrint(Clauses)"
   ]
  },
  {
   "cell_type": "markdown",
   "metadata": {},
   "source": [
    "The function $\\texttt{saturate}(\\texttt{Cs})$ takes a set of clauses $\\texttt{Cs}$ as input and tries to infere the empty clause.  If it is not possible to infer the empty clause, the function runs until memory is exhausted."
   ]
  },
  {
   "cell_type": "code",
   "execution_count": 49,
   "metadata": {},
   "outputs": [],
   "source": [
    "def saturate(Clauses):\n",
    "    Cs = Clauses.copy()\n",
    "    cnt = 1\n",
    "    while frozenset() not in Cs:\n",
    "        NewCs = infere(Cs)\n",
    "        print(f'cnt = {cnt}, number of inferred clauses: {len(NewCs)}')\n",
    "        Cs |= NewCs\n",
    "        cnt += 1\n",
    "    return True"
   ]
  },
  {
   "cell_type": "code",
   "execution_count": 50,
   "metadata": {},
   "outputs": [
    {
     "name": "stdout",
     "output_type": "stream",
     "text": [
      "cnt = 1, number of inferred clauses: 11\n",
      "cnt = 2, number of inferred clauses: 57\n",
      "cnt = 3, number of inferred clauses: 346\n",
      "CPU times: user 145 ms, sys: 1.71 ms, total: 147 ms\n",
      "Wall time: 145 ms\n"
     ]
    },
    {
     "data": {
      "text/plain": [
       "True"
      ]
     },
     "execution_count": 50,
     "metadata": {},
     "output_type": "execute_result"
    }
   ],
   "source": [
    "%time saturate(Clauses)"
   ]
  },
  {
   "cell_type": "code",
   "execution_count": null,
   "metadata": {},
   "outputs": [],
   "source": []
  }
 ],
 "metadata": {
  "kernelspec": {
   "display_name": "Python 3",
   "language": "python",
   "name": "python3"
  },
  "language_info": {
   "codemirror_mode": {
    "name": "ipython",
    "version": 3
   },
   "file_extension": ".py",
   "mimetype": "text/x-python",
   "name": "python",
   "nbconvert_exporter": "python",
   "pygments_lexer": "ipython3",
   "version": "3.7.0"
  }
 },
 "nbformat": 4,
 "nbformat_minor": 2
}
