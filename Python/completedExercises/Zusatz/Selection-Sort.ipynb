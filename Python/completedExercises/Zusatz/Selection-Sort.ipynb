{
 "cells": [
  {
   "cell_type": "code",
   "execution_count": null,
   "metadata": {},
   "outputs": [],
   "source": [
    "from IPython.core.display import HTML\n",
    "with open ('style.css', 'r') as file:\n",
    "    css = file.read()\n",
    "HTML(css)"
   ]
  },
  {
   "cell_type": "markdown",
   "metadata": {},
   "source": [
    "# Selection Sort"
   ]
  },
  {
   "cell_type": "markdown",
   "metadata": {},
   "source": [
    "The algorithm *selection sort* sorts a given list `L` and works as follows:\n",
    " - If `L` is empty, `sort(L)` is also empty:\n",
    "   $$\\texttt{sort([])} = \\texttt{[]}.$$\n",
    " - Otherwise, we first compute the minimum of `L`.  Clearly, the minimum needs to be the\n",
    "   first element of the sorted list.  We remove this minimum from `L`, sort the remaining\n",
    "   elements recursively, and finally attach the minimum at the front of this list:\n",
    "   $$\\texttt{sort(L)} = \\texttt{[ min(L) ] + sort([}\\;x \\in \\texttt{L} \\;\\texttt{|}\\; x \\not= \\texttt{min}(L)\\;\\texttt{])}.$$"
   ]
  },
  {
   "cell_type": "code",
   "execution_count": null,
   "metadata": {},
   "outputs": [],
   "source": [
    "def sort(L):\n",
    "    \"This function return a sorted version of L.\"\n",
    "    if L == []:\n",
    "        return []\n",
    "    m = min(L)\n",
    "    return [m] + sort([x for x in L if x != m])"
   ]
  },
  {
   "cell_type": "code",
   "execution_count": null,
   "metadata": {},
   "outputs": [],
   "source": [
    "L = [1, 5, 13, 27, 87, 91, 2, 12, 7, 5, 4, 3, 2, 1]"
   ]
  },
  {
   "cell_type": "code",
   "execution_count": null,
   "metadata": {},
   "outputs": [],
   "source": [
    "sort(L)"
   ]
  },
  {
   "cell_type": "code",
   "execution_count": null,
   "metadata": {},
   "outputs": [],
   "source": []
  }
 ],
 "metadata": {
  "@webio": {
   "lastCommId": null,
   "lastKernelId": null
  },
  "kernelspec": {
   "display_name": "Python 3",
   "language": "python",
   "name": "python3"
  },
  "language_info": {
   "codemirror_mode": {
    "name": "ipython",
    "version": 3
   },
   "file_extension": ".py",
   "mimetype": "text/x-python",
   "name": "python",
   "nbconvert_exporter": "python",
   "pygments_lexer": "ipython3",
   "version": "3.8.5"
  }
 },
 "nbformat": 4,
 "nbformat_minor": 2
}
