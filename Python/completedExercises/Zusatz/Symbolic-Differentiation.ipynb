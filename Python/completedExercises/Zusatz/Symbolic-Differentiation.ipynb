{
 "cells": [
  {
   "cell_type": "code",
   "execution_count": null,
   "metadata": {},
   "outputs": [],
   "source": [
    "from IPython.core.display import HTML\n",
    "with open('style.css', 'r') as file:\n",
    "    css = file.read()\n",
    "HTML(css)"
   ]
  },
  {
   "cell_type": "markdown",
   "metadata": {},
   "source": [
    "# Symbolic Differentiation"
   ]
  },
  {
   "cell_type": "markdown",
   "metadata": {},
   "source": [
    "In this notebook our goal is to implement <em style=\"color:blue\">symbolic differentiation</em>.  Concretely, we want do implement a function `diff` that takes two arguments:\n",
    "  - The first argument <tt>expr</tt> represents an *arithmetic expression*.\n",
    "    Here an arithmetic expression is any string that is build from variable and numbers by application\n",
    "    of any of the operator symbols \"`+`\", \"`-`\", \"`*`\", \"`/`\", and \"`**`\".\n",
    "    The operator \"<tt>**</tt>\" represents exponentiation, i.e. an expression of the form \n",
    "    $a \\texttt{**} b$ is interpreted as $a^b$.          \n",
    "    Furthermore, if $e$ is an expression, then both $\\exp(e)$ and $\\ln(e)$ are expressions too.\n",
    "  - The second argument <tt>var</tt> is the name of a variable.</li>\n",
    "\n",
    "The function call <tt>diff(expr, var)</tt> will then compute the derivative of <tt>expr</tt> with respect to the variable <tt>var</tt>.  For example, the function call <tt>diff(\"x * exp(x)\", \"x\")</tt> will compute the output\n",
    "\"<tt>1 * exp(x) + x * exp(x)</tt>\" because we have:\n",
    "$$ \\frac{\\mathrm{d}\\;}{\\mathrm{d}x} \\bigl( x \\cdot \\mathrm{e}^x \\bigr) = 1 \\cdot \\mathrm{e}^x + x \\cdot \\mathrm{e}^x $$"
   ]
  },
  {
   "cell_type": "markdown",
   "metadata": {},
   "source": [
    "It would be very tedious to **represent** arithmetic expressions as strings.  Instead, we will represent arithmetic expressions as *nested tuples*.  For example, the arithmetic expression \"<tt>x\\*exp(x)</tt>\" is represented as the nested tuple \n",
    "```\n",
    "(\"*\", \"x\", (\"exp\", \"x\")).\n",
    "```\n",
    "In order to be able to convert string into nested tuples, we need a parser.  Therefore we import the local file \"<tt>exprParser.py</tt>\"."
   ]
  },
  {
   "cell_type": "code",
   "execution_count": null,
   "metadata": {},
   "outputs": [],
   "source": [
    "import exprParser as ep"
   ]
  },
  {
   "cell_type": "markdown",
   "metadata": {},
   "source": [
    "This module provides the class <tt>ExprParser</tt>.  Given a string $s$, the call <tt>ExprParser($s$)</tt> creates a parser for the string $s$.  The method <tt>parse</tt> will then return a *nested tuple* representation of the string $s$.  The following example clarifies this:"
   ]
  },
  {
   "cell_type": "code",
   "execution_count": null,
   "metadata": {},
   "outputs": [],
   "source": [
    "ep.ExprParser('x*exp(x)').parse()"
   ]
  },
  {
   "cell_type": "markdown",
   "metadata": {},
   "source": [
    "Now we are ready to implement the function <tt>diff($e$)</tt>, where $e$ is a *nested tuple* and $x$ is a variable."
   ]
  },
  {
   "cell_type": "code",
   "execution_count": null,
   "metadata": {},
   "outputs": [],
   "source": [
    "def diff(e):\n",
    "    \"differentiate the expressions e with respect to the variable x\"\n",
    "    if e[0] == '+':\n",
    "        f , g  = e[1:]\n",
    "        fs, gs = diff(f), diff(g)\n",
    "        return ('+', fs, gs)\n",
    "    if e[0] == '-':\n",
    "        f , g  = e[1:]\n",
    "        fs, gs = diff(f), diff(g)\n",
    "        return ('-', fs, gs)\n",
    "    if e[0] == '*':\n",
    "        f , g  = e[1:]\n",
    "        fs, gs = diff(f), diff(g)\n",
    "        return ('+', ('*', fs, g), ('*', f, gs))\n",
    "    if e[0] == '/':\n",
    "        f , g  = e[1:]\n",
    "        fs, gs = diff(f), diff(g)\n",
    "        return ('/', ('-', ('*', fs, g), ('*', f, gs)), ('*', g, g))\n",
    "    if e[0] == '**':\n",
    "        f , g  = e[1:]\n",
    "        return diff(('exp', ('*', g, ('ln', f))))\n",
    "    if e[0] == 'ln':\n",
    "        f  = e[1]\n",
    "        fs = diff(f) \n",
    "        return ('/', fs, f)\n",
    "    if e[0] == 'exp':\n",
    "        f  = e[1]\n",
    "        fs = diff(f) \n",
    "        return ('*', fs, e)\n",
    "    if e == 'x':\n",
    "        return '1'\n",
    "    return 0"
   ]
  },
  {
   "cell_type": "markdown",
   "metadata": {},
   "source": [
    "Let us inspect the details of this function:\n",
    "<ol>\n",
    "<li>  The lines 3 - 6 implement the rule: \n",
    "      $$\\frac{\\mathrm{d}\\;}{\\mathrm{d}x}\\bigl(f(x) + g(x)\\bigr) = \\frac{\\mathrm{d}\\;}{\\mathrm{d}x} f(x) + \\frac{\\mathrm{d}\\;}{\\mathrm{d}x} g(x)$$\n",
    "      </li>\n",
    "<li>  Line 7 - 10 implement the rule:\n",
    "      $$\\frac{\\mathrm{d}\\;}{\\mathrm{d}x}\\bigl(f(x) - g(x)\\bigr) = \\frac{\\mathrm{d}\\;}{\\mathrm{d}x} f(x) - \\frac{\\mathrm{d}\\;}{\\mathrm{d}x} g(x)$$\n",
    "      </li>\n",
    "<li>  Line 11 - 14 deals with the case where <tt>e</tt> is a product.  The \n",
    "      <a href=\"https://en.wikipedia.org/wiki/Product_rule\">product rule</a> is      \n",
    "      $$ \\frac{\\mathrm{d}\\;}{\\mathrm{d}x}\\bigl(f(x) \\cdot g(x)\\bigr) = \\left(\\frac{\\mathrm{d}\\;}{\\mathrm{d}x} f(x)\\right)\\cdot g(x) + f(x) \\cdot \\left(\\frac{\\mathrm{d}\\;}{\\mathrm{d}x} g(x)\\right)\n",
    "      $$\n",
    "      </li>\n",
    "<li>  Line 15 - 17 deals with the case where <tt>e</tt> is a quotient.  The\n",
    "      <a href=\"https://en.wikipedia.org/wiki/Quotient_rule\">quotient rule</a> is\n",
    "      $$ \\frac{\\mathrm{d}\\;}{\\mathrm{d}x}\\left(\\frac{f(x)}{g(x)}\\right) = \n",
    "         \\frac{\\displaystyle\\left(\\frac{\\mathrm{d}\\;}{\\mathrm{d}x} f(x)\\right)\\cdot g(x) - \n",
    "         f(x) \\cdot \\left(\\frac{\\mathrm{d}\\;}{\\mathrm{d}x} g(x)\\right)}{g(x) \\cdot g(x)}\n",
    "      $$\n",
    "      </li>\n",
    "<li>  Line 19 - 21 deals with the case where <tt>e</tt> is a power.  Now in order to take the derivative of an\n",
    "      expression of the form\n",
    "      $$  f(x)^{g(x)} $$\n",
    "      we first need to rewrite this expression using the following trick:\n",
    "      $$ f(x)^{g(x)} = \\exp\\bigl(\\ln\\bigl(f(x)^{g(x)}\\bigr)\\bigr) = \\exp\\bigl(g(x) \\cdot \\ln(f(x))\\bigr) $$\n",
    "      Then, we can recursively call <tt>diff</tt> for this expression.  This works, because the function\n",
    "      <tt>diff</tt> can deal with both the exponential function $x \\mapsto \\exp(x)$ and with the natural\n",
    "      logarithm $x \\mapsto \\ln(x)$.  This rewriting is done in line 21.\n",
    "      </li>\n",
    "<li>  Line 22-25 deals with the case where <tt>e</tt> has the form \n",
    "      $$\\ln\\bigl(f(x)\\bigr)$$  \n",
    "      In order to take the derivative of this expression, we first need to know the derivative of the natural\n",
    "      logarithm.  This derivative is given as     \n",
    "      $$ \\frac{\\mathrm{d}\\;}{\\mathrm{d}x} \\ln(x) = \\frac{1}{x}$$\n",
    "      Then, using the <a href=\"https://en.wikipedia.org/wiki/Chain_rule\">chain rule</a> we have that\n",
    "      $$ \\frac{\\mathrm{d}\\;}{\\mathrm{d}x} \\ln\\bigl(f(x)\\bigr) = \\frac{\\frac{\\mathrm{d}\\;}{\\mathrm{d}x} f(x)}{f(x)}$$\n",
    "      </li>\n",
    "<li>  Line 26 - 29 deals with the case where <tt>e</tt> has the form $\\exp\\bigl(f(x)\\bigr)$.  \n",
    "      In order to take the derivative of this expression, we first need to know the derivative of the \n",
    "      <a href=\"https://en.wikipedia.org/wiki/Exponential_function\">exponential function</a>.  \n",
    "      This derivative is given as \n",
    "      $$ \\frac{\\mathrm{d}\\;}{\\mathrm{d}x} \\exp(x) = \\exp(x)$$    \n",
    "      Then, using the <a href=\"https://en.wikipedia.org/wiki/Chain_rule\">chain rule</a> we have that\n",
    "      $$\\frac{\\mathrm{d}\\;}{\\mathrm{d}x} \\exp\\bigl(f(x)\\bigr) = \\left(\\frac{\\mathrm{d}\\;}{\\mathrm{d}x} f(x)\\right) \\cdot \\exp\\bigl(f(x)\\bigr)\n",
    "      $$\n",
    "      </li>\n",
    "<li>  Line 30-31 deals with the case where <tt>e</tt> is a variable and happens to be the same variable as\n",
    "      <tt>x</tt>.  This is checked using the condition    \n",
    "      <tt>e == x</tt>.  As we have\n",
    "      $$\\frac{\\mathrm{d}x}{\\mathrm{d}x} = 1,$$\n",
    "      the function <tt>diff</tt> returns <tt>1</tt> in this case.\n",
    "      </li>\n",
    "<li>  Otherwise, the expression is assumed to be a constant and hence we return 0.\n",
    "      </li>\n",
    "</ol>\n"
   ]
  },
  {
   "cell_type": "markdown",
   "metadata": {},
   "source": [
    "Let us implement a small function <tt>test</tt> that takes a string $s$, parses this string as an arithmetic expression and then takes the derivative of this expression with respect to the variable \"<tt>x</tt>\"."
   ]
  },
  {
   "cell_type": "code",
   "execution_count": null,
   "metadata": {},
   "outputs": [],
   "source": [
    "def test(s):\n",
    "    t = ep.ExprParser(s).parse()\n",
    "    d = diff(t)\n",
    "    print(f\"d/dx {s} = {ep.toString(d)}\")"
   ]
  },
  {
   "cell_type": "code",
   "execution_count": null,
   "metadata": {},
   "outputs": [],
   "source": [
    "test(\"x ** x\")"
   ]
  },
  {
   "cell_type": "code",
   "execution_count": null,
   "metadata": {},
   "outputs": [],
   "source": [
    "test(\"x * exp(x)\")"
   ]
  },
  {
   "cell_type": "code",
   "execution_count": null,
   "metadata": {},
   "outputs": [],
   "source": [
    "test(\"ln(exp(x))\")"
   ]
  },
  {
   "cell_type": "markdown",
   "metadata": {},
   "source": [
    "As we can see, the function works as advertised.  However, in order for this approach to be really useful we would have to implement a function `simplify` that takes an arithmetic expression $e$ and then simplifies this expression."
   ]
  },
  {
   "cell_type": "code",
   "execution_count": null,
   "metadata": {},
   "outputs": [],
   "source": []
  }
 ],
 "metadata": {
  "hide_input": false,
  "kernelspec": {
   "display_name": "Python 3",
   "language": "python",
   "name": "python3"
  },
  "language_info": {
   "codemirror_mode": {
    "name": "ipython",
    "version": 3
   },
   "file_extension": ".py",
   "mimetype": "text/x-python",
   "name": "python",
   "nbconvert_exporter": "python",
   "pygments_lexer": "ipython3",
   "version": "3.8.5"
  },
  "toc": {
   "base_numbering": 1,
   "nav_menu": {},
   "number_sections": true,
   "sideBar": true,
   "skip_h1_title": false,
   "title_cell": "Table of Contents",
   "title_sidebar": "Contents",
   "toc_cell": false,
   "toc_position": {},
   "toc_section_display": true,
   "toc_window_display": false
  },
  "varInspector": {
   "cols": {
    "lenName": 16,
    "lenType": 16,
    "lenVar": 40
   },
   "kernels_config": {
    "python": {
     "delete_cmd_postfix": "",
     "delete_cmd_prefix": "del ",
     "library": "var_list.py",
     "varRefreshCmd": "print(var_dic_list())"
    },
    "r": {
     "delete_cmd_postfix": ") ",
     "delete_cmd_prefix": "rm(",
     "library": "var_list.r",
     "varRefreshCmd": "cat(var_dic_list()) "
    }
   },
   "types_to_exclude": [
    "module",
    "function",
    "builtin_function_or_method",
    "instance",
    "_Feature"
   ],
   "window_display": false
  }
 },
 "nbformat": 4,
 "nbformat_minor": 2
}
