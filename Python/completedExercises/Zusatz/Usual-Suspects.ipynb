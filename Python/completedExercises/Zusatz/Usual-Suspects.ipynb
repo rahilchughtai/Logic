{
 "cells": [
  {
   "cell_type": "code",
   "execution_count": null,
   "metadata": {},
   "outputs": [],
   "source": [
    "from IPython.core.display import HTML\n",
    "with open('style.css') as file:\n",
    "    css = file.read()\n",
    "HTML(css)"
   ]
  },
  {
   "cell_type": "markdown",
   "metadata": {},
   "source": [
    "# The Usual Suspects"
   ]
  },
  {
   "cell_type": "markdown",
   "metadata": {},
   "source": [
    "There has been a burglary at a jewelry store.  The usual suspects have been arrested.  These are\n",
    "<ul>\n",
    "<li>Aaron,</li>\n",
    "<li>Bernard, and</li>\n",
    "<li>Caine.</li>\n",
    "</ul>\n",
    "Furthermore, the following facts have been established:\n",
    "<ol>\n",
    "<li>It is known that at least one of these suspects is indeed guilty.</li>\n",
    "<li>If Aaron is guilty, he has exactly one accomplice.</li>\n",
    "<li>If Bernard is innocent, then Caine is inncocent, too.</li>\n",
    "<li>If exactly two of the suspects are guilty, then Caine is one of them.</li>\n",
    "<li>If Caine is innocent, then Aaron is guilty.</li>\n",
    "</ol>\n",
    "It is our task to identify those suspects that are guilty."
   ]
  },
  {
   "cell_type": "markdown",
   "metadata": {},
   "source": [
    "Our first task is to define the set of propositional variables:\n",
    "$$ \\mathcal{P} := \\{ \\texttt{a}, \\texttt{b}, \\texttt{c} \\} $$\n",
    "The interpretation is that \n",
    "<ul>\n",
    "<li>$\\texttt{a}$ is true iff Aaron is guilty,</li> \n",
    "<li>$\\texttt{b}$ is true iff Bernard is guilty, and</li>\n",
    "<li>$\\texttt{c}$ is true iff Caine is guilty.  </li>\n",
    "</ul>"
   ]
  },
  {
   "cell_type": "code",
   "execution_count": null,
   "metadata": {},
   "outputs": [],
   "source": [
    "P = { 'a', 'b', 'c' }"
   ]
  },
  {
   "cell_type": "markdown",
   "metadata": {},
   "source": [
    "Our next task is to translate the facts given above into formulas from propositional logic. "
   ]
  },
  {
   "cell_type": "markdown",
   "metadata": {},
   "source": [
    "The statement \"It is known that at least one of these suspects is indeed guilty.\" is translated as follows:\n",
    "$$ \\texttt{a} \\vee \\texttt{b} \\vee \\texttt{c}. $$ "
   ]
  },
  {
   "cell_type": "code",
   "execution_count": null,
   "metadata": {},
   "outputs": [],
   "source": [
    "f1 = 'a ∨ b ∨ c'"
   ]
  },
  {
   "cell_type": "markdown",
   "metadata": {},
   "source": [
    "The statement \"If Aaron is guilty, he has exactly one accomplice.\" is harder to translate into propositional logic. The idea is to split this statement into two statements:\n",
    "<ol>\n",
    "<li>If Aaron is guilty, he has at least one accomplice.</li>\n",
    "<li>If Aaron is guilty, he has at most  one accomplice.</li>\n",
    "</ol>\n",
    "These statements can now be translated into the following formulas:"
   ]
  },
  {
   "cell_type": "code",
   "execution_count": null,
   "metadata": {},
   "outputs": [],
   "source": [
    "f2 = 'a → b ∨ c'"
   ]
  },
  {
   "cell_type": "code",
   "execution_count": null,
   "metadata": {},
   "outputs": [],
   "source": [
    "f3 = 'a → ¬(b ∧ c)'"
   ]
  },
  {
   "cell_type": "markdown",
   "metadata": {},
   "source": [
    "The statement \"If Bernard is innocent, then Caine is inncocent, too.\" is a simple implication:"
   ]
  },
  {
   "cell_type": "code",
   "execution_count": null,
   "metadata": {},
   "outputs": [],
   "source": [
    "f4 = '¬b → ¬c'"
   ]
  },
  {
   "cell_type": "markdown",
   "metadata": {},
   "source": [
    "The statement \"If exactly two of the suspects are guilty, then Caine is one of them.\" is best translated into propositional logic by asking how this statement could be made false.\n",
    "Obviously, this statement is false if two suspects are guilty, but Caine is innocent.\n",
    "But this is only possible if Caine is innocent and Aaron and Bernard are true.  Hence we can translate this statement as follows:"
   ]
  },
  {
   "cell_type": "code",
   "execution_count": null,
   "metadata": {},
   "outputs": [],
   "source": [
    "f5 = '¬(¬c ∧ a ∧ b)'"
   ]
  },
  {
   "cell_type": "markdown",
   "metadata": {},
   "source": [
    "The statement \"If Caine is innocent, then Aaron is guilty.\" is an implication:"
   ]
  },
  {
   "cell_type": "code",
   "execution_count": null,
   "metadata": {},
   "outputs": [],
   "source": [
    "f6 = '¬c → a'"
   ]
  },
  {
   "cell_type": "markdown",
   "metadata": {},
   "source": [
    "We define the set `Fs` of all formulas:"
   ]
  },
  {
   "cell_type": "code",
   "execution_count": null,
   "metadata": {},
   "outputs": [],
   "source": [
    "Fs = { f1, f2, f3, f4, f5, f6 }"
   ]
  },
  {
   "cell_type": "markdown",
   "metadata": {},
   "source": [
    "We need to transform the strings <tt>f1</tt> to <tt>f6</tt> into nested tuples representing formulas.  To this end we import a parser for propositional formulas."
   ]
  },
  {
   "cell_type": "code",
   "execution_count": null,
   "metadata": {},
   "outputs": [],
   "source": [
    "import propLogParser as plp\n",
    "\n",
    "def transform(s):\n",
    "    \"transform the string s into a nested tuple\"\n",
    "    return plp.LogicParser(s).parse()"
   ]
  },
  {
   "cell_type": "markdown",
   "metadata": {},
   "source": [
    "Next, we transform all formulas into nested tuples:"
   ]
  },
  {
   "cell_type": "code",
   "execution_count": null,
   "metadata": {},
   "outputs": [],
   "source": [
    "Fs = { transform(f) for f in Fs }"
   ]
  },
  {
   "cell_type": "code",
   "execution_count": null,
   "metadata": {},
   "outputs": [],
   "source": [
    "Fs"
   ]
  },
  {
   "cell_type": "markdown",
   "metadata": {},
   "source": [
    "We are looking for a variable assignment $\\mathcal{I}$ that satisfies all formulas in the set <tt>Fs</tt>.  As variable assignments are represented as subsets of the set $\\mathcal{P}$ of propositional variables, we can just iterate of all subsets of $\\mathcal{P}$."
   ]
  },
  {
   "cell_type": "markdown",
   "metadata": {},
   "source": [
    "We have previously discussed how to compute the power set $2^M$ of a given set $M$:"
   ]
  },
  {
   "cell_type": "code",
   "execution_count": null,
   "metadata": {
    "code_folding": []
   },
   "outputs": [],
   "source": [
    "def power(M):\n",
    "    \"This function computes the power set of the set M.\"\n",
    "    if M == set():\n",
    "        return { frozenset() }\n",
    "    else:\n",
    "        C  = set(M)  # C is a copy of M as we don't want to change the set M\n",
    "        x  = C.pop() # pop removes some element x from the set C\n",
    "        P1 = power(C)\n",
    "        P2 = { A | {x} for A in P1 }\n",
    "        return P1 | P2"
   ]
  },
  {
   "cell_type": "markdown",
   "metadata": {},
   "source": [
    "The function $\\texttt{evaluate}(F, I)$ takes a propositional formula $F$ and a propositional variable assignment $I$ and evaluates $F$ using the assignment $I$.  We have discussed the details of this function previously."
   ]
  },
  {
   "cell_type": "code",
   "execution_count": null,
   "metadata": {},
   "outputs": [],
   "source": [
    "def evaluate(F, I):\n",
    "    \"Evaluate the propositional formula F using the interpretation I\"\n",
    "    if isinstance(F, str):       # F is a propositional variable\n",
    "        return F in I            # This variable is true if it occurs in I\n",
    "    if F[0] == '⊤': return True\n",
    "    if F[0] == '⊥': return False\n",
    "    if F[0] == '¬': return not evaluate(F[1], I)\n",
    "    if F[0] == '∧': return evaluate(F[1], I) and evaluate(F[2], I)\n",
    "    if F[0] == '∨': return evaluate(F[1], I) or evaluate(F[2], I)\n",
    "    if F[0] == '→': return not evaluate(F[1], I) or evaluate(F[2], I)\n",
    "    if F[0] == '↔': return evaluate(F[1], I) == evaluate(F[2], I)"
   ]
  },
  {
   "cell_type": "markdown",
   "metadata": {},
   "source": [
    "The function `allTrue(Fs, I)` takes a set of propositional formula  `Fs`\n",
    "and a propositional variable assignment `I`.  It returns `True` only if all formulas from `Fs` are \n",
    "`True` given the variable assignment `I`."
   ]
  },
  {
   "cell_type": "code",
   "execution_count": null,
   "metadata": {},
   "outputs": [],
   "source": [
    "def allTrue(Fs, I):\n",
    "    return all({evaluate(f, I) for f in Fs})"
   ]
  },
  {
   "cell_type": "markdown",
   "metadata": {},
   "source": [
    "Next, we compute the set of all variable assignments that render all formulas true:"
   ]
  },
  {
   "cell_type": "code",
   "execution_count": null,
   "metadata": {},
   "outputs": [],
   "source": [
    "{ I for I in power(P) if allTrue(Fs, I) }"
   ]
  },
  {
   "cell_type": "markdown",
   "metadata": {},
   "source": [
    "It turns our that there is just one propositional variable assignment that satisfies all formulas from the set <tt>Fs</tt>.  Therefore, the problem has a unique solution: Bernard and Caine are guilty, while Aaron is innocent."
   ]
  },
  {
   "cell_type": "code",
   "execution_count": null,
   "metadata": {},
   "outputs": [],
   "source": []
  }
 ],
 "metadata": {
  "hide_input": false,
  "kernelspec": {
   "display_name": "Python 3",
   "language": "python",
   "name": "python3"
  },
  "language_info": {
   "codemirror_mode": {
    "name": "ipython",
    "version": 3
   },
   "file_extension": ".py",
   "mimetype": "text/x-python",
   "name": "python",
   "nbconvert_exporter": "python",
   "pygments_lexer": "ipython3",
   "version": "3.8.5"
  },
  "toc": {
   "base_numbering": 1,
   "nav_menu": {},
   "number_sections": true,
   "sideBar": true,
   "skip_h1_title": false,
   "title_cell": "Table of Contents",
   "title_sidebar": "Contents",
   "toc_cell": false,
   "toc_position": {},
   "toc_section_display": true,
   "toc_window_display": false
  },
  "varInspector": {
   "cols": {
    "lenName": 16,
    "lenType": 16,
    "lenVar": 40
   },
   "kernels_config": {
    "python": {
     "delete_cmd_postfix": "",
     "delete_cmd_prefix": "del ",
     "library": "var_list.py",
     "varRefreshCmd": "print(var_dic_list())"
    },
    "r": {
     "delete_cmd_postfix": ") ",
     "delete_cmd_prefix": "rm(",
     "library": "var_list.r",
     "varRefreshCmd": "cat(var_dic_list()) "
    }
   },
   "types_to_exclude": [
    "module",
    "function",
    "builtin_function_or_method",
    "instance",
    "_Feature"
   ],
   "window_display": false
  }
 },
 "nbformat": 4,
 "nbformat_minor": 2
}
