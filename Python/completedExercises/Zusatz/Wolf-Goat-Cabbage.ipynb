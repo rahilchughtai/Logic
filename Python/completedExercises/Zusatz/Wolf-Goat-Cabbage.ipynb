{
 "cells": [
  {
   "cell_type": "code",
   "execution_count": 1,
   "metadata": {},
   "outputs": [
    {
     "data": {
      "text/html": [
       "<link href='http://fonts.googleapis.com/css?family=Alegreya+Sans:100,300,400,500,700,800,900,100italic,300italic,400italic,500italic,700italic,800italic,900italic' rel='stylesheet' type='text/css'>\n",
       "<link href='http://fonts.googleapis.com/css?family=Arvo:400,700,400italic' rel='stylesheet' type='text/css'>\n",
       "<link href='http://fonts.googleapis.com/css?family=PT+Mono' rel='stylesheet' type='text/css'>\n",
       "<link href='http://fonts.googleapis.com/css?family=Shadows+Into+Light' rel='stylesheet' type='text/css'>\n",
       "<link href='http://fonts.googleapis.com/css?family=Philosopher:400,700,400italic,700italic' rel='stylesheet' type='text/css'>\n",
       "\n",
       "<style>\n",
       "\n",
       "@font-face {\n",
       "    font-family: \"Computer Modern\";\n",
       "    src: url('http://mirrors.ctan.org/fonts/cm-unicode/fonts/otf/cmunss.otf');\n",
       "}\n",
       "\n",
       ".container { width: 100% }\n",
       "\n",
       "/* Formatting for header cells */\n",
       ".text_cell_render h1 {\n",
       "    font-family: 'Philosopher', sans-serif;\n",
       "    font-weight: 400;\n",
       "    font-size: 2.2em;\n",
       "    line-height: 100%;\n",
       "    color: rgb(0, 80, 120);\n",
       "    margin-bottom: 0.1em;\n",
       "    margin-top: 0.1em;\n",
       "    display: block;\n",
       "}\t\n",
       ".text_cell_render h2 {\n",
       "    font-family: 'Philosopher', serif;\n",
       "    font-weight: 400;\n",
       "    font-size: 1.9em;\n",
       "    line-height: 100%;\n",
       "    color: rgb(200,100,0);\n",
       "    margin-bottom: 0.1em;\n",
       "    margin-top: 0.1em;\n",
       "    display: block;\n",
       "}\t\n",
       "\n",
       ".text_cell_render h3 {\n",
       "    font-family: 'Philosopher', serif;\n",
       "    margin-top:12px;\n",
       "    margin-bottom: 3px;\n",
       "    font-style: italic;\n",
       "    color: rgb(94,127,192);\n",
       "}\n",
       "\n",
       ".text_cell_render h4 {\n",
       "    font-family: 'Philosopher', serif;\n",
       "}\n",
       "\n",
       ".text_cell_render h5 {\n",
       "    font-family: 'Alegreya Sans', sans-serif;\n",
       "    font-weight: 300;\n",
       "    font-size: 16pt;\n",
       "    color: grey;\n",
       "    font-style: italic;\n",
       "    margin-bottom: .1em;\n",
       "    margin-top: 0.1em;\n",
       "    display: block;\n",
       "}\n",
       "\n",
       ".text_cell_render h6 {\n",
       "    font-family: 'PT Mono', sans-serif;\n",
       "    font-weight: 300;\n",
       "    font-size: 10pt;\n",
       "    color: grey;\n",
       "    margin-bottom: 1px;\n",
       "    margin-top: 1px;\n",
       "}\n",
       "\n",
       ".text_cell_render em {\n",
       "    font-family: 'Philosopher', sans-serif;\n",
       "    color:        blue;\n",
       "    background-color: rgb(255,220,180);\n",
       "    font-size:    110%;\n",
       "    margin-left:   2px;\n",
       "    margin-right:  2px;\n",
       "    font-weight:   100;\n",
       "}\n",
       "\n",
       ".text_cell_render b {\n",
       "    color:            rgb(255,195,195);\n",
       "    background-color: rgb(0,0,0);\n",
       "    font-size:    110%;\n",
       "    margin-left:   2px;\n",
       "    margin-right:  2px;\n",
       "    font-weight:   650;\n",
       "}\n",
       "\n",
       ".text_cell_render tt {\n",
       "    font-size:    120%;\n",
       "    margin-left:   2px;\n",
       "    margin-right:  2px;\n",
       "    font-weight:   150;\n",
       "}\n",
       "\n",
       ".Codemirror {\n",
       "    font-family: \"PT Mono\";\n",
       "    font-size: 100%;\n",
       "}\n",
       "\n",
       "</style>\n",
       "\n"
      ],
      "text/plain": [
       "<IPython.core.display.HTML object>"
      ]
     },
     "execution_count": 1,
     "metadata": {},
     "output_type": "execute_result"
    }
   ],
   "source": [
    "from IPython.core.display import HTML\n",
    "with open('style.css', 'r') as file:\n",
    "    css = file.read()\n",
    "HTML(css)"
   ]
  },
  {
   "cell_type": "markdown",
   "metadata": {},
   "source": [
    "# Solving the Wolf-Goat-Cabbage Problem"
   ]
  },
  {
   "cell_type": "markdown",
   "metadata": {},
   "source": [
    "An agricultural economist has to sell a *wolf*, a *goat*, and a *cabbage* on a market place.  In order to\n",
    "reach the market place, she has to cross a river.  The boat that she can use is so small that it can\n",
    "only accommodate either the goat, the wolf, or the cabbage in addition to the agricultural economist.\n",
    "Now if the agricultural economist leaves the wolf alone with the goat, the wolf will eat the goat.\n",
    "If, instead, the agricultural economist leaves the goat with the cabbage, the goat will eat the cabbage.\n",
    "Is it possible for the agricultural economist to develop a schedule that allows her to cross the river\n",
    "without either the goat or the cabbage being eaten?"
   ]
  },
  {
   "cell_type": "code",
   "execution_count": 2,
   "metadata": {},
   "outputs": [],
   "source": [
    "%run Breadth-First-Search.ipynb"
   ]
  },
  {
   "cell_type": "markdown",
   "metadata": {},
   "source": [
    "The function $\\texttt{power}(M)$ defined below computes the power set of the set $M$, i.e. we have:\n",
    "$$ \\texttt{power}(M) = 2^M = \\bigl\\{A \\mid A \\subseteq M \\} $$"
   ]
  },
  {
   "cell_type": "code",
   "execution_count": 3,
   "metadata": {},
   "outputs": [],
   "source": [
    "def power(M):\n",
    "    \"This function computes the power set of the set M.\"\n",
    "    if M == set():\n",
    "        return { frozenset() }\n",
    "    else:\n",
    "        C  = set(M)  # C is a copy of M as we don't want to change the set M\n",
    "        x  = C.pop() # pop removes the element x from the set C\n",
    "        P1 = power(C)\n",
    "        P2 = { A | {x} for A in P1 }\n",
    "        return P1 | P2"
   ]
  },
  {
   "cell_type": "markdown",
   "metadata": {},
   "source": [
    "## Problem Specific Code"
   ]
  },
  {
   "cell_type": "markdown",
   "metadata": {},
   "source": [
    "There is a problem if the wolf is alone with the goat or if the goat is alone with the cabbage."
   ]
  },
  {
   "cell_type": "code",
   "execution_count": 4,
   "metadata": {},
   "outputs": [],
   "source": [
    "def problem(S):\n",
    "    '''\n",
    "    S is a set of objects that are at one shore of the river.\n",
    "    This function returns True if there is a problem.\n",
    "    '''\n",
    "    return ('farmer' not in S) and             \\\n",
    "           (('goat' in S and 'cabbage' in S) or   # goat eats cabbage\n",
    "            ('wolf' in S and 'goat'    in S)   )  # wolf eats goat"
   ]
  },
  {
   "cell_type": "markdown",
   "metadata": {},
   "source": [
    "At the start, everything is on the left shore.  \n",
    "Note that we have to use `frozenset`s here as the states will be stored in tuples that are itself stored in sets."
   ]
  },
  {
   "cell_type": "code",
   "execution_count": 5,
   "metadata": {},
   "outputs": [],
   "source": [
    "All = frozenset({ 'farmer', 'wolf', 'goat', 'cabbage' })"
   ]
  },
  {
   "cell_type": "markdown",
   "metadata": {},
   "source": [
    "<tt>States</tt> is the set of all states that do not have a problem."
   ]
  },
  {
   "cell_type": "code",
   "execution_count": 6,
   "metadata": {},
   "outputs": [
    {
     "data": {
      "text/plain": [
       "{frozenset(),\n",
       " frozenset({'cabbage'}),\n",
       " frozenset({'farmer', 'goat', 'wolf'}),\n",
       " frozenset({'cabbage', 'farmer', 'wolf'}),\n",
       " frozenset({'goat'}),\n",
       " frozenset({'cabbage', 'farmer', 'goat'}),\n",
       " frozenset({'wolf'}),\n",
       " frozenset({'cabbage', 'wolf'}),\n",
       " frozenset({'farmer', 'goat'}),\n",
       " frozenset({'cabbage', 'farmer', 'goat', 'wolf'})}"
      ]
     },
     "execution_count": 6,
     "metadata": {},
     "output_type": "execute_result"
    }
   ],
   "source": [
    "States = { S for S in power(All) if not problem(S) and \n",
    "                                    not problem(All - S) \n",
    "         }\n",
    "States"
   ]
  },
  {
   "cell_type": "markdown",
   "metadata": {},
   "source": [
    "<tt>R1</tt> decribes the transitions where the boat crosses the river from left to right."
   ]
  },
  {
   "cell_type": "code",
   "execution_count": 7,
   "metadata": {},
   "outputs": [
    {
     "data": {
      "text/plain": [
       "{(frozenset({'cabbage', 'farmer', 'wolf'}), frozenset({'cabbage', 'wolf'})),\n",
       " (frozenset({'farmer', 'goat'}), frozenset()),\n",
       " (frozenset({'farmer', 'goat'}), frozenset({'goat'})),\n",
       " (frozenset({'farmer', 'goat', 'wolf'}), frozenset({'wolf'})),\n",
       " (frozenset({'cabbage', 'farmer', 'wolf'}), frozenset({'wolf'})),\n",
       " (frozenset({'cabbage', 'farmer', 'goat'}), frozenset({'goat'})),\n",
       " (frozenset({'cabbage', 'farmer', 'goat'}), frozenset({'cabbage'})),\n",
       " (frozenset({'farmer', 'goat', 'wolf'}), frozenset({'goat'})),\n",
       " (frozenset({'cabbage', 'farmer', 'wolf'}), frozenset({'cabbage'})),\n",
       " (frozenset({'cabbage', 'farmer', 'goat', 'wolf'}),\n",
       "  frozenset({'cabbage', 'wolf'}))}"
      ]
     },
     "execution_count": 7,
     "metadata": {},
     "output_type": "execute_result"
    }
   ],
   "source": [
    "R1 = { (S, S - B) for S in States \n",
    "                  for B in power(S)\n",
    "                  if S - B in States and 'farmer' in B and len(B) <= 2\n",
    "     }\n",
    "R1"
   ]
  },
  {
   "cell_type": "markdown",
   "metadata": {},
   "source": [
    "<tt>R2</tt> is the inverse of <tt>R1</tt>."
   ]
  },
  {
   "cell_type": "code",
   "execution_count": 8,
   "metadata": {},
   "outputs": [],
   "source": [
    "R2 = { (S2, S1) for (S1, S2) in R1 }"
   ]
  },
  {
   "cell_type": "code",
   "execution_count": 9,
   "metadata": {},
   "outputs": [],
   "source": [
    "R = R1 | R2"
   ]
  },
  {
   "cell_type": "code",
   "execution_count": 10,
   "metadata": {},
   "outputs": [
    {
     "data": {
      "image/svg+xml": [
       "<?xml version=\"1.0\" encoding=\"UTF-8\" standalone=\"no\"?>\n",
       "<!DOCTYPE svg PUBLIC \"-//W3C//DTD SVG 1.1//EN\"\n",
       " \"http://www.w3.org/Graphics/SVG/1.1/DTD/svg11.dtd\">\n",
       "<!-- Generated by graphviz version 2.40.1 (20161225.0304)\n",
       " -->\n",
       "<!-- Title: %3 Pages: 1 -->\n",
       "<svg width=\"342pt\" height=\"522pt\"\n",
       " viewBox=\"0.00 0.00 342.18 521.55\" xmlns=\"http://www.w3.org/2000/svg\" xmlns:xlink=\"http://www.w3.org/1999/xlink\">\n",
       "<g id=\"graph0\" class=\"graph\" transform=\"scale(1 1) rotate(0) translate(4 517.5474)\">\n",
       "<title>%3</title>\n",
       "<polygon fill=\"#ffffff\" stroke=\"transparent\" points=\"-4,4 -4,-517.5474 338.1766,-517.5474 338.1766,4 -4,4\"/>\n",
       "<!-- {&#39;goat&#39;, &#39;wolf&#39;, &#39;farmer&#39;} -->\n",
       "<g id=\"node1\" class=\"node\">\n",
       "<title>{&#39;goat&#39;, &#39;wolf&#39;, &#39;farmer&#39;}</title>\n",
       "<ellipse fill=\"none\" stroke=\"#000000\" cx=\"94.8916\" cy=\"-289.4249\" rx=\"94.7833\" ry=\"18\"/>\n",
       "<text text-anchor=\"middle\" x=\"94.8916\" y=\"-285.7249\" font-family=\"Times,serif\" font-size=\"14.00\" fill=\"#000000\">{&#39;goat&#39;, &#39;wolf&#39;, &#39;farmer&#39;}</text>\n",
       "</g>\n",
       "<!-- {&#39;goat&#39;} -->\n",
       "<g id=\"node2\" class=\"node\">\n",
       "<title>{&#39;goat&#39;}</title>\n",
       "<ellipse fill=\"none\" stroke=\"#000000\" cx=\"154.4965\" cy=\"-346.8983\" rx=\"38.1938\" ry=\"18\"/>\n",
       "<text text-anchor=\"middle\" x=\"154.4965\" y=\"-343.1983\" font-family=\"Times,serif\" font-size=\"14.00\" fill=\"#000000\">{&#39;goat&#39;}</text>\n",
       "</g>\n",
       "<!-- {&#39;goat&#39;, &#39;wolf&#39;, &#39;farmer&#39;}&#45;&gt;{&#39;goat&#39;} -->\n",
       "<g id=\"edge9\" class=\"edge\">\n",
       "<title>{&#39;goat&#39;, &#39;wolf&#39;, &#39;farmer&#39;}&#45;&gt;{&#39;goat&#39;}</title>\n",
       "<path fill=\"none\" stroke=\"#000000\" d=\"M105.2401,-307.5691C110.3073,-313.4154 116.6383,-319.9092 123.0694,-325.9284\"/>\n",
       "<polygon fill=\"#000000\" stroke=\"#000000\" points=\"120.823,-328.6155 130.5951,-332.709 125.5086,-323.415 120.823,-328.6155\"/>\n",
       "</g>\n",
       "<!-- {&#39;wolf&#39;} -->\n",
       "<g id=\"node8\" class=\"node\">\n",
       "<title>{&#39;wolf&#39;}</title>\n",
       "<ellipse fill=\"none\" stroke=\"#000000\" cx=\"104.7021\" cy=\"-209.5135\" rx=\"39.7935\" ry=\"18\"/>\n",
       "<text text-anchor=\"middle\" x=\"104.7021\" y=\"-205.8135\" font-family=\"Times,serif\" font-size=\"14.00\" fill=\"#000000\">{&#39;wolf&#39;}</text>\n",
       "</g>\n",
       "<!-- {&#39;goat&#39;, &#39;wolf&#39;, &#39;farmer&#39;}&#45;&gt;{&#39;wolf&#39;} -->\n",
       "<g id=\"edge4\" class=\"edge\">\n",
       "<title>{&#39;goat&#39;, &#39;wolf&#39;, &#39;farmer&#39;}&#45;&gt;{&#39;wolf&#39;}</title>\n",
       "<path fill=\"none\" stroke=\"#000000\" d=\"M103.0129,-271.1986C105.1902,-261.312 106.921,-248.8765 107.7301,-237.7648\"/>\n",
       "<polygon fill=\"#000000\" stroke=\"#000000\" points=\"111.2324,-237.7972 108.2078,-227.6433 104.2401,-237.4671 111.2324,-237.7972\"/>\n",
       "</g>\n",
       "<!-- {&#39;goat&#39;}&#45;&gt;{&#39;goat&#39;, &#39;wolf&#39;, &#39;farmer&#39;} -->\n",
       "<g id=\"edge14\" class=\"edge\">\n",
       "<title>{&#39;goat&#39;}&#45;&gt;{&#39;goat&#39;, &#39;wolf&#39;, &#39;farmer&#39;}</title>\n",
       "<path fill=\"none\" stroke=\"#000000\" d=\"M144.6985,-329.3925C140.4883,-324.4845 135.3418,-319.083 129.9651,-313.869\"/>\n",
       "<polygon fill=\"#000000\" stroke=\"#000000\" points=\"132.2509,-311.2145 122.557,-306.939 127.4688,-316.3265 132.2509,-311.2145\"/>\n",
       "</g>\n",
       "<!-- {&#39;goat&#39;, &#39;farmer&#39;, &#39;cabbage&#39;} -->\n",
       "<g id=\"node3\" class=\"node\">\n",
       "<title>{&#39;goat&#39;, &#39;farmer&#39;, &#39;cabbage&#39;}</title>\n",
       "<ellipse fill=\"none\" stroke=\"#000000\" cx=\"226.2862\" cy=\"-305.6314\" rx=\"107.781\" ry=\"18\"/>\n",
       "<text text-anchor=\"middle\" x=\"226.2862\" y=\"-301.9314\" font-family=\"Times,serif\" font-size=\"14.00\" fill=\"#000000\">{&#39;goat&#39;, &#39;farmer&#39;, &#39;cabbage&#39;}</text>\n",
       "</g>\n",
       "<!-- {&#39;goat&#39;}&#45;&gt;{&#39;goat&#39;, &#39;farmer&#39;, &#39;cabbage&#39;} -->\n",
       "<g id=\"edge15\" class=\"edge\">\n",
       "<title>{&#39;goat&#39;}&#45;&gt;{&#39;goat&#39;, &#39;farmer&#39;, &#39;cabbage&#39;}</title>\n",
       "<path fill=\"none\" stroke=\"#000000\" d=\"M186.1671,-336.3248C190.4109,-334.0583 194.7335,-331.6008 198.896,-329.0895\"/>\n",
       "<polygon fill=\"#000000\" stroke=\"#000000\" points=\"201.0705,-331.856 207.6599,-323.5595 197.335,-325.936 201.0705,-331.856\"/>\n",
       "</g>\n",
       "<!-- {&#39;goat&#39;, &#39;farmer&#39;} -->\n",
       "<g id=\"node4\" class=\"node\">\n",
       "<title>{&#39;goat&#39;, &#39;farmer&#39;}</title>\n",
       "<ellipse fill=\"none\" stroke=\"#000000\" cx=\"145.404\" cy=\"-423.5453\" rx=\"70.3881\" ry=\"18\"/>\n",
       "<text text-anchor=\"middle\" x=\"145.404\" y=\"-419.8453\" font-family=\"Times,serif\" font-size=\"14.00\" fill=\"#000000\">{&#39;goat&#39;, &#39;farmer&#39;}</text>\n",
       "</g>\n",
       "<!-- {&#39;goat&#39;}&#45;&gt;{&#39;goat&#39;, &#39;farmer&#39;} -->\n",
       "<g id=\"edge6\" class=\"edge\">\n",
       "<title>{&#39;goat&#39;}&#45;&gt;{&#39;goat&#39;, &#39;farmer&#39;}</title>\n",
       "<path fill=\"none\" stroke=\"#000000\" d=\"M146.4581,-364.7599C144.4799,-373.8618 142.9331,-385.1408 142.1996,-395.3783\"/>\n",
       "<polygon fill=\"#000000\" stroke=\"#000000\" points=\"138.6957,-395.3886 141.7457,-405.5349 145.6888,-395.7012 138.6957,-395.3886\"/>\n",
       "</g>\n",
       "<!-- {&#39;goat&#39;, &#39;farmer&#39;, &#39;cabbage&#39;}&#45;&gt;{&#39;goat&#39;} -->\n",
       "<g id=\"edge8\" class=\"edge\">\n",
       "<title>{&#39;goat&#39;, &#39;farmer&#39;, &#39;cabbage&#39;}&#45;&gt;{&#39;goat&#39;}</title>\n",
       "<path fill=\"none\" stroke=\"#000000\" d=\"M183.6798,-322.3675C182.2589,-323.2103 180.8524,-324.0614 179.4695,-324.9156\"/>\n",
       "<polygon fill=\"#000000\" stroke=\"#000000\" points=\"177.274,-322.1676 170.7837,-330.5417 181.0796,-328.0428 177.274,-322.1676\"/>\n",
       "</g>\n",
       "<!-- {&#39;cabbage&#39;} -->\n",
       "<g id=\"node5\" class=\"node\">\n",
       "<title>{&#39;cabbage&#39;}</title>\n",
       "<ellipse fill=\"none\" stroke=\"#000000\" cx=\"236.1142\" cy=\"-225.5714\" rx=\"52.7911\" ry=\"18\"/>\n",
       "<text text-anchor=\"middle\" x=\"236.1142\" y=\"-221.8714\" font-family=\"Times,serif\" font-size=\"14.00\" fill=\"#000000\">{&#39;cabbage&#39;}</text>\n",
       "</g>\n",
       "<!-- {&#39;goat&#39;, &#39;farmer&#39;, &#39;cabbage&#39;}&#45;&gt;{&#39;cabbage&#39;} -->\n",
       "<g id=\"edge20\" class=\"edge\">\n",
       "<title>{&#39;goat&#39;, &#39;farmer&#39;, &#39;cabbage&#39;}&#45;&gt;{&#39;cabbage&#39;}</title>\n",
       "<path fill=\"none\" stroke=\"#000000\" d=\"M234.4117,-287.3698C236.5911,-277.4646 238.3247,-265.0059 239.1361,-253.8737\"/>\n",
       "<polygon fill=\"#000000\" stroke=\"#000000\" points=\"242.6393,-253.8879 239.616,-243.7336 235.6471,-253.5569 242.6393,-253.8879\"/>\n",
       "</g>\n",
       "<!-- {&#39;goat&#39;, &#39;farmer&#39;}&#45;&gt;{&#39;goat&#39;} -->\n",
       "<g id=\"edge3\" class=\"edge\">\n",
       "<title>{&#39;goat&#39;, &#39;farmer&#39;}&#45;&gt;{&#39;goat&#39;}</title>\n",
       "<path fill=\"none\" stroke=\"#000000\" d=\"M153.5261,-405.2957C155.4668,-396.2506 156.9818,-385.1283 157.7037,-375.0251\"/>\n",
       "<polygon fill=\"#000000\" stroke=\"#000000\" points=\"161.2019,-375.1419 158.1536,-364.9951 154.2089,-374.8282 161.2019,-375.1419\"/>\n",
       "</g>\n",
       "<!-- set() -->\n",
       "<g id=\"node9\" class=\"node\">\n",
       "<title>set()</title>\n",
       "<ellipse fill=\"none\" stroke=\"#000000\" cx=\"130.103\" cy=\"-495.5474\" rx=\"27\" ry=\"18\"/>\n",
       "<text text-anchor=\"middle\" x=\"130.103\" y=\"-491.8474\" font-family=\"Times,serif\" font-size=\"14.00\" fill=\"#000000\">set()</text>\n",
       "</g>\n",
       "<!-- {&#39;goat&#39;, &#39;farmer&#39;}&#45;&gt;set() -->\n",
       "<g id=\"edge11\" class=\"edge\">\n",
       "<title>{&#39;goat&#39;, &#39;farmer&#39;}&#45;&gt;set()</title>\n",
       "<path fill=\"none\" stroke=\"#000000\" d=\"M135.3785,-441.5814C132.9991,-449.371 130.8552,-458.6653 129.4006,-467.3295\"/>\n",
       "<polygon fill=\"#000000\" stroke=\"#000000\" points=\"125.9051,-467.0558 127.9986,-477.4417 132.8388,-468.0171 125.9051,-467.0558\"/>\n",
       "</g>\n",
       "<!-- {&#39;cabbage&#39;}&#45;&gt;{&#39;goat&#39;, &#39;farmer&#39;, &#39;cabbage&#39;} -->\n",
       "<g id=\"edge18\" class=\"edge\">\n",
       "<title>{&#39;cabbage&#39;}&#45;&gt;{&#39;goat&#39;, &#39;farmer&#39;, &#39;cabbage&#39;}</title>\n",
       "<path fill=\"none\" stroke=\"#000000\" d=\"M228.0771,-243.4332C225.8579,-253.3942 224.0892,-266.0278 223.266,-277.304\"/>\n",
       "<polygon fill=\"#000000\" stroke=\"#000000\" points=\"219.757,-277.414 222.7826,-287.5677 226.7493,-277.7434 219.757,-277.414\"/>\n",
       "</g>\n",
       "<!-- {&#39;wolf&#39;, &#39;farmer&#39;, &#39;cabbage&#39;} -->\n",
       "<g id=\"node6\" class=\"node\">\n",
       "<title>{&#39;wolf&#39;, &#39;farmer&#39;, &#39;cabbage&#39;}</title>\n",
       "<ellipse fill=\"none\" stroke=\"#000000\" cx=\"176.4386\" cy=\"-168.1634\" rx=\"109.381\" ry=\"18\"/>\n",
       "<text text-anchor=\"middle\" x=\"176.4386\" y=\"-164.4634\" font-family=\"Times,serif\" font-size=\"14.00\" fill=\"#000000\">{&#39;wolf&#39;, &#39;farmer&#39;, &#39;cabbage&#39;}</text>\n",
       "</g>\n",
       "<!-- {&#39;cabbage&#39;}&#45;&gt;{&#39;wolf&#39;, &#39;farmer&#39;, &#39;cabbage&#39;} -->\n",
       "<g id=\"edge17\" class=\"edge\">\n",
       "<title>{&#39;cabbage&#39;}&#45;&gt;{&#39;wolf&#39;, &#39;farmer&#39;, &#39;cabbage&#39;}</title>\n",
       "<path fill=\"none\" stroke=\"#000000\" d=\"M226.0206,-207.7579C221.969,-203.0705 217.0823,-197.9501 211.9703,-192.9835\"/>\n",
       "<polygon fill=\"#000000\" stroke=\"#000000\" points=\"214.082,-190.1659 204.3905,-185.8851 209.2972,-195.2753 214.082,-190.1659\"/>\n",
       "</g>\n",
       "<!-- {&#39;wolf&#39;, &#39;farmer&#39;, &#39;cabbage&#39;}&#45;&gt;{&#39;cabbage&#39;} -->\n",
       "<g id=\"edge13\" class=\"edge\">\n",
       "<title>{&#39;wolf&#39;, &#39;farmer&#39;, &#39;cabbage&#39;}&#45;&gt;{&#39;cabbage&#39;}</title>\n",
       "<path fill=\"none\" stroke=\"#000000\" d=\"M186.8091,-186.2965C191.4186,-191.6022 197.0716,-197.441 202.8948,-202.9728\"/>\n",
       "<polygon fill=\"#000000\" stroke=\"#000000\" points=\"200.5579,-205.5786 210.296,-209.7522 205.286,-200.4168 200.5579,-205.5786\"/>\n",
       "</g>\n",
       "<!-- {&#39;wolf&#39;, &#39;farmer&#39;, &#39;cabbage&#39;}&#45;&gt;{&#39;wolf&#39;} -->\n",
       "<g id=\"edge19\" class=\"edge\">\n",
       "<title>{&#39;wolf&#39;, &#39;farmer&#39;, &#39;cabbage&#39;}&#45;&gt;{&#39;wolf&#39;}</title>\n",
       "<path fill=\"none\" stroke=\"#000000\" d=\"M133.8543,-184.949C132.4751,-185.7693 131.1094,-186.5975 129.7658,-187.4287\"/>\n",
       "<polygon fill=\"#000000\" stroke=\"#000000\" points=\"127.7988,-184.5327 121.3081,-192.9066 131.6041,-190.408 127.7988,-184.5327\"/>\n",
       "</g>\n",
       "<!-- {&#39;wolf&#39;, &#39;cabbage&#39;} -->\n",
       "<g id=\"node10\" class=\"node\">\n",
       "<title>{&#39;wolf&#39;, &#39;cabbage&#39;}</title>\n",
       "<ellipse fill=\"none\" stroke=\"#000000\" cx=\"186.1656\" cy=\"-91.5667\" rx=\"77.1866\" ry=\"18\"/>\n",
       "<text text-anchor=\"middle\" x=\"186.1656\" y=\"-87.8667\" font-family=\"Times,serif\" font-size=\"14.00\" fill=\"#000000\">{&#39;wolf&#39;, &#39;cabbage&#39;}</text>\n",
       "</g>\n",
       "<!-- {&#39;wolf&#39;, &#39;farmer&#39;, &#39;cabbage&#39;}&#45;&gt;{&#39;wolf&#39;, &#39;cabbage&#39;} -->\n",
       "<g id=\"edge2\" class=\"edge\">\n",
       "<title>{&#39;wolf&#39;, &#39;farmer&#39;, &#39;cabbage&#39;}&#45;&gt;{&#39;wolf&#39;, &#39;cabbage&#39;}</title>\n",
       "<path fill=\"none\" stroke=\"#000000\" d=\"M184.7116,-149.9746C186.7272,-140.9425 188.3342,-129.8291 189.1398,-119.7286\"/>\n",
       "<polygon fill=\"#000000\" stroke=\"#000000\" points=\"192.6371,-119.8708 189.6727,-109.6991 185.647,-119.4993 192.6371,-119.8708\"/>\n",
       "</g>\n",
       "<!-- {&#39;goat&#39;, &#39;wolf&#39;, &#39;farmer&#39;, &#39;cabbage&#39;} -->\n",
       "<g id=\"node7\" class=\"node\">\n",
       "<title>{&#39;goat&#39;, &#39;wolf&#39;, &#39;farmer&#39;, &#39;cabbage&#39;}</title>\n",
       "<ellipse fill=\"none\" stroke=\"#000000\" cx=\"188.7216\" cy=\"-18\" rx=\"132.6765\" ry=\"18\"/>\n",
       "<text text-anchor=\"middle\" x=\"188.7216\" y=\"-14.3\" font-family=\"Times,serif\" font-size=\"14.00\" fill=\"#000000\">{&#39;goat&#39;, &#39;wolf&#39;, &#39;farmer&#39;, &#39;cabbage&#39;}</text>\n",
       "</g>\n",
       "<!-- {&#39;goat&#39;, &#39;wolf&#39;, &#39;farmer&#39;, &#39;cabbage&#39;}&#45;&gt;{&#39;wolf&#39;, &#39;cabbage&#39;} -->\n",
       "<g id=\"edge1\" class=\"edge\">\n",
       "<title>{&#39;goat&#39;, &#39;wolf&#39;, &#39;farmer&#39;, &#39;cabbage&#39;}&#45;&gt;{&#39;wolf&#39;, &#39;cabbage&#39;}</title>\n",
       "<path fill=\"none\" stroke=\"#000000\" d=\"M182.1776,-35.9796C181.0889,-44.1477 180.5235,-54.0078 180.5654,-63.1419\"/>\n",
       "<polygon fill=\"#000000\" stroke=\"#000000\" points=\"177.0753,-63.5052 180.8987,-73.3861 184.0716,-63.2776 177.0753,-63.5052\"/>\n",
       "</g>\n",
       "<!-- {&#39;wolf&#39;}&#45;&gt;{&#39;goat&#39;, &#39;wolf&#39;, &#39;farmer&#39;} -->\n",
       "<g id=\"edge16\" class=\"edge\">\n",
       "<title>{&#39;wolf&#39;}&#45;&gt;{&#39;goat&#39;, &#39;wolf&#39;, &#39;farmer&#39;}</title>\n",
       "<path fill=\"none\" stroke=\"#000000\" d=\"M96.6692,-227.3408C94.4521,-237.2831 92.6862,-249.8932 91.8654,-261.1485\"/>\n",
       "<polygon fill=\"#000000\" stroke=\"#000000\" points=\"88.3574,-261.2401 91.3842,-271.3934 95.3497,-261.5686 88.3574,-261.2401\"/>\n",
       "</g>\n",
       "<!-- {&#39;wolf&#39;}&#45;&gt;{&#39;wolf&#39;, &#39;farmer&#39;, &#39;cabbage&#39;} -->\n",
       "<g id=\"edge12\" class=\"edge\">\n",
       "<title>{&#39;wolf&#39;}&#45;&gt;{&#39;wolf&#39;, &#39;farmer&#39;, &#39;cabbage&#39;}</title>\n",
       "<path fill=\"none\" stroke=\"#000000\" d=\"M136.7782,-198.678C140.9949,-196.4097 145.2813,-193.9575 149.4036,-191.4559\"/>\n",
       "<polygon fill=\"#000000\" stroke=\"#000000\" points=\"151.5069,-194.2665 158.0751,-185.9533 147.7563,-188.3561 151.5069,-194.2665\"/>\n",
       "</g>\n",
       "<!-- set()&#45;&gt;{&#39;goat&#39;, &#39;farmer&#39;} -->\n",
       "<g id=\"edge7\" class=\"edge\">\n",
       "<title>set()&#45;&gt;{&#39;goat&#39;, &#39;farmer&#39;}</title>\n",
       "<path fill=\"none\" stroke=\"#000000\" d=\"M139.7864,-478.6155C142.2936,-470.6359 144.5675,-460.9042 146.0915,-451.8519\"/>\n",
       "<polygon fill=\"#000000\" stroke=\"#000000\" points=\"149.5948,-452.0697 147.505,-441.683 142.6614,-451.1058 149.5948,-452.0697\"/>\n",
       "</g>\n",
       "<!-- {&#39;wolf&#39;, &#39;cabbage&#39;}&#45;&gt;{&#39;wolf&#39;, &#39;farmer&#39;, &#39;cabbage&#39;} -->\n",
       "<g id=\"edge10\" class=\"edge\">\n",
       "<title>{&#39;wolf&#39;, &#39;cabbage&#39;}&#45;&gt;{&#39;wolf&#39;, &#39;farmer&#39;, &#39;cabbage&#39;}</title>\n",
       "<path fill=\"none\" stroke=\"#000000\" d=\"M177.8926,-109.7554C175.877,-118.7876 174.27,-129.9009 173.4644,-140.0014\"/>\n",
       "<polygon fill=\"#000000\" stroke=\"#000000\" points=\"169.9671,-139.8592 172.9315,-150.0309 176.9572,-140.2307 169.9671,-139.8592\"/>\n",
       "</g>\n",
       "<!-- {&#39;wolf&#39;, &#39;cabbage&#39;}&#45;&gt;{&#39;goat&#39;, &#39;wolf&#39;, &#39;farmer&#39;, &#39;cabbage&#39;} -->\n",
       "<g id=\"edge5\" class=\"edge\">\n",
       "<title>{&#39;wolf&#39;, &#39;cabbage&#39;}&#45;&gt;{&#39;goat&#39;, &#39;wolf&#39;, &#39;farmer&#39;, &#39;cabbage&#39;}</title>\n",
       "<path fill=\"none\" stroke=\"#000000\" d=\"M192.7096,-73.587C193.7983,-65.4189 194.3637,-55.5588 194.3217,-46.4248\"/>\n",
       "<polygon fill=\"#000000\" stroke=\"#000000\" points=\"197.8119,-46.0614 193.9885,-36.1805 190.8156,-46.2891 197.8119,-46.0614\"/>\n",
       "</g>\n",
       "</g>\n",
       "</svg>\n"
      ],
      "text/plain": [
       "<graphviz.dot.Digraph at 0x7fd6d0686c40>"
      ]
     },
     "execution_count": 10,
     "metadata": {},
     "output_type": "execute_result"
    }
   ],
   "source": [
    "dot = dot_graph(R)\n",
    "dot"
   ]
  },
  {
   "cell_type": "code",
   "execution_count": 11,
   "metadata": {},
   "outputs": [
    {
     "data": {
      "text/plain": [
       "'wolf-goat-cabbage.pdf'"
      ]
     },
     "execution_count": 11,
     "metadata": {},
     "output_type": "execute_result"
    }
   ],
   "source": [
    "dot.render('wolf-goat-cabbage')"
   ]
  },
  {
   "cell_type": "markdown",
   "metadata": {},
   "source": [
    "At the beginning everything is on the left shore and nothing is on the right shore.   The goal is to have everybody on the right shore.  In that case, the left shore will be empty."
   ]
  },
  {
   "cell_type": "code",
   "execution_count": 12,
   "metadata": {},
   "outputs": [
    {
     "data": {
      "text/plain": [
       "(frozenset({'cabbage', 'farmer', 'goat', 'wolf'}),\n",
       " frozenset({'cabbage', 'wolf'}),\n",
       " frozenset({'cabbage', 'farmer', 'wolf'}),\n",
       " frozenset({'wolf'}),\n",
       " frozenset({'farmer', 'goat', 'wolf'}),\n",
       " frozenset({'goat'}),\n",
       " frozenset({'farmer', 'goat'}),\n",
       " frozenset())"
      ]
     },
     "execution_count": 12,
     "metadata": {},
     "output_type": "execute_result"
    }
   ],
   "source": [
    "start = All\n",
    "goal  = frozenset()\n",
    "Path  = search(R, start, goal)\n",
    "Path"
   ]
  },
  {
   "cell_type": "markdown",
   "metadata": {},
   "source": [
    "## Auxiliary Code for Pretty Printing"
   ]
  },
  {
   "cell_type": "markdown",
   "metadata": {},
   "source": [
    "The following code is used for printing the path that has been found.  We won't discuss the details of these functions."
   ]
  },
  {
   "cell_type": "code",
   "execution_count": 13,
   "metadata": {},
   "outputs": [
    {
     "name": "stdout",
     "output_type": "stream",
     "text": [
      "{'goat', 'wolf', 'farmer', 'cabbage'}                                   {}\n",
      "                         >>>>  {'goat', 'farmer'}  >>>> \n",
      "{'wolf', 'cabbage'}                                     {'goat', 'farmer'}\n",
      "                         <<<<  {'farmer'}  <<<< \n",
      "{'wolf', 'farmer', 'cabbage'}                                     {'goat'}\n",
      "                         >>>>  {'farmer', 'cabbage'}  >>>> \n",
      "{'wolf'}                                     {'goat', 'farmer', 'cabbage'}\n",
      "                         <<<<  {'goat', 'farmer'}  <<<< \n",
      "{'goat', 'wolf', 'farmer'}                                     {'cabbage'}\n",
      "                         >>>>  {'wolf', 'farmer'}  >>>> \n",
      "{'goat'}                                     {'cabbage', 'wolf', 'farmer'}\n",
      "                         <<<<  {'farmer'}  <<<< \n",
      "{'goat', 'farmer'}                                     {'wolf', 'cabbage'}\n",
      "                         >>>>  {'goat', 'farmer'}  >>>> \n",
      "{}                                   {'goat', 'wolf', 'farmer', 'cabbage'}\n"
     ]
    }
   ],
   "source": [
    "def mkPair(S, All):\n",
    "    \"Given the left shore, compute both the left shore and the right shore.\"\n",
    "    return (S, All - S);\n",
    "\n",
    "def my_str(s):\n",
    "    \"Print frozen sets as sets.\"\n",
    "    if len(s) == 0:\n",
    "        return \"{}\"\n",
    "    else:\n",
    "        return str(set(s))\n",
    "    \n",
    "def printPath(Path, All):\n",
    "    \"print the path one transition at a time\"\n",
    "    for i in range(len(Path)):\n",
    "        (S1, S2) = mkPair(Path[i], All)\n",
    "        if (len(S1) == 0 or len(S2) == 0):\n",
    "            print(my_str(S1), 33 * \" \", my_str(S2))\n",
    "        else:\n",
    "            print(my_str(S1), 35 * \" \", my_str(S2))\n",
    "        if i + 1 == len(Path): \n",
    "            break\n",
    "        (T1, T2) = mkPair(Path[i+1], All)        \n",
    "        if \"farmer\" in S1:\n",
    "            B = S1 - T1  # the boat crossing from left to right\n",
    "            print(\"                         >>>> \", set(B), \" >>>> \")\n",
    "        else:\n",
    "            B = S2 - T2  # the boat crossing from right to left\n",
    "            print(\"                         <<<< \", set(B), \" <<<< \")\n",
    "printPath(Path, All)"
   ]
  },
  {
   "cell_type": "code",
   "execution_count": null,
   "metadata": {},
   "outputs": [],
   "source": []
  }
 ],
 "metadata": {
  "@webio": {
   "lastCommId": null,
   "lastKernelId": null
  },
  "hide_input": false,
  "kernelspec": {
   "display_name": "Python 3",
   "language": "python",
   "name": "python3"
  },
  "language_info": {
   "codemirror_mode": {
    "name": "ipython",
    "version": 3
   },
   "file_extension": ".py",
   "mimetype": "text/x-python",
   "name": "python",
   "nbconvert_exporter": "python",
   "pygments_lexer": "ipython3",
   "version": "3.8.5"
  },
  "toc": {
   "base_numbering": 1,
   "nav_menu": {},
   "number_sections": true,
   "sideBar": true,
   "skip_h1_title": false,
   "title_cell": "Table of Contents",
   "title_sidebar": "Contents",
   "toc_cell": false,
   "toc_position": {},
   "toc_section_display": true,
   "toc_window_display": false
  },
  "varInspector": {
   "cols": {
    "lenName": 16,
    "lenType": 16,
    "lenVar": 40
   },
   "kernels_config": {
    "python": {
     "delete_cmd_postfix": "",
     "delete_cmd_prefix": "del ",
     "library": "var_list.py",
     "varRefreshCmd": "print(var_dic_list())"
    },
    "r": {
     "delete_cmd_postfix": ") ",
     "delete_cmd_prefix": "rm(",
     "library": "var_list.r",
     "varRefreshCmd": "cat(var_dic_list()) "
    }
   },
   "types_to_exclude": [
    "module",
    "function",
    "builtin_function_or_method",
    "instance",
    "_Feature"
   ],
   "window_display": false
  }
 },
 "nbformat": 4,
 "nbformat_minor": 2
}
