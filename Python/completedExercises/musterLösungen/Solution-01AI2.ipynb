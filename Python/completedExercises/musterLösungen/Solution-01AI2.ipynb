{
 "cells": [
  {
   "cell_type": "code",
   "execution_count": 2,
   "metadata": {},
   "outputs": [
    {
     "data": {
      "text/html": [
       "<link href='http://fonts.googleapis.com/css?family=Alegreya+Sans:100,300,400,500,700,800,900,100italic,300italic,400italic,500italic,700italic,800italic,900italic' rel='stylesheet' type='text/css'>\n",
       "<link href='http://fonts.googleapis.com/css?family=Arvo:400,700,400italic' rel='stylesheet' type='text/css'>\n",
       "<link href='http://fonts.googleapis.com/css?family=PT+Mono' rel='stylesheet' type='text/css'>\n",
       "<link href='http://fonts.googleapis.com/css?family=Shadows+Into+Light' rel='stylesheet' type='text/css'>\n",
       "<link href='http://fonts.googleapis.com/css?family=Philosopher:400,700,400italic,700italic' rel='stylesheet' type='text/css'>\n",
       "\n",
       "<style>\n",
       "\n",
       "@font-face {\n",
       "    font-family: \"Computer Modern\";\n",
       "    src: url('http://mirrors.ctan.org/fonts/cm-unicode/fonts/otf/cmunss.otf');\n",
       "}\n",
       "\n",
       ".container { width: 100% }\n",
       "\n",
       "/* Formatting for header cells */\n",
       ".text_cell_render h1 {\n",
       "    font-family: 'Philosopher', sans-serif;\n",
       "    font-weight: 400;\n",
       "    font-size: 2.2em;\n",
       "    line-height: 100%;\n",
       "    color: rgb(0, 80, 120);\n",
       "    margin-bottom: 0.1em;\n",
       "    margin-top: 0.1em;\n",
       "    display: block;\n",
       "}\t\n",
       ".text_cell_render h2 {\n",
       "    font-family: 'Philosopher', serif;\n",
       "    font-weight: 400;\n",
       "    font-size: 1.9em;\n",
       "    line-height: 100%;\n",
       "    color: rgb(200,100,0);\n",
       "    margin-bottom: 0.1em;\n",
       "    margin-top: 0.1em;\n",
       "    display: block;\n",
       "}\t\n",
       "\n",
       ".text_cell_render h3 {\n",
       "    font-family: 'Philosopher', serif;\n",
       "    margin-top:12px;\n",
       "    margin-bottom: 3px;\n",
       "    font-style: italic;\n",
       "    color: rgb(94,127,192);\n",
       "}\n",
       "\n",
       ".text_cell_render h4 {\n",
       "    font-family: 'Philosopher', serif;\n",
       "}\n",
       "\n",
       ".text_cell_render h5 {\n",
       "    font-family: 'Alegreya Sans', sans-serif;\n",
       "    font-weight: 300;\n",
       "    font-size: 16pt;\n",
       "    color: grey;\n",
       "    font-style: italic;\n",
       "    margin-bottom: .1em;\n",
       "    margin-top: 0.1em;\n",
       "    display: block;\n",
       "}\n",
       "\n",
       ".text_cell_render h6 {\n",
       "    font-family: 'PT Mono', sans-serif;\n",
       "    font-weight: 300;\n",
       "    font-size: 10pt;\n",
       "    color: grey;\n",
       "    margin-bottom: 1px;\n",
       "    margin-top: 1px;\n",
       "}\n",
       "\n",
       ".text_cell_render em {\n",
       "    font-family: 'Philosopher', sans-serif;\n",
       "    color:        blue;\n",
       "    background-color: rgb(255,220,180);\n",
       "    font-size:    110%;\n",
       "    margin-left:   2px;\n",
       "    margin-right:  2px;\n",
       "    font-weight:   100;\n",
       "}\n",
       "\n",
       ".text_cell_render b {\n",
       "    color:            rgb(255,195,195);\n",
       "    background-color: rgb(0,0,0);\n",
       "    font-size:    110%;\n",
       "    margin-left:   2px;\n",
       "    margin-right:  2px;\n",
       "    font-weight:   650;\n",
       "}\n",
       "\n",
       ".text_cell_render tt {\n",
       "    font-size:    120%;\n",
       "    margin-left:   2px;\n",
       "    margin-right:  2px;\n",
       "    font-weight:   150;\n",
       "}\n",
       "\n",
       ".Codemirror {\n",
       "    font-family: \"PT Mono\";\n",
       "    font-size: 100%;\n",
       "}\n",
       "\n",
       "</style>\n",
       "\n"
      ],
      "text/plain": [
       "<IPython.core.display.HTML object>"
      ]
     },
     "execution_count": 2,
     "metadata": {},
     "output_type": "execute_result"
    }
   ],
   "source": [
    "from IPython.core.display import HTML\n",
    "with open ('../style.css', 'r') as file:\n",
    "    css = file.read()\n",
    "HTML(css)"
   ]
  },
  {
   "cell_type": "markdown",
   "metadata": {},
   "source": [
    "# Aufgaben-Blatt Nr. 1"
   ]
  },
  {
   "cell_type": "markdown",
   "metadata": {},
   "source": [
    "## Aufgabe 1:"
   ]
  },
  {
   "cell_type": "markdown",
   "metadata": {},
   "source": [
    "Eine Zahl $m\\in \\mathbb{N}$ ist ein *echter Teiler* einer Zahl\n",
    "$n \\in \\mathbb{N}$ genau dann, wenn $m$ ein Teiler von $n$ ist und wenn außerdem $m < n$ gilt.\n",
    "\n",
    "Eine Zahl $n \\in \\mathbb{N}$ heißt *perfekt*, wenn $n$ gleich der Summe aller echten Teiler von\n",
    "$n$ ist. Zum Beispiel ist die Zahl $6$ perfekt, denn  die Menge der echten Teiler\n",
    "von 6 ist $\\{1,2,3\\}$ und es gilt $1 + 2 + 3 = 6$.\n",
    "Ziel der Aufgabe ist die Berechnung der Menge aller perfekten Zahlen, die kleiner als $10,000$ sind."
   ]
  },
  {
   "cell_type": "markdown",
   "metadata": {},
   "source": [
    "Implementieren Sie eine Prozedur `echteTeiler`, so dass der Aufruf\n",
    "$\\texttt{echteTeiler}(n)$ für eine natürliche Zahl $n$ die Menge aller echten Teiler von $n$ berechnet.  Beispielsweise soll gelten:\n",
    "$$ \\texttt{echteTeiler}(6) = \\{1, 2, 3\\} $$"
   ]
  },
  {
   "cell_type": "markdown",
   "metadata": {},
   "source": [
    "<hr style=\"height:5px;border-width:0;color:gray;background-color:green\">\n",
    "<p style=\"background-color:yellow; border:3px; border-style:solid; border-color:#FF0000; padding: 1em;\"><b style=\"color:blue;background-color:orange;font-weight:900\">Hinweis</b>: Versuchen Sie, bei der Lösung dieser Aufgabe <u>ohne</u> <tt>for</tt>-Schleifen\n",
    "oder <tt>while</tt>-Schleifen auszukommen. Sie sollen statt dessen mit \n",
    "<b style=\"color:blue;background-color:yellow\">Mengen</b> \n",
    "arbeiten. Dieser Hinweis gilt auch für die folgenden Aufgaben.\n",
    "</p>\n",
    "<hr style=\"height:5px;border-width:0;color:gray;background-color:green\">"
   ]
  },
  {
   "cell_type": "code",
   "execution_count": 1,
   "metadata": {},
   "outputs": [],
   "source": [
    "def echteTeiler(n):\n",
    "    'Diese Funktion berechnet die Menge aller echten Teiler der Zahl n.'\n",
    "    return { k for k in range(1, n) if n % k == 0 }"
   ]
  },
  {
   "cell_type": "code",
   "execution_count": 3,
   "metadata": {},
   "outputs": [
    {
     "data": {
      "text/plain": [
       "{1, 2, 3}"
      ]
     },
     "execution_count": 3,
     "metadata": {},
     "output_type": "execute_result"
    }
   ],
   "source": [
    "echteTeiler(6)"
   ]
  },
  {
   "cell_type": "markdown",
   "metadata": {},
   "source": [
    "Implementieren Sie eine Funktion `isPerfect`, so dass der Aufruf\n",
    "$\\texttt{isPerfect}(n)$ für eine natürliche Zahl $n$ genau dann das Ergebnis \n",
    "`True` zurück gibt, wenn $n$ eine perfekte Zahl ist."
   ]
  },
  {
   "cell_type": "code",
   "execution_count": 4,
   "metadata": {},
   "outputs": [],
   "source": [
    "def isPerfect(n):\n",
    "    'Returns True if n is perfect, else False.'\n",
    "    return sum(echteTeiler(n)) == n"
   ]
  },
  {
   "cell_type": "code",
   "execution_count": 6,
   "metadata": {},
   "outputs": [
    {
     "data": {
      "text/plain": [
       "(True, False)"
      ]
     },
     "execution_count": 6,
     "metadata": {},
     "output_type": "execute_result"
    }
   ],
   "source": [
    "isPerfect(6), isPerfect(7)"
   ]
  },
  {
   "cell_type": "markdown",
   "metadata": {},
   "source": [
    "Berechnen Sie die Menge aller perfekten Zahlen, die kleiner als $10\\,000$ sind."
   ]
  },
  {
   "cell_type": "code",
   "execution_count": 9,
   "metadata": {},
   "outputs": [],
   "source": [
    "def perfectNumbers(n):\n",
    "    'This function computes the set of all perfect numbers less than n.'\n",
    "    return { k for k in range(1, n) if isPerfect(k) }"
   ]
  },
  {
   "cell_type": "markdown",
   "metadata": {},
   "source": [
    "Beim Ausführen der nächsten Zeile sollte die Zahl `6`berechnet werden."
   ]
  },
  {
   "cell_type": "code",
   "execution_count": 10,
   "metadata": {},
   "outputs": [
    {
     "data": {
      "text/plain": [
       "{6}"
      ]
     },
     "execution_count": 10,
     "metadata": {},
     "output_type": "execute_result"
    }
   ],
   "source": [
    "perfectNumbers(10)"
   ]
  },
  {
   "cell_type": "code",
   "execution_count": 11,
   "metadata": {},
   "outputs": [
    {
     "data": {
      "text/plain": [
       "{6, 28, 496, 8128}"
      ]
     },
     "execution_count": 11,
     "metadata": {},
     "output_type": "execute_result"
    }
   ],
   "source": [
    "perfectNumbers(10000)"
   ]
  },
  {
   "cell_type": "markdown",
   "metadata": {},
   "source": [
    "## Aufgabe 2:"
   ]
  },
  {
   "cell_type": "markdown",
   "metadata": {},
   "source": [
    "Ziel dieser Aufgabe ist die Implementierung einer Funktion `ggt`, die für zwei\n",
    "natürliche Zahlen $m$ und $n$ den größten gemeinsamen Teiler dieser Zahlen berechnet.  Die Funktion `ggt` soll mit Hilfe mehrerer Hilffunktionen berechnet werden."
   ]
  },
  {
   "cell_type": "code",
   "execution_count": 12,
   "metadata": {},
   "outputs": [],
   "source": [
    "def teiler(n):\n",
    "    'This function computes the set of all natural number that divide n.'\n",
    "    return { k for k in range(1, n+1) if n % k == 0 }"
   ]
  },
  {
   "cell_type": "code",
   "execution_count": 13,
   "metadata": {},
   "outputs": [
    {
     "data": {
      "text/plain": [
       "{1, 2, 3, 4, 6, 8, 12, 24}"
      ]
     },
     "execution_count": 13,
     "metadata": {},
     "output_type": "execute_result"
    }
   ],
   "source": [
    "teiler(24)"
   ]
  },
  {
   "cell_type": "markdown",
   "metadata": {},
   "source": [
    "Implementieren Sie eine Funktion `gt`, so dass der Aufruf $\\texttt{gt}(m,n)$ \n",
    "für zwei natürliche Zahlen $m$ und $n$ die Menge aller *gemeinsamen Teiler*\n",
    "von $m$ und $n$ berechnet. \n",
    "\n",
    "**Hinweis**: Berechnen Sie zunächst die Menge der Teiler von $m$ und \n",
    "die Menge der Teiler von $n$.  Überlegen Sie, wie die Mengenlehre Ihnen \n",
    "weiterhilft, wenn Sie diese beiden Mengen berechnet haben."
   ]
  },
  {
   "cell_type": "code",
   "execution_count": 14,
   "metadata": {},
   "outputs": [],
   "source": [
    "def gt(m, n):\n",
    "    '''This function calculates the set of numbers that \n",
    "       are divisors of both m and n.\n",
    "    '''   \n",
    "    return teiler(m) & teiler(n)"
   ]
  },
  {
   "cell_type": "code",
   "execution_count": 15,
   "metadata": {},
   "outputs": [
    {
     "data": {
      "text/plain": [
       "{1, 2}"
      ]
     },
     "execution_count": 15,
     "metadata": {},
     "output_type": "execute_result"
    }
   ],
   "source": [
    "gt(6, 8)"
   ]
  },
  {
   "cell_type": "markdown",
   "metadata": {},
   "source": [
    "Implementieren Sie nun eine Funktion `ggt`, so dass der Aufruf \n",
    "$\\texttt{ggt}(m,n)$ den größten gemeinsamen Teiler\n",
    "der beiden Zahlen $m$ und $n$ berechnet. "
   ]
  },
  {
   "cell_type": "code",
   "execution_count": 16,
   "metadata": {},
   "outputs": [],
   "source": [
    "def ggt(m, n):\n",
    "    'This function return the greatest common divisor of m and n.'\n",
    "    return max(gt(m, n))"
   ]
  },
  {
   "cell_type": "code",
   "execution_count": 17,
   "metadata": {},
   "outputs": [
    {
     "data": {
      "text/plain": [
       "3"
      ]
     },
     "execution_count": 17,
     "metadata": {},
     "output_type": "execute_result"
    }
   ],
   "source": [
    "ggt(15, 24)"
   ]
  },
  {
   "cell_type": "markdown",
   "metadata": {},
   "source": [
    "## Aufgabe 3:"
   ]
  },
  {
   "cell_type": "markdown",
   "metadata": {},
   "source": [
    "Ziel dieser Aufgabe ist die Implementierung einer Funktion `kgv`, die für zwei\n",
    "natürliche Zahlen $m$ und $n$ das kleinste gemeinsame Vielfache dieser Zahlen berechnet.  Die Funktion `kgv` soll mit Hilfe geeigneter Hilffunktionen berechnet werden."
   ]
  },
  {
   "cell_type": "code",
   "execution_count": 18,
   "metadata": {},
   "outputs": [],
   "source": [
    "def vielfache(m, n):\n",
    "    return { k * m for k in range(1, n+1) }"
   ]
  },
  {
   "cell_type": "code",
   "execution_count": 19,
   "metadata": {},
   "outputs": [
    {
     "data": {
      "text/plain": [
       "{8, 16, 24, 32, 40, 48}"
      ]
     },
     "execution_count": 19,
     "metadata": {},
     "output_type": "execute_result"
    }
   ],
   "source": [
    "vielfache(8, 6)"
   ]
  },
  {
   "cell_type": "code",
   "execution_count": 20,
   "metadata": {},
   "outputs": [],
   "source": [
    "def gv(m, n):\n",
    "    return vielfache(m, n) & vielfache(n, m) "
   ]
  },
  {
   "cell_type": "code",
   "execution_count": 21,
   "metadata": {},
   "outputs": [
    {
     "data": {
      "text/plain": [
       "{24, 48}"
      ]
     },
     "execution_count": 21,
     "metadata": {},
     "output_type": "execute_result"
    }
   ],
   "source": [
    "gv(6, 8)"
   ]
  },
  {
   "cell_type": "code",
   "execution_count": 22,
   "metadata": {},
   "outputs": [],
   "source": [
    "def kgv(m, n):\n",
    "    'This function return the smallest common multiple of m and n.'\n",
    "    return min(gv(m, n))"
   ]
  },
  {
   "cell_type": "code",
   "execution_count": 23,
   "metadata": {},
   "outputs": [
    {
     "data": {
      "text/plain": [
       "24"
      ]
     },
     "execution_count": 23,
     "metadata": {},
     "output_type": "execute_result"
    }
   ],
   "source": [
    "kgv(6, 8)"
   ]
  },
  {
   "cell_type": "markdown",
   "metadata": {},
   "source": [
    "## Aufgabe 4:"
   ]
  },
  {
   "cell_type": "markdown",
   "metadata": {},
   "source": [
    "Implementieren Sie eine Funktion `subsets`, so dass \n",
    "$\\texttt{subsets}(M, k)$ für eine Menge $M$ und eine natürliche Zahl $k$ \n",
    "die Menge aller der Teilmengen von $M$ berechnet, die genau $k$ Elemente haben.\n",
    "\n",
    "**Hinweis**:  Versuchen Sie, die Funktion  $\\texttt{subsets}(M, k)$ rekursiv \n",
    "<b>durch Rekursion nach $k$</b> zu implementieren.  "
   ]
  },
  {
   "cell_type": "code",
   "execution_count": 24,
   "metadata": {},
   "outputs": [],
   "source": [
    "def subsets(M, k):\n",
    "    if k == 0:\n",
    "        return { frozenset() }\n",
    "    S = subsets(M, k - 1)\n",
    "    return { A | { x } for A in S\n",
    "                       for x in M\n",
    "                       if x not in A\n",
    "           }"
   ]
  },
  {
   "cell_type": "code",
   "execution_count": 25,
   "metadata": {},
   "outputs": [
    {
     "data": {
      "text/plain": [
       "{frozenset({3, 4}),\n",
       " frozenset({1, 4}),\n",
       " frozenset({2, 3}),\n",
       " frozenset({1, 2}),\n",
       " frozenset({2, 4}),\n",
       " frozenset({1, 3})}"
      ]
     },
     "execution_count": 25,
     "metadata": {},
     "output_type": "execute_result"
    }
   ],
   "source": [
    "subsets({1, 2, 3, 4}, 2)"
   ]
  },
  {
   "cell_type": "code",
   "execution_count": 26,
   "metadata": {},
   "outputs": [
    {
     "data": {
      "text/plain": [
       "{frozenset({1, 2, 3}),\n",
       " frozenset({2, 3, 4}),\n",
       " frozenset({1, 3, 4}),\n",
       " frozenset({1, 2, 4})}"
      ]
     },
     "execution_count": 26,
     "metadata": {},
     "output_type": "execute_result"
    }
   ],
   "source": [
    "subsets({1, 2, 3, 4}, 3)"
   ]
  },
  {
   "cell_type": "markdown",
   "metadata": {},
   "source": [
    "Geben Sie eine Implementierung der Funktion `power` an, bei der Sie die \n",
    "Funktion `subsets` verwenden.  Für eine Menge $M$ soll die Funktion \n",
    "$\\texttt{power}(M)$ die Potenz-Menge $2^M$ berechnen."
   ]
  },
  {
   "cell_type": "code",
   "execution_count": 27,
   "metadata": {},
   "outputs": [],
   "source": [
    "def power(M):\n",
    "    n = len(M)\n",
    "    return { A for k in range(n+1)\n",
    "               for A in subsets(M, k)\n",
    "           }"
   ]
  },
  {
   "cell_type": "code",
   "execution_count": 28,
   "metadata": {},
   "outputs": [
    {
     "data": {
      "text/plain": [
       "{frozenset(),\n",
       " frozenset({2}),\n",
       " frozenset({2, 3}),\n",
       " frozenset({1}),\n",
       " frozenset({1, 2}),\n",
       " frozenset({3}),\n",
       " frozenset({1, 3}),\n",
       " frozenset({1, 2, 3})}"
      ]
     },
     "execution_count": 28,
     "metadata": {},
     "output_type": "execute_result"
    }
   ],
   "source": [
    "power({1, 2, 3})"
   ]
  },
  {
   "cell_type": "markdown",
   "metadata": {},
   "source": [
    "## Aufgabe 5:"
   ]
  },
  {
   "cell_type": "markdown",
   "metadata": {},
   "source": [
    "Ein Tupel der Form $\\langle a, b, c \\rangle$ wird als \n",
    "*geordnetes <a href=\"http://de.wikipedia.org/wiki/Pythagoreisches_Tripel\">pythagoreisches Tripel</a>*\n",
    "bezeichnet, wenn sowohl\n",
    "$$ a^2 + b^2 = c^2 \\quad \\mbox{als auch} \\quad a < b $$\n",
    "gilt.  Beispielsweise ist $\\langle 3,4,5 \\rangle$ ein geordnetes pythagoreisches Tripel, denn einerseits ist \n",
    "$3^2 + 4^2 = 5^2$ und andererseits gilt $3 < 4$.\n",
    "\n",
    "Implementieren Sie eine Prozedur $\\texttt{pythagoras}$, so dass der Aufruf\n",
    "$$\\texttt{pythagoras}(n)$$\n",
    "für eine natürliche Zahl $n$ die Menge aller geordneten  pythagoreischen Tripel $\\langle a,b,c \\rangle$\n",
    "berechnet, für die $c \\leq n$ ist."
   ]
  },
  {
   "cell_type": "code",
   "execution_count": 29,
   "metadata": {},
   "outputs": [],
   "source": [
    "def pythagoras(n):\n",
    "    return { (a, b, c) for a in range(1, n)\n",
    "                       for b in range(1, n)\n",
    "                       for c in range(1, n+1)\n",
    "                       if a*a + b*b == c*c and a < b\n",
    "           }"
   ]
  },
  {
   "cell_type": "code",
   "execution_count": 30,
   "metadata": {},
   "outputs": [
    {
     "data": {
      "text/plain": [
       "{(3, 4, 5), (5, 12, 13), (6, 8, 10), (8, 15, 17), (9, 12, 15), (12, 16, 20)}"
      ]
     },
     "execution_count": 30,
     "metadata": {},
     "output_type": "execute_result"
    }
   ],
   "source": [
    "pythagoras(20)"
   ]
  },
  {
   "cell_type": "markdown",
   "metadata": {},
   "source": [
    "Ein pythagoreisches Tripel $\\langle a,b,c \\rangle$ ist ein \n",
    "<em>reduziertes</em> Tripel, wenn\n",
    "die Zahlen $a$, $b$ und $c$ keinen <em>nicht-trivialen</em> gemeinsamen Teiler haben.  Ein <em>nicht-trivaler</em> gemeinsamer Teiler ist ein Teiler, der größer als $1$ ist.\n",
    "\n",
    "Implementieren Sie eine Funktion `isReduced`, die als Argumente drei natürliche Zahlen $a$, $b$ und $c$ erhält und die genau dann $\\texttt{True}$ als Ergebnis zurück liefert,\n",
    "wenn das Tripel $\\langle a, b, c\\rangle$ reduziert ist."
   ]
  },
  {
   "cell_type": "code",
   "execution_count": 31,
   "metadata": {},
   "outputs": [],
   "source": [
    "def isReduced(a, b, c):\n",
    "    return ggt(a, b) == 1"
   ]
  },
  {
   "cell_type": "markdown",
   "metadata": {},
   "source": [
    "Implementieren Sie eine Prozedur `reducedPythagoras`, so dass der Aufruf\n",
    "      $$\\texttt{reducedPythagoras}(n)$$\n",
    "die Menge aller geordneten pythagoreischen Tripel $\\langle a,b,c \\rangle$ berechnet, die reduziert sind.  Berechnen Sie mit dieser Prozedur alle reduzierten geordneten pythagoreischen \n",
    "Tripel $\\langle a,b,c \\rangle$, für die $c \\leq 50$ ist. "
   ]
  },
  {
   "cell_type": "code",
   "execution_count": 32,
   "metadata": {},
   "outputs": [],
   "source": [
    "def reducedPythagoras(n):\n",
    "    return { (a, b, c) for (a, b, c) in pythagoras(n)\n",
    "                       if isReduced(a, b, c)\n",
    "           }"
   ]
  },
  {
   "cell_type": "code",
   "execution_count": 33,
   "metadata": {},
   "outputs": [
    {
     "data": {
      "text/plain": [
       "{(3, 4, 5),\n",
       " (5, 12, 13),\n",
       " (7, 24, 25),\n",
       " (8, 15, 17),\n",
       " (9, 40, 41),\n",
       " (12, 35, 37),\n",
       " (20, 21, 29)}"
      ]
     },
     "execution_count": 33,
     "metadata": {},
     "output_type": "execute_result"
    }
   ],
   "source": [
    "reducedPythagoras(50)"
   ]
  },
  {
   "cell_type": "markdown",
   "metadata": {},
   "source": [
    "## Aufgabe 6:"
   ]
  },
  {
   "cell_type": "markdown",
   "metadata": {},
   "source": [
    "Nehmen Sie an, ein Spieler hat im Poker \n",
    "(<a href=\"https://de.wikipedia.org/wiki/Texas_Hold’em\">Texas Hold'em</a>) \n",
    "die beiden\n",
    "Karten $\\langle 8, \\texttt{'♠'}\\rangle$ und $\\langle 9, \\texttt{'♠'}\\rangle$ erhalten.  Schreiben Sie ein\n",
    "Programm, dass die folgenden Fragen beantworten.\n",
    "<ol>\n",
    "<li>  Wie groß ist die Wahrscheinlichkeit, dass im Flop wenigsten zwei weitere Karten\n",
    "      der Farbe $\\texttt{'♠'}$ liegen?\n",
    "      </li>\n",
    "<li>  Wie groß ist die Wahrscheinlichkeit, dass alle drei Karten im Flop\n",
    "      die Farbe $\\texttt{'♠'}$ haben?\n",
    "      </li>\n",
    "</ol>"
   ]
  },
  {
   "cell_type": "code",
   "execution_count": 2,
   "metadata": {},
   "outputs": [
    {
     "name": "stdout",
     "output_type": "stream",
     "text": [
      "0.11785714285714285\n",
      "0.008418367346938776\n"
     ]
    }
   ],
   "source": [
    "Values = { '2', '3', '4', '5', '6', '7', '8', '9', 'T', \n",
    "           'J', 'Q', 'K', 'A' \n",
    "         }\n",
    "Suits  = { '♣', '♥', '♦', '♠' }\n",
    "Deck   = { (v, s) for v in Values for s in Suits }\n",
    "Hole   = { ('8', '♠'), ('9', '♠') }\n",
    "Rest   = Deck - Hole\n",
    "Flops  = { (c1, c2, c3) for c1 in Rest \n",
    "                        for c2 in Rest \n",
    "                        for c3 in Rest \n",
    "                        if len({c1, c2, c3}) == 3 \n",
    "         }\n",
    "def countSpades(f):\n",
    "    return len([c for c in f if c[1] == '♠'])\n",
    "\n",
    "AtLeast2 = { f for f in Flops if countSpades(f) >= 2 }\n",
    "AtLeast3 = { f for f in Flops if countSpades(f) == 3 }\n",
    "print(len(AtLeast2)/len(Flops))\n",
    "print(len(AtLeast3)/len(Flops))"
   ]
  },
  {
   "cell_type": "markdown",
   "metadata": {},
   "source": [
    "## Aufgabe 7:"
   ]
  },
  {
   "cell_type": "markdown",
   "metadata": {},
   "source": [
    "Ein <a href=\"https://de.wikipedia.org/wiki/Anagramm\">Anagramm</a> eines gegebenen Wortes $v$ ist ein Wort $w$, dass\n",
    "aus dem Wort $v$ durch Umstellung von Buchstaben entsteht.  Beispielsweise ist das Wort \n",
    "$\\texttt{\"atlas\"}$ ein\n",
    "Anagramm des Wortes \"$\\texttt{salat}$\".  Implementieren Sie eine Funktion $\\texttt{anagram}(s)$, die für ein\n",
    "gegebenes Wort $s$ alle Wörter berechnet, die sich aus dem Wort $s$ durch Umstellung von Buchstaben\n",
    "ergeben.  Die Menge dieser Wörter soll dann als Ergebnis zurück gegeben werden.  Es ist nicht gefordert, dass\n",
    "die Anagramme sinnvolle Wörter der deutschen Sprache sind.  Beispielsweise ist auch das Wort \"$\\texttt{talas}$\"\n",
    "ein Anagramm des Wortes \"$\\texttt{salat}$\".\n"
   ]
  },
  {
   "cell_type": "code",
   "execution_count": 36,
   "metadata": {},
   "outputs": [],
   "source": [
    "def insert(w, c, i):\n",
    "    return w[:i] + c + w[i:]"
   ]
  },
  {
   "cell_type": "code",
   "execution_count": 35,
   "metadata": {},
   "outputs": [],
   "source": [
    "def anagram(s):\n",
    "    if len(s) <= 1:\n",
    "        return { s }\n",
    "    c, r = s[0], s[1:]\n",
    "    n = len(s)\n",
    "    A = anagram(r)\n",
    "    return { insert(w, c, i) for w in A\n",
    "                             for i in range(0, n)\n",
    "           }"
   ]
  },
  {
   "cell_type": "code",
   "execution_count": 37,
   "metadata": {},
   "outputs": [
    {
     "data": {
      "text/plain": [
       "{'abc', 'acb', 'bac', 'bca', 'cab', 'cba'}"
      ]
     },
     "execution_count": 37,
     "metadata": {},
     "output_type": "execute_result"
    }
   ],
   "source": [
    "anagram('abc')"
   ]
  },
  {
   "cell_type": "code",
   "execution_count": 38,
   "metadata": {},
   "outputs": [
    {
     "data": {
      "text/plain": [
       "{'aab', 'aba', 'baa'}"
      ]
     },
     "execution_count": 38,
     "metadata": {},
     "output_type": "execute_result"
    }
   ],
   "source": [
    "anagram('aba')"
   ]
  },
  {
   "cell_type": "markdown",
   "metadata": {},
   "source": [
    "## Aufgabe 8:"
   ]
  },
  {
   "cell_type": "markdown",
   "metadata": {},
   "source": [
    "Nehmen Sie an, dass Sie $n$ Würfel haben, deren Seiten mit den Zahlen 1 bis 6 bedruckt sind.  Weiter ist eine\n",
    "feste Zahl $s$ vorgegeben.  Implementieren Sie eine Funktion $\\texttt{numberDiceRolls}$, so dass der Aufruf\n",
    "$$ \\texttt{numberDiceRolls}(n, s) $$ \n",
    "die Anzahl der Möglichkeiten berechnet, mit $n$ Würfeln in der Summe die Zahl $s$ zu würfeln.  Beispielsweise\n",
    "soll $\\texttt{numberDiceRolls}(3, 5)$ den Wert 6 liefern, denn es gibt 6 Möglichkeiten, um mit drei Würfeln in\n",
    "der Summe eine 5 zu würfeln:\n",
    "$$\\langle1, 1, 3\\rangle, \\langle1, 2, 2\\rangle, \\langle1, 3, 1\\rangle, \\langle2, 1, 2\\rangle, \\langle2, 2,\n",
    "1\\rangle, \\langle3, 1, 1\\rangle$$\n",
    "\n",
    "**Hinweis**:  Implementieren Sie die Funktion $\\texttt{numberDiceRolls}(n, s)$ *rekursiv*."
   ]
  },
  {
   "cell_type": "code",
   "execution_count": 39,
   "metadata": {},
   "outputs": [],
   "source": [
    "def numberDiceRolls(n, s):\n",
    "    if n == 1:\n",
    "        if s in range(1, 6+1):\n",
    "            return 1\n",
    "        else: \n",
    "            return 0\n",
    "    return sum([ numberDiceRolls(n-1, s-k) for k in range(1, 6+1)])"
   ]
  },
  {
   "cell_type": "code",
   "execution_count": 40,
   "metadata": {},
   "outputs": [
    {
     "data": {
      "text/plain": [
       "6"
      ]
     },
     "execution_count": 40,
     "metadata": {},
     "output_type": "execute_result"
    }
   ],
   "source": [
    "numberDiceRolls(3, 5)"
   ]
  },
  {
   "cell_type": "markdown",
   "metadata": {},
   "source": [
    "## Aufgabe 9: Palindrome\n",
    "\n",
    "Ein Wort $s$ ist ein [Palindrom](https://de.wikipedia.org/wiki/Palindrom)\n",
    "genau dann, wenn es rückwärts gelesen das selbe Wort ergibt.  Es gilt dann also\n",
    "$$ \\texttt{reverse}(s) = s. $$\n",
    "Die Funktion $\\texttt{reverse}()$ dreht dabei die Reihenfolge der \n",
    "Buchstaben eines Wortes um.  Es gilt beispielsweise\n",
    "$$ \\texttt{reverse(\"abcd\") = \"dcba\"}. $$\n",
    "Beispiele für Palindrome sind folgende Wörter:\n",
    "- `\"reittier\"`\n",
    "- `\"abba\"`\n",
    "- `\"hannah\"`\n",
    "- `\"rentner\"`\n",
    "\n",
    "Entwickeln Sie eine <b>rekursive</b> Funktion `isPalindrome` die als Argument einen String `s` erhält und die genau dann `True` zurück gibt, wenn der String `s` ein Palindrom ist."
   ]
  },
  {
   "cell_type": "code",
   "execution_count": null,
   "metadata": {},
   "outputs": [],
   "source": [
    "def isPalindrome(s):\n",
    "    'return True iff s is a palindrome'\n",
    "    \"your code here\""
   ]
  },
  {
   "cell_type": "markdown",
   "metadata": {},
   "source": [
    "## Aufgabe 10: Permutationen\n",
    "\n",
    "Ist $n \\in \\mathbb{N}$, so ist eine `Permutation` der Länge $n$ ein Tupel, das jede \n",
    "Zahl der Menge $\\{1, \\cdots, n\\}$ genau einmal enthält.  Beispielsweise ist \n",
    "das Tupel `(3,2,1)` eine Permutation der Länge $3$.  Eine andere Permuation der Länge \n",
    "$3$ ist das Tupel `(2,1,3)`.\n",
    "\n",
    "Entwickeln Sie eine <b>rekursive</b> Funktion `allPermutations`, die als Argument eine\n",
    "natürliche Zahl $n$ erhält und als Ergebnis die Menge aller Permutationen der Länge \n",
    "$n$ berechnet."
   ]
  },
  {
   "cell_type": "code",
   "execution_count": null,
   "metadata": {},
   "outputs": [],
   "source": [
    "def allPermutations(n):\n",
    "    'This function returns the set of all permutations of length n.'\n",
    "    \"your code here\""
   ]
  },
  {
   "cell_type": "markdown",
   "metadata": {},
   "source": [
    "## Aufgabe 11: Sortieren durch Einfügen\n",
    "\n",
    "Bei dem Algorithmus *Sortieren durch Einfügen* sortieren wir eine Liste,\n",
    "indem wir \n",
    "- das letzte Element der Liste entfernen,\n",
    "- die Liste der verbleibenden Elemente rekursiv sortieren und schließlich\n",
    "- das letzte Element so in die sortierte Liste einfügen, dass das Ergebnis\n",
    "  immer noch sortiert ist.\n",
    "  \n",
    "Implementieren Sie eine Funktion `sort`, die als Argument eine Liste `L` von\n",
    "Zahlen erhält und diese mittels des Algorithmus *Sortieren durch Einfügen* \n",
    "*rekursiv* sortiert.\n",
    "\n",
    "Verwenden Sie dabei eine Hilfsfunktion `insert` die zwei Argumente erhält:\n",
    "- `x` ist eine Zahl,\n",
    "- `L` ist eine Liste von Zahlen.\n",
    "\n",
    "Der Aufruf `insert(x, L)` gibt als Ergebnis eine sortierte Liste zurück, die dadurch entsteht, dass die Zahl `x` so in die `L` eingefügt wird, dass das Ergebnis sortiert ist.  Auch die Funktion `insert` sollen Sie <b>rekursiv</b> implementieren."
   ]
  },
  {
   "cell_type": "code",
   "execution_count": null,
   "metadata": {},
   "outputs": [],
   "source": [
    "def sort(L):\n",
    "    '''This function sorts the elements of the list L and returns \n",
    "       the resulting list.\n",
    "    '''\n",
    "    \"your code here\""
   ]
  },
  {
   "cell_type": "code",
   "execution_count": null,
   "metadata": {},
   "outputs": [],
   "source": [
    "def insert(x, L):\n",
    "    '''This function inserts the number x into the sorted list L such that\n",
    "       the resulting list is sorted, too.\n",
    "    '''"
   ]
  }
 ],
 "metadata": {
  "@webio": {
   "lastCommId": null,
   "lastKernelId": null
  },
  "hide_input": false,
  "kernelspec": {
   "display_name": "Python 3",
   "language": "python",
   "name": "python3"
  },
  "language_info": {
   "codemirror_mode": {
    "name": "ipython",
    "version": 3
   },
   "file_extension": ".py",
   "mimetype": "text/x-python",
   "name": "python",
   "nbconvert_exporter": "python",
   "pygments_lexer": "ipython3",
   "version": "3.8.3"
  },
  "toc": {
   "base_numbering": 1,
   "nav_menu": {},
   "number_sections": true,
   "sideBar": true,
   "skip_h1_title": false,
   "title_cell": "Table of Contents",
   "title_sidebar": "Contents",
   "toc_cell": false,
   "toc_position": {},
   "toc_section_display": true,
   "toc_window_display": false
  },
  "varInspector": {
   "cols": {
    "lenName": 16,
    "lenType": 16,
    "lenVar": 40
   },
   "kernels_config": {
    "python": {
     "delete_cmd_postfix": "",
     "delete_cmd_prefix": "del ",
     "library": "var_list.py",
     "varRefreshCmd": "print(var_dic_list())"
    },
    "r": {
     "delete_cmd_postfix": ") ",
     "delete_cmd_prefix": "rm(",
     "library": "var_list.r",
     "varRefreshCmd": "cat(var_dic_list()) "
    }
   },
   "types_to_exclude": [
    "module",
    "function",
    "builtin_function_or_method",
    "instance",
    "_Feature"
   ],
   "window_display": false
  }
 },
 "nbformat": 4,
 "nbformat_minor": 2
}
